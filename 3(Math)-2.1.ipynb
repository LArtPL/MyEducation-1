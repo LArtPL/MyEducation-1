{
 "cells": [
  {
   "cell_type": "code",
   "execution_count": 1,
   "metadata": {},
   "outputs": [],
   "source": [
    "# Загрузка библиотек\n",
    "import numpy as np # для работы с массивами\n",
    "import pandas as pd # для работы DataFrame \n",
    "import seaborn as sns # библиотека для визуализации статистических данных\n",
    "import matplotlib.pyplot as plt # для построения графиков\n",
    "\n",
    "%matplotlib inline"
   ]
  },
  {
   "cell_type": "code",
   "execution_count": 2,
   "metadata": {},
   "outputs": [],
   "source": [
    "np.set_printoptions(suppress=True)"
   ]
  },
  {
   "cell_type": "code",
   "execution_count": 3,
   "metadata": {},
   "outputs": [],
   "source": [
    "# module3_Admission_Predict_Ver1.1.csv"
   ]
  },
  {
   "cell_type": "code",
   "execution_count": 4,
   "metadata": {},
   "outputs": [
    {
     "data": {
      "text/html": [
       "<div>\n",
       "<style scoped>\n",
       "    .dataframe tbody tr th:only-of-type {\n",
       "        vertical-align: middle;\n",
       "    }\n",
       "\n",
       "    .dataframe tbody tr th {\n",
       "        vertical-align: top;\n",
       "    }\n",
       "\n",
       "    .dataframe thead th {\n",
       "        text-align: right;\n",
       "    }\n",
       "</style>\n",
       "<table border=\"1\" class=\"dataframe\">\n",
       "  <thead>\n",
       "    <tr style=\"text-align: right;\">\n",
       "      <th></th>\n",
       "      <th>Serial No.</th>\n",
       "      <th>GRE Score</th>\n",
       "      <th>TOEFL Score</th>\n",
       "      <th>University Rating</th>\n",
       "      <th>SOP</th>\n",
       "      <th>LOR</th>\n",
       "      <th>CGPA</th>\n",
       "      <th>Research</th>\n",
       "      <th>Chance of Admit</th>\n",
       "    </tr>\n",
       "  </thead>\n",
       "  <tbody>\n",
       "    <tr>\n",
       "      <th>0</th>\n",
       "      <td>1</td>\n",
       "      <td>337</td>\n",
       "      <td>118</td>\n",
       "      <td>4</td>\n",
       "      <td>4.5</td>\n",
       "      <td>4.5</td>\n",
       "      <td>9.65</td>\n",
       "      <td>1</td>\n",
       "      <td>0.92</td>\n",
       "    </tr>\n",
       "    <tr>\n",
       "      <th>1</th>\n",
       "      <td>2</td>\n",
       "      <td>324</td>\n",
       "      <td>107</td>\n",
       "      <td>4</td>\n",
       "      <td>4.0</td>\n",
       "      <td>4.5</td>\n",
       "      <td>8.87</td>\n",
       "      <td>1</td>\n",
       "      <td>0.76</td>\n",
       "    </tr>\n",
       "    <tr>\n",
       "      <th>2</th>\n",
       "      <td>3</td>\n",
       "      <td>316</td>\n",
       "      <td>104</td>\n",
       "      <td>3</td>\n",
       "      <td>3.0</td>\n",
       "      <td>3.5</td>\n",
       "      <td>8.00</td>\n",
       "      <td>1</td>\n",
       "      <td>0.72</td>\n",
       "    </tr>\n",
       "    <tr>\n",
       "      <th>3</th>\n",
       "      <td>4</td>\n",
       "      <td>322</td>\n",
       "      <td>110</td>\n",
       "      <td>3</td>\n",
       "      <td>3.5</td>\n",
       "      <td>2.5</td>\n",
       "      <td>8.67</td>\n",
       "      <td>1</td>\n",
       "      <td>0.80</td>\n",
       "    </tr>\n",
       "    <tr>\n",
       "      <th>4</th>\n",
       "      <td>5</td>\n",
       "      <td>314</td>\n",
       "      <td>103</td>\n",
       "      <td>2</td>\n",
       "      <td>2.0</td>\n",
       "      <td>3.0</td>\n",
       "      <td>8.21</td>\n",
       "      <td>0</td>\n",
       "      <td>0.65</td>\n",
       "    </tr>\n",
       "    <tr>\n",
       "      <th>...</th>\n",
       "      <td>...</td>\n",
       "      <td>...</td>\n",
       "      <td>...</td>\n",
       "      <td>...</td>\n",
       "      <td>...</td>\n",
       "      <td>...</td>\n",
       "      <td>...</td>\n",
       "      <td>...</td>\n",
       "      <td>...</td>\n",
       "    </tr>\n",
       "    <tr>\n",
       "      <th>495</th>\n",
       "      <td>496</td>\n",
       "      <td>332</td>\n",
       "      <td>108</td>\n",
       "      <td>5</td>\n",
       "      <td>4.5</td>\n",
       "      <td>4.0</td>\n",
       "      <td>9.02</td>\n",
       "      <td>1</td>\n",
       "      <td>0.87</td>\n",
       "    </tr>\n",
       "    <tr>\n",
       "      <th>496</th>\n",
       "      <td>497</td>\n",
       "      <td>337</td>\n",
       "      <td>117</td>\n",
       "      <td>5</td>\n",
       "      <td>5.0</td>\n",
       "      <td>5.0</td>\n",
       "      <td>9.87</td>\n",
       "      <td>1</td>\n",
       "      <td>0.96</td>\n",
       "    </tr>\n",
       "    <tr>\n",
       "      <th>497</th>\n",
       "      <td>498</td>\n",
       "      <td>330</td>\n",
       "      <td>120</td>\n",
       "      <td>5</td>\n",
       "      <td>4.5</td>\n",
       "      <td>5.0</td>\n",
       "      <td>9.56</td>\n",
       "      <td>1</td>\n",
       "      <td>0.93</td>\n",
       "    </tr>\n",
       "    <tr>\n",
       "      <th>498</th>\n",
       "      <td>499</td>\n",
       "      <td>312</td>\n",
       "      <td>103</td>\n",
       "      <td>4</td>\n",
       "      <td>4.0</td>\n",
       "      <td>5.0</td>\n",
       "      <td>8.43</td>\n",
       "      <td>0</td>\n",
       "      <td>0.73</td>\n",
       "    </tr>\n",
       "    <tr>\n",
       "      <th>499</th>\n",
       "      <td>500</td>\n",
       "      <td>327</td>\n",
       "      <td>113</td>\n",
       "      <td>4</td>\n",
       "      <td>4.5</td>\n",
       "      <td>4.5</td>\n",
       "      <td>9.04</td>\n",
       "      <td>0</td>\n",
       "      <td>0.84</td>\n",
       "    </tr>\n",
       "  </tbody>\n",
       "</table>\n",
       "<p>500 rows × 9 columns</p>\n",
       "</div>"
      ],
      "text/plain": [
       "     Serial No.  GRE Score  TOEFL Score  University Rating  SOP  LOR   CGPA  \\\n",
       "0             1        337          118                  4  4.5   4.5  9.65   \n",
       "1             2        324          107                  4  4.0   4.5  8.87   \n",
       "2             3        316          104                  3  3.0   3.5  8.00   \n",
       "3             4        322          110                  3  3.5   2.5  8.67   \n",
       "4             5        314          103                  2  2.0   3.0  8.21   \n",
       "..          ...        ...          ...                ...  ...   ...   ...   \n",
       "495         496        332          108                  5  4.5   4.0  9.02   \n",
       "496         497        337          117                  5  5.0   5.0  9.87   \n",
       "497         498        330          120                  5  4.5   5.0  9.56   \n",
       "498         499        312          103                  4  4.0   5.0  8.43   \n",
       "499         500        327          113                  4  4.5   4.5  9.04   \n",
       "\n",
       "     Research  Chance of Admit   \n",
       "0           1              0.92  \n",
       "1           1              0.76  \n",
       "2           1              0.72  \n",
       "3           1              0.80  \n",
       "4           0              0.65  \n",
       "..        ...               ...  \n",
       "495         1              0.87  \n",
       "496         1              0.96  \n",
       "497         1              0.93  \n",
       "498         0              0.73  \n",
       "499         0              0.84  \n",
       "\n",
       "[500 rows x 9 columns]"
      ]
     },
     "execution_count": 4,
     "metadata": {},
     "output_type": "execute_result"
    }
   ],
   "source": [
    "df = pd.read_csv('module3_Admission_Predict_Ver1.1.csv')\n",
    "df"
   ]
  },
  {
   "cell_type": "code",
   "execution_count": 5,
   "metadata": {},
   "outputs": [],
   "source": [
    "df.columns = ['Serial_No.', 'GRE_Score','TOEFL_Score', \n",
    "              'University_Rating', 'SOP', 'LOR', 'CGPA', 'Research', 'Chance_of_Admit']"
   ]
  },
  {
   "cell_type": "markdown",
   "metadata": {},
   "source": [
    "1. GRE Scores ( out of 340 ) — баллы по GRE тестированию\n",
    "2. TOEFL Scores ( out of 120 ) — баллы по экзамену TOEFL\n",
    "3. University Rating ( out of 5 ) — рейтинг университета \n",
    "4. Statement of Purpose Strength ( out of 5 ) — весомость мотивационного письма\n",
    "5. Letter of Recommendation Strength ( out of 5 ) — весомость рекомендационных писем\n",
    "6. Undergraduate GPA ( out of 10 ) — средний балл в бакалавриате\n",
    "7. Research Experience ( either 0 or 1 ) — наличие опыта исследовательской работы ( нет / есть)"
   ]
  },
  {
   "cell_type": "code",
   "execution_count": 6,
   "metadata": {},
   "outputs": [
    {
     "data": {
      "text/html": [
       "<div>\n",
       "<style scoped>\n",
       "    .dataframe tbody tr th:only-of-type {\n",
       "        vertical-align: middle;\n",
       "    }\n",
       "\n",
       "    .dataframe tbody tr th {\n",
       "        vertical-align: top;\n",
       "    }\n",
       "\n",
       "    .dataframe thead th {\n",
       "        text-align: right;\n",
       "    }\n",
       "</style>\n",
       "<table border=\"1\" class=\"dataframe\">\n",
       "  <thead>\n",
       "    <tr style=\"text-align: right;\">\n",
       "      <th></th>\n",
       "      <th>Serial_No.</th>\n",
       "      <th>GRE_Score</th>\n",
       "      <th>TOEFL_Score</th>\n",
       "      <th>University_Rating</th>\n",
       "      <th>SOP</th>\n",
       "      <th>LOR</th>\n",
       "      <th>CGPA</th>\n",
       "      <th>Research</th>\n",
       "      <th>Chance_of_Admit</th>\n",
       "    </tr>\n",
       "  </thead>\n",
       "  <tbody>\n",
       "    <tr>\n",
       "      <th>Serial_No.</th>\n",
       "      <td>1.000000</td>\n",
       "      <td>-0.103839</td>\n",
       "      <td>-0.141696</td>\n",
       "      <td>-0.067641</td>\n",
       "      <td>-0.137352</td>\n",
       "      <td>-0.003694</td>\n",
       "      <td>-0.074289</td>\n",
       "      <td>-0.005332</td>\n",
       "      <td>0.008505</td>\n",
       "    </tr>\n",
       "    <tr>\n",
       "      <th>GRE_Score</th>\n",
       "      <td>-0.103839</td>\n",
       "      <td>1.000000</td>\n",
       "      <td>0.827200</td>\n",
       "      <td>0.635376</td>\n",
       "      <td>0.613498</td>\n",
       "      <td>0.524679</td>\n",
       "      <td>0.825878</td>\n",
       "      <td>0.563398</td>\n",
       "      <td>0.810351</td>\n",
       "    </tr>\n",
       "    <tr>\n",
       "      <th>TOEFL_Score</th>\n",
       "      <td>-0.141696</td>\n",
       "      <td>0.827200</td>\n",
       "      <td>1.000000</td>\n",
       "      <td>0.649799</td>\n",
       "      <td>0.644410</td>\n",
       "      <td>0.541563</td>\n",
       "      <td>0.810574</td>\n",
       "      <td>0.467012</td>\n",
       "      <td>0.792228</td>\n",
       "    </tr>\n",
       "    <tr>\n",
       "      <th>University_Rating</th>\n",
       "      <td>-0.067641</td>\n",
       "      <td>0.635376</td>\n",
       "      <td>0.649799</td>\n",
       "      <td>1.000000</td>\n",
       "      <td>0.728024</td>\n",
       "      <td>0.608651</td>\n",
       "      <td>0.705254</td>\n",
       "      <td>0.427047</td>\n",
       "      <td>0.690132</td>\n",
       "    </tr>\n",
       "    <tr>\n",
       "      <th>SOP</th>\n",
       "      <td>-0.137352</td>\n",
       "      <td>0.613498</td>\n",
       "      <td>0.644410</td>\n",
       "      <td>0.728024</td>\n",
       "      <td>1.000000</td>\n",
       "      <td>0.663707</td>\n",
       "      <td>0.712154</td>\n",
       "      <td>0.408116</td>\n",
       "      <td>0.684137</td>\n",
       "    </tr>\n",
       "    <tr>\n",
       "      <th>LOR</th>\n",
       "      <td>-0.003694</td>\n",
       "      <td>0.524679</td>\n",
       "      <td>0.541563</td>\n",
       "      <td>0.608651</td>\n",
       "      <td>0.663707</td>\n",
       "      <td>1.000000</td>\n",
       "      <td>0.637469</td>\n",
       "      <td>0.372526</td>\n",
       "      <td>0.645365</td>\n",
       "    </tr>\n",
       "    <tr>\n",
       "      <th>CGPA</th>\n",
       "      <td>-0.074289</td>\n",
       "      <td>0.825878</td>\n",
       "      <td>0.810574</td>\n",
       "      <td>0.705254</td>\n",
       "      <td>0.712154</td>\n",
       "      <td>0.637469</td>\n",
       "      <td>1.000000</td>\n",
       "      <td>0.501311</td>\n",
       "      <td>0.882413</td>\n",
       "    </tr>\n",
       "    <tr>\n",
       "      <th>Research</th>\n",
       "      <td>-0.005332</td>\n",
       "      <td>0.563398</td>\n",
       "      <td>0.467012</td>\n",
       "      <td>0.427047</td>\n",
       "      <td>0.408116</td>\n",
       "      <td>0.372526</td>\n",
       "      <td>0.501311</td>\n",
       "      <td>1.000000</td>\n",
       "      <td>0.545871</td>\n",
       "    </tr>\n",
       "    <tr>\n",
       "      <th>Chance_of_Admit</th>\n",
       "      <td>0.008505</td>\n",
       "      <td>0.810351</td>\n",
       "      <td>0.792228</td>\n",
       "      <td>0.690132</td>\n",
       "      <td>0.684137</td>\n",
       "      <td>0.645365</td>\n",
       "      <td>0.882413</td>\n",
       "      <td>0.545871</td>\n",
       "      <td>1.000000</td>\n",
       "    </tr>\n",
       "  </tbody>\n",
       "</table>\n",
       "</div>"
      ],
      "text/plain": [
       "                   Serial_No.  GRE_Score  TOEFL_Score  University_Rating  \\\n",
       "Serial_No.           1.000000  -0.103839    -0.141696          -0.067641   \n",
       "GRE_Score           -0.103839   1.000000     0.827200           0.635376   \n",
       "TOEFL_Score         -0.141696   0.827200     1.000000           0.649799   \n",
       "University_Rating   -0.067641   0.635376     0.649799           1.000000   \n",
       "SOP                 -0.137352   0.613498     0.644410           0.728024   \n",
       "LOR                 -0.003694   0.524679     0.541563           0.608651   \n",
       "CGPA                -0.074289   0.825878     0.810574           0.705254   \n",
       "Research            -0.005332   0.563398     0.467012           0.427047   \n",
       "Chance_of_Admit      0.008505   0.810351     0.792228           0.690132   \n",
       "\n",
       "                        SOP       LOR      CGPA  Research  Chance_of_Admit  \n",
       "Serial_No.        -0.137352 -0.003694 -0.074289 -0.005332         0.008505  \n",
       "GRE_Score          0.613498  0.524679  0.825878  0.563398         0.810351  \n",
       "TOEFL_Score        0.644410  0.541563  0.810574  0.467012         0.792228  \n",
       "University_Rating  0.728024  0.608651  0.705254  0.427047         0.690132  \n",
       "SOP                1.000000  0.663707  0.712154  0.408116         0.684137  \n",
       "LOR                0.663707  1.000000  0.637469  0.372526         0.645365  \n",
       "CGPA               0.712154  0.637469  1.000000  0.501311         0.882413  \n",
       "Research           0.408116  0.372526  0.501311  1.000000         0.545871  \n",
       "Chance_of_Admit    0.684137  0.645365  0.882413  0.545871         1.000000  "
      ]
     },
     "execution_count": 6,
     "metadata": {},
     "output_type": "execute_result"
    }
   ],
   "source": [
    "df.corr()"
   ]
  },
  {
   "cell_type": "code",
   "execution_count": 7,
   "metadata": {},
   "outputs": [
    {
     "data": {
      "text/plain": [
       "Serial_No.           0.008505\n",
       "Research             0.545871\n",
       "LOR                  0.645365\n",
       "SOP                  0.684137\n",
       "University_Rating    0.690132\n",
       "TOEFL_Score          0.792228\n",
       "GRE_Score            0.810351\n",
       "CGPA                 0.882413\n",
       "Chance_of_Admit      1.000000\n",
       "Name: Chance_of_Admit, dtype: float64"
      ]
     },
     "execution_count": 7,
     "metadata": {},
     "output_type": "execute_result"
    }
   ],
   "source": [
    "df.corr()['Chance_of_Admit'].sort_values()"
   ]
  },
  {
   "cell_type": "code",
   "execution_count": 8,
   "metadata": {},
   "outputs": [
    {
     "data": {
      "text/html": [
       "<div>\n",
       "<style scoped>\n",
       "    .dataframe tbody tr th:only-of-type {\n",
       "        vertical-align: middle;\n",
       "    }\n",
       "\n",
       "    .dataframe tbody tr th {\n",
       "        vertical-align: top;\n",
       "    }\n",
       "\n",
       "    .dataframe thead th {\n",
       "        text-align: right;\n",
       "    }\n",
       "</style>\n",
       "<table border=\"1\" class=\"dataframe\">\n",
       "  <thead>\n",
       "    <tr style=\"text-align: right;\">\n",
       "      <th></th>\n",
       "      <th>Serial_No.</th>\n",
       "      <th>GRE_Score</th>\n",
       "      <th>TOEFL_Score</th>\n",
       "      <th>University_Rating</th>\n",
       "      <th>SOP</th>\n",
       "      <th>LOR</th>\n",
       "      <th>CGPA</th>\n",
       "      <th>Research</th>\n",
       "      <th>Chance_of_Admit</th>\n",
       "    </tr>\n",
       "  </thead>\n",
       "  <tbody>\n",
       "    <tr>\n",
       "      <th>Serial_No.</th>\n",
       "      <td>1.000000</td>\n",
       "      <td>-0.165248</td>\n",
       "      <td>-0.185665</td>\n",
       "      <td>-0.093655</td>\n",
       "      <td>-0.199090</td>\n",
       "      <td>-0.018579</td>\n",
       "      <td>-0.138537</td>\n",
       "      <td>NaN</td>\n",
       "      <td>-0.002771</td>\n",
       "    </tr>\n",
       "    <tr>\n",
       "      <th>GRE_Score</th>\n",
       "      <td>-0.165248</td>\n",
       "      <td>1.000000</td>\n",
       "      <td>0.680668</td>\n",
       "      <td>0.384715</td>\n",
       "      <td>0.371424</td>\n",
       "      <td>0.365864</td>\n",
       "      <td>0.678476</td>\n",
       "      <td>NaN</td>\n",
       "      <td>0.603827</td>\n",
       "    </tr>\n",
       "    <tr>\n",
       "      <th>TOEFL_Score</th>\n",
       "      <td>-0.185665</td>\n",
       "      <td>0.680668</td>\n",
       "      <td>1.000000</td>\n",
       "      <td>0.495748</td>\n",
       "      <td>0.476563</td>\n",
       "      <td>0.470956</td>\n",
       "      <td>0.696774</td>\n",
       "      <td>NaN</td>\n",
       "      <td>0.622458</td>\n",
       "    </tr>\n",
       "    <tr>\n",
       "      <th>University_Rating</th>\n",
       "      <td>-0.093655</td>\n",
       "      <td>0.384715</td>\n",
       "      <td>0.495748</td>\n",
       "      <td>1.000000</td>\n",
       "      <td>0.607496</td>\n",
       "      <td>0.484262</td>\n",
       "      <td>0.516427</td>\n",
       "      <td>NaN</td>\n",
       "      <td>0.428580</td>\n",
       "    </tr>\n",
       "    <tr>\n",
       "      <th>SOP</th>\n",
       "      <td>-0.199090</td>\n",
       "      <td>0.371424</td>\n",
       "      <td>0.476563</td>\n",
       "      <td>0.607496</td>\n",
       "      <td>1.000000</td>\n",
       "      <td>0.618680</td>\n",
       "      <td>0.547098</td>\n",
       "      <td>NaN</td>\n",
       "      <td>0.470188</td>\n",
       "    </tr>\n",
       "    <tr>\n",
       "      <th>LOR</th>\n",
       "      <td>-0.018579</td>\n",
       "      <td>0.365864</td>\n",
       "      <td>0.470956</td>\n",
       "      <td>0.484262</td>\n",
       "      <td>0.618680</td>\n",
       "      <td>1.000000</td>\n",
       "      <td>0.562517</td>\n",
       "      <td>NaN</td>\n",
       "      <td>0.542528</td>\n",
       "    </tr>\n",
       "    <tr>\n",
       "      <th>CGPA</th>\n",
       "      <td>-0.138537</td>\n",
       "      <td>0.678476</td>\n",
       "      <td>0.696774</td>\n",
       "      <td>0.516427</td>\n",
       "      <td>0.547098</td>\n",
       "      <td>0.562517</td>\n",
       "      <td>1.000000</td>\n",
       "      <td>NaN</td>\n",
       "      <td>0.752714</td>\n",
       "    </tr>\n",
       "    <tr>\n",
       "      <th>Research</th>\n",
       "      <td>NaN</td>\n",
       "      <td>NaN</td>\n",
       "      <td>NaN</td>\n",
       "      <td>NaN</td>\n",
       "      <td>NaN</td>\n",
       "      <td>NaN</td>\n",
       "      <td>NaN</td>\n",
       "      <td>NaN</td>\n",
       "      <td>NaN</td>\n",
       "    </tr>\n",
       "    <tr>\n",
       "      <th>Chance_of_Admit</th>\n",
       "      <td>-0.002771</td>\n",
       "      <td>0.603827</td>\n",
       "      <td>0.622458</td>\n",
       "      <td>0.428580</td>\n",
       "      <td>0.470188</td>\n",
       "      <td>0.542528</td>\n",
       "      <td>0.752714</td>\n",
       "      <td>NaN</td>\n",
       "      <td>1.000000</td>\n",
       "    </tr>\n",
       "  </tbody>\n",
       "</table>\n",
       "</div>"
      ],
      "text/plain": [
       "                   Serial_No.  GRE_Score  TOEFL_Score  University_Rating  \\\n",
       "Serial_No.           1.000000  -0.165248    -0.185665          -0.093655   \n",
       "GRE_Score           -0.165248   1.000000     0.680668           0.384715   \n",
       "TOEFL_Score         -0.185665   0.680668     1.000000           0.495748   \n",
       "University_Rating   -0.093655   0.384715     0.495748           1.000000   \n",
       "SOP                 -0.199090   0.371424     0.476563           0.607496   \n",
       "LOR                 -0.018579   0.365864     0.470956           0.484262   \n",
       "CGPA                -0.138537   0.678476     0.696774           0.516427   \n",
       "Research                  NaN        NaN          NaN                NaN   \n",
       "Chance_of_Admit     -0.002771   0.603827     0.622458           0.428580   \n",
       "\n",
       "                        SOP       LOR      CGPA  Research  Chance_of_Admit  \n",
       "Serial_No.        -0.199090 -0.018579 -0.138537       NaN        -0.002771  \n",
       "GRE_Score          0.371424  0.365864  0.678476       NaN         0.603827  \n",
       "TOEFL_Score        0.476563  0.470956  0.696774       NaN         0.622458  \n",
       "University_Rating  0.607496  0.484262  0.516427       NaN         0.428580  \n",
       "SOP                1.000000  0.618680  0.547098       NaN         0.470188  \n",
       "LOR                0.618680  1.000000  0.562517       NaN         0.542528  \n",
       "CGPA               0.547098  0.562517  1.000000       NaN         0.752714  \n",
       "Research                NaN       NaN       NaN       NaN              NaN  \n",
       "Chance_of_Admit    0.470188  0.542528  0.752714       NaN         1.000000  "
      ]
     },
     "execution_count": 8,
     "metadata": {},
     "output_type": "execute_result"
    }
   ],
   "source": [
    "(df[df['Research']==0]).corr()"
   ]
  },
  {
   "cell_type": "code",
   "execution_count": 9,
   "metadata": {},
   "outputs": [
    {
     "data": {
      "text/html": [
       "<div>\n",
       "<style scoped>\n",
       "    .dataframe tbody tr th:only-of-type {\n",
       "        vertical-align: middle;\n",
       "    }\n",
       "\n",
       "    .dataframe tbody tr th {\n",
       "        vertical-align: top;\n",
       "    }\n",
       "\n",
       "    .dataframe thead th {\n",
       "        text-align: right;\n",
       "    }\n",
       "</style>\n",
       "<table border=\"1\" class=\"dataframe\">\n",
       "  <thead>\n",
       "    <tr style=\"text-align: right;\">\n",
       "      <th></th>\n",
       "      <th>Serial_No.</th>\n",
       "      <th>GRE_Score</th>\n",
       "      <th>TOEFL_Score</th>\n",
       "      <th>University_Rating</th>\n",
       "      <th>SOP</th>\n",
       "      <th>LOR</th>\n",
       "      <th>CGPA</th>\n",
       "      <th>Research</th>\n",
       "      <th>Chance_of_Admit</th>\n",
       "    </tr>\n",
       "  </thead>\n",
       "  <tbody>\n",
       "    <tr>\n",
       "      <th>Serial_No.</th>\n",
       "      <td>1.000000</td>\n",
       "      <td>-0.094895</td>\n",
       "      <td>-0.140706</td>\n",
       "      <td>-0.058624</td>\n",
       "      <td>-0.109004</td>\n",
       "      <td>0.010475</td>\n",
       "      <td>-0.049214</td>\n",
       "      <td>NaN</td>\n",
       "      <td>0.024458</td>\n",
       "    </tr>\n",
       "    <tr>\n",
       "      <th>GRE_Score</th>\n",
       "      <td>-0.094895</td>\n",
       "      <td>1.000000</td>\n",
       "      <td>0.824170</td>\n",
       "      <td>0.614739</td>\n",
       "      <td>0.613318</td>\n",
       "      <td>0.443374</td>\n",
       "      <td>0.806720</td>\n",
       "      <td>NaN</td>\n",
       "      <td>0.802439</td>\n",
       "    </tr>\n",
       "    <tr>\n",
       "      <th>TOEFL_Score</th>\n",
       "      <td>-0.140706</td>\n",
       "      <td>0.824170</td>\n",
       "      <td>1.000000</td>\n",
       "      <td>0.602445</td>\n",
       "      <td>0.629436</td>\n",
       "      <td>0.436199</td>\n",
       "      <td>0.784173</td>\n",
       "      <td>NaN</td>\n",
       "      <td>0.787180</td>\n",
       "    </tr>\n",
       "    <tr>\n",
       "      <th>University_Rating</th>\n",
       "      <td>-0.058624</td>\n",
       "      <td>0.614739</td>\n",
       "      <td>0.602445</td>\n",
       "      <td>1.000000</td>\n",
       "      <td>0.723126</td>\n",
       "      <td>0.573881</td>\n",
       "      <td>0.692237</td>\n",
       "      <td>NaN</td>\n",
       "      <td>0.713094</td>\n",
       "    </tr>\n",
       "    <tr>\n",
       "      <th>SOP</th>\n",
       "      <td>-0.109004</td>\n",
       "      <td>0.613318</td>\n",
       "      <td>0.629436</td>\n",
       "      <td>0.723126</td>\n",
       "      <td>1.000000</td>\n",
       "      <td>0.591858</td>\n",
       "      <td>0.717750</td>\n",
       "      <td>NaN</td>\n",
       "      <td>0.708238</td>\n",
       "    </tr>\n",
       "    <tr>\n",
       "      <th>LOR</th>\n",
       "      <td>0.010475</td>\n",
       "      <td>0.443374</td>\n",
       "      <td>0.436199</td>\n",
       "      <td>0.573881</td>\n",
       "      <td>0.591858</td>\n",
       "      <td>1.000000</td>\n",
       "      <td>0.564794</td>\n",
       "      <td>NaN</td>\n",
       "      <td>0.588558</td>\n",
       "    </tr>\n",
       "    <tr>\n",
       "      <th>CGPA</th>\n",
       "      <td>-0.049214</td>\n",
       "      <td>0.806720</td>\n",
       "      <td>0.784173</td>\n",
       "      <td>0.692237</td>\n",
       "      <td>0.717750</td>\n",
       "      <td>0.564794</td>\n",
       "      <td>1.000000</td>\n",
       "      <td>NaN</td>\n",
       "      <td>0.892489</td>\n",
       "    </tr>\n",
       "    <tr>\n",
       "      <th>Research</th>\n",
       "      <td>NaN</td>\n",
       "      <td>NaN</td>\n",
       "      <td>NaN</td>\n",
       "      <td>NaN</td>\n",
       "      <td>NaN</td>\n",
       "      <td>NaN</td>\n",
       "      <td>NaN</td>\n",
       "      <td>NaN</td>\n",
       "      <td>NaN</td>\n",
       "    </tr>\n",
       "    <tr>\n",
       "      <th>Chance_of_Admit</th>\n",
       "      <td>0.024458</td>\n",
       "      <td>0.802439</td>\n",
       "      <td>0.787180</td>\n",
       "      <td>0.713094</td>\n",
       "      <td>0.708238</td>\n",
       "      <td>0.588558</td>\n",
       "      <td>0.892489</td>\n",
       "      <td>NaN</td>\n",
       "      <td>1.000000</td>\n",
       "    </tr>\n",
       "  </tbody>\n",
       "</table>\n",
       "</div>"
      ],
      "text/plain": [
       "                   Serial_No.  GRE_Score  TOEFL_Score  University_Rating  \\\n",
       "Serial_No.           1.000000  -0.094895    -0.140706          -0.058624   \n",
       "GRE_Score           -0.094895   1.000000     0.824170           0.614739   \n",
       "TOEFL_Score         -0.140706   0.824170     1.000000           0.602445   \n",
       "University_Rating   -0.058624   0.614739     0.602445           1.000000   \n",
       "SOP                 -0.109004   0.613318     0.629436           0.723126   \n",
       "LOR                  0.010475   0.443374     0.436199           0.573881   \n",
       "CGPA                -0.049214   0.806720     0.784173           0.692237   \n",
       "Research                  NaN        NaN          NaN                NaN   \n",
       "Chance_of_Admit      0.024458   0.802439     0.787180           0.713094   \n",
       "\n",
       "                        SOP       LOR      CGPA  Research  Chance_of_Admit  \n",
       "Serial_No.        -0.109004  0.010475 -0.049214       NaN         0.024458  \n",
       "GRE_Score          0.613318  0.443374  0.806720       NaN         0.802439  \n",
       "TOEFL_Score        0.629436  0.436199  0.784173       NaN         0.787180  \n",
       "University_Rating  0.723126  0.573881  0.692237       NaN         0.713094  \n",
       "SOP                1.000000  0.591858  0.717750       NaN         0.708238  \n",
       "LOR                0.591858  1.000000  0.564794       NaN         0.588558  \n",
       "CGPA               0.717750  0.564794  1.000000       NaN         0.892489  \n",
       "Research                NaN       NaN       NaN       NaN              NaN  \n",
       "Chance_of_Admit    0.708238  0.588558  0.892489       NaN         1.000000  "
      ]
     },
     "execution_count": 9,
     "metadata": {},
     "output_type": "execute_result"
    }
   ],
   "source": [
    "(df[df['Research']==1]).corr()"
   ]
  },
  {
   "cell_type": "code",
   "execution_count": 10,
   "metadata": {},
   "outputs": [
    {
     "data": {
      "text/plain": [
       "<matplotlib.axes._subplots.AxesSubplot at 0x2630725e108>"
      ]
     },
     "execution_count": 10,
     "metadata": {},
     "output_type": "execute_result"
    },
    {
     "data": {
      "image/png": "[encoded data removed]",
      "text/plain": [
       "<Figure size 1152x432 with 2 Axes>"
      ]
     },
     "metadata": {
      "needs_background": "light"
     },
     "output_type": "display_data"
    }
   ],
   "source": [
    "# представим корреляционную матрицу в виде \"тепловой карты\" с помощью функции heatmap из библиотеки seaborn\n",
    "plt.figure(figsize=(16,6)) # размер графика\n",
    "sns.heatmap(data=(df.corr()), annot=True)"
   ]
  },
  {
   "cell_type": "code",
   "execution_count": 11,
   "metadata": {},
   "outputs": [
    {
     "data": {
      "text/plain": [
       "<matplotlib.axes._subplots.AxesSubplot at 0x2630975bdc8>"
      ]
     },
     "execution_count": 11,
     "metadata": {},
     "output_type": "execute_result"
    },
    {
     "data": {
      "image/png": "[encoded data removed]",
      "text/plain": [
       "<Figure size 1152x432 with 2 Axes>"
      ]
     },
     "metadata": {
      "needs_background": "light"
     },
     "output_type": "display_data"
    }
   ],
   "source": [
    "plt.figure(figsize=(16,6))\n",
    "sns.heatmap(data=((df[df['Research']==0]).corr()), annot=True)"
   ]
  },
  {
   "cell_type": "code",
   "execution_count": 12,
   "metadata": {},
   "outputs": [
    {
     "data": {
      "text/plain": [
       "<matplotlib.axes._subplots.AxesSubplot at 0x26309560cc8>"
      ]
     },
     "execution_count": 12,
     "metadata": {},
     "output_type": "execute_result"
    },
    {
     "data": {
      "image/png": "[encoded data removed]",
      "text/plain": [
       "<Figure size 1152x432 with 2 Axes>"
      ]
     },
     "metadata": {
      "needs_background": "light"
     },
     "output_type": "display_data"
    }
   ],
   "source": [
    "plt.figure(figsize=(16,6))\n",
    "sns.heatmap(data=((df[df['Research']==1]).corr()), annot=True)"
   ]
  },
  {
   "cell_type": "code",
   "execution_count": 13,
   "metadata": {},
   "outputs": [
    {
     "data": {
      "text/html": [
       "<div>\n",
       "<style scoped>\n",
       "    .dataframe tbody tr th:only-of-type {\n",
       "        vertical-align: middle;\n",
       "    }\n",
       "\n",
       "    .dataframe tbody tr th {\n",
       "        vertical-align: top;\n",
       "    }\n",
       "\n",
       "    .dataframe thead th {\n",
       "        text-align: right;\n",
       "    }\n",
       "</style>\n",
       "<table border=\"1\" class=\"dataframe\">\n",
       "  <thead>\n",
       "    <tr style=\"text-align: right;\">\n",
       "      <th></th>\n",
       "      <th>Serial_No.</th>\n",
       "      <th>GRE_Score</th>\n",
       "      <th>TOEFL_Score</th>\n",
       "      <th>University_Rating</th>\n",
       "      <th>SOP</th>\n",
       "      <th>LOR</th>\n",
       "      <th>CGPA</th>\n",
       "      <th>Research</th>\n",
       "      <th>Chance_of_Admit</th>\n",
       "    </tr>\n",
       "  </thead>\n",
       "  <tbody>\n",
       "    <tr>\n",
       "      <th>4</th>\n",
       "      <td>5</td>\n",
       "      <td>314</td>\n",
       "      <td>103</td>\n",
       "      <td>2</td>\n",
       "      <td>2.0</td>\n",
       "      <td>3.0</td>\n",
       "      <td>8.21</td>\n",
       "      <td>0</td>\n",
       "      <td>0.65</td>\n",
       "    </tr>\n",
       "    <tr>\n",
       "      <th>7</th>\n",
       "      <td>8</td>\n",
       "      <td>308</td>\n",
       "      <td>101</td>\n",
       "      <td>2</td>\n",
       "      <td>3.0</td>\n",
       "      <td>4.0</td>\n",
       "      <td>7.90</td>\n",
       "      <td>0</td>\n",
       "      <td>0.68</td>\n",
       "    </tr>\n",
       "    <tr>\n",
       "      <th>8</th>\n",
       "      <td>9</td>\n",
       "      <td>302</td>\n",
       "      <td>102</td>\n",
       "      <td>1</td>\n",
       "      <td>2.0</td>\n",
       "      <td>1.5</td>\n",
       "      <td>8.00</td>\n",
       "      <td>0</td>\n",
       "      <td>0.50</td>\n",
       "    </tr>\n",
       "    <tr>\n",
       "      <th>9</th>\n",
       "      <td>10</td>\n",
       "      <td>323</td>\n",
       "      <td>108</td>\n",
       "      <td>3</td>\n",
       "      <td>3.5</td>\n",
       "      <td>3.0</td>\n",
       "      <td>8.60</td>\n",
       "      <td>0</td>\n",
       "      <td>0.45</td>\n",
       "    </tr>\n",
       "    <tr>\n",
       "      <th>15</th>\n",
       "      <td>16</td>\n",
       "      <td>314</td>\n",
       "      <td>105</td>\n",
       "      <td>3</td>\n",
       "      <td>3.5</td>\n",
       "      <td>2.5</td>\n",
       "      <td>8.30</td>\n",
       "      <td>0</td>\n",
       "      <td>0.54</td>\n",
       "    </tr>\n",
       "    <tr>\n",
       "      <th>...</th>\n",
       "      <td>...</td>\n",
       "      <td>...</td>\n",
       "      <td>...</td>\n",
       "      <td>...</td>\n",
       "      <td>...</td>\n",
       "      <td>...</td>\n",
       "      <td>...</td>\n",
       "      <td>...</td>\n",
       "      <td>...</td>\n",
       "    </tr>\n",
       "    <tr>\n",
       "      <th>487</th>\n",
       "      <td>488</td>\n",
       "      <td>327</td>\n",
       "      <td>115</td>\n",
       "      <td>4</td>\n",
       "      <td>3.5</td>\n",
       "      <td>4.0</td>\n",
       "      <td>9.14</td>\n",
       "      <td>0</td>\n",
       "      <td>0.79</td>\n",
       "    </tr>\n",
       "    <tr>\n",
       "      <th>489</th>\n",
       "      <td>490</td>\n",
       "      <td>302</td>\n",
       "      <td>110</td>\n",
       "      <td>3</td>\n",
       "      <td>4.0</td>\n",
       "      <td>4.5</td>\n",
       "      <td>8.50</td>\n",
       "      <td>0</td>\n",
       "      <td>0.65</td>\n",
       "    </tr>\n",
       "    <tr>\n",
       "      <th>491</th>\n",
       "      <td>492</td>\n",
       "      <td>297</td>\n",
       "      <td>99</td>\n",
       "      <td>4</td>\n",
       "      <td>3.0</td>\n",
       "      <td>3.5</td>\n",
       "      <td>7.81</td>\n",
       "      <td>0</td>\n",
       "      <td>0.54</td>\n",
       "    </tr>\n",
       "    <tr>\n",
       "      <th>498</th>\n",
       "      <td>499</td>\n",
       "      <td>312</td>\n",
       "      <td>103</td>\n",
       "      <td>4</td>\n",
       "      <td>4.0</td>\n",
       "      <td>5.0</td>\n",
       "      <td>8.43</td>\n",
       "      <td>0</td>\n",
       "      <td>0.73</td>\n",
       "    </tr>\n",
       "    <tr>\n",
       "      <th>499</th>\n",
       "      <td>500</td>\n",
       "      <td>327</td>\n",
       "      <td>113</td>\n",
       "      <td>4</td>\n",
       "      <td>4.5</td>\n",
       "      <td>4.5</td>\n",
       "      <td>9.04</td>\n",
       "      <td>0</td>\n",
       "      <td>0.84</td>\n",
       "    </tr>\n",
       "  </tbody>\n",
       "</table>\n",
       "<p>220 rows × 9 columns</p>\n",
       "</div>"
      ],
      "text/plain": [
       "     Serial_No.  GRE_Score  TOEFL_Score  University_Rating  SOP  LOR  CGPA  \\\n",
       "4             5        314          103                  2  2.0  3.0  8.21   \n",
       "7             8        308          101                  2  3.0  4.0  7.90   \n",
       "8             9        302          102                  1  2.0  1.5  8.00   \n",
       "9            10        323          108                  3  3.5  3.0  8.60   \n",
       "15           16        314          105                  3  3.5  2.5  8.30   \n",
       "..          ...        ...          ...                ...  ...  ...   ...   \n",
       "487         488        327          115                  4  3.5  4.0  9.14   \n",
       "489         490        302          110                  3  4.0  4.5  8.50   \n",
       "491         492        297           99                  4  3.0  3.5  7.81   \n",
       "498         499        312          103                  4  4.0  5.0  8.43   \n",
       "499         500        327          113                  4  4.5  4.5  9.04   \n",
       "\n",
       "     Research  Chance_of_Admit  \n",
       "4           0             0.65  \n",
       "7           0             0.68  \n",
       "8           0             0.50  \n",
       "9           0             0.45  \n",
       "15          0             0.54  \n",
       "..        ...              ...  \n",
       "487         0             0.79  \n",
       "489         0             0.65  \n",
       "491         0             0.54  \n",
       "498         0             0.73  \n",
       "499         0             0.84  \n",
       "\n",
       "[220 rows x 9 columns]"
      ]
     },
     "execution_count": 13,
     "metadata": {},
     "output_type": "execute_result"
    }
   ],
   "source": [
    "df[df['Research']==0]"
   ]
  },
  {
   "cell_type": "code",
   "execution_count": 14,
   "metadata": {},
   "outputs": [
    {
     "data": {
      "text/html": [
       "<div>\n",
       "<style scoped>\n",
       "    .dataframe tbody tr th:only-of-type {\n",
       "        vertical-align: middle;\n",
       "    }\n",
       "\n",
       "    .dataframe tbody tr th {\n",
       "        vertical-align: top;\n",
       "    }\n",
       "\n",
       "    .dataframe thead th {\n",
       "        text-align: right;\n",
       "    }\n",
       "</style>\n",
       "<table border=\"1\" class=\"dataframe\">\n",
       "  <thead>\n",
       "    <tr style=\"text-align: right;\">\n",
       "      <th></th>\n",
       "      <th>TOEFL_Score</th>\n",
       "      <th>CGPA</th>\n",
       "    </tr>\n",
       "  </thead>\n",
       "  <tbody>\n",
       "    <tr>\n",
       "      <th>4</th>\n",
       "      <td>103</td>\n",
       "      <td>8.21</td>\n",
       "    </tr>\n",
       "    <tr>\n",
       "      <th>7</th>\n",
       "      <td>101</td>\n",
       "      <td>7.90</td>\n",
       "    </tr>\n",
       "    <tr>\n",
       "      <th>8</th>\n",
       "      <td>102</td>\n",
       "      <td>8.00</td>\n",
       "    </tr>\n",
       "    <tr>\n",
       "      <th>9</th>\n",
       "      <td>108</td>\n",
       "      <td>8.60</td>\n",
       "    </tr>\n",
       "    <tr>\n",
       "      <th>15</th>\n",
       "      <td>105</td>\n",
       "      <td>8.30</td>\n",
       "    </tr>\n",
       "    <tr>\n",
       "      <th>...</th>\n",
       "      <td>...</td>\n",
       "      <td>...</td>\n",
       "    </tr>\n",
       "    <tr>\n",
       "      <th>487</th>\n",
       "      <td>115</td>\n",
       "      <td>9.14</td>\n",
       "    </tr>\n",
       "    <tr>\n",
       "      <th>489</th>\n",
       "      <td>110</td>\n",
       "      <td>8.50</td>\n",
       "    </tr>\n",
       "    <tr>\n",
       "      <th>491</th>\n",
       "      <td>99</td>\n",
       "      <td>7.81</td>\n",
       "    </tr>\n",
       "    <tr>\n",
       "      <th>498</th>\n",
       "      <td>103</td>\n",
       "      <td>8.43</td>\n",
       "    </tr>\n",
       "    <tr>\n",
       "      <th>499</th>\n",
       "      <td>113</td>\n",
       "      <td>9.04</td>\n",
       "    </tr>\n",
       "  </tbody>\n",
       "</table>\n",
       "<p>220 rows × 2 columns</p>\n",
       "</div>"
      ],
      "text/plain": [
       "     TOEFL_Score  CGPA\n",
       "4            103  8.21\n",
       "7            101  7.90\n",
       "8            102  8.00\n",
       "9            108  8.60\n",
       "15           105  8.30\n",
       "..           ...   ...\n",
       "487          115  9.14\n",
       "489          110  8.50\n",
       "491           99  7.81\n",
       "498          103  8.43\n",
       "499          113  9.04\n",
       "\n",
       "[220 rows x 2 columns]"
      ]
     },
     "execution_count": 14,
     "metadata": {},
     "output_type": "execute_result"
    }
   ],
   "source": [
    "data = df[df['Research']==0][['TOEFL_Score', 'CGPA']]\n",
    "data"
   ]
  },
  {
   "cell_type": "code",
   "execution_count": 15,
   "metadata": {},
   "outputs": [
    {
     "data": {
      "text/plain": [
       "array([[  1.  , 103.  ,   8.21],\n",
       "       [  1.  , 101.  ,   7.9 ],\n",
       "       [  1.  , 102.  ,   8.  ],\n",
       "       [  1.  , 108.  ,   8.6 ],\n",
       "       [  1.  , 105.  ,   8.3 ],\n",
       "       [  1.  , 107.  ,   8.7 ],\n",
       "       [  1.  , 110.  ,   8.8 ],\n",
       "       [  1.  , 102.  ,   8.5 ],\n",
       "       [  1.  , 114.  ,   8.4 ],\n",
       "       [  1.  , 109.  ,   8.8 ],\n",
       "       [  1.  ,  93.  ,   7.2 ],\n",
       "       [  1.  ,  99.  ,   7.3 ],\n",
       "       [  1.  , 106.  ,   8.4 ],\n",
       "       [  1.  , 105.  ,   7.8 ],\n",
       "       [  1.  , 105.  ,   7.5 ],\n",
       "       [  1.  , 108.  ,   7.7 ],\n",
       "       [  1.  , 117.  ,   9.1 ],\n",
       "       [  1.  , 119.  ,   9.7 ],\n",
       "       [  1.  , 110.  ,   8.  ],\n",
       "       [  1.  , 103.  ,   7.7 ],\n",
       "       [  1.  , 102.  ,   7.4 ],\n",
       "       [  1.  ,  99.  ,   7.6 ],\n",
       "       [  1.  , 104.  ,   8.3 ],\n",
       "       [  1.  , 100.  ,   8.1 ],\n",
       "       [  1.  , 101.  ,   8.2 ],\n",
       "       [  1.  , 111.  ,   8.7 ],\n",
       "       [  1.  , 112.  ,   8.92],\n",
       "       [  1.  , 114.  ,   9.02],\n",
       "       [  1.  , 106.  ,   8.9 ],\n",
       "       [  1.  ,  99.  ,   8.22],\n",
       "       [  1.  ,  93.  ,   7.36],\n",
       "       [  1.  , 103.  ,   8.66],\n",
       "       [  1.  , 106.  ,   8.42],\n",
       "       [  1.  , 107.  ,   8.28],\n",
       "       [  1.  , 108.  ,   8.14],\n",
       "       [  1.  ,  97.  ,   7.66],\n",
       "       [  1.  ,  98.  ,   8.03],\n",
       "       [  1.  ,  99.  ,   7.66],\n",
       "       [  1.  , 100.  ,   7.84],\n",
       "       [  1.  , 100.  ,   8.  ],\n",
       "       [  1.  , 105.  ,   8.12],\n",
       "       [  1.  , 106.  ,   8.25],\n",
       "       [  1.  , 104.  ,   8.47],\n",
       "       [  1.  , 103.  ,   8.64],\n",
       "       [  1.  , 108.  ,   8.48],\n",
       "       [  1.  , 110.  ,   8.56],\n",
       "       [  1.  , 102.  ,   8.62],\n",
       "       [  1.  , 104.  ,   7.46],\n",
       "       [  1.  ,  99.  ,   7.28],\n",
       "       [  1.  , 106.  ,   8.36],\n",
       "       [  1.  , 108.  ,   8.22],\n",
       "       [  1.  , 106.  ,   8.47],\n",
       "       [  1.  , 105.  ,   8.65],\n",
       "       [  1.  , 105.  ,   8.56],\n",
       "       [  1.  , 112.  ,   8.78],\n",
       "       [  1.  , 103.  ,   8.45],\n",
       "       [  1.  , 109.  ,   9.12],\n",
       "       [  1.  , 105.  ,   8.48],\n",
       "       [  1.  , 105.  ,   8.75],\n",
       "       [  1.  , 108.  ,   8.89],\n",
       "       [  1.  , 109.  ,   8.69],\n",
       "       [  1.  , 105.  ,   8.34],\n",
       "       [  1.  , 104.  ,   8.26],\n",
       "       [  1.  , 106.  ,   8.14],\n",
       "       [  1.  , 100.  ,   7.9 ],\n",
       "       [  1.  , 103.  ,   7.86],\n",
       "       [  1.  ,  99.  ,   7.46],\n",
       "       [  1.  , 109.  ,   8.5 ],\n",
       "       [  1.  , 105.  ,   8.56],\n",
       "       [  1.  , 110.  ,   8.97],\n",
       "       [  1.  , 102.  ,   8.33],\n",
       "       [  1.  , 102.  ,   8.27],\n",
       "       [  1.  ,  99.  ,   7.98],\n",
       "       [  1.  , 110.  ,   9.04],\n",
       "       [  1.  , 108.  ,   8.12],\n",
       "       [  1.  , 102.  ,   8.27],\n",
       "       [  1.  , 104.  ,   8.16],\n",
       "       [  1.  , 107.  ,   8.42],\n",
       "       [  1.  , 100.  ,   7.88],\n",
       "       [  1.  , 110.  ,   8.8 ],\n",
       "       [  1.  , 106.  ,   8.32],\n",
       "       [  1.  , 109.  ,   8.76],\n",
       "       [  1.  , 105.  ,   8.26],\n",
       "       [  1.  , 106.  ,   8.33],\n",
       "       [  1.  , 104.  ,   8.43],\n",
       "       [  1.  , 107.  ,   8.69],\n",
       "       [  1.  , 105.  ,   8.54],\n",
       "       [  1.  ,  99.  ,   7.65],\n",
       "       [  1.  ,  99.  ,   7.89],\n",
       "       [  1.  , 106.  ,   8.16],\n",
       "       [  1.  , 104.  ,   8.42],\n",
       "       [  1.  , 103.  ,   8.75],\n",
       "       [  1.  , 110.  ,   8.56],\n",
       "       [  1.  , 113.  ,   8.79],\n",
       "       [  1.  , 109.  ,   8.45],\n",
       "       [  1.  , 105.  ,   8.23],\n",
       "       [  1.  ,  99.  ,   8.03],\n",
       "       [  1.  , 110.  ,   8.45],\n",
       "       [  1.  , 110.  ,   8.53],\n",
       "       [  1.  , 112.  ,   8.67],\n",
       "       [  1.  , 104.  ,   8.65],\n",
       "       [  1.  , 107.  ,   8.27],\n",
       "       [  1.  , 100.  ,   8.07],\n",
       "       [  1.  , 104.  ,   8.37],\n",
       "       [  1.  , 100.  ,   7.89],\n",
       "       [  1.  , 101.  ,   7.68],\n",
       "       [  1.  , 103.  ,   8.15],\n",
       "       [  1.  , 107.  ,   8.56],\n",
       "       [  1.  , 105.  ,   8.73],\n",
       "       [  1.  , 104.  ,   8.48],\n",
       "       [  1.  ,  99.  ,   9.  ],\n",
       "       [  1.  , 114.  ,   9.12],\n",
       "       [  1.  , 110.  ,   8.37],\n",
       "       [  1.  ,  99.  ,   8.56],\n",
       "       [  1.  , 104.  ,   8.09],\n",
       "       [  1.  , 102.  ,   8.68],\n",
       "       [  1.  , 105.  ,   8.45],\n",
       "       [  1.  , 113.  ,   9.14],\n",
       "       [  1.  , 108.  ,   8.34],\n",
       "       [  1.  ,  96.  ,   7.86],\n",
       "       [  1.  ,  95.  ,   7.64],\n",
       "       [  1.  , 100.  ,   7.95],\n",
       "       [  1.  , 101.  ,   8.62],\n",
       "       [  1.  , 103.  ,   8.49],\n",
       "       [  1.  , 102.  ,   8.73],\n",
       "       [  1.  , 104.  ,   9.02],\n",
       "       [  1.  , 109.  ,   9.  ],\n",
       "       [  1.  , 105.  ,   7.65],\n",
       "       [  1.  , 102.  ,   7.87],\n",
       "       [  1.  ,  99.  ,   7.97],\n",
       "       [  1.  , 100.  ,   8.57],\n",
       "       [  1.  , 107.  ,   8.67],\n",
       "       [  1.  , 120.  ,   9.11],\n",
       "       [  1.  , 112.  ,   8.65],\n",
       "       [  1.  , 106.  ,   8.  ],\n",
       "       [  1.  , 108.  ,   8.76],\n",
       "       [  1.  , 106.  ,   8.43],\n",
       "       [  1.  , 108.  ,   8.53],\n",
       "       [  1.  , 110.  ,   8.6 ],\n",
       "       [  1.  , 100.  ,   8.04],\n",
       "       [  1.  , 105.  ,   8.13],\n",
       "       [  1.  , 104.  ,   8.07],\n",
       "       [  1.  , 101.  ,   7.86],\n",
       "       [  1.  ,  99.  ,   8.01],\n",
       "       [  1.  , 107.  ,   8.27],\n",
       "       [  1.  , 102.  ,   8.18],\n",
       "       [  1.  , 104.  ,   8.33],\n",
       "       [  1.  , 100.  ,   8.02],\n",
       "       [  1.  , 101.  ,   7.86],\n",
       "       [  1.  ,  96.  ,   7.89],\n",
       "       [  1.  , 110.  ,   8.79],\n",
       "       [  1.  , 106.  ,   8.24],\n",
       "       [  1.  , 103.  ,   8.13],\n",
       "       [  1.  ,  96.  ,   7.34],\n",
       "       [  1.  ,  98.  ,   7.43],\n",
       "       [  1.  ,  97.  ,   7.64],\n",
       "       [  1.  ,  94.  ,   7.34],\n",
       "       [  1.  ,  99.  ,   7.25],\n",
       "       [  1.  , 101.  ,   8.04],\n",
       "       [  1.  , 102.  ,   8.17],\n",
       "       [  1.  ,  98.  ,   7.67],\n",
       "       [  1.  , 106.  ,   8.12],\n",
       "       [  1.  , 105.  ,   7.64],\n",
       "       [  1.  , 107.  ,   8.44],\n",
       "       [  1.  , 103.  ,   8.36],\n",
       "       [  1.  ,  98.  ,   7.46],\n",
       "       [  1.  ,  92.  ,   7.88],\n",
       "       [  1.  , 103.  ,   8.24],\n",
       "       [  1.  , 105.  ,   7.65],\n",
       "       [  1.  , 101.  ,   7.66],\n",
       "       [  1.  ,  96.  ,   7.43],\n",
       "       [  1.  , 100.  ,   7.56],\n",
       "       [  1.  ,  98.  ,   7.65],\n",
       "       [  1.  , 100.  ,   8.26],\n",
       "       [  1.  , 101.  ,   7.96],\n",
       "       [  1.  , 105.  ,   8.1 ],\n",
       "       [  1.  ,  97.  ,   7.8 ],\n",
       "       [  1.  , 102.  ,   8.24],\n",
       "       [  1.  , 106.  ,   8.65],\n",
       "       [  1.  , 104.  ,   8.76],\n",
       "       [  1.  , 103.  ,   8.78],\n",
       "       [  1.  , 100.  ,   8.22],\n",
       "       [  1.  , 105.  ,   8.34],\n",
       "       [  1.  ,  99.  ,   7.45],\n",
       "       [  1.  ,  98.  ,   8.02],\n",
       "       [  1.  ,  96.  ,   7.56],\n",
       "       [  1.  ,  94.  ,   8.13],\n",
       "       [  1.  , 104.  ,   8.1 ],\n",
       "       [  1.  , 103.  ,   7.68],\n",
       "       [  1.  , 111.  ,   8.03],\n",
       "       [  1.  , 100.  ,   7.42],\n",
       "       [  1.  , 106.  ,   8.57],\n",
       "       [  1.  , 103.  ,   8.74],\n",
       "       [  1.  , 111.  ,   8.54],\n",
       "       [  1.  , 103.  ,   8.21],\n",
       "       [  1.  , 105.  ,   7.68],\n",
       "       [  1.  , 105.  ,   8.46],\n",
       "       [  1.  , 104.  ,   7.79],\n",
       "       [  1.  , 109.  ,   9.02],\n",
       "       [  1.  , 101.  ,   9.13],\n",
       "       [  1.  , 105.  ,   8.01],\n",
       "       [  1.  , 102.  ,   7.64],\n",
       "       [  1.  , 100.  ,   7.88],\n",
       "       [  1.  ,  99.  ,   7.57],\n",
       "       [  1.  , 105.  ,   7.94],\n",
       "       [  1.  , 107.  ,   7.86],\n",
       "       [  1.  ,  97.  ,   7.21],\n",
       "       [  1.  ,  96.  ,   8.26],\n",
       "       [  1.  , 103.  ,   8.09],\n",
       "       [  1.  , 102.  ,   8.15],\n",
       "       [  1.  , 101.  ,   7.88],\n",
       "       [  1.  , 104.  ,   8.12],\n",
       "       [  1.  , 105.  ,   8.18],\n",
       "       [  1.  , 103.  ,   7.92],\n",
       "       [  1.  , 102.  ,   8.37],\n",
       "       [  1.  , 115.  ,   9.14],\n",
       "       [  1.  , 110.  ,   8.5 ],\n",
       "       [  1.  ,  99.  ,   7.81],\n",
       "       [  1.  , 103.  ,   8.43],\n",
       "       [  1.  , 113.  ,   9.04]])"
      ]
     },
     "execution_count": 15,
     "metadata": {},
     "output_type": "execute_result"
    }
   ],
   "source": [
    "TOEFL = data['TOEFL_Score']\n",
    "CGPA = data['CGPA']\n",
    "A= np.column_stack((np.ones(220), TOEFL, CGPA))\n",
    "A"
   ]
  },
  {
   "cell_type": "code",
   "execution_count": 16,
   "metadata": {},
   "outputs": [
    {
     "data": {
      "text/html": [
       "<div>\n",
       "<style scoped>\n",
       "    .dataframe tbody tr th:only-of-type {\n",
       "        vertical-align: middle;\n",
       "    }\n",
       "\n",
       "    .dataframe tbody tr th {\n",
       "        vertical-align: top;\n",
       "    }\n",
       "\n",
       "    .dataframe thead th {\n",
       "        text-align: right;\n",
       "    }\n",
       "</style>\n",
       "<table border=\"1\" class=\"dataframe\">\n",
       "  <thead>\n",
       "    <tr style=\"text-align: right;\">\n",
       "      <th></th>\n",
       "      <th>Chance_of_Admit</th>\n",
       "    </tr>\n",
       "  </thead>\n",
       "  <tbody>\n",
       "    <tr>\n",
       "      <th>4</th>\n",
       "      <td>0.65</td>\n",
       "    </tr>\n",
       "    <tr>\n",
       "      <th>7</th>\n",
       "      <td>0.68</td>\n",
       "    </tr>\n",
       "    <tr>\n",
       "      <th>8</th>\n",
       "      <td>0.50</td>\n",
       "    </tr>\n",
       "    <tr>\n",
       "      <th>9</th>\n",
       "      <td>0.45</td>\n",
       "    </tr>\n",
       "    <tr>\n",
       "      <th>15</th>\n",
       "      <td>0.54</td>\n",
       "    </tr>\n",
       "    <tr>\n",
       "      <th>...</th>\n",
       "      <td>...</td>\n",
       "    </tr>\n",
       "    <tr>\n",
       "      <th>487</th>\n",
       "      <td>0.79</td>\n",
       "    </tr>\n",
       "    <tr>\n",
       "      <th>489</th>\n",
       "      <td>0.65</td>\n",
       "    </tr>\n",
       "    <tr>\n",
       "      <th>491</th>\n",
       "      <td>0.54</td>\n",
       "    </tr>\n",
       "    <tr>\n",
       "      <th>498</th>\n",
       "      <td>0.73</td>\n",
       "    </tr>\n",
       "    <tr>\n",
       "      <th>499</th>\n",
       "      <td>0.84</td>\n",
       "    </tr>\n",
       "  </tbody>\n",
       "</table>\n",
       "<p>220 rows × 1 columns</p>\n",
       "</div>"
      ],
      "text/plain": [
       "     Chance_of_Admit\n",
       "4               0.65\n",
       "7               0.68\n",
       "8               0.50\n",
       "9               0.45\n",
       "15              0.54\n",
       "..               ...\n",
       "487             0.79\n",
       "489             0.65\n",
       "491             0.54\n",
       "498             0.73\n",
       "499             0.84\n",
       "\n",
       "[220 rows x 1 columns]"
      ]
     },
     "execution_count": 16,
     "metadata": {},
     "output_type": "execute_result"
    }
   ],
   "source": [
    "y = df[df['Research']==0][['Chance_of_Admit']]\n",
    "y"
   ]
  },
  {
   "cell_type": "code",
   "execution_count": 17,
   "metadata": {},
   "outputs": [
    {
     "data": {
      "text/html": [
       "<div>\n",
       "<style scoped>\n",
       "    .dataframe tbody tr th:only-of-type {\n",
       "        vertical-align: middle;\n",
       "    }\n",
       "\n",
       "    .dataframe tbody tr th {\n",
       "        vertical-align: top;\n",
       "    }\n",
       "\n",
       "    .dataframe thead th {\n",
       "        text-align: right;\n",
       "    }\n",
       "</style>\n",
       "<table border=\"1\" class=\"dataframe\">\n",
       "  <thead>\n",
       "    <tr style=\"text-align: right;\">\n",
       "      <th></th>\n",
       "      <th>Chance_of_Admit</th>\n",
       "    </tr>\n",
       "  </thead>\n",
       "  <tbody>\n",
       "    <tr>\n",
       "      <th>0</th>\n",
       "      <td>-1.044864</td>\n",
       "    </tr>\n",
       "    <tr>\n",
       "      <th>1</th>\n",
       "      <td>0.004427</td>\n",
       "    </tr>\n",
       "    <tr>\n",
       "      <th>2</th>\n",
       "      <td>0.148077</td>\n",
       "    </tr>\n",
       "  </tbody>\n",
       "</table>\n",
       "</div>"
      ],
      "text/plain": [
       "   Chance_of_Admit\n",
       "0        -1.044864\n",
       "1         0.004427\n",
       "2         0.148077"
      ]
     },
     "execution_count": 17,
     "metadata": {},
     "output_type": "execute_result"
    }
   ],
   "source": [
    "# вычислим OLS оценку для коэффициентов\n",
    "w_hat=np.linalg.inv(A.T@A)@A.T@y\n",
    "w_hat"
   ]
  },
  {
   "cell_type": "code",
   "execution_count": 18,
   "metadata": {},
   "outputs": [
    {
     "data": {
      "text/plain": [
       "Chance_of_Admit    0.776359\n",
       "dtype: float64"
      ]
     },
     "execution_count": 18,
     "metadata": {},
     "output_type": "execute_result"
    }
   ],
   "source": [
    "# прогноз\n",
    "# новые данные:\n",
    "TOEFL_new=107\n",
    "CGPA_new=9.1\n",
    "# прогноз шанса поступления\n",
    "Chance_of_Admit_new=w_hat.iloc[0]+w_hat.iloc[1]*TOEFL_new+w_hat.iloc[2]*CGPA_new\n",
    "Chance_of_Admit_new"
   ]
  },
  {
   "cell_type": "code",
   "execution_count": 19,
   "metadata": {},
   "outputs": [
    {
     "data": {
      "text/plain": [
       "Chance_of_Admit    0.776359\n",
       "dtype: float64"
      ]
     },
     "execution_count": 19,
     "metadata": {},
     "output_type": "execute_result"
    }
   ],
   "source": [
    "new = np.array([1, 107, 9.1])\n",
    "new@w_hat"
   ]
  },
  {
   "cell_type": "markdown",
   "metadata": {},
   "source": [
    "Сделайте прогноз шансов поступления в университет для абитуриента с TOEFL Score=107, CGPA=9.1, используя модель, полученную в задаче 2.11.6 (!! используйте округленные значения признаков !!)."
   ]
  },
  {
   "cell_type": "code",
   "execution_count": 20,
   "metadata": {},
   "outputs": [],
   "source": [
    "w_hat_2 = np.array([-1.045, 0.004, 0.148])"
   ]
  },
  {
   "cell_type": "code",
   "execution_count": 21,
   "metadata": {},
   "outputs": [
    {
     "data": {
      "text/plain": [
       "0.7297999999999998"
      ]
     },
     "execution_count": 21,
     "metadata": {},
     "output_type": "execute_result"
    }
   ],
   "source": [
    "new@w_hat_2"
   ]
  },
  {
   "cell_type": "code",
   "execution_count": null,
   "metadata": {},
   "outputs": [],
   "source": []
  },
  {
   "cell_type": "markdown",
   "metadata": {},
   "source": [
    "Стандартизация"
   ]
  },
  {
   "cell_type": "code",
   "execution_count": 22,
   "metadata": {},
   "outputs": [
    {
     "name": "stdout",
     "output_type": "stream",
     "text": [
      "mean value of TOEFL: 103.99090909090908\n",
      "mean value of CGPA: 8.234727272727275\n",
      "mean value of Chance_of_Admit: Chance_of_Admit    0.634909\n",
      "dtype: float64\n"
     ]
    }
   ],
   "source": [
    "meanTOEFL = data['TOEFL_Score'].mean()\n",
    "meanCGPA  = data['CGPA'].mean()\n",
    "mean_y = y.mean()\n",
    "print('mean value of TOEFL:', meanTOEFL)\n",
    "print('mean value of CGPA:', meanCGPA)\n",
    "print('mean value of Chance_of_Admit:', mean_y)"
   ]
  },
  {
   "cell_type": "code",
   "execution_count": 23,
   "metadata": {},
   "outputs": [
    {
     "name": "stdout",
     "output_type": "stream",
     "text": [
      "TOEFL до центрирования:\n",
      " 4    103\n",
      "7    101\n",
      "8    102\n",
      "9    108\n",
      "Name: TOEFL_Score, dtype: int64\n",
      "TOEFL после центрирования:\n",
      " 4   -0.990909\n",
      "7   -2.990909\n",
      "8   -1.990909\n",
      "9    4.009091\n",
      "Name: TOEFL_Score, dtype: float64\n"
     ]
    }
   ],
   "source": [
    "# Центрирование\n",
    "TOEFL_c = data['TOEFL_Score'] - meanTOEFL\n",
    "CGPA_c = data['CGPA'] - meanCGPA\n",
    "y_c = y - mean_y\n",
    "print('TOEFL до центрирования:\\n', TOEFL.head(4))\n",
    "print('TOEFL после центрирования:\\n', TOEFL_c.head(4))"
   ]
  },
  {
   "cell_type": "code",
   "execution_count": 24,
   "metadata": {},
   "outputs": [
    {
     "data": {
      "text/plain": [
       "5.2321783269607375e-15"
      ]
     },
     "execution_count": 24,
     "metadata": {},
     "output_type": "execute_result"
    }
   ],
   "source": [
    "TOEFL_c.mean()"
   ]
  },
  {
   "cell_type": "code",
   "execution_count": 25,
   "metadata": {},
   "outputs": [
    {
     "name": "stdout",
     "output_type": "stream",
     "text": [
      "norm of TOEFL:\n",
      " 71.24592492333733\n"
     ]
    }
   ],
   "source": [
    "# вычисляем длины векторов для нормирования\n",
    "TOEFL_c_norm = np.linalg.norm(TOEFL_c)\n",
    "CGPA_c_norm = np.linalg.norm(CGPA_c)\n",
    "y_c_norm = np.linalg.norm(y_c)\n",
    "print('norm of TOEFL:\\n', TOEFL_c_norm)"
   ]
  },
  {
   "cell_type": "code",
   "execution_count": 26,
   "metadata": {},
   "outputs": [
    {
     "name": "stdout",
     "output_type": "stream",
     "text": [
      "TOEFL до центрирования:\n",
      " 4    103\n",
      "7    101\n",
      "8    102\n",
      "9    108\n",
      "Name: TOEFL_Score, dtype: int64\n",
      "TOEFL после центрирования:\n",
      " 4   -0.990909\n",
      "7   -2.990909\n",
      "8   -1.990909\n",
      "9    4.009091\n",
      "Name: TOEFL_Score, dtype: float64\n",
      "TOEFL после нормирования:\n",
      " 4   -0.013908\n",
      "7   -0.041980\n",
      "8   -0.027944\n",
      "9    0.056271\n",
      "Name: TOEFL_Score, dtype: float64\n"
     ]
    }
   ],
   "source": [
    "# Нормирование: делим каждый центрированный вектор на его длину\n",
    "TOEFL_st = TOEFL_c/TOEFL_c_norm\n",
    "CGPA_st = CGPA_c/CGPA_c_norm\n",
    "y_st = y_c/y_c_norm\n",
    "print('TOEFL до центрирования:\\n', TOEFL.head(4))\n",
    "print('TOEFL после центрирования:\\n', TOEFL_c.head(4))\n",
    "print('TOEFL после нормирования:\\n', TOEFL_st.head(4))"
   ]
  },
  {
   "cell_type": "code",
   "execution_count": 27,
   "metadata": {},
   "outputs": [
    {
     "data": {
      "text/plain": [
       "8.743006318923108e-17"
      ]
     },
     "execution_count": 27,
     "metadata": {},
     "output_type": "execute_result"
    }
   ],
   "source": [
    "TOEFL_st.mean()"
   ]
  },
  {
   "cell_type": "code",
   "execution_count": 28,
   "metadata": {},
   "outputs": [
    {
     "data": {
      "text/plain": [
       "array([[-0.01390829, -0.00356568],\n",
       "       [-0.04198007, -0.04826775],\n",
       "       [-0.02794418, -0.03384772],\n",
       "       [ 0.05627116,  0.05267241],\n",
       "       [ 0.01416349,  0.00941234],\n",
       "       [ 0.04223527,  0.06709243],\n",
       "       [ 0.08434294,  0.08151245],\n",
       "       [-0.02794418,  0.03825238],\n",
       "       [ 0.1404865 ,  0.02383236],\n",
       "       [ 0.07030705,  0.08151245],\n",
       "       [-0.1542672 , -0.1492079 ],\n",
       "       [-0.07005185, -0.13478788],\n",
       "       [ 0.02819938,  0.02383236],\n",
       "       [ 0.01416349, -0.06268777],\n",
       "       [ 0.01416349, -0.10594783],\n",
       "       [ 0.05627116, -0.07710779],\n",
       "       [ 0.18259418,  0.12477251],\n",
       "       [ 0.21066596,  0.21129264],\n",
       "       [ 0.08434294, -0.03384772],\n",
       "       [-0.01390829, -0.07710779],\n",
       "       [-0.02794418, -0.12036785],\n",
       "       [-0.07005185, -0.09152781],\n",
       "       [ 0.0001276 ,  0.00941234],\n",
       "       [-0.05601596, -0.0194277 ],\n",
       "       [-0.04198007, -0.00500768],\n",
       "       [ 0.09837883,  0.06709243],\n",
       "       [ 0.11241472,  0.09881648],\n",
       "       [ 0.1404865 ,  0.1132365 ],\n",
       "       [ 0.02819938,  0.09593247],\n",
       "       [-0.07005185, -0.00212368],\n",
       "       [-0.1542672 , -0.12613586],\n",
       "       [-0.01390829,  0.06132442],\n",
       "       [ 0.02819938,  0.02671637],\n",
       "       [ 0.04223527,  0.00652834],\n",
       "       [ 0.05627116, -0.01365969],\n",
       "       [-0.09812363, -0.0828758 ],\n",
       "       [-0.08408774, -0.02952172],\n",
       "       [-0.07005185, -0.0828758 ],\n",
       "       [-0.05601596, -0.05691976],\n",
       "       [-0.05601596, -0.03384772],\n",
       "       [ 0.01416349, -0.0165437 ],\n",
       "       [ 0.02819938,  0.00220233],\n",
       "       [ 0.0001276 ,  0.03392638],\n",
       "       [-0.01390829,  0.05844041],\n",
       "       [ 0.05627116,  0.03536838],\n",
       "       [ 0.08434294,  0.0469044 ],\n",
       "       [-0.02794418,  0.05555641],\n",
       "       [ 0.0001276 , -0.11171584],\n",
       "       [-0.07005185, -0.13767188],\n",
       "       [ 0.02819938,  0.01806435],\n",
       "       [ 0.05627116, -0.00212368],\n",
       "       [ 0.02819938,  0.03392638],\n",
       "       [ 0.01416349,  0.05988242],\n",
       "       [ 0.01416349,  0.0469044 ],\n",
       "       [ 0.11241472,  0.07862845],\n",
       "       [-0.01390829,  0.03104237],\n",
       "       [ 0.07030705,  0.12765652],\n",
       "       [ 0.01416349,  0.03536838],\n",
       "       [ 0.01416349,  0.07430244],\n",
       "       [ 0.05627116,  0.09449047],\n",
       "       [ 0.07030705,  0.06565043],\n",
       "       [ 0.01416349,  0.01518035],\n",
       "       [ 0.0001276 ,  0.00364433],\n",
       "       [ 0.02819938, -0.01365969],\n",
       "       [-0.05601596, -0.04826775],\n",
       "       [-0.01390829, -0.05403575],\n",
       "       [-0.07005185, -0.11171584],\n",
       "       [ 0.07030705,  0.03825238],\n",
       "       [ 0.01416349,  0.0469044 ],\n",
       "       [ 0.08434294,  0.10602649],\n",
       "       [-0.02794418,  0.01373835],\n",
       "       [-0.02794418,  0.00508633],\n",
       "       [-0.07005185, -0.03673173],\n",
       "       [ 0.08434294,  0.1161205 ],\n",
       "       [ 0.05627116, -0.0165437 ],\n",
       "       [-0.02794418,  0.00508633],\n",
       "       [ 0.0001276 , -0.01077569],\n",
       "       [ 0.04223527,  0.02671637],\n",
       "       [-0.05601596, -0.05115175],\n",
       "       [ 0.08434294,  0.08151245],\n",
       "       [ 0.02819938,  0.01229635],\n",
       "       [ 0.07030705,  0.07574444],\n",
       "       [ 0.01416349,  0.00364433],\n",
       "       [ 0.02819938,  0.01373835],\n",
       "       [ 0.0001276 ,  0.02815837],\n",
       "       [ 0.04223527,  0.06565043],\n",
       "       [ 0.01416349,  0.04402039],\n",
       "       [-0.07005185, -0.0843178 ],\n",
       "       [-0.07005185, -0.04970975],\n",
       "       [ 0.02819938, -0.01077569],\n",
       "       [ 0.0001276 ,  0.02671637],\n",
       "       [-0.01390829,  0.07430244],\n",
       "       [ 0.08434294,  0.0469044 ],\n",
       "       [ 0.12645061,  0.08007045],\n",
       "       [ 0.07030705,  0.03104237],\n",
       "       [ 0.01416349, -0.00068167],\n",
       "       [-0.07005185, -0.02952172],\n",
       "       [ 0.08434294,  0.03104237],\n",
       "       [ 0.08434294,  0.04257839],\n",
       "       [ 0.11241472,  0.06276642],\n",
       "       [ 0.0001276 ,  0.05988242],\n",
       "       [ 0.04223527,  0.00508633],\n",
       "       [-0.05601596, -0.02375371],\n",
       "       [ 0.0001276 ,  0.01950636],\n",
       "       [-0.05601596, -0.04970975],\n",
       "       [-0.04198007, -0.07999179],\n",
       "       [-0.01390829, -0.01221769],\n",
       "       [ 0.04223527,  0.0469044 ],\n",
       "       [ 0.01416349,  0.07141843],\n",
       "       [ 0.0001276 ,  0.03536838],\n",
       "       [-0.07005185,  0.11035249],\n",
       "       [ 0.1404865 ,  0.12765652],\n",
       "       [ 0.08434294,  0.01950636],\n",
       "       [-0.07005185,  0.0469044 ],\n",
       "       [ 0.0001276 , -0.0208697 ],\n",
       "       [-0.02794418,  0.06420842],\n",
       "       [ 0.01416349,  0.03104237],\n",
       "       [ 0.12645061,  0.13054052],\n",
       "       [ 0.05627116,  0.01518035],\n",
       "       [-0.11215952, -0.05403575],\n",
       "       [-0.12619542, -0.0857598 ],\n",
       "       [-0.05601596, -0.04105773],\n",
       "       [-0.04198007,  0.05555641],\n",
       "       [-0.01390829,  0.03681038],\n",
       "       [-0.02794418,  0.07141843],\n",
       "       [ 0.0001276 ,  0.1132365 ],\n",
       "       [ 0.07030705,  0.11035249],\n",
       "       [ 0.01416349, -0.0843178 ],\n",
       "       [-0.02794418, -0.05259375],\n",
       "       [-0.07005185, -0.03817373],\n",
       "       [-0.05601596,  0.0483464 ],\n",
       "       [ 0.04223527,  0.06276642],\n",
       "       [ 0.22470185,  0.12621452],\n",
       "       [ 0.11241472,  0.05988242],\n",
       "       [ 0.02819938, -0.03384772],\n",
       "       [ 0.05627116,  0.07574444],\n",
       "       [ 0.02819938,  0.02815837],\n",
       "       [ 0.05627116,  0.04257839],\n",
       "       [ 0.08434294,  0.05267241],\n",
       "       [-0.05601596, -0.02807971],\n",
       "       [ 0.01416349, -0.0151017 ],\n",
       "       [ 0.0001276 , -0.02375371],\n",
       "       [-0.04198007, -0.05403575],\n",
       "       [-0.07005185, -0.03240572],\n",
       "       [ 0.04223527,  0.00508633],\n",
       "       [-0.02794418, -0.00789168],\n",
       "       [ 0.0001276 ,  0.01373835],\n",
       "       [-0.05601596, -0.03096372],\n",
       "       [-0.04198007, -0.05403575],\n",
       "       [-0.11215952, -0.04970975],\n",
       "       [ 0.08434294,  0.08007045],\n",
       "       [ 0.02819938,  0.00076033],\n",
       "       [-0.01390829, -0.0151017 ],\n",
       "       [-0.11215952, -0.12901987],\n",
       "       [-0.08408774, -0.11604185],\n",
       "       [-0.09812363, -0.0857598 ],\n",
       "       [-0.14023131, -0.12901987],\n",
       "       [-0.07005185, -0.14199789],\n",
       "       [-0.04198007, -0.02807971],\n",
       "       [-0.02794418, -0.00933369],\n",
       "       [-0.08408774, -0.08143379],\n",
       "       [ 0.02819938, -0.0165437 ],\n",
       "       [ 0.01416349, -0.0857598 ],\n",
       "       [ 0.04223527,  0.02960037],\n",
       "       [-0.01390829,  0.01806435],\n",
       "       [-0.08408774, -0.11171584],\n",
       "       [-0.16830309, -0.05115175],\n",
       "       [-0.01390829,  0.00076033],\n",
       "       [ 0.01416349, -0.0843178 ],\n",
       "       [-0.04198007, -0.0828758 ],\n",
       "       [-0.11215952, -0.11604185],\n",
       "       [-0.05601596, -0.09729582],\n",
       "       [-0.08408774, -0.0843178 ],\n",
       "       [-0.05601596,  0.00364433],\n",
       "       [-0.04198007, -0.03961573],\n",
       "       [ 0.01416349, -0.0194277 ],\n",
       "       [-0.09812363, -0.06268777],\n",
       "       [-0.02794418,  0.00076033],\n",
       "       [ 0.02819938,  0.05988242],\n",
       "       [ 0.0001276 ,  0.07574444],\n",
       "       [-0.01390829,  0.07862845],\n",
       "       [-0.05601596, -0.00212368],\n",
       "       [ 0.01416349,  0.01518035],\n",
       "       [-0.07005185, -0.11315784],\n",
       "       [-0.08408774, -0.03096372],\n",
       "       [-0.11215952, -0.09729582],\n",
       "       [-0.14023131, -0.0151017 ],\n",
       "       [ 0.0001276 , -0.0194277 ],\n",
       "       [-0.01390829, -0.07999179],\n",
       "       [ 0.09837883, -0.02952172],\n",
       "       [-0.05601596, -0.11748385],\n",
       "       [ 0.02819938,  0.0483464 ],\n",
       "       [-0.01390829,  0.07286044],\n",
       "       [ 0.09837883,  0.04402039],\n",
       "       [-0.01390829, -0.00356568],\n",
       "       [ 0.01416349, -0.07999179],\n",
       "       [ 0.01416349,  0.03248438],\n",
       "       [ 0.0001276 , -0.06412977],\n",
       "       [ 0.07030705,  0.1132365 ],\n",
       "       [-0.04198007,  0.12909852],\n",
       "       [ 0.01416349, -0.03240572],\n",
       "       [-0.02794418, -0.0857598 ],\n",
       "       [-0.05601596, -0.05115175],\n",
       "       [-0.07005185, -0.09585382],\n",
       "       [ 0.01416349, -0.04249974],\n",
       "       [ 0.04223527, -0.05403575],\n",
       "       [-0.09812363, -0.14776589],\n",
       "       [-0.11215952,  0.00364433],\n",
       "       [-0.01390829, -0.0208697 ],\n",
       "       [-0.02794418, -0.01221769],\n",
       "       [-0.04198007, -0.05115175],\n",
       "       [ 0.0001276 , -0.0165437 ],\n",
       "       [ 0.01416349, -0.00789168],\n",
       "       [-0.01390829, -0.04538374],\n",
       "       [-0.02794418,  0.01950636],\n",
       "       [ 0.15452239,  0.13054052],\n",
       "       [ 0.08434294,  0.03825238],\n",
       "       [-0.07005185, -0.06124576],\n",
       "       [-0.01390829,  0.02815837],\n",
       "       [ 0.12645061,  0.1161205 ]])"
      ]
     },
     "execution_count": 28,
     "metadata": {},
     "output_type": "execute_result"
    }
   ],
   "source": [
    "# Матрица центрированных признаков - БЕЗ константы!\n",
    "A_st=np.column_stack(( TOEFL_st, CGPA_st,))\n",
    "A_st"
   ]
  },
  {
   "cell_type": "code",
   "execution_count": 29,
   "metadata": {},
   "outputs": [
    {
     "data": {
      "text/plain": [
       "array([[0.19044768],\n",
       "       [0.62001517]])"
      ]
     },
     "execution_count": 29,
     "metadata": {},
     "output_type": "execute_result"
    }
   ],
   "source": [
    "# OLS оценка коэффициентов центрированной регрессии\n",
    "w_hat_st=np.linalg.inv(A_st.T@A_st)@A_st.T@y_st.values\n",
    "w_hat_st"
   ]
  },
  {
   "cell_type": "code",
   "execution_count": null,
   "metadata": {},
   "outputs": [],
   "source": []
  },
  {
   "cell_type": "code",
   "execution_count": null,
   "metadata": {},
   "outputs": [],
   "source": [
    "#Выберите одну главную компоненту для дальнейшего анализа. Вычислите ее значения.\n",
    "\n",
    "#Введите компоненты с округлением до 4 знака после запятой."
   ]
  },
  {
   "cell_type": "code",
   "execution_count": 30,
   "metadata": {},
   "outputs": [
    {
     "data": {
      "text/plain": [
       "(array([1.992, 0.008]),\n",
       " matrix([[ 0.70710678, -0.70710678],\n",
       "         [ 0.70710678,  0.70710678]]))"
      ]
     },
     "execution_count": 30,
     "metadata": {},
     "output_type": "execute_result"
    }
   ],
   "source": [
    "x1 = np.array([1,2,1,1]).T\n",
    "x2 = np.array([70,130,65,60]).T\n",
    "C = np.matrix(\"1, 0.992; 0.992, 1\")\n",
    "B = np.linalg.eig(C) \n",
    "# Нулевая компонента B[0] - вектор собственных чисел, а компонента B[1] - матрица, столбцами которой являются \n",
    "# собственные вектора, соответствующие данному числу.\n",
    "B"
   ]
  },
  {
   "cell_type": "code",
   "execution_count": null,
   "metadata": {},
   "outputs": [],
   "source": [
    "# Нужная айгенпара: 1.992; 0.70710678, 0.70710678 (1.992>0.008)"
   ]
  },
  {
   "cell_type": "code",
   "execution_count": null,
   "metadata": {},
   "outputs": [],
   "source": []
  },
  {
   "cell_type": "code",
   "execution_count": null,
   "metadata": {},
   "outputs": [],
   "source": [
    "#Неправильное решение:\n",
    "\n",
    "#newfactor = B[1][0,0]*x1 + B[1][1,0]*x2\n",
    "#newfactor"
   ]
  },
  {
   "cell_type": "code",
   "execution_count": null,
   "metadata": {},
   "outputs": [],
   "source": [
    "#B[1][:,0]"
   ]
  },
  {
   "cell_type": "code",
   "execution_count": null,
   "metadata": {},
   "outputs": [],
   "source": [
    "# Центрирование\n",
    "#newfactor_c = newfactor - newfactor.mean()\n",
    "#newfactor_c"
   ]
  },
  {
   "cell_type": "code",
   "execution_count": null,
   "metadata": {},
   "outputs": [],
   "source": [
    "# вычисляем длины векторов для нормирования\n",
    "#newfactor_norm = np.linalg.norm(newfactor_c)\n",
    "#newfactor_norm"
   ]
  },
  {
   "cell_type": "code",
   "execution_count": null,
   "metadata": {},
   "outputs": [],
   "source": [
    "# Нормирование: делим каждый центрированный вектор на его длину\n",
    "#newfactor_st = newfactor_c/newfactor_norm\n",
    "#newfactor_st"
   ]
  },
  {
   "cell_type": "code",
   "execution_count": null,
   "metadata": {},
   "outputs": [],
   "source": []
  },
  {
   "cell_type": "markdown",
   "metadata": {},
   "source": [
    "# Правильное решение:"
   ]
  },
  {
   "cell_type": "code",
   "execution_count": 45,
   "metadata": {},
   "outputs": [],
   "source": [
    "#Центрирование и нормирование x1, x2:\n",
    "def var_norm(x):\n",
    "    x_c = x-x.mean()\n",
    "    x_norm = np.linalg.norm(x_c)\n",
    "    return x_c/x_norm\n",
    "\n",
    "x1_st = var_norm(x1)\n",
    "x2_st = var_norm(x2)"
   ]
  },
  {
   "cell_type": "code",
   "execution_count": 46,
   "metadata": {
    "scrolled": true
   },
   "outputs": [
    {
     "data": {
      "text/plain": [
       "array([-0.28867513,  0.8660254 , -0.28867513, -0.28867513])"
      ]
     },
     "execution_count": 46,
     "metadata": {},
     "output_type": "execute_result"
    }
   ],
   "source": [
    "x1_st"
   ]
  },
  {
   "cell_type": "code",
   "execution_count": 47,
   "metadata": {},
   "outputs": [
    {
     "data": {
      "text/plain": [
       "array([-0.19829369,  0.85927267, -0.28642422, -0.37455475])"
      ]
     },
     "execution_count": 47,
     "metadata": {},
     "output_type": "execute_result"
    }
   ],
   "source": [
    "x2_st"
   ]
  },
  {
   "cell_type": "code",
   "execution_count": 48,
   "metadata": {},
   "outputs": [
    {
     "data": {
      "text/plain": [
       "array([-0.34433896,  1.21996996, -0.40665665, -0.46897435])"
      ]
     },
     "execution_count": 48,
     "metadata": {},
     "output_type": "execute_result"
    }
   ],
   "source": [
    "newfactor = B[1][0,0]*x1_st + B[1][1,0]*x2_st\n",
    "newfactor"
   ]
  },
  {
   "cell_type": "code",
   "execution_count": 50,
   "metadata": {},
   "outputs": [
    {
     "data": {
      "text/plain": [
       "array([-0.24396044,  0.86433557, -0.28811186, -0.33226327])"
      ]
     },
     "execution_count": 50,
     "metadata": {},
     "output_type": "execute_result"
    }
   ],
   "source": [
    "newfactor/np.linalg.norm(newfactor)"
   ]
  },
  {
   "cell_type": "code",
   "execution_count": null,
   "metadata": {},
   "outputs": [],
   "source": []
  },
  {
   "cell_type": "code",
   "execution_count": null,
   "metadata": {},
   "outputs": [],
   "source": []
  },
  {
   "cell_type": "code",
   "execution_count": null,
   "metadata": {},
   "outputs": [],
   "source": []
  },
  {
   "cell_type": "code",
   "execution_count": null,
   "metadata": {},
   "outputs": [],
   "source": []
  },
  {
   "cell_type": "code",
   "execution_count": null,
   "metadata": {},
   "outputs": [],
   "source": []
  },
  {
   "cell_type": "code",
   "execution_count": null,
   "metadata": {},
   "outputs": [],
   "source": []
  },
  {
   "cell_type": "code",
   "execution_count": null,
   "metadata": {},
   "outputs": [],
   "source": []
  },
  {
   "cell_type": "code",
   "execution_count": null,
   "metadata": {},
   "outputs": [],
   "source": []
  },
  {
   "cell_type": "code",
   "execution_count": null,
   "metadata": {},
   "outputs": [],
   "source": []
  },
  {
   "cell_type": "code",
   "execution_count": null,
   "metadata": {},
   "outputs": [],
   "source": []
  },
  {
   "cell_type": "code",
   "execution_count": null,
   "metadata": {},
   "outputs": [],
   "source": []
  },
  {
   "cell_type": "code",
   "execution_count": null,
   "metadata": {},
   "outputs": [],
   "source": []
  },
  {
   "cell_type": "code",
   "execution_count": null,
   "metadata": {},
   "outputs": [],
   "source": []
  },
  {
   "cell_type": "code",
   "execution_count": null,
   "metadata": {},
   "outputs": [],
   "source": []
  },
  {
   "cell_type": "code",
   "execution_count": null,
   "metadata": {},
   "outputs": [],
   "source": []
  },
  {
   "cell_type": "code",
   "execution_count": null,
   "metadata": {},
   "outputs": [],
   "source": []
  },
  {
   "cell_type": "code",
   "execution_count": null,
   "metadata": {},
   "outputs": [],
   "source": []
  },
  {
   "cell_type": "code",
   "execution_count": null,
   "metadata": {},
   "outputs": [],
   "source": []
  },
  {
   "cell_type": "code",
   "execution_count": null,
   "metadata": {},
   "outputs": [],
   "source": []
  },
  {
   "cell_type": "code",
   "execution_count": null,
   "metadata": {},
   "outputs": [],
   "source": []
  },
  {
   "cell_type": "code",
   "execution_count": null,
   "metadata": {},
   "outputs": [],
   "source": []
  },
  {
   "cell_type": "code",
   "execution_count": null,
   "metadata": {},
   "outputs": [],
   "source": []
  },
  {
   "cell_type": "code",
   "execution_count": null,
   "metadata": {},
   "outputs": [],
   "source": []
  },
  {
   "cell_type": "code",
   "execution_count": null,
   "metadata": {},
   "outputs": [],
   "source": []
  },
  {
   "cell_type": "code",
   "execution_count": null,
   "metadata": {},
   "outputs": [],
   "source": []
  },
  {
   "cell_type": "code",
   "execution_count": null,
   "metadata": {},
   "outputs": [],
   "source": []
  },
  {
   "cell_type": "code",
   "execution_count": null,
   "metadata": {},
   "outputs": [],
   "source": []
  },
  {
   "cell_type": "code",
   "execution_count": null,
   "metadata": {},
   "outputs": [],
   "source": []
  },
  {
   "cell_type": "code",
   "execution_count": null,
   "metadata": {},
   "outputs": [],
   "source": []
  },
  {
   "cell_type": "code",
   "execution_count": null,
   "metadata": {},
   "outputs": [],
   "source": []
  },
  {
   "cell_type": "code",
   "execution_count": null,
   "metadata": {},
   "outputs": [],
   "source": []
  },
  {
   "cell_type": "code",
   "execution_count": null,
   "metadata": {},
   "outputs": [],
   "source": []
  },
  {
   "cell_type": "code",
   "execution_count": null,
   "metadata": {},
   "outputs": [],
   "source": []
  },
  {
   "cell_type": "code",
   "execution_count": null,
   "metadata": {},
   "outputs": [],
   "source": []
  },
  {
   "cell_type": "code",
   "execution_count": null,
   "metadata": {},
   "outputs": [],
   "source": []
  },
  {
   "cell_type": "code",
   "execution_count": null,
   "metadata": {},
   "outputs": [],
   "source": []
  },
  {
   "cell_type": "code",
   "execution_count": null,
   "metadata": {},
   "outputs": [],
   "source": []
  },
  {
   "cell_type": "code",
   "execution_count": null,
   "metadata": {},
   "outputs": [],
   "source": []
  },
  {
   "cell_type": "code",
   "execution_count": null,
   "metadata": {},
   "outputs": [],
   "source": []
  },
  {
   "cell_type": "code",
   "execution_count": null,
   "metadata": {},
   "outputs": [],
   "source": []
  },
  {
   "cell_type": "code",
   "execution_count": null,
   "metadata": {},
   "outputs": [],
   "source": []
  },
  {
   "cell_type": "code",
   "execution_count": null,
   "metadata": {},
   "outputs": [],
   "source": []
  },
  {
   "cell_type": "code",
   "execution_count": null,
   "metadata": {},
   "outputs": [],
   "source": []
  },
  {
   "cell_type": "code",
   "execution_count": null,
   "metadata": {},
   "outputs": [],
   "source": []
  }
 ],
 "metadata": {
  "kernelspec": {
   "display_name": "Python 3",
   "language": "python",
   "name": "python3"
  },
  "language_info": {
   "codemirror_mode": {
    "name": "ipython",
    "version": 3
   },
   "file_extension": ".py",
   "mimetype": "text/x-python",
   "name": "python",
   "nbconvert_exporter": "python",
   "pygments_lexer": "ipython3",
   "version": "3.7.7"
  }
 },
 "nbformat": 4,
 "nbformat_minor": 2
}
