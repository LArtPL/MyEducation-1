{
 "cells": [
  {
   "cell_type": "code",
   "execution_count": 1,
   "metadata": {},
   "outputs": [],
   "source": [
    "import requests  \n",
    "response = requests.get('https://www.cbr-xml-daily.ru/daily_json.js')  "
   ]
  },
  {
   "cell_type": "code",
   "execution_count": 2,
   "metadata": {},
   "outputs": [
    {
     "name": "stdout",
     "output_type": "stream",
     "text": [
      "<Response [200]>\n"
     ]
    }
   ],
   "source": [
    "print(response)  "
   ]
  },
  {
   "cell_type": "code",
   "execution_count": 3,
   "metadata": {},
   "outputs": [
    {
     "name": "stdout",
     "output_type": "stream",
     "text": [
      "200\n"
     ]
    }
   ],
   "source": [
    "print(response.status_code)  "
   ]
  },
  {
   "cell_type": "code",
   "execution_count": 4,
   "metadata": {},
   "outputs": [
    {
     "name": "stdout",
     "output_type": "stream",
     "text": [
      "{\n",
      "    \"Date\": \"2021-02-13T11:30:00+03:00\",\n",
      "    \"PreviousDate\": \"2021-02-12T11:30:00+03:00\",\n",
      "    \"PreviousURL\": \"\\/\\/www.cbr-xml-daily.ru\\/archive\\/2021\\/02\\/12\\/daily_json.js\",\n",
      "    \"Timestamp\": \"2021-02-13T14:00:00+03:00\",\n",
      "    \"Valute\": {\n",
      "        \"AUD\": {\n",
      "            \"ID\": \"R01010\",\n",
      "            \"NumCode\": \"036\",\n",
      "            \"CharCode\": \"AUD\",\n",
      "            \"Nominal\": 1,\n",
      "            \"Name\": \"Австралийский доллар\",\n",
      "            \"Value\": 57.1983,\n",
      "            \"Previous\": 57.1181\n",
      "        },\n",
      "        \"AZN\": {\n",
      "            \"ID\": \"R01020A\",\n",
      "            \"NumCode\": \"944\",\n",
      "            \"CharCode\": \"AZN\",\n",
      "            \"Nominal\": 1,\n",
      "            \"Name\": \"Азербайджанский манат\",\n",
      "            \"Value\": 43.5184,\n",
      "            \"Previous\": 43.4125\n",
      "        },\n",
      "        \"GBP\": {\n",
      "            \"ID\": \"R01035\",\n",
      "            \"NumCode\": \"826\",\n",
      "            \"CharCode\": \"GBP\",\n",
      "            \"Nominal\": 1,\n",
      "            \"Name\": \"Фунт стерлингов Соединенного королевства\",\n",
      "            \"Value\": 101.9824,\n",
      "            \"Previous\": 101.9482\n",
      "        },\n",
      "        \"AMD\": {\n",
      "            \"ID\": \"R01060\",\n",
      "            \"NumCode\": \"051\",\n",
      "            \"CharCode\": \"AMD\",\n",
      "            \"Nominal\": 100,\n",
      "            \"Name\": \"Армянских драмов\",\n",
      "            \"Value\": 14.1089,\n",
      "            \"Previous\": 14.0746\n",
      "        },\n",
      "        \"BYN\": {\n",
      "            \"ID\": \"R01090B\",\n",
      "            \"NumCode\": \"933\",\n",
      "            \"CharCode\": \"BYN\",\n",
      "            \"Nominal\": 1,\n",
      "            \"Name\": \"Белорусский рубль\",\n",
      "            \"Value\": 28.6281,\n",
      "            \"Previous\": 28.6483\n",
      "        },\n",
      "        \"BGN\": {\n",
      "            \"ID\": \"R01100\",\n",
      "            \"NumCode\": \"975\",\n",
      "            \"CharCode\": \"BGN\",\n",
      "            \"Nominal\": 1,\n",
      "            \"Name\": \"Болгарский лев\",\n",
      "            \"Value\": 45.7734,\n",
      "            \"Previous\": 45.7215\n",
      "        },\n",
      "        \"BRL\": {\n",
      "            \"ID\": \"R01115\",\n",
      "            \"NumCode\": \"986\",\n",
      "            \"CharCode\": \"BRL\",\n",
      "            \"Nominal\": 1,\n",
      "            \"Name\": \"Бразильский реал\",\n",
      "            \"Value\": 13.7769,\n",
      "            \"Previous\": 13.6936\n",
      "        },\n",
      "        \"HUF\": {\n",
      "            \"ID\": \"R01135\",\n",
      "            \"NumCode\": \"348\",\n",
      "            \"CharCode\": \"HUF\",\n",
      "            \"Nominal\": 100,\n",
      "            \"Name\": \"Венгерских форинтов\",\n",
      "            \"Value\": 24.9289,\n",
      "            \"Previous\": 25.08\n",
      "        },\n",
      "        \"HKD\": {\n",
      "            \"ID\": \"R01200\",\n",
      "            \"NumCode\": \"344\",\n",
      "            \"CharCode\": \"HKD\",\n",
      "            \"Nominal\": 10,\n",
      "            \"Name\": \"Гонконгских долларов\",\n",
      "            \"Value\": 95.3655,\n",
      "            \"Previous\": 95.1347\n",
      "        },\n",
      "        \"DKK\": {\n",
      "            \"ID\": \"R01215\",\n",
      "            \"NumCode\": \"208\",\n",
      "            \"CharCode\": \"DKK\",\n",
      "            \"Nominal\": 1,\n",
      "            \"Name\": \"Датская крона\",\n",
      "            \"Value\": 12.0377,\n",
      "            \"Previous\": 12.0231\n",
      "        },\n",
      "        \"USD\": {\n",
      "            \"ID\": \"R01235\",\n",
      "            \"NumCode\": \"840\",\n",
      "            \"CharCode\": \"USD\",\n",
      "            \"Nominal\": 1,\n",
      "            \"Name\": \"Доллар США\",\n",
      "            \"Value\": 73.9378,\n",
      "            \"Previous\": 73.7579\n",
      "        },\n",
      "        \"EUR\": {\n",
      "            \"ID\": \"R01239\",\n",
      "            \"NumCode\": \"978\",\n",
      "            \"CharCode\": \"EUR\",\n",
      "            \"Nominal\": 1,\n",
      "            \"Name\": \"Евро\",\n",
      "            \"Value\": 89.6052,\n",
      "            \"Previous\": 89.4388\n",
      "        },\n",
      "        \"INR\": {\n",
      "            \"ID\": \"R01270\",\n",
      "            \"NumCode\": \"356\",\n",
      "            \"CharCode\": \"INR\",\n",
      "            \"Nominal\": 10,\n",
      "            \"Name\": \"Индийских рупий\",\n",
      "            \"Value\": 10.1565,\n",
      "            \"Previous\": 10.138\n",
      "        },\n",
      "        \"KZT\": {\n",
      "            \"ID\": \"R01335\",\n",
      "            \"NumCode\": \"398\",\n",
      "            \"CharCode\": \"KZT\",\n",
      "            \"Nominal\": 100,\n",
      "            \"Name\": \"Казахстанских тенге\",\n",
      "            \"Value\": 17.6362,\n",
      "            \"Previous\": 17.6564\n",
      "        },\n",
      "        \"CAD\": {\n",
      "            \"ID\": \"R01350\",\n",
      "            \"NumCode\": \"124\",\n",
      "            \"CharCode\": \"CAD\",\n",
      "            \"Nominal\": 1,\n",
      "            \"Name\": \"Канадский доллар\",\n",
      "            \"Value\": 58.0405,\n",
      "            \"Previous\": 58.1412\n",
      "        },\n",
      "        \"KGS\": {\n",
      "            \"ID\": \"R01370\",\n",
      "            \"NumCode\": \"417\",\n",
      "            \"CharCode\": \"KGS\",\n",
      "            \"Nominal\": 100,\n",
      "            \"Name\": \"Киргизских сомов\",\n",
      "            \"Value\": 87.7942,\n",
      "            \"Previous\": 87.5702\n",
      "        },\n",
      "        \"CNY\": {\n",
      "            \"ID\": \"R01375\",\n",
      "            \"NumCode\": \"156\",\n",
      "            \"CharCode\": \"CNY\",\n",
      "            \"Nominal\": 1,\n",
      "            \"Name\": \"Китайский юань\",\n",
      "            \"Value\": 11.4487,\n",
      "            \"Previous\": 11.4208\n",
      "        },\n",
      "        \"MDL\": {\n",
      "            \"ID\": \"R01500\",\n",
      "            \"NumCode\": \"498\",\n",
      "            \"CharCode\": \"MDL\",\n",
      "            \"Nominal\": 10,\n",
      "            \"Name\": \"Молдавских леев\",\n",
      "            \"Value\": 42.443,\n",
      "            \"Previous\": 42.2681\n",
      "        },\n",
      "        \"NOK\": {\n",
      "            \"ID\": \"R01535\",\n",
      "            \"NumCode\": \"578\",\n",
      "            \"CharCode\": \"NOK\",\n",
      "            \"Nominal\": 10,\n",
      "            \"Name\": \"Норвежских крон\",\n",
      "            \"Value\": 86.9703,\n",
      "            \"Previous\": 87.1523\n",
      "        },\n",
      "        \"PLN\": {\n",
      "            \"ID\": \"R01565\",\n",
      "            \"NumCode\": \"985\",\n",
      "            \"CharCode\": \"PLN\",\n",
      "            \"Nominal\": 1,\n",
      "            \"Name\": \"Польский злотый\",\n",
      "            \"Value\": 19.8784,\n",
      "            \"Previous\": 19.8733\n",
      "        },\n",
      "        \"RON\": {\n",
      "            \"ID\": \"R01585F\",\n",
      "            \"NumCode\": \"946\",\n",
      "            \"CharCode\": \"RON\",\n",
      "            \"Nominal\": 1,\n",
      "            \"Name\": \"Румынский лей\",\n",
      "            \"Value\": 18.3623,\n",
      "            \"Previous\": 18.3409\n",
      "        },\n",
      "        \"XDR\": {\n",
      "            \"ID\": \"R01589\",\n",
      "            \"NumCode\": \"960\",\n",
      "            \"CharCode\": \"XDR\",\n",
      "            \"Nominal\": 1,\n",
      "            \"Name\": \"СДР (специальные права заимствования)\",\n",
      "            \"Value\": 106.6479,\n",
      "            \"Previous\": 106.3714\n",
      "        },\n",
      "        \"SGD\": {\n",
      "            \"ID\": \"R01625\",\n",
      "            \"NumCode\": \"702\",\n",
      "            \"CharCode\": \"SGD\",\n",
      "            \"Nominal\": 1,\n",
      "            \"Name\": \"Сингапурский доллар\",\n",
      "            \"Value\": 55.7012,\n",
      "            \"Previous\": 55.6789\n",
      "        },\n",
      "        \"TJS\": {\n",
      "            \"ID\": \"R01670\",\n",
      "            \"NumCode\": \"972\",\n",
      "            \"CharCode\": \"TJS\",\n",
      "            \"Nominal\": 10,\n",
      "            \"Name\": \"Таджикских сомони\",\n",
      "            \"Value\": 64.8862,\n",
      "            \"Previous\": 64.7283\n",
      "        },\n",
      "        \"TRY\": {\n",
      "            \"ID\": \"R01700J\",\n",
      "            \"NumCode\": \"949\",\n",
      "            \"CharCode\": \"TRY\",\n",
      "            \"Nominal\": 1,\n",
      "            \"Name\": \"Турецкая лира\",\n",
      "            \"Value\": 10.5161,\n",
      "            \"Previous\": 10.4721\n",
      "        },\n",
      "        \"TMT\": {\n",
      "            \"ID\": \"R01710A\",\n",
      "            \"NumCode\": \"934\",\n",
      "            \"CharCode\": \"TMT\",\n",
      "            \"Nominal\": 1,\n",
      "            \"Name\": \"Новый туркменский манат\",\n",
      "            \"Value\": 21.1553,\n",
      "            \"Previous\": 21.1038\n",
      "        },\n",
      "        \"UZS\": {\n",
      "            \"ID\": \"R01717\",\n",
      "            \"NumCode\": \"860\",\n",
      "            \"CharCode\": \"UZS\",\n",
      "            \"Nominal\": 10000,\n",
      "            \"Name\": \"Узбекских сумов\",\n",
      "            \"Value\": 70.211,\n",
      "            \"Previous\": 70.04\n",
      "        },\n",
      "        \"UAH\": {\n",
      "            \"ID\": \"R01720\",\n",
      "            \"NumCode\": \"980\",\n",
      "            \"CharCode\": \"UAH\",\n",
      "            \"Nominal\": 10,\n",
      "            \"Name\": \"Украинских гривен\",\n",
      "            \"Value\": 26.5653,\n",
      "            \"Previous\": 26.4661\n",
      "        },\n",
      "        \"CZK\": {\n",
      "            \"ID\": \"R01760\",\n",
      "            \"NumCode\": \"203\",\n",
      "            \"CharCode\": \"CZK\",\n",
      "            \"Nominal\": 10,\n",
      "            \"Name\": \"Чешских крон\",\n",
      "            \"Value\": 34.7967,\n",
      "            \"Previous\": 34.6615\n",
      "        },\n",
      "        \"SEK\": {\n",
      "            \"ID\": \"R01770\",\n",
      "            \"NumCode\": \"752\",\n",
      "            \"CharCode\": \"SEK\",\n",
      "            \"Nominal\": 10,\n",
      "            \"Name\": \"Шведских крон\",\n",
      "            \"Value\": 88.6874,\n",
      "            \"Previous\": 88.6737\n",
      "        },\n",
      "        \"CHF\": {\n",
      "            \"ID\": \"R01775\",\n",
      "            \"NumCode\": \"756\",\n",
      "            \"CharCode\": \"CHF\",\n",
      "            \"Nominal\": 1,\n",
      "            \"Name\": \"Швейцарский франк\",\n",
      "            \"Value\": 82.955,\n",
      "            \"Previous\": 82.8368\n",
      "        },\n",
      "        \"ZAR\": {\n",
      "            \"ID\": \"R01810\",\n",
      "            \"NumCode\": \"710\",\n",
      "            \"CharCode\": \"ZAR\",\n",
      "            \"Nominal\": 10,\n",
      "            \"Name\": \"Южноафриканских рэндов\",\n",
      "            \"Value\": 50.367,\n",
      "            \"Previous\": 50.2349\n",
      "        },\n",
      "        \"KRW\": {\n",
      "            \"ID\": \"R01815\",\n",
      "            \"NumCode\": \"410\",\n",
      "            \"CharCode\": \"KRW\",\n",
      "            \"Nominal\": 1000,\n",
      "            \"Name\": \"Вон Республики Корея\",\n",
      "            \"Value\": 66.9051,\n",
      "            \"Previous\": 66.7743\n",
      "        },\n",
      "        \"JPY\": {\n",
      "            \"ID\": \"R01820\",\n",
      "            \"NumCode\": \"392\",\n",
      "            \"CharCode\": \"JPY\",\n",
      "            \"Nominal\": 100,\n",
      "            \"Name\": \"Японских иен\",\n",
      "            \"Value\": 70.4337,\n",
      "            \"Previous\": 70.4772\n",
      "        }\n",
      "    }\n",
      "}\n"
     ]
    }
   ],
   "source": [
    "print(response.text)  "
   ]
  },
  {
   "cell_type": "code",
   "execution_count": 5,
   "metadata": {},
   "outputs": [
    {
     "name": "stdout",
     "output_type": "stream",
     "text": [
      "{'Date': '2021-02-13T11:30:00+03:00', 'PreviousDate': '2021-02-12T11:30:00+03:00', 'PreviousURL': '//www.cbr-xml-daily.ru/archive/2021/02/12/daily_json.js', 'Timestamp': '2021-02-13T14:00:00+03:00', 'Valute': {'AUD': {'ID': 'R01010', 'NumCode': '036', 'CharCode': 'AUD', 'Nominal': 1, 'Name': 'Австралийский доллар', 'Value': 57.1983, 'Previous': 57.1181}, 'AZN': {'ID': 'R01020A', 'NumCode': '944', 'CharCode': 'AZN', 'Nominal': 1, 'Name': 'Азербайджанский манат', 'Value': 43.5184, 'Previous': 43.4125}, 'GBP': {'ID': 'R01035', 'NumCode': '826', 'CharCode': 'GBP', 'Nominal': 1, 'Name': 'Фунт стерлингов Соединенного королевства', 'Value': 101.9824, 'Previous': 101.9482}, 'AMD': {'ID': 'R01060', 'NumCode': '051', 'CharCode': 'AMD', 'Nominal': 100, 'Name': 'Армянских драмов', 'Value': 14.1089, 'Previous': 14.0746}, 'BYN': {'ID': 'R01090B', 'NumCode': '933', 'CharCode': 'BYN', 'Nominal': 1, 'Name': 'Белорусский рубль', 'Value': 28.6281, 'Previous': 28.6483}, 'BGN': {'ID': 'R01100', 'NumCode': '975', 'CharCode': 'BGN', 'Nominal': 1, 'Name': 'Болгарский лев', 'Value': 45.7734, 'Previous': 45.7215}, 'BRL': {'ID': 'R01115', 'NumCode': '986', 'CharCode': 'BRL', 'Nominal': 1, 'Name': 'Бразильский реал', 'Value': 13.7769, 'Previous': 13.6936}, 'HUF': {'ID': 'R01135', 'NumCode': '348', 'CharCode': 'HUF', 'Nominal': 100, 'Name': 'Венгерских форинтов', 'Value': 24.9289, 'Previous': 25.08}, 'HKD': {'ID': 'R01200', 'NumCode': '344', 'CharCode': 'HKD', 'Nominal': 10, 'Name': 'Гонконгских долларов', 'Value': 95.3655, 'Previous': 95.1347}, 'DKK': {'ID': 'R01215', 'NumCode': '208', 'CharCode': 'DKK', 'Nominal': 1, 'Name': 'Датская крона', 'Value': 12.0377, 'Previous': 12.0231}, 'USD': {'ID': 'R01235', 'NumCode': '840', 'CharCode': 'USD', 'Nominal': 1, 'Name': 'Доллар США', 'Value': 73.9378, 'Previous': 73.7579}, 'EUR': {'ID': 'R01239', 'NumCode': '978', 'CharCode': 'EUR', 'Nominal': 1, 'Name': 'Евро', 'Value': 89.6052, 'Previous': 89.4388}, 'INR': {'ID': 'R01270', 'NumCode': '356', 'CharCode': 'INR', 'Nominal': 10, 'Name': 'Индийских рупий', 'Value': 10.1565, 'Previous': 10.138}, 'KZT': {'ID': 'R01335', 'NumCode': '398', 'CharCode': 'KZT', 'Nominal': 100, 'Name': 'Казахстанских тенге', 'Value': 17.6362, 'Previous': 17.6564}, 'CAD': {'ID': 'R01350', 'NumCode': '124', 'CharCode': 'CAD', 'Nominal': 1, 'Name': 'Канадский доллар', 'Value': 58.0405, 'Previous': 58.1412}, 'KGS': {'ID': 'R01370', 'NumCode': '417', 'CharCode': 'KGS', 'Nominal': 100, 'Name': 'Киргизских сомов', 'Value': 87.7942, 'Previous': 87.5702}, 'CNY': {'ID': 'R01375', 'NumCode': '156', 'CharCode': 'CNY', 'Nominal': 1, 'Name': 'Китайский юань', 'Value': 11.4487, 'Previous': 11.4208}, 'MDL': {'ID': 'R01500', 'NumCode': '498', 'CharCode': 'MDL', 'Nominal': 10, 'Name': 'Молдавских леев', 'Value': 42.443, 'Previous': 42.2681}, 'NOK': {'ID': 'R01535', 'NumCode': '578', 'CharCode': 'NOK', 'Nominal': 10, 'Name': 'Норвежских крон', 'Value': 86.9703, 'Previous': 87.1523}, 'PLN': {'ID': 'R01565', 'NumCode': '985', 'CharCode': 'PLN', 'Nominal': 1, 'Name': 'Польский злотый', 'Value': 19.8784, 'Previous': 19.8733}, 'RON': {'ID': 'R01585F', 'NumCode': '946', 'CharCode': 'RON', 'Nominal': 1, 'Name': 'Румынский лей', 'Value': 18.3623, 'Previous': 18.3409}, 'XDR': {'ID': 'R01589', 'NumCode': '960', 'CharCode': 'XDR', 'Nominal': 1, 'Name': 'СДР (специальные права заимствования)', 'Value': 106.6479, 'Previous': 106.3714}, 'SGD': {'ID': 'R01625', 'NumCode': '702', 'CharCode': 'SGD', 'Nominal': 1, 'Name': 'Сингапурский доллар', 'Value': 55.7012, 'Previous': 55.6789}, 'TJS': {'ID': 'R01670', 'NumCode': '972', 'CharCode': 'TJS', 'Nominal': 10, 'Name': 'Таджикских сомони', 'Value': 64.8862, 'Previous': 64.7283}, 'TRY': {'ID': 'R01700J', 'NumCode': '949', 'CharCode': 'TRY', 'Nominal': 1, 'Name': 'Турецкая лира', 'Value': 10.5161, 'Previous': 10.4721}, 'TMT': {'ID': 'R01710A', 'NumCode': '934', 'CharCode': 'TMT', 'Nominal': 1, 'Name': 'Новый туркменский манат', 'Value': 21.1553, 'Previous': 21.1038}, 'UZS': {'ID': 'R01717', 'NumCode': '860', 'CharCode': 'UZS', 'Nominal': 10000, 'Name': 'Узбекских сумов', 'Value': 70.211, 'Previous': 70.04}, 'UAH': {'ID': 'R01720', 'NumCode': '980', 'CharCode': 'UAH', 'Nominal': 10, 'Name': 'Украинских гривен', 'Value': 26.5653, 'Previous': 26.4661}, 'CZK': {'ID': 'R01760', 'NumCode': '203', 'CharCode': 'CZK', 'Nominal': 10, 'Name': 'Чешских крон', 'Value': 34.7967, 'Previous': 34.6615}, 'SEK': {'ID': 'R01770', 'NumCode': '752', 'CharCode': 'SEK', 'Nominal': 10, 'Name': 'Шведских крон', 'Value': 88.6874, 'Previous': 88.6737}, 'CHF': {'ID': 'R01775', 'NumCode': '756', 'CharCode': 'CHF', 'Nominal': 1, 'Name': 'Швейцарский франк', 'Value': 82.955, 'Previous': 82.8368}, 'ZAR': {'ID': 'R01810', 'NumCode': '710', 'CharCode': 'ZAR', 'Nominal': 10, 'Name': 'Южноафриканских рэндов', 'Value': 50.367, 'Previous': 50.2349}, 'KRW': {'ID': 'R01815', 'NumCode': '410', 'CharCode': 'KRW', 'Nominal': 1000, 'Name': 'Вон Республики Корея', 'Value': 66.9051, 'Previous': 66.7743}, 'JPY': {'ID': 'R01820', 'NumCode': '392', 'CharCode': 'JPY', 'Nominal': 100, 'Name': 'Японских иен', 'Value': 70.4337, 'Previous': 70.4772}}}\n"
     ]
    }
   ],
   "source": [
    "currencies = response.json()  \n",
    "print(currencies)  "
   ]
  },
  {
   "cell_type": "code",
   "execution_count": 6,
   "metadata": {},
   "outputs": [
    {
     "data": {
      "text/plain": [
       "{'ID': 'R01720',\n",
       " 'NumCode': '980',\n",
       " 'CharCode': 'UAH',\n",
       " 'Nominal': 10,\n",
       " 'Name': 'Украинских гривен',\n",
       " 'Value': 26.5653,\n",
       " 'Previous': 26.4661}"
      ]
     },
     "execution_count": 6,
     "metadata": {},
     "output_type": "execute_result"
    }
   ],
   "source": [
    "currencies['Valute']['UAH']  "
   ]
  },
  {
   "cell_type": "code",
   "execution_count": 8,
   "metadata": {},
   "outputs": [
    {
     "name": "stdout",
     "output_type": "stream",
     "text": [
      "Чешских крон\n"
     ]
    }
   ],
   "source": [
    "print(currencies['Valute']['CZK']['Name'])"
   ]
  },
  {
   "cell_type": "code",
   "execution_count": null,
   "metadata": {},
   "outputs": [],
   "source": []
  },
  {
   "cell_type": "code",
   "execution_count": 9,
   "metadata": {},
   "outputs": [],
   "source": [
    "def exchange_rates(currency, format='full'):    \n",
    "    url = 'https://www.cbr-xml-daily.ru/daily_json.js'  \n",
    "    response = requests.get(url).json()['Valute']    \n",
    "    data = response[currency]     \n",
    "    if format == 'full':    \n",
    "        return data      \n",
    "    elif format == 'value':    \n",
    "        return data['Value'] "
   ]
  },
  {
   "cell_type": "code",
   "execution_count": 12,
   "metadata": {},
   "outputs": [
    {
     "data": {
      "text/plain": [
       "{'ID': 'R01235',\n",
       " 'NumCode': '840',\n",
       " 'CharCode': 'USD',\n",
       " 'Nominal': 1,\n",
       " 'Name': 'Доллар США',\n",
       " 'Value': 73.9378,\n",
       " 'Previous': 73.7579}"
      ]
     },
     "execution_count": 12,
     "metadata": {},
     "output_type": "execute_result"
    }
   ],
   "source": [
    "exchange_rates(\"USD\")"
   ]
  },
  {
   "cell_type": "code",
   "execution_count": 13,
   "metadata": {},
   "outputs": [],
   "source": [
    "url = 'https://www.cbr-xml-daily.ru/daily_json.js'  \n",
    "response = requests.get(url).json()['Valute']    "
   ]
  },
  {
   "cell_type": "code",
   "execution_count": 23,
   "metadata": {},
   "outputs": [
    {
     "name": "stdout",
     "output_type": "stream",
     "text": [
      "R01010\n",
      "R01020A\n",
      "R01035\n",
      "R01060\n",
      "R01090B\n",
      "R01100\n",
      "R01115\n",
      "R01135\n",
      "R01200\n",
      "R01215\n",
      "R01235\n",
      "R01239\n",
      "R01270\n",
      "R01335\n",
      "R01350\n",
      "R01370\n",
      "R01375\n",
      "R01500\n",
      "R01535\n",
      "R01565\n",
      "R01585F\n",
      "R01589\n",
      "R01625\n",
      "R01670\n",
      "R01700J\n",
      "R01710A\n",
      "R01717\n",
      "R01720\n",
      "R01760\n",
      "R01770\n",
      "R01775\n",
      "R01810\n",
      "R01815\n",
      "R01820\n"
     ]
    }
   ],
   "source": [
    "for i in response:\n",
    "    print(response[i]['ID'])"
   ]
  },
  {
   "cell_type": "markdown",
   "metadata": {},
   "source": [
    "Напишите функцию currency_name, которая по ID валюты возвращает ее название на русском языке."
   ]
  },
  {
   "cell_type": "code",
   "execution_count": 36,
   "metadata": {},
   "outputs": [],
   "source": [
    "def currency_name(idv): #id valute, тк id - зарезервировано python, ID - зарезервировано базой\n",
    "    url = 'https://www.cbr-xml-daily.ru/daily_json.js'  \n",
    "    response = requests.get(url).json()['Valute'] \n",
    "    for i in response:\n",
    "        if response[i]['ID'] == idv:\n",
    "            return response[i]['Name']"
   ]
  },
  {
   "cell_type": "code",
   "execution_count": 37,
   "metadata": {},
   "outputs": [
    {
     "data": {
      "text/plain": [
       "'Украинских гривен'"
      ]
     },
     "execution_count": 37,
     "metadata": {},
     "output_type": "execute_result"
    }
   ],
   "source": [
    "currency_name('R01720')"
   ]
  },
  {
   "cell_type": "code",
   "execution_count": null,
   "metadata": {},
   "outputs": [],
   "source": []
  },
  {
   "cell_type": "code",
   "execution_count": null,
   "metadata": {},
   "outputs": [],
   "source": []
  },
  {
   "cell_type": "code",
   "execution_count": null,
   "metadata": {},
   "outputs": [],
   "source": []
  },
  {
   "cell_type": "code",
   "execution_count": null,
   "metadata": {},
   "outputs": [],
   "source": []
  },
  {
   "cell_type": "code",
   "execution_count": null,
   "metadata": {},
   "outputs": [],
   "source": []
  },
  {
   "cell_type": "code",
   "execution_count": null,
   "metadata": {},
   "outputs": [],
   "source": []
  },
  {
   "cell_type": "code",
   "execution_count": null,
   "metadata": {},
   "outputs": [],
   "source": []
  },
  {
   "cell_type": "code",
   "execution_count": null,
   "metadata": {},
   "outputs": [],
   "source": []
  },
  {
   "cell_type": "code",
   "execution_count": null,
   "metadata": {},
   "outputs": [],
   "source": []
  },
  {
   "cell_type": "code",
   "execution_count": null,
   "metadata": {},
   "outputs": [],
   "source": []
  },
  {
   "cell_type": "code",
   "execution_count": null,
   "metadata": {},
   "outputs": [],
   "source": []
  },
  {
   "cell_type": "code",
   "execution_count": null,
   "metadata": {},
   "outputs": [],
   "source": []
  },
  {
   "cell_type": "code",
   "execution_count": null,
   "metadata": {},
   "outputs": [],
   "source": []
  },
  {
   "cell_type": "code",
   "execution_count": null,
   "metadata": {},
   "outputs": [],
   "source": []
  },
  {
   "cell_type": "code",
   "execution_count": null,
   "metadata": {},
   "outputs": [],
   "source": []
  },
  {
   "cell_type": "code",
   "execution_count": null,
   "metadata": {},
   "outputs": [],
   "source": []
  }
 ],
 "metadata": {
  "kernelspec": {
   "display_name": "Python 3",
   "language": "python",
   "name": "python3"
  },
  "language_info": {
   "codemirror_mode": {
    "name": "ipython",
    "version": 3
   },
   "file_extension": ".py",
   "mimetype": "text/x-python",
   "name": "python",
   "nbconvert_exporter": "python",
   "pygments_lexer": "ipython3",
   "version": "3.7.7"
  }
 },
 "nbformat": 4,
 "nbformat_minor": 4
}
