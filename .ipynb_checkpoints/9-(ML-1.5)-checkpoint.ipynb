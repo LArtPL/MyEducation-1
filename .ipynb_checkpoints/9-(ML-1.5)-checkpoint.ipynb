{
 "cells": [
  {
   "cell_type": "code",
   "execution_count": 1,
   "metadata": {},
   "outputs": [],
   "source": [
    "from sklearn.linear_model import LinearRegression\n",
    "from sklearn.datasets import load_diabetes\n",
    "import numpy as np\n",
    "import pickle\n",
    "\n",
    "X, y = load_diabetes(return_X_y=True)\n",
    "X = X[:, 0].reshape(-1, 1) # Берём только один признак\n",
    "regressor = LinearRegression()\n",
    "regressor.fit(X,y)\n",
    "\n",
    "with open('diabets_Lregression.pkl', 'wb') as output:\n",
    "    pickle.dump(regressor, output) #Сохраняем\n",
    "\n",
    "with open('diabets_Lregression.pkl', 'rb') as pkl_file:\n",
    "    regressor_from_file = pickle.load(pkl_file) #Загружаем"
   ]
  },
  {
   "cell_type": "code",
   "execution_count": 9,
   "metadata": {},
   "outputs": [
    {
     "name": "stdout",
     "output_type": "stream",
     "text": [
      " * Serving Flask app \"__main__\" (lazy loading)\n",
      " * Environment: production\n",
      "   WARNING: This is a development server. Do not use it in a production deployment.\n",
      "   Use a production WSGI server instead.\n",
      " * Debug mode: off\n"
     ]
    },
    {
     "name": "stderr",
     "output_type": "stream",
     "text": [
      " * Running on http://localhost:5000/ (Press CTRL+C to quit)\n",
      "127.0.0.1 - - [23/May/2021 14:24:33] \"\u001b[37mGET /predict?value=1 HTTP/1.1\u001b[0m\" 200 -\n",
      "127.0.0.1 - - [23/May/2021 14:24:36] \"\u001b[37mGET /predict?value=1 HTTP/1.1\u001b[0m\" 200 -\n",
      "127.0.0.1 - - [23/May/2021 14:24:40] \"\u001b[37mGET /predict?value=0 HTTP/1.1\u001b[0m\" 200 -\n",
      "127.0.0.1 - - [23/May/2021 14:24:45] \"\u001b[37mGET /predict?value=0 HTTP/1.1\u001b[0m\" 200 -\n",
      "127.0.0.1 - - [23/May/2021 14:24:49] \"\u001b[37mGET /predict?value=0.5 HTTP/1.1\u001b[0m\" 200 -\n"
     ]
    }
   ],
   "source": [
    "from flask import Flask, request\n",
    "app = Flask(__name__)\n",
    "\n",
    "def model_predict(value):\n",
    "         return regressor_from_file.predict(value)\n",
    "\n",
    "@app.route('/predict')\n",
    "def hello_func():\n",
    "    value = request.args.get('value')\n",
    "    value_to_predict = np.array([float(value)]).reshape(-1, 1)\n",
    "    prediction = model_predict(value_to_predict)\n",
    "    return f'the result is {prediction}!'\n",
    "\n",
    "if __name__ == '__main__':\n",
    "    app.run('localhost', 5000)"
   ]
  },
  {
   "cell_type": "code",
   "execution_count": null,
   "metadata": {},
   "outputs": [],
   "source": []
  },
  {
   "cell_type": "code",
   "execution_count": null,
   "metadata": {},
   "outputs": [],
   "source": []
  },
  {
   "cell_type": "code",
   "execution_count": null,
   "metadata": {},
   "outputs": [],
   "source": []
  },
  {
   "cell_type": "code",
   "execution_count": null,
   "metadata": {},
   "outputs": [],
   "source": []
  }
 ],
 "metadata": {
  "kernelspec": {
   "display_name": "Python 3",
   "language": "python",
   "name": "python3"
  },
  "language_info": {
   "codemirror_mode": {
    "name": "ipython",
    "version": 3
   },
   "file_extension": ".py",
   "mimetype": "text/x-python",
   "name": "python",
   "nbconvert_exporter": "python",
   "pygments_lexer": "ipython3",
   "version": "3.7.7"
  }
 },
 "nbformat": 4,
 "nbformat_minor": 4
}
