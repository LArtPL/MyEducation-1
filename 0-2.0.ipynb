{
 "cells": [
  {
   "cell_type": "code",
   "execution_count": 1,
   "metadata": {},
   "outputs": [],
   "source": [
    "my_list = list()"
   ]
  },
  {
   "cell_type": "code",
   "execution_count": 2,
   "metadata": {},
   "outputs": [
    {
     "data": {
      "text/plain": [
       "list"
      ]
     },
     "execution_count": 2,
     "metadata": {},
     "output_type": "execute_result"
    }
   ],
   "source": [
    "type(my_list)"
   ]
  },
  {
   "cell_type": "code",
   "execution_count": 3,
   "metadata": {},
   "outputs": [],
   "source": [
    "my_list = []"
   ]
  },
  {
   "cell_type": "code",
   "execution_count": 5,
   "metadata": {},
   "outputs": [
    {
     "data": {
      "text/plain": [
       "list"
      ]
     },
     "execution_count": 5,
     "metadata": {},
     "output_type": "execute_result"
    }
   ],
   "source": [
    "type(my_list)"
   ]
  },
  {
   "cell_type": "code",
   "execution_count": 6,
   "metadata": {},
   "outputs": [],
   "source": [
    "animals = 'кошка,собака,хомяк,морская свинка,попугай,лошадь'"
   ]
  },
  {
   "cell_type": "code",
   "execution_count": 7,
   "metadata": {},
   "outputs": [
    {
     "data": {
      "text/plain": [
       "'кошка,собака,хомяк,морская свинка,попугай,лошадь'"
      ]
     },
     "execution_count": 7,
     "metadata": {},
     "output_type": "execute_result"
    }
   ],
   "source": [
    "animals"
   ]
  },
  {
   "cell_type": "code",
   "execution_count": 8,
   "metadata": {},
   "outputs": [],
   "source": [
    "animals = 'кошка,собака,хомяк,морская свинка,попугай,лошадь'.split(',')"
   ]
  },
  {
   "cell_type": "code",
   "execution_count": 9,
   "metadata": {},
   "outputs": [
    {
     "data": {
      "text/plain": [
       "['кошка', 'собака', 'хомяк', 'морская свинка', 'попугай', 'лошадь']"
      ]
     },
     "execution_count": 9,
     "metadata": {},
     "output_type": "execute_result"
    }
   ],
   "source": [
    "animals"
   ]
  },
  {
   "cell_type": "code",
   "execution_count": 10,
   "metadata": {},
   "outputs": [
    {
     "name": "stdout",
     "output_type": "stream",
     "text": [
      "лошадь\n",
      "попугай\n",
      "кошка\n"
     ]
    }
   ],
   "source": [
    "animals = ['кошка', 'собака', 'хомяк', 'морская свинка', 'попугай', 'лошадь']\n",
    "print(animals[-1])\n",
    "print(animals[-2])\n",
    "print(animals[-6])"
   ]
  },
  {
   "cell_type": "code",
   "execution_count": 11,
   "metadata": {},
   "outputs": [],
   "source": [
    "OurBestStudents = ['Александр', 'Константин', 'Мария', 'Диана', 'Алексей', \n",
    "                   'Максим', 'Светлана', 'Арина', 'Серафим', 'Doomer', \n",
    "                   'Павел', 'Виктория', 'Елена', 'Галина', 'Вячеслав']"
   ]
  },
  {
   "cell_type": "code",
   "execution_count": 12,
   "metadata": {},
   "outputs": [
    {
     "data": {
      "text/plain": [
       "15"
      ]
     },
     "execution_count": 12,
     "metadata": {},
     "output_type": "execute_result"
    }
   ],
   "source": [
    "len(OurBestStudents )"
   ]
  },
  {
   "cell_type": "code",
   "execution_count": 1,
   "metadata": {},
   "outputs": [],
   "source": [
    "colors = ['красный', 'оранжевый', 'жёлтый', \n",
    "          'зелёный', 'голубой', 'синий', 'фиолетовый']"
   ]
  },
  {
   "cell_type": "code",
   "execution_count": 2,
   "metadata": {},
   "outputs": [
    {
     "data": {
      "text/plain": [
       "['голубой', 'синий', 'фиолетовый']"
      ]
     },
     "execution_count": 2,
     "metadata": {},
     "output_type": "execute_result"
    }
   ],
   "source": [
    "colors[-3:]"
   ]
  },
  {
   "cell_type": "code",
   "execution_count": 3,
   "metadata": {},
   "outputs": [
    {
     "data": {
      "text/plain": [
       "['красный', 'оранжевый', 'жёлтый']"
      ]
     },
     "execution_count": 3,
     "metadata": {},
     "output_type": "execute_result"
    }
   ],
   "source": [
    "colors[:3]"
   ]
  },
  {
   "cell_type": "code",
   "execution_count": 4,
   "metadata": {},
   "outputs": [],
   "source": [
    "body = ['голова', 'руки', 'ноги', 'глаза', 'уши', 'рот', 'нос', 'туловище']"
   ]
  },
  {
   "cell_type": "code",
   "execution_count": 8,
   "metadata": {},
   "outputs": [
    {
     "data": {
      "text/plain": [
       "['голова', 'руки', 'ноги', 'глаза', 'уши', 'рот', 'нос', 'туловище']"
      ]
     },
     "execution_count": 8,
     "metadata": {},
     "output_type": "execute_result"
    }
   ],
   "source": [
    "body[:]"
   ]
  },
  {
   "cell_type": "code",
   "execution_count": 11,
   "metadata": {},
   "outputs": [
    {
     "data": {
      "text/plain": [
       "['руки', 'ноги']"
      ]
     },
     "execution_count": 11,
     "metadata": {},
     "output_type": "execute_result"
    }
   ],
   "source": [
    "body[-7:-5]"
   ]
  },
  {
   "cell_type": "code",
   "execution_count": 13,
   "metadata": {},
   "outputs": [],
   "source": [
    "rabbits = ['Пушок', 'Дружок', 'Мурзик', 'Барсик', 'Эдуард', \n",
    "           'Ушастик', 'Роджер', 'Трус']"
   ]
  },
  {
   "cell_type": "code",
   "execution_count": 14,
   "metadata": {},
   "outputs": [
    {
     "data": {
      "text/plain": [
       "['Пушок', 'Мурзик', 'Эдуард', 'Роджер']"
      ]
     },
     "execution_count": 14,
     "metadata": {},
     "output_type": "execute_result"
    }
   ],
   "source": [
    "rabbits[0:7:2]"
   ]
  },
  {
   "cell_type": "code",
   "execution_count": 15,
   "metadata": {},
   "outputs": [
    {
     "data": {
      "text/plain": [
       "['Пушок', 'Мурзик', 'Эдуард', 'Роджер']"
      ]
     },
     "execution_count": 15,
     "metadata": {},
     "output_type": "execute_result"
    }
   ],
   "source": [
    "rabbits[:7:2]"
   ]
  },
  {
   "cell_type": "code",
   "execution_count": 16,
   "metadata": {},
   "outputs": [
    {
     "data": {
      "text/plain": [
       "['Пушок', 'Мурзик', 'Эдуард', 'Роджер']"
      ]
     },
     "execution_count": 16,
     "metadata": {},
     "output_type": "execute_result"
    }
   ],
   "source": [
    "rabbits[0::2]"
   ]
  },
  {
   "cell_type": "code",
   "execution_count": 17,
   "metadata": {},
   "outputs": [
    {
     "data": {
      "text/plain": [
       "['Пушок', 'Мурзик', 'Эдуард', 'Роджер']"
      ]
     },
     "execution_count": 17,
     "metadata": {},
     "output_type": "execute_result"
    }
   ],
   "source": [
    "rabbits[::2]"
   ]
  },
  {
   "cell_type": "code",
   "execution_count": 18,
   "metadata": {},
   "outputs": [
    {
     "data": {
      "text/plain": [
       "['Трус', 'Ушастик', 'Барсик', 'Дружок']"
      ]
     },
     "execution_count": 18,
     "metadata": {},
     "output_type": "execute_result"
    }
   ],
   "source": [
    "rabbits[7::-2]"
   ]
  },
  {
   "cell_type": "code",
   "execution_count": 19,
   "metadata": {},
   "outputs": [
    {
     "data": {
      "text/plain": [
       "['Трус', 'Ушастик', 'Барсик', 'Дружок']"
      ]
     },
     "execution_count": 19,
     "metadata": {},
     "output_type": "execute_result"
    }
   ],
   "source": [
    "rabbits[:0:-2]"
   ]
  },
  {
   "cell_type": "code",
   "execution_count": 20,
   "metadata": {},
   "outputs": [
    {
     "data": {
      "text/plain": [
       "['Трус', 'Ушастик', 'Барсик', 'Дружок']"
      ]
     },
     "execution_count": 20,
     "metadata": {},
     "output_type": "execute_result"
    }
   ],
   "source": [
    "rabbits[::-2]"
   ]
  },
  {
   "cell_type": "code",
   "execution_count": 21,
   "metadata": {},
   "outputs": [],
   "source": [
    "sparta = ['Иванов', 'Петров', 'Сидоров', 'Зайцев', 'Дятлов', \n",
    "          'Козлов', 'Лисичкин', 'Огурцов', 'Капустин', 'Арбузов']"
   ]
  },
  {
   "cell_type": "code",
   "execution_count": 22,
   "metadata": {},
   "outputs": [
    {
     "data": {
      "text/plain": [
       "['Иванов', 'Сидоров', 'Дятлов', 'Лисичкин', 'Капустин']"
      ]
     },
     "execution_count": 22,
     "metadata": {},
     "output_type": "execute_result"
    }
   ],
   "source": [
    "sparta[::2]"
   ]
  },
  {
   "cell_type": "code",
   "execution_count": 23,
   "metadata": {},
   "outputs": [
    {
     "data": {
      "text/plain": [
       "['Арбузов', 'Лисичкин', 'Зайцев', 'Иванов']"
      ]
     },
     "execution_count": 23,
     "metadata": {},
     "output_type": "execute_result"
    }
   ],
   "source": [
    "sparta[::-3]"
   ]
  },
  {
   "cell_type": "code",
   "execution_count": 25,
   "metadata": {},
   "outputs": [
    {
     "name": "stdout",
     "output_type": "stream",
     "text": [
      "[66500.0, 95000.0, 123500.0, 93100.0, 104500.0]\n"
     ]
    }
   ],
   "source": [
    "old_salary = [35000, 50000, 65000, 49000, 55000]\n",
    "new_salary = []\n",
    "for salary in old_salary:\n",
    "    new_salary.append(salary * 1.9)\n",
    "\n",
    "print(new_salary)"
   ]
  },
  {
   "cell_type": "code",
   "execution_count": 26,
   "metadata": {},
   "outputs": [
    {
     "name": "stdout",
     "output_type": "stream",
     "text": [
      "[10, 29, 31, 65, 87, 90, 100]\n"
     ]
    }
   ],
   "source": [
    "my_list = [10, 65, 31, 29, 90, 87, 100]\n",
    "my_list.sort()\n",
    "print(my_list)"
   ]
  },
  {
   "cell_type": "code",
   "execution_count": 27,
   "metadata": {},
   "outputs": [
    {
     "name": "stdout",
     "output_type": "stream",
     "text": [
      "[10, 29, 31, 65, 87, 90, 100]\n"
     ]
    }
   ],
   "source": [
    "my_list = [10, 65, 31, 29, 90, 87, 100]\n",
    "my_list.sort(reverse = False)\n",
    "print(my_list)"
   ]
  },
  {
   "cell_type": "code",
   "execution_count": 28,
   "metadata": {},
   "outputs": [
    {
     "name": "stdout",
     "output_type": "stream",
     "text": [
      "[100, 90, 87, 65, 31, 29, 10]\n"
     ]
    }
   ],
   "source": [
    "my_list = [10, 65, 31, 29, 90, 87, 100]\n",
    "my_list.sort(reverse = True)\n",
    "print(my_list)"
   ]
  },
  {
   "cell_type": "code",
   "execution_count": 29,
   "metadata": {},
   "outputs": [
    {
     "name": "stdout",
     "output_type": "stream",
     "text": [
      "['апельсин', 'банан', 'вишня', 'груша', 'дыня']\n"
     ]
    }
   ],
   "source": [
    "my_list = ['банан', 'дыня', 'апельсин', 'груша', 'вишня']\n",
    "my_list.sort(reverse = False)\n",
    "print(my_list)"
   ]
  },
  {
   "cell_type": "code",
   "execution_count": 30,
   "metadata": {},
   "outputs": [
    {
     "name": "stdout",
     "output_type": "stream",
     "text": [
      "['дыня', 'груша', 'вишня', 'банан', 'апельсин']\n"
     ]
    }
   ],
   "source": [
    "my_list = ['банан', 'дыня', 'апельсин', 'груша', 'вишня']\n",
    "my_list.sort(reverse = True)\n",
    "print(my_list)"
   ]
  },
  {
   "cell_type": "code",
   "execution_count": 31,
   "metadata": {},
   "outputs": [
    {
     "data": {
      "text/plain": [
       "True"
      ]
     },
     "execution_count": 31,
     "metadata": {},
     "output_type": "execute_result"
    }
   ],
   "source": [
    "'d'>'1'"
   ]
  },
  {
   "cell_type": "code",
   "execution_count": 36,
   "metadata": {},
   "outputs": [
    {
     "data": {
      "text/plain": [
       "True"
      ]
     },
     "execution_count": 36,
     "metadata": {},
     "output_type": "execute_result"
    }
   ],
   "source": [
    "'1'>'+D'"
   ]
  },
  {
   "cell_type": "code",
   "execution_count": 37,
   "metadata": {},
   "outputs": [
    {
     "name": "stdout",
     "output_type": "stream",
     "text": [
      "29000\n"
     ]
    }
   ],
   "source": [
    "salary = [100000, 45000, 78000, 29000, 55000, 60000]\n",
    "lowest_salary = min(salary)\n",
    "print(lowest_salary) "
   ]
  },
  {
   "cell_type": "code",
   "execution_count": 38,
   "metadata": {},
   "outputs": [
    {
     "name": "stdout",
     "output_type": "stream",
     "text": [
      "100000\n"
     ]
    }
   ],
   "source": [
    "salary = [100000, 45000, 78000, 29000, 55000, 60000]\n",
    "highest_salary = max(salary)\n",
    "print(highest_salary) "
   ]
  },
  {
   "cell_type": "code",
   "execution_count": 39,
   "metadata": {},
   "outputs": [
    {
     "data": {
      "text/plain": [
       "6"
      ]
     },
     "execution_count": 39,
     "metadata": {},
     "output_type": "execute_result"
    }
   ],
   "source": [
    "len(salary)"
   ]
  },
  {
   "cell_type": "code",
   "execution_count": 40,
   "metadata": {},
   "outputs": [
    {
     "name": "stdout",
     "output_type": "stream",
     "text": [
      "3\n"
     ]
    }
   ],
   "source": [
    "my_friends = ['Дмитрий', 'Евгений', 'Елена', 'Михаил', 'Елена', \n",
    "              'Татьяна', 'Антон', 'Елена']\n",
    "popular_name = my_friends.count('Елена')\n",
    "print(popular_name) "
   ]
  },
  {
   "cell_type": "code",
   "execution_count": 43,
   "metadata": {},
   "outputs": [
    {
     "name": "stdout",
     "output_type": "stream",
     "text": [
      "1\n",
      "2\n",
      "3\n",
      "4\n",
      "5\n",
      "6\n",
      "7\n",
      "8\n",
      "9\n",
      "10\n"
     ]
    }
   ],
   "source": [
    "my_list = []\n",
    "for number in range(1,11):\n",
    "    print(number)"
   ]
  },
  {
   "cell_type": "code",
   "execution_count": 44,
   "metadata": {},
   "outputs": [
    {
     "name": "stdout",
     "output_type": "stream",
     "text": [
      "97\n"
     ]
    }
   ],
   "source": [
    "my_list = [1, 10, 45, 31, 12, 54, 111, 398, 97, 63]\n",
    "my_list.sort(reverse = True)\n",
    "print(my_list[2])"
   ]
  },
  {
   "cell_type": "code",
   "execution_count": 45,
   "metadata": {},
   "outputs": [
    {
     "data": {
      "text/plain": [
       "[398, 111, 97, 63, 54, 45, 31, 12, 10, 1]"
      ]
     },
     "execution_count": 45,
     "metadata": {},
     "output_type": "execute_result"
    }
   ],
   "source": [
    "my_list"
   ]
  },
  {
   "cell_type": "code",
   "execution_count": 48,
   "metadata": {},
   "outputs": [
    {
     "data": {
      "text/plain": [
       "[398, 97, 54, 31, 10]"
      ]
     },
     "execution_count": 48,
     "metadata": {},
     "output_type": "execute_result"
    }
   ],
   "source": [
    "my_list[::2]"
   ]
  },
  {
   "cell_type": "code",
   "execution_count": 49,
   "metadata": {},
   "outputs": [
    {
     "name": "stdout",
     "output_type": "stream",
     "text": [
      "590\n"
     ]
    }
   ],
   "source": [
    "my_list = [1, 10, 45, 31, 12, 54, 111, 398, 97, 63]\n",
    "my_list.sort(reverse = True)\n",
    "new_list = my_list[::2]\n",
    "result = 0\n",
    "for number in new_list:\n",
    "    result += number\n",
    "print(result)"
   ]
  },
  {
   "cell_type": "code",
   "execution_count": 1,
   "metadata": {},
   "outputs": [],
   "source": [
    "my_list = [1]\n",
    "for i in range(10):\n",
    "    my_list.append(my_list[i] * 2)\n",
    "my_list.sort(reverse = True)"
   ]
  },
  {
   "cell_type": "code",
   "execution_count": 2,
   "metadata": {},
   "outputs": [
    {
     "data": {
      "text/plain": [
       "[1024, 512, 256, 128, 64, 32, 16, 8, 4, 2, 1]"
      ]
     },
     "execution_count": 2,
     "metadata": {},
     "output_type": "execute_result"
    }
   ],
   "source": [
    "my_list"
   ]
  },
  {
   "cell_type": "code",
   "execution_count": 3,
   "metadata": {},
   "outputs": [
    {
     "data": {
      "text/plain": [
       "['а', 'а', 'а', 'б', 'б', 'п', 'п', 'я']"
      ]
     },
     "execution_count": 3,
     "metadata": {},
     "output_type": "execute_result"
    }
   ],
   "source": [
    "fruits = 'яблоко банан апельсин баклажан перец помидор арбуз ананас'.split()\n",
    "my_list = []\n",
    "for fruit in fruits:\n",
    "    my_list.append(fruit[0])\n",
    "my_list.sort()\n",
    "my_list"
   ]
  },
  {
   "cell_type": "code",
   "execution_count": 6,
   "metadata": {},
   "outputs": [
    {
     "data": {
      "text/plain": [
       "408"
      ]
     },
     "execution_count": 6,
     "metadata": {},
     "output_type": "execute_result"
    }
   ],
   "source": [
    "lst = []\n",
    "for i in range(1,51):\n",
    "    if i%3==0: lst.append(i)\n",
    "result = sum(lst)"
   ]
  },
  {
   "cell_type": "code",
   "execution_count": 13,
   "metadata": {},
   "outputs": [
    {
     "ename": "TypeError",
     "evalue": "'int' object is not iterable",
     "output_type": "error",
     "traceback": [
      "\u001b[1;31m---------------------------------------------------------------------------\u001b[0m",
      "\u001b[1;31mTypeError\u001b[0m                                 Traceback (most recent call last)",
      "\u001b[1;32m<ipython-input-13-b379067fc9cc>\u001b[0m in \u001b[0;36m<module>\u001b[1;34m\u001b[0m\n\u001b[1;32m----> 1\u001b[1;33m \u001b[0mresult\u001b[0m \u001b[1;33m=\u001b[0m \u001b[1;33m[\u001b[0m\u001b[0msum\u001b[0m\u001b[1;33m(\u001b[0m\u001b[0mi\u001b[0m\u001b[1;33m)\u001b[0m \u001b[1;32mfor\u001b[0m \u001b[0mi\u001b[0m \u001b[1;32min\u001b[0m \u001b[0mrange\u001b[0m\u001b[1;33m(\u001b[0m\u001b[1;36m1\u001b[0m\u001b[1;33m,\u001b[0m\u001b[1;36m51\u001b[0m\u001b[1;33m)\u001b[0m\u001b[1;33m]\u001b[0m\u001b[1;33m\u001b[0m\u001b[1;33m\u001b[0m\u001b[0m\n\u001b[0m",
      "\u001b[1;32m<ipython-input-13-b379067fc9cc>\u001b[0m in \u001b[0;36m<listcomp>\u001b[1;34m(.0)\u001b[0m\n\u001b[1;32m----> 1\u001b[1;33m \u001b[0mresult\u001b[0m \u001b[1;33m=\u001b[0m \u001b[1;33m[\u001b[0m\u001b[0msum\u001b[0m\u001b[1;33m(\u001b[0m\u001b[0mi\u001b[0m\u001b[1;33m)\u001b[0m \u001b[1;32mfor\u001b[0m \u001b[0mi\u001b[0m \u001b[1;32min\u001b[0m \u001b[0mrange\u001b[0m\u001b[1;33m(\u001b[0m\u001b[1;36m1\u001b[0m\u001b[1;33m,\u001b[0m\u001b[1;36m51\u001b[0m\u001b[1;33m)\u001b[0m\u001b[1;33m]\u001b[0m\u001b[1;33m\u001b[0m\u001b[1;33m\u001b[0m\u001b[0m\n\u001b[0m",
      "\u001b[1;31mTypeError\u001b[0m: 'int' object is not iterable"
     ]
    }
   ],
   "source": [
    "result = [sum(i) for i in range(1,51)]"
   ]
  },
  {
   "cell_type": "code",
   "execution_count": 21,
   "metadata": {},
   "outputs": [
    {
     "data": {
      "text/plain": [
       "408"
      ]
     },
     "execution_count": 21,
     "metadata": {},
     "output_type": "execute_result"
    }
   ],
   "source": [
    "A = [1,2]\n",
    "B = sum([i for i in range(1, 51) if i%3==0])\n",
    "B"
   ]
  },
  {
   "cell_type": "code",
   "execution_count": 23,
   "metadata": {},
   "outputs": [
    {
     "data": {
      "text/plain": [
       "408"
      ]
     },
     "execution_count": 23,
     "metadata": {},
     "output_type": "execute_result"
    }
   ],
   "source": [
    "result = sum([i for i in range(1, 51) if i%3==0])\n",
    "result"
   ]
  },
  {
   "cell_type": "code",
   "execution_count": 24,
   "metadata": {},
   "outputs": [
    {
     "data": {
      "text/plain": [
       "[10, 5, 7, 6, 7, 5, 7]"
      ]
     },
     "execution_count": 24,
     "metadata": {},
     "output_type": "execute_result"
    }
   ],
   "source": [
    "raw_list = ['переменные', 'циклы', 'условия', 'списки', 'словари', 'файлы', 'функции']\n",
    "l = []\n",
    "for i in raw_list:\n",
    "    l.append(len(i))\n",
    "l"
   ]
  },
  {
   "cell_type": "code",
   "execution_count": 35,
   "metadata": {},
   "outputs": [
    {
     "data": {
      "text/plain": [
       "15"
      ]
     },
     "execution_count": 35,
     "metadata": {},
     "output_type": "execute_result"
    }
   ],
   "source": [
    "raw_list = ['переменные', 'циклы', 'условия', 'списки', 'словари', 'файлы', 'функции']\n",
    "lengths = ([len(i) for i in raw_list])\n",
    "result = sum([min(lengths),max(lengths)])\n",
    "result"
   ]
  },
  {
   "cell_type": "code",
   "execution_count": null,
   "metadata": {},
   "outputs": [],
   "source": [
    "#result = sum(el for el in raw_list if )"
   ]
  },
  {
   "cell_type": "code",
   "execution_count": 37,
   "metadata": {},
   "outputs": [],
   "source": [
    "raw_list = [2, 8, 10, 23, 64, 49, 11, 52, 71, 14]\n",
    "x_min = min(raw_list)\n",
    "x_max = max(raw_list)\n",
    "my_list = []\n",
    "for i in raw_list:\n",
    "    if i%2==0: my_list.append(i*x_min)\n",
    "    else: my_list.append(i*x_max)\n",
    "result = max(my_list)"
   ]
  },
  {
   "cell_type": "code",
   "execution_count": 39,
   "metadata": {},
   "outputs": [
    {
     "data": {
      "text/plain": [
       "[4, 16, 20, 1633, 128, 3479, 781, 104, 5041, 28]"
      ]
     },
     "execution_count": 39,
     "metadata": {},
     "output_type": "execute_result"
    }
   ],
   "source": [
    "result\n",
    "my_list"
   ]
  },
  {
   "cell_type": "code",
   "execution_count": 40,
   "metadata": {},
   "outputs": [
    {
     "data": {
      "text/plain": [
       "[1,\n",
       " 1,\n",
       " 4,\n",
       " 1024,\n",
       " 9,\n",
       " 59049,\n",
       " 16,\n",
       " 1048576,\n",
       " 25,\n",
       " 9765625,\n",
       " 36,\n",
       " 60466176,\n",
       " 49,\n",
       " 282475249,\n",
       " 64,\n",
       " 1073741824,\n",
       " 81,\n",
       " 3486784401]"
      ]
     },
     "execution_count": 40,
     "metadata": {},
     "output_type": "execute_result"
    }
   ],
   "source": [
    "powers = [x**y for x in range(1, 10) for y in [2,10]]\n",
    "powers"
   ]
  },
  {
   "cell_type": "code",
   "execution_count": 1,
   "metadata": {},
   "outputs": [],
   "source": [
    "my_list = [x**0.5 for x in range(1, 50) if x%7==0]"
   ]
  },
  {
   "cell_type": "code",
   "execution_count": 2,
   "metadata": {},
   "outputs": [
    {
     "data": {
      "text/plain": [
       "[2.6457513110645907,\n",
       " 3.7416573867739413,\n",
       " 4.58257569495584,\n",
       " 5.291502622129181,\n",
       " 5.916079783099616,\n",
       " 6.48074069840786,\n",
       " 7.0]"
      ]
     },
     "execution_count": 2,
     "metadata": {},
     "output_type": "execute_result"
    }
   ],
   "source": [
    "my_list"
   ]
  },
  {
   "cell_type": "code",
   "execution_count": 3,
   "metadata": {},
   "outputs": [],
   "source": [
    "my_list = ( ((x//10)+(x%10)) for x in range(90,100) )"
   ]
  },
  {
   "cell_type": "code",
   "execution_count": 4,
   "metadata": {},
   "outputs": [
    {
     "data": {
      "text/plain": [
       "[9, 10, 11, 12, 13, 14, 15, 16, 17, 18]"
      ]
     },
     "execution_count": 4,
     "metadata": {},
     "output_type": "execute_result"
    }
   ],
   "source": [
    "my_list = []\n",
    "for x in range(90, 100):\n",
    "    first_digit = x//10\n",
    "    last_digit = x%10\n",
    "    my_list.append(first_digit + last_digit)\n",
    "my_list"
   ]
  },
  {
   "cell_type": "code",
   "execution_count": 8,
   "metadata": {},
   "outputs": [
    {
     "data": {
      "text/plain": [
       "[9, 10, 11, 12, 13, 14, 15, 16, 17, 18]"
      ]
     },
     "execution_count": 8,
     "metadata": {},
     "output_type": "execute_result"
    }
   ],
   "source": [
    "my_list = [((x//10)+(x%10)) for x in range(90,100)]\n",
    "my_list"
   ]
  },
  {
   "cell_type": "code",
   "execution_count": null,
   "metadata": {},
   "outputs": [],
   "source": [
    "phones = ['+79033923029', '+78125849204', '+79053049385', '+79265748370', '+79030598495']"
   ]
  },
  {
   "cell_type": "code",
   "execution_count": 9,
   "metadata": {},
   "outputs": [],
   "source": [
    "employee_base = {\n",
    "    'Мария Никитина': '+79033923029',\n",
    "    'Егор Савичев': '+78125849204',\n",
    "    'Александр Пахомов': '+79053049385',\n",
    "    'Алина Егорова': '+79265748370',\n",
    "    'Руслан Башаров': '+79030598495'\n",
    "}"
   ]
  },
  {
   "cell_type": "code",
   "execution_count": null,
   "metadata": {},
   "outputs": [],
   "source": [
    "Мария Никитина\t+79033923029\n",
    "Егор Савичев\t+78125849204\n",
    "Александр Пахомов\t+79053049385\n",
    "Алина Егорова\t+79265748370\n",
    "Руслан Башаров\t+79030598495"
   ]
  },
  {
   "cell_type": "code",
   "execution_count": 10,
   "metadata": {},
   "outputs": [
    {
     "name": "stdout",
     "output_type": "stream",
     "text": [
      "+79033923029\n"
     ]
    }
   ],
   "source": [
    "print(employee_base['Мария Никитина'])"
   ]
  },
  {
   "cell_type": "code",
   "execution_count": 11,
   "metadata": {},
   "outputs": [
    {
     "name": "stdout",
     "output_type": "stream",
     "text": [
      "+79265748370\n"
     ]
    }
   ],
   "source": [
    "print(employee_base['Алина Егорова'])"
   ]
  },
  {
   "cell_type": "code",
   "execution_count": null,
   "metadata": {},
   "outputs": [],
   "source": []
  },
  {
   "cell_type": "code",
   "execution_count": null,
   "metadata": {},
   "outputs": [],
   "source": []
  },
  {
   "cell_type": "code",
   "execution_count": null,
   "metadata": {},
   "outputs": [],
   "source": []
  },
  {
   "cell_type": "code",
   "execution_count": 33,
   "metadata": {},
   "outputs": [],
   "source": [
    "country = 'Италия'\n",
    "draw_dict = {\n",
    "    'Россия': 'A',\n",
    "    'Португалия': 'B',\n",
    "    'Франция': 'C',\n",
    "    'Дания': 'C',\n",
    "    'Египет': 'A'\n",
    "    }\n",
    "\n",
    "if country in draw_dict: group = draw_dict[country]\n",
    "else: group = 'unknown'\n"
   ]
  },
  {
   "cell_type": "code",
   "execution_count": 31,
   "metadata": {},
   "outputs": [
    {
     "data": {
      "text/plain": [
       "'A'"
      ]
     },
     "execution_count": 31,
     "metadata": {},
     "output_type": "execute_result"
    }
   ],
   "source": [
    "group"
   ]
  },
  {
   "cell_type": "code",
   "execution_count": 34,
   "metadata": {},
   "outputs": [],
   "source": [
    "simple_dict = {'a': 1}"
   ]
  },
  {
   "cell_type": "code",
   "execution_count": 35,
   "metadata": {},
   "outputs": [
    {
     "data": {
      "text/plain": [
       "{'a': 1}"
      ]
     },
     "execution_count": 35,
     "metadata": {},
     "output_type": "execute_result"
    }
   ],
   "source": [
    "simple_dict"
   ]
  },
  {
   "cell_type": "code",
   "execution_count": 36,
   "metadata": {},
   "outputs": [
    {
     "name": "stdout",
     "output_type": "stream",
     "text": [
      "{'a': 1, 'b': 0}\n"
     ]
    }
   ],
   "source": [
    "simple_dict.setdefault('b', 0)\n",
    "print(simple_dict)"
   ]
  },
  {
   "cell_type": "code",
   "execution_count": 37,
   "metadata": {},
   "outputs": [
    {
     "name": "stdout",
     "output_type": "stream",
     "text": [
      "{'a': 1, 'b': 0}\n"
     ]
    }
   ],
   "source": [
    "simple_dict = {'a': 1, 'b': 0}\n",
    "\n",
    "simple_dict.setdefault('b', 5)\n",
    "print(simple_dict)"
   ]
  },
  {
   "cell_type": "code",
   "execution_count": 38,
   "metadata": {},
   "outputs": [],
   "source": [
    "country = 'Италия'\n",
    "draw_dict = {\n",
    "    'Россия': 'A',\n",
    "    'Португалия': 'B',\n",
    "    'Франция': 'C',\n",
    "    'Дания': 'C',\n",
    "    'Египет': 'A'\n",
    "    }\n",
    "\n",
    "if country in draw_dict: group = draw_dict[country]\n",
    "else: \n",
    "    draw_dict.setdefault(country, 'unknown')\n",
    "    group = draw_dict[country]"
   ]
  },
  {
   "cell_type": "code",
   "execution_count": 39,
   "metadata": {},
   "outputs": [
    {
     "data": {
      "text/plain": [
       "'unknown'"
      ]
     },
     "execution_count": 39,
     "metadata": {},
     "output_type": "execute_result"
    }
   ],
   "source": [
    "group"
   ]
  },
  {
   "cell_type": "code",
   "execution_count": 40,
   "metadata": {},
   "outputs": [
    {
     "data": {
      "text/plain": [
       "{'Россия': 'A',\n",
       " 'Португалия': 'B',\n",
       " 'Франция': 'C',\n",
       " 'Дания': 'C',\n",
       " 'Египет': 'A',\n",
       " 'Италия': 'unknown'}"
      ]
     },
     "execution_count": 40,
     "metadata": {},
     "output_type": "execute_result"
    }
   ],
   "source": [
    "draw_dict"
   ]
  },
  {
   "cell_type": "code",
   "execution_count": 2,
   "metadata": {},
   "outputs": [],
   "source": [
    "draw_dict = {\n",
    "    'Россия': 'A',\n",
    "    'Португалия': 'B',\n",
    "    'Франция': 'C',\n",
    "    'Дания': 'C',\n",
    "    'Египет': 'A'\n",
    "}\n",
    "draw_new = {}\n",
    "for c in draw_dict:\n",
    "    if draw_dict[c] == 'A': draw_new.setdefault(c, draw_dict[c])"
   ]
  },
  {
   "cell_type": "code",
   "execution_count": 8,
   "metadata": {},
   "outputs": [
    {
     "name": "stdout",
     "output_type": "stream",
     "text": [
      "A\n",
      "B\n",
      "C\n",
      "C\n",
      "A\n"
     ]
    }
   ],
   "source": [
    "draw_dict = {\n",
    "    'Россия': 'A',\n",
    "    'Португалия': 'B',\n",
    "    'Франция': 'C',\n",
    "    'Дания': 'C',\n",
    "    'Египет': 'A'\n",
    "}\n",
    "\n",
    "for i in draw_dict:\n",
    "    print(draw_dict[i])"
   ]
  },
  {
   "cell_type": "code",
   "execution_count": 3,
   "metadata": {},
   "outputs": [
    {
     "data": {
      "text/plain": [
       "{'Россия': 'A', 'Египет': 'A'}"
      ]
     },
     "execution_count": 3,
     "metadata": {},
     "output_type": "execute_result"
    }
   ],
   "source": [
    "draw_new"
   ]
  },
  {
   "cell_type": "code",
   "execution_count": 4,
   "metadata": {},
   "outputs": [
    {
     "ename": "NameError",
     "evalue": "name 'employee_base' is not defined",
     "output_type": "error",
     "traceback": [
      "\u001b[1;31m---------------------------------------------------------------------------\u001b[0m",
      "\u001b[1;31mNameError\u001b[0m                                 Traceback (most recent call last)",
      "\u001b[1;32m<ipython-input-4-79b65fc1fce0>\u001b[0m in \u001b[0;36m<module>\u001b[1;34m\u001b[0m\n\u001b[1;32m----> 1\u001b[1;33m \u001b[1;32mfor\u001b[0m \u001b[0mposition\u001b[0m \u001b[1;32min\u001b[0m \u001b[0memployee_base\u001b[0m\u001b[1;33m.\u001b[0m\u001b[0mvalues\u001b[0m\u001b[1;33m(\u001b[0m\u001b[1;33m)\u001b[0m\u001b[1;33m:\u001b[0m\u001b[1;33m\u001b[0m\u001b[1;33m\u001b[0m\u001b[0m\n\u001b[0m\u001b[0;32m      2\u001b[0m     \u001b[0mprint\u001b[0m\u001b[1;33m(\u001b[0m\u001b[0mposition\u001b[0m\u001b[1;33m)\u001b[0m\u001b[1;33m\u001b[0m\u001b[1;33m\u001b[0m\u001b[0m\n",
      "\u001b[1;31mNameError\u001b[0m: name 'employee_base' is not defined"
     ]
    }
   ],
   "source": [
    "for position in employee_base.values():\n",
    "    print(position)"
   ]
  },
  {
   "cell_type": "code",
   "execution_count": 1,
   "metadata": {},
   "outputs": [],
   "source": [
    "employee_base = {'Мария Никитина': 'менеджер', 'Егор Савичев': 'разработчик', 'Александр Пахомов': 'дизайнер', 'Алина Егорова': 'разработчик', 'Руслан Башаров': 'верстальщик'}"
   ]
  },
  {
   "cell_type": "code",
   "execution_count": 2,
   "metadata": {},
   "outputs": [
    {
     "data": {
      "text/plain": [
       "{'Мария Никитина': 'менеджер',\n",
       " 'Егор Савичев': 'разработчик',\n",
       " 'Александр Пахомов': 'дизайнер',\n",
       " 'Алина Егорова': 'разработчик',\n",
       " 'Руслан Башаров': 'верстальщик'}"
      ]
     },
     "execution_count": 2,
     "metadata": {},
     "output_type": "execute_result"
    }
   ],
   "source": [
    "employee_base"
   ]
  },
  {
   "cell_type": "code",
   "execution_count": 3,
   "metadata": {},
   "outputs": [
    {
     "name": "stdout",
     "output_type": "stream",
     "text": [
      "Мария Никитина менеджер\n",
      "Егор Савичев разработчик\n",
      "Александр Пахомов дизайнер\n",
      "Алина Егорова разработчик\n",
      "Руслан Башаров верстальщик\n"
     ]
    }
   ],
   "source": [
    "for employee, position in employee_base.items():\n",
    "    print(employee, position)"
   ]
  },
  {
   "cell_type": "code",
   "execution_count": 4,
   "metadata": {},
   "outputs": [
    {
     "name": "stdout",
     "output_type": "stream",
     "text": [
      "Егор Савичев\n",
      "Алина Егорова\n"
     ]
    }
   ],
   "source": [
    "for employee, position in employee_base.items():\n",
    "    if position == 'разработчик':\n",
    "        print(employee)"
   ]
  },
  {
   "cell_type": "code",
   "execution_count": 5,
   "metadata": {},
   "outputs": [
    {
     "name": "stdout",
     "output_type": "stream",
     "text": [
      "менеджер\n",
      "разработчик\n",
      "дизайнер\n",
      "разработчик\n",
      "верстальщик\n"
     ]
    }
   ],
   "source": [
    "for position in employee_base.values():\n",
    "    print(position)"
   ]
  },
  {
   "cell_type": "code",
   "execution_count": 6,
   "metadata": {},
   "outputs": [
    {
     "name": "stdout",
     "output_type": "stream",
     "text": [
      "Мария Никитина\n",
      "Егор Савичев\n",
      "Александр Пахомов\n",
      "Алина Егорова\n",
      "Руслан Башаров\n"
     ]
    }
   ],
   "source": [
    "for employee in employee_base.keys():\n",
    "    print(employee)"
   ]
  },
  {
   "cell_type": "code",
   "execution_count": 11,
   "metadata": {},
   "outputs": [],
   "source": [
    "draw_dict = {\n",
    "    'Россия': 'A',\n",
    "    'Португалия': 'B',\n",
    "    'Франция': 'C',\n",
    "    'Дания': 'C',\n",
    "    'Египет': 'A'\n",
    "}\n",
    "draw_new = {}\n",
    "\n",
    "for c, g in draw_dict.items():\n",
    "    if g == 'A': draw_new.setdefault(c, g)"
   ]
  },
  {
   "cell_type": "code",
   "execution_count": 12,
   "metadata": {},
   "outputs": [
    {
     "data": {
      "text/plain": [
       "{'Россия': 'A', 'Египет': 'A'}"
      ]
     },
     "execution_count": 12,
     "metadata": {},
     "output_type": "execute_result"
    }
   ],
   "source": [
    "draw_new"
   ]
  },
  {
   "cell_type": "code",
   "execution_count": 15,
   "metadata": {},
   "outputs": [],
   "source": [
    "expenses = {\n",
    "    '2019-04-01': 2504,\n",
    "    '2019-04-02': 4994,\n",
    "    '2019-04-03': 6343\n",
    "}"
   ]
  },
  {
   "cell_type": "code",
   "execution_count": 16,
   "metadata": {},
   "outputs": [
    {
     "data": {
      "text/plain": [
       "{'2019-04-01': 2504, '2019-04-02': 4994, '2019-04-03': 6343}"
      ]
     },
     "execution_count": 16,
     "metadata": {},
     "output_type": "execute_result"
    }
   ],
   "source": [
    "expenses"
   ]
  },
  {
   "cell_type": "code",
   "execution_count": 18,
   "metadata": {},
   "outputs": [
    {
     "data": {
      "text/plain": [
       "13841"
      ]
     },
     "execution_count": 18,
     "metadata": {},
     "output_type": "execute_result"
    }
   ],
   "source": [
    "sum(expenses.values())"
   ]
  },
  {
   "cell_type": "code",
   "execution_count": 19,
   "metadata": {},
   "outputs": [
    {
     "data": {
      "text/plain": [
       "2504"
      ]
     },
     "execution_count": 19,
     "metadata": {},
     "output_type": "execute_result"
    }
   ],
   "source": [
    "expenses['2019-04-01']"
   ]
  },
  {
   "cell_type": "code",
   "execution_count": 20,
   "metadata": {},
   "outputs": [],
   "source": [
    "csv_file = [\n",
    "    ['100412', 'Ботинки для горных лыж ATOMIC Hawx Prime 100', 9],\n",
    "    ['100728', 'Скейтборд Jdbug RT03', 32],\n",
    "    ['100732', 'Роллерсерф Razor RipStik Bright', 11],\n",
    "    ['100803', 'Ботинки для сноуборда DC Tucknee', 20],\n",
    "    ['100898', 'Шагомер Omron HJA-306', 2],\n",
    "    ['100934', 'Пульсометр Beurer PM62', 17],\n",
    "]"
   ]
  },
  {
   "cell_type": "code",
   "execution_count": 21,
   "metadata": {},
   "outputs": [
    {
     "name": "stdout",
     "output_type": "stream",
     "text": [
      "['100898', 'Шагомер Omron HJA-306', 2]\n"
     ]
    }
   ],
   "source": [
    "print(csv_file[4])"
   ]
  },
  {
   "cell_type": "code",
   "execution_count": 22,
   "metadata": {},
   "outputs": [
    {
     "name": "stdout",
     "output_type": "stream",
     "text": [
      "2\n"
     ]
    }
   ],
   "source": [
    "print(csv_file[4][2])"
   ]
  },
  {
   "cell_type": "code",
   "execution_count": 26,
   "metadata": {},
   "outputs": [
    {
     "data": {
      "text/plain": [
       "'100934'"
      ]
     },
     "execution_count": 26,
     "metadata": {},
     "output_type": "execute_result"
    }
   ],
   "source": [
    "pulsometer_id = csv_file[-1][0]\n",
    "pulsometer_id"
   ]
  },
  {
   "cell_type": "code",
   "execution_count": 27,
   "metadata": {},
   "outputs": [
    {
     "name": "stdout",
     "output_type": "stream",
     "text": [
      "['100412', 'Ботинки для горных лыж ATOMIC Hawx Prime 100', 9]\n",
      "['100728', 'Скейтборд Jdbug RT03', 32]\n",
      "['100732', 'Роллерсерф Razor RipStik Bright', 11]\n",
      "['100803', 'Ботинки для сноуборда DC Tucknee', 20]\n",
      "['100898', 'Шагомер Omron HJA-306', 2]\n",
      "['100934', 'Пульсометр Beurer PM62', 17]\n"
     ]
    }
   ],
   "source": [
    "for record in csv_file:\n",
    "    print(record)"
   ]
  },
  {
   "cell_type": "code",
   "execution_count": 28,
   "metadata": {},
   "outputs": [
    {
     "name": "stdout",
     "output_type": "stream",
     "text": [
      "Количество шагомеров на складе - 2шт\n"
     ]
    }
   ],
   "source": [
    "for record in csv_file:\n",
    "    if record[1] == 'Шагомер Omron HJA-306':\n",
    "        print('Количество шагомеров на складе - {}шт'.format(record[2]))"
   ]
  },
  {
   "cell_type": "code",
   "execution_count": 31,
   "metadata": {},
   "outputs": [],
   "source": [
    "csv_file = [\n",
    "    ['100412', 'Ботинки для горных лыж ATOMIC Hawx Prime 100', 9],\n",
    "    ['100728', 'Скейтборд Jdbug RT03', 32],\n",
    "    ['100732', 'Роллерсерф Razor RipStik Bright', 11],\n",
    "    ['100803', 'Ботинки для сноуборда DC Tucknee', 20],\n",
    "    ['100898', 'Шагомер Omron HJA-306', 2],\n",
    "    ['100934', 'Пульсометр Beurer PM62', 17],\n",
    "]\n",
    "\n",
    "csv_file_filtered = [rec for rec in csv_file if rec[2]>10]"
   ]
  },
  {
   "cell_type": "code",
   "execution_count": 32,
   "metadata": {},
   "outputs": [],
   "source": [
    "csv_file_filtered = [rec for rec in csv_file if rec[2]>10]"
   ]
  },
  {
   "cell_type": "code",
   "execution_count": 33,
   "metadata": {},
   "outputs": [
    {
     "data": {
      "text/plain": [
       "[['100728', 'Скейтборд Jdbug RT03', 32],\n",
       " ['100732', 'Роллерсерф Razor RipStik Bright', 11],\n",
       " ['100803', 'Ботинки для сноуборда DC Tucknee', 20],\n",
       " ['100934', 'Пульсометр Beurer PM62', 17]]"
      ]
     },
     "execution_count": 33,
     "metadata": {},
     "output_type": "execute_result"
    }
   ],
   "source": [
    "csv_file_filtered"
   ]
  },
  {
   "cell_type": "code",
   "execution_count": 2,
   "metadata": {},
   "outputs": [],
   "source": [
    "contacts = {\n",
    "    'Борискин Владимир': {\n",
    "        'tel': '5387',\n",
    "        'position': 'менеджер'\n",
    "    },\n",
    "    \n",
    "    'Сомова Наталья': {\n",
    "        'tel': '5443',\n",
    "        'position': 'разработчик'\n",
    "    },\n",
    "}\n",
    "\n"
   ]
  },
  {
   "cell_type": "code",
   "execution_count": 5,
   "metadata": {},
   "outputs": [
    {
     "name": "stdout",
     "output_type": "stream",
     "text": [
      "{'tel': '5387', 'position': 'менеджер'}\n"
     ]
    }
   ],
   "source": [
    "print(contacts['Борискин Владимир'])"
   ]
  },
  {
   "cell_type": "code",
   "execution_count": 8,
   "metadata": {},
   "outputs": [
    {
     "ename": "TypeError",
     "evalue": "unhashable type: 'list'",
     "output_type": "error",
     "traceback": [
      "\u001b[1;31m---------------------------------------------------------------------------\u001b[0m",
      "\u001b[1;31mTypeError\u001b[0m                                 Traceback (most recent call last)",
      "\u001b[1;32m<ipython-input-8-fc3bb39fa288>\u001b[0m in \u001b[0;36m<module>\u001b[1;34m\u001b[0m\n\u001b[1;32m----> 1\u001b[1;33m \u001b[0mprint\u001b[0m\u001b[1;33m(\u001b[0m\u001b[0mcontacts\u001b[0m\u001b[1;33m[\u001b[0m\u001b[1;33m[\u001b[0m\u001b[1;36m0\u001b[0m\u001b[1;33m]\u001b[0m\u001b[1;33m]\u001b[0m\u001b[1;33m)\u001b[0m\u001b[1;33m\u001b[0m\u001b[1;33m\u001b[0m\u001b[0m\n\u001b[0m",
      "\u001b[1;31mTypeError\u001b[0m: unhashable type: 'list'"
     ]
    }
   ],
   "source": [
    "print(contacts[0])"
   ]
  },
  {
   "cell_type": "code",
   "execution_count": 9,
   "metadata": {},
   "outputs": [
    {
     "name": "stdout",
     "output_type": "stream",
     "text": [
      "5387\n"
     ]
    }
   ],
   "source": [
    "print(contacts['Борискин Владимир']['tel'])\n"
   ]
  },
  {
   "cell_type": "code",
   "execution_count": 14,
   "metadata": {},
   "outputs": [
    {
     "name": "stdout",
     "output_type": "stream",
     "text": [
      "Ботинки для горных лыж ATOMIC Hawx Prime 100\n",
      "Ботинки для сноуборда DC Tucknee\n"
     ]
    }
   ],
   "source": [
    "csv_dict = [\n",
    "    {'id': '100412', 'position': 'Ботинки для горных лыж ATOMIC Hawx Prime 100', 'count': 9},\n",
    "    {'id': '100728', 'position': 'Скейтборд Jdbug RT03', 'count': 32},\n",
    "    {'id': '100732', 'position': 'Роллерсерф Razor RipStik Bright', 'count': 11},\n",
    "    {'id': '100803', 'position': 'Ботинки для сноуборда DC Tucknee', 'count': 20},\n",
    "    {'id': '100898', 'position': 'Шагомер Omron HJA-306', 'count': 2},\n",
    "    {'id': '100934', 'position': 'Пульсометр Beurer PM62', 'count': 17},\n",
    "]\n",
    "\n",
    "for i in csv_dict:\n",
    "    if 'Ботинки' in i['position']: print(i['position'])"
   ]
  },
  {
   "cell_type": "code",
   "execution_count": 15,
   "metadata": {},
   "outputs": [],
   "source": [
    "csv_dict = [\n",
    "    {'id': '100412', 'position': 'Ботинки для горных лыж ATOMIC Hawx Prime 100', 'count': 9},\n",
    "    {'id': '100728', 'position': 'Скейтборд Jdbug RT03', 'count': 32},\n",
    "    {'id': '100732', 'position': 'Роллерсерф Razor RipStik Bright', 'count': 11},\n",
    "    {'id': '100803', 'position': 'Ботинки для сноуборда DC Tucknee', 'count': 20},\n",
    "    {'id': '100898', 'position': 'Шагомер Omron HJA-306', 'count': 2},\n",
    "    {'id': '100934', 'position': 'Пульсометр Beurer PM62', 'count': 17},\n",
    "]\n",
    "\n",
    "csv_dict_boots = [i for i in csv_dict if 'Ботинки' in i['position']]"
   ]
  },
  {
   "cell_type": "code",
   "execution_count": 16,
   "metadata": {},
   "outputs": [
    {
     "data": {
      "text/plain": [
       "[{'id': '100412',\n",
       "  'position': 'Ботинки для горных лыж ATOMIC Hawx Prime 100',\n",
       "  'count': 9},\n",
       " {'id': '100803', 'position': 'Ботинки для сноуборда DC Tucknee', 'count': 20}]"
      ]
     },
     "execution_count": 16,
     "metadata": {},
     "output_type": "execute_result"
    }
   ],
   "source": [
    "csv_dict_boots"
   ]
  },
  {
   "cell_type": "code",
   "execution_count": 31,
   "metadata": {},
   "outputs": [],
   "source": [
    "results = [\n",
    "    {'cost': 98, 'source': 'vk'},\n",
    "    {'cost': 153, 'source': 'yandex'},\n",
    "    {'cost': 110, 'source': 'facebook'},\n",
    "]\n",
    "\n",
    "ma = results[0]['cost']\n",
    "for i in results:\n",
    "    if i['cost']<ma: ma = i['cost']   "
   ]
  },
  {
   "cell_type": "code",
   "execution_count": 32,
   "metadata": {},
   "outputs": [
    {
     "data": {
      "text/plain": [
       "98"
      ]
     },
     "execution_count": 32,
     "metadata": {},
     "output_type": "execute_result"
    }
   ],
   "source": [
    "ma"
   ]
  },
  {
   "cell_type": "code",
   "execution_count": 27,
   "metadata": {},
   "outputs": [
    {
     "data": {
      "text/plain": [
       "153"
      ]
     },
     "execution_count": 27,
     "metadata": {},
     "output_type": "execute_result"
    }
   ],
   "source": [
    "results[1]['cost']"
   ]
  },
  {
   "cell_type": "code",
   "execution_count": 40,
   "metadata": {},
   "outputs": [
    {
     "data": {
      "text/plain": [
       "5"
      ]
     },
     "execution_count": 40,
     "metadata": {},
     "output_type": "execute_result"
    }
   ],
   "source": [
    "defect_stats = [\n",
    "    {'step number': 1, 'damage': 0.98},\n",
    "    {'step number': 2, 'damage': 0.99},\n",
    "    {'step number': 3, 'damage': 0.99},\n",
    "    {'step number': 4, 'damage': 0.96},\n",
    "    {'step number': 5, 'damage': 0.97},\n",
    "    {'step number': 6, 'damage': 0.97},\n",
    "]\n",
    "\n",
    "cl = 100\n",
    "step = 0\n",
    "\n",
    "for i in defect_stats:\n",
    "    if cl<90: break\n",
    "    else:\n",
    "        cl *= i['damage']\n",
    "        step += 1\n",
    "        #print(cl, step)\n",
    "\n",
    "step"
   ]
  },
  {
   "cell_type": "code",
   "execution_count": 69,
   "metadata": {},
   "outputs": [
    {
     "data": {
      "text/plain": [
       "(0.13121, 'AMD')"
      ]
     },
     "execution_count": 69,
     "metadata": {},
     "output_type": "execute_result"
    }
   ],
   "source": [
    "currency = {\n",
    "\t'AMD': {\n",
    "\t\t'Name': 'Армянских драмов',\n",
    "\t\t'Nominal': 100,\n",
    "\t\t'Value': 13.121\n",
    "\t},\n",
    "\n",
    "\t'AUD': {\n",
    "\t\t'Name': 'Австралийский доллар',\n",
    "\t\t'Nominal': 1,\n",
    "\t\t'Value': 45.5309\n",
    "\t},\n",
    "\n",
    "\t'INR': {\n",
    "\t\t'Name': 'Индийских рупий',\n",
    "\t\t'Nominal': 100,\n",
    "\t\t'Value': 92.9658\n",
    "\t},\n",
    "\n",
    "\t'MDL': {\n",
    "\t\t'Name': 'Молдавских леев',\n",
    "\t\t'Nominal': 10,\n",
    "\t\t'Value': 36.9305\n",
    "\t},\n",
    "}\n",
    "\n",
    "c = 0\n",
    "\n",
    "for n, v in currency.items():\n",
    "    if c == 0:\n",
    "        c = v['Value']/v['Nominal']\n",
    "        name = n\n",
    "    else:\n",
    "        if v['Value']/v['Nominal']<c:\n",
    "            c = v['Value']/v['Nominal']\n",
    "            name = n\n",
    "\n",
    "c, name"
   ]
  },
  {
   "cell_type": "code",
   "execution_count": 11,
   "metadata": {},
   "outputs": [
    {
     "name": "stdout",
     "output_type": "stream",
     "text": [
      "{'Name': 'Армянских драмов', 'Nominal': 100, 'Value': 13.121}\n",
      "Армянских драмов\n",
      "{'Name': 'Австралийский доллар', 'Nominal': 1, 'Value': 45.5309}\n",
      "Австралийский доллар\n",
      "{'Name': 'Индийских рупий', 'Nominal': 100, 'Value': 92.9658}\n",
      "Индийских рупий\n",
      "{'Name': 'Молдавских леев', 'Nominal': 10, 'Value': 36.9305}\n",
      "Молдавских леев\n"
     ]
    }
   ],
   "source": [
    "currency = {\n",
    "\t'AMD': {\n",
    "\t\t'Name': 'Армянских драмов',\n",
    "\t\t'Nominal': 100,\n",
    "\t\t'Value': 13.121\n",
    "\t},\n",
    "\n",
    "\t'AUD': {\n",
    "\t\t'Name': 'Австралийский доллар',\n",
    "\t\t'Nominal': 1,\n",
    "\t\t'Value': 45.5309\n",
    "\t},\n",
    "\n",
    "\t'INR': {\n",
    "\t\t'Name': 'Индийских рупий',\n",
    "\t\t'Nominal': 100,\n",
    "\t\t'Value': 92.9658\n",
    "\t},\n",
    "\n",
    "\t'MDL': {\n",
    "\t\t'Name': 'Молдавских леев',\n",
    "\t\t'Nominal': 10,\n",
    "\t\t'Value': 36.9305\n",
    "\t},\n",
    "}\n",
    "\n",
    "c = 0\n",
    "\n",
    "for n in currency:\n",
    "    print(currency[n])\n",
    "    print(currency[n]['Name'])"
   ]
  },
  {
   "cell_type": "code",
   "execution_count": 4,
   "metadata": {},
   "outputs": [
    {
     "name": "stdout",
     "output_type": "stream",
     "text": [
      "Проклятие Черной жемчужины\n",
      "Сундук мертвеца\n",
      "На краю света\n",
      "На странных берегах\n"
     ]
    }
   ],
   "source": [
    "bodycount = {\n",
    "\t'Проклятие Черной жемчужины': {\n",
    "\t\t'человек': 17\n",
    "\t}, \n",
    "\n",
    "\t'Сундук мертвеца': {\n",
    "\t\t'человек': 56,\n",
    "\t\t'раков-отшельников': 1\n",
    "\t},\n",
    "\n",
    "\t'На краю света': {\n",
    "\t\t'человек': 88\n",
    "\t},\n",
    "\n",
    "\t'На странных берегах': {\n",
    "\t\t'человек': 56,\n",
    "\t\t'русалок': 2,\n",
    "\t\t'ядовитых жаб': 3,\n",
    "\t\t'пиратов зомби': 2\n",
    "\t}\n",
    "}\n",
    "\n",
    "for i in bodycount:\n",
    "    print(i)"
   ]
  },
  {
   "cell_type": "code",
   "execution_count": 22,
   "metadata": {},
   "outputs": [
    {
     "name": "stdout",
     "output_type": "stream",
     "text": [
      "17\n",
      "57\n",
      "88\n",
      "63\n"
     ]
    }
   ],
   "source": [
    "bodycount = {\n",
    "\t'Проклятие Черной жемчужины': {\n",
    "\t\t'человек': 17\n",
    "\t}, \n",
    "\n",
    "\t'Сундук мертвеца': {\n",
    "\t\t'человек': 56,\n",
    "\t\t'раков-отшельников': 1\n",
    "\t},\n",
    "\n",
    "\t'На краю света': {\n",
    "\t\t'человек': 88\n",
    "\t},\n",
    "\n",
    "\t'На странных берегах': {\n",
    "\t\t'человек': 56,\n",
    "\t\t'русалок': 2,\n",
    "\t\t'ядовитых жаб': 3,\n",
    "\t\t'пиратов зомби': 2\n",
    "\t}\n",
    "}\n",
    "\n",
    "\n",
    "for i in bodycount.values():\n",
    "    print(sum(i.values()))\n"
   ]
  },
  {
   "cell_type": "code",
   "execution_count": 46,
   "metadata": {},
   "outputs": [
    {
     "data": {
      "text/plain": [
       "225"
      ]
     },
     "execution_count": 46,
     "metadata": {},
     "output_type": "execute_result"
    }
   ],
   "source": [
    "bodycount = {\n",
    "\t'Проклятие Черной жемчужины': {\n",
    "\t\t'человек': 17\n",
    "\t}, \n",
    "\n",
    "\t'Сундук мертвеца': {\n",
    "\t\t'человек': 56,\n",
    "\t\t'раков-отшельников': 1\n",
    "\t},\n",
    "\n",
    "\t'На краю света': {\n",
    "\t\t'человек': 88\n",
    "\t},\n",
    "\n",
    "\t'На странных берегах': {\n",
    "\t\t'человек': 56,\n",
    "\t\t'русалок': 2,\n",
    "\t\t'ядовитых жаб': 3,\n",
    "\t\t'пиратов зомби': 2\n",
    "\t}\n",
    "}\n",
    "\n",
    "\n",
    "\n",
    "count = sum([sum(i.values()) for i in bodycount.values()])\n",
    "count"
   ]
  },
  {
   "cell_type": "code",
   "execution_count": 3,
   "metadata": {},
   "outputs": [
    {
     "data": {
      "text/plain": [
       "{'Россия': 'B', 'Португалия': 'B', 'Франция': 'C', 'Дания': 'C', 'Египет': 'A'}"
      ]
     },
     "execution_count": 3,
     "metadata": {},
     "output_type": "execute_result"
    }
   ],
   "source": [
    "draw_dict = {\n",
    "    'Россия': 'A',\n",
    "    'Португалия': 'B',\n",
    "    'Франция': 'C',\n",
    "    'Дания': 'C',\n",
    "    'Египет': 'A'\n",
    "}\n",
    "\n",
    "draw_dict['Россия'] = 'B'\n",
    "draw_dict"
   ]
  },
  {
   "cell_type": "code",
   "execution_count": 4,
   "metadata": {},
   "outputs": [],
   "source": [
    "import json\n",
    "with open('data.json', 'rb') as infile:\n",
    "    data = json.load(infile)"
   ]
  },
  {
   "cell_type": "code",
   "execution_count": 5,
   "metadata": {},
   "outputs": [
    {
     "data": {
      "text/plain": [
       "dict"
      ]
     },
     "execution_count": 5,
     "metadata": {},
     "output_type": "execute_result"
    }
   ],
   "source": [
    "type(data)"
   ]
  },
  {
   "cell_type": "code",
   "execution_count": 6,
   "metadata": {},
   "outputs": [
    {
     "data": {
      "text/plain": [
       "dict_keys(['events_data'])"
      ]
     },
     "execution_count": 6,
     "metadata": {},
     "output_type": "execute_result"
    }
   ],
   "source": [
    "data.keys()"
   ]
  },
  {
   "cell_type": "code",
   "execution_count": 7,
   "metadata": {},
   "outputs": [
    {
     "data": {
      "text/plain": [
       "[{'id': 47946124,\n",
       "  'client_id': 62526,\n",
       "  'user_id': 110777,\n",
       "  'category': 'page',\n",
       "  'action': 'enter',\n",
       "  'options': {'name': 'landing'}},\n",
       " {'id': 47947076,\n",
       "  'client_id': 61944,\n",
       "  'user_id': 108565,\n",
       "  'category': 'page',\n",
       "  'action': 'enter',\n",
       "  'options': {'name': 'landing'}},\n",
       " {'id': 47962056,\n",
       "  'client_id': 27115,\n",
       "  'user_id': 49440,\n",
       "  'category': 'page',\n",
       "  'action': 'enter',\n",
       "  'options': {'name': 'page'}},\n",
       " {'id': 47962120,\n",
       "  'client_id': 27115,\n",
       "  'user_id': 49440,\n",
       "  'category': 'datepicker',\n",
       "  'action': 'apply',\n",
       "  'options': {'endDate': '2019-03-31 23:59:59',\n",
       "   'startDate': '2019-03-25 00:00:00'}},\n",
       " {'id': 47962218,\n",
       "  'client_id': 27115,\n",
       "  'user_id': 49440,\n",
       "  'category': 'table',\n",
       "  'action': 'sort',\n",
       "  'options': {'dir': 'ASC', 'name': 'deal_date'}},\n",
       " {'id': 47962238,\n",
       "  'client_id': 27115,\n",
       "  'user_id': 49440,\n",
       "  'category': 'table',\n",
       "  'action': 'sort',\n",
       "  'options': {'dir': 'DESC', 'name': 'deal_date'}},\n",
       " {'id': 47962532,\n",
       "  'client_id': 27115,\n",
       "  'user_id': 49440,\n",
       "  'category': 'table',\n",
       "  'action': 'sort',\n",
       "  'options': {'dir': 'ASC', 'name': 'deal_date'}},\n",
       " {'id': 47962534,\n",
       "  'client_id': 27115,\n",
       "  'user_id': 49440,\n",
       "  'category': 'table',\n",
       "  'action': 'sort',\n",
       "  'options': {'dir': 'DESC', 'name': 'deal_date'}},\n",
       " {'id': 47962696,\n",
       "  'client_id': 27115,\n",
       "  'user_id': 49440,\n",
       "  'category': 'datepicker',\n",
       "  'action': 'apply',\n",
       "  'options': {'endDate': '2019-03-10 23:59:59',\n",
       "   'startDate': '2019-03-04 00:00:00'}},\n",
       " {'id': 47962748,\n",
       "  'client_id': 27115,\n",
       "  'user_id': 49440,\n",
       "  'category': 'datepicker',\n",
       "  'action': 'apply',\n",
       "  'options': {'endDate': '2019-02-24 23:59:59',\n",
       "   'startDate': '2019-02-18 00:00:00'}},\n",
       " {'id': 47962830,\n",
       "  'client_id': 27115,\n",
       "  'user_id': 49440,\n",
       "  'category': 'datepicker',\n",
       "  'action': 'apply',\n",
       "  'options': {'endDate': '2019-03-31 23:59:59',\n",
       "   'startDate': '2019-03-25 00:00:00'}},\n",
       " {'id': 47962860,\n",
       "  'client_id': 27115,\n",
       "  'user_id': 49440,\n",
       "  'category': 'datepicker',\n",
       "  'action': 'apply',\n",
       "  'options': {'endDate': '2019-03-31 23:59:59',\n",
       "   'startDate': '2019-03-28 00:00:00'}},\n",
       " {'id': 47962952,\n",
       "  'client_id': 27115,\n",
       "  'user_id': 49440,\n",
       "  'category': 'datepicker',\n",
       "  'action': 'apply',\n",
       "  'options': {'endDate': '2019-03-31 23:59:59',\n",
       "   'startDate': '2019-03-29 00:00:00'}},\n",
       " {'id': 47964366,\n",
       "  'client_id': 62017,\n",
       "  'user_id': 108835,\n",
       "  'category': 'page',\n",
       "  'action': 'enter',\n",
       "  'options': {'name': 'landing'}},\n",
       " {'id': 47989384,\n",
       "  'client_id': 63120,\n",
       "  'user_id': 113069,\n",
       "  'category': 'page',\n",
       "  'action': 'enter',\n",
       "  'options': {'name': 'landing'}},\n",
       " {'id': 48010418,\n",
       "  'client_id': 59883,\n",
       "  'user_id': 108493,\n",
       "  'category': 'page',\n",
       "  'action': 'enter',\n",
       "  'options': {'name': 'landing'}},\n",
       " {'id': 48012170,\n",
       "  'client_id': 2913,\n",
       "  'user_id': 37412,\n",
       "  'category': 'page',\n",
       "  'action': 'enter',\n",
       "  'options': {'name': 'landing'}},\n",
       " {'id': 48014430,\n",
       "  'client_id': 62940,\n",
       "  'user_id': 112351,\n",
       "  'category': 'page',\n",
       "  'action': 'enter',\n",
       "  'options': {'name': 'landing'}},\n",
       " {'id': 48022684,\n",
       "  'client_id': 63149,\n",
       "  'user_id': 113143,\n",
       "  'category': 'page',\n",
       "  'action': 'enter',\n",
       "  'options': {'name': 'landing'}},\n",
       " {'id': 48026886,\n",
       "  'client_id': 45391,\n",
       "  'user_id': 76047,\n",
       "  'category': 'page',\n",
       "  'action': 'enter',\n",
       "  'options': {'name': 'landing'}},\n",
       " {'id': 48034878,\n",
       "  'client_id': 18923,\n",
       "  'user_id': 36488,\n",
       "  'category': 'page',\n",
       "  'action': 'enter',\n",
       "  'options': {'name': 'landing'}},\n",
       " {'id': 48042052,\n",
       "  'client_id': 63019,\n",
       "  'user_id': 113169,\n",
       "  'category': 'page',\n",
       "  'action': 'enter',\n",
       "  'options': {'name': 'landing'}},\n",
       " {'id': 48043326,\n",
       "  'client_id': 18923,\n",
       "  'user_id': 36488,\n",
       "  'category': 'page',\n",
       "  'action': 'enter',\n",
       "  'options': {'name': 'landing'}},\n",
       " {'id': 48043640,\n",
       "  'client_id': 18923,\n",
       "  'user_id': 36488,\n",
       "  'category': 'page',\n",
       "  'action': 'enter',\n",
       "  'options': {'name': 'landing'}},\n",
       " {'id': 48051248,\n",
       "  'client_id': 15759,\n",
       "  'user_id': 92681,\n",
       "  'category': 'page',\n",
       "  'action': 'enter',\n",
       "  'options': {'name': 'landing'}},\n",
       " {'id': 48061250,\n",
       "  'client_id': 62007,\n",
       "  'user_id': 92681,\n",
       "  'category': 'page',\n",
       "  'action': 'enter',\n",
       "  'options': {'name': 'page'}},\n",
       " {'id': 48066902,\n",
       "  'client_id': 62941,\n",
       "  'user_id': 112357,\n",
       "  'category': 'page',\n",
       "  'action': 'enter',\n",
       "  'options': {'name': 'landing'}},\n",
       " {'id': 48081876,\n",
       "  'client_id': 51009,\n",
       "  'user_id': 87778,\n",
       "  'category': 'page',\n",
       "  'action': 'enter',\n",
       "  'options': {'name': 'landing'}},\n",
       " {'id': 48106514,\n",
       "  'client_id': 62236,\n",
       "  'user_id': 109579,\n",
       "  'category': 'page',\n",
       "  'action': 'enter',\n",
       "  'options': {'name': 'landing'}},\n",
       " {'id': 48110768,\n",
       "  'client_id': 44682,\n",
       "  'user_id': 74909,\n",
       "  'category': 'page',\n",
       "  'action': 'enter',\n",
       "  'options': {'name': 'landing'}},\n",
       " {'id': 48114652,\n",
       "  'client_id': 39709,\n",
       "  'user_id': 67955,\n",
       "  'category': 'page',\n",
       "  'action': 'enter',\n",
       "  'options': {'name': 'landing'}},\n",
       " {'id': 48118216,\n",
       "  'client_id': 60459,\n",
       "  'user_id': 32532,\n",
       "  'category': 'page',\n",
       "  'action': 'enter',\n",
       "  'options': {'name': 'page'}},\n",
       " {'id': 48118370,\n",
       "  'client_id': 62144,\n",
       "  'user_id': 109283,\n",
       "  'category': 'page',\n",
       "  'action': 'enter',\n",
       "  'options': {'name': 'landing'}},\n",
       " {'id': 48118516,\n",
       "  'client_id': 60459,\n",
       "  'user_id': 32532,\n",
       "  'category': 'report',\n",
       "  'action': 'change_mode',\n",
       "  'options': {'mode': 'deals'}},\n",
       " {'id': 48118564,\n",
       "  'client_id': 60459,\n",
       "  'user_id': 32532,\n",
       "  'category': 'report',\n",
       "  'action': 'change_mode',\n",
       "  'options': {'mode': 'summary'}},\n",
       " {'id': 48118590,\n",
       "  'client_id': 60459,\n",
       "  'user_id': 32532,\n",
       "  'category': 'report',\n",
       "  'action': 'change_mode',\n",
       "  'options': {'mode': 'deals'}},\n",
       " {'id': 48118920,\n",
       "  'client_id': 60459,\n",
       "  'user_id': 32532,\n",
       "  'category': 'report',\n",
       "  'action': 'change_mode',\n",
       "  'options': {'mode': 'summary'}},\n",
       " {'id': 48120374,\n",
       "  'client_id': 60459,\n",
       "  'user_id': 32532,\n",
       "  'category': 'page',\n",
       "  'action': 'enter',\n",
       "  'options': {'name': 'page'}},\n",
       " {'id': 48120386,\n",
       "  'client_id': 60459,\n",
       "  'user_id': 32532,\n",
       "  'category': 'report',\n",
       "  'action': 'change_mode',\n",
       "  'options': {'mode': 'deals'}},\n",
       " {'id': 48120602,\n",
       "  'client_id': 52492,\n",
       "  'user_id': 91178,\n",
       "  'category': 'page',\n",
       "  'action': 'enter',\n",
       "  'options': {'name': 'page'}},\n",
       " {'id': 48120604,\n",
       "  'client_id': 52492,\n",
       "  'user_id': 105477,\n",
       "  'category': 'page',\n",
       "  'action': 'enter',\n",
       "  'options': {'name': 'page'}},\n",
       " {'id': 48120770,\n",
       "  'client_id': 60459,\n",
       "  'user_id': 32532,\n",
       "  'category': 'page',\n",
       "  'action': 'enter',\n",
       "  'options': {'name': 'page'}},\n",
       " {'id': 48120876,\n",
       "  'client_id': 60459,\n",
       "  'user_id': 32532,\n",
       "  'category': 'table',\n",
       "  'action': 'sort',\n",
       "  'options': {'dir': 'ASC', 'name': 'visitor_id'}},\n",
       " {'id': 48120896,\n",
       "  'client_id': 60459,\n",
       "  'user_id': 32532,\n",
       "  'category': 'table',\n",
       "  'action': 'sort',\n",
       "  'options': {'dir': 'DESC', 'name': 'visitor_id'}},\n",
       " {'id': 48121006,\n",
       "  'client_id': 60459,\n",
       "  'user_id': 32532,\n",
       "  'category': 'table',\n",
       "  'action': 'sort',\n",
       "  'options': {'dir': 'ASC', 'name': 'visitor_id'}},\n",
       " {'id': 48121008,\n",
       "  'client_id': 60459,\n",
       "  'user_id': 32532,\n",
       "  'category': 'table',\n",
       "  'action': 'sort',\n",
       "  'options': {'dir': 'DESC', 'name': 'visitor_id'}},\n",
       " {'id': 48125372,\n",
       "  'client_id': 52492,\n",
       "  'user_id': 91178,\n",
       "  'category': 'page',\n",
       "  'action': 'enter',\n",
       "  'options': {'name': 'page'}},\n",
       " {'id': 48130434,\n",
       "  'client_id': 18923,\n",
       "  'user_id': 36488,\n",
       "  'category': 'page',\n",
       "  'action': 'enter',\n",
       "  'options': {'name': 'landing'}},\n",
       " {'id': 48135712,\n",
       "  'client_id': 25301,\n",
       "  'user_id': 54229,\n",
       "  'category': 'page',\n",
       "  'action': 'enter',\n",
       "  'options': {'name': 'landing'}},\n",
       " {'id': 48136376,\n",
       "  'client_id': 18923,\n",
       "  'user_id': 36488,\n",
       "  'category': 'page',\n",
       "  'action': 'enter',\n",
       "  'options': {'name': 'landing'}},\n",
       " {'id': 48136890,\n",
       "  'client_id': 33645,\n",
       "  'user_id': 61378,\n",
       "  'category': 'page',\n",
       "  'action': 'enter',\n",
       "  'options': {'name': 'landing'}},\n",
       " {'id': 48145332,\n",
       "  'client_id': 62089,\n",
       "  'user_id': 109095,\n",
       "  'category': 'page',\n",
       "  'action': 'enter',\n",
       "  'options': {'name': 'landing'}},\n",
       " {'id': 48155244,\n",
       "  'client_id': 26705,\n",
       "  'user_id': 48880,\n",
       "  'category': 'page',\n",
       "  'action': 'enter',\n",
       "  'options': {'name': 'landing'}},\n",
       " {'id': 48160942,\n",
       "  'client_id': 1103,\n",
       "  'user_id': 109501,\n",
       "  'category': 'page',\n",
       "  'action': 'enter',\n",
       "  'options': {'name': 'page'}},\n",
       " {'id': 48166190,\n",
       "  'client_id': 62439,\n",
       "  'user_id': 110397,\n",
       "  'category': 'page',\n",
       "  'action': 'enter',\n",
       "  'options': {'name': 'landing'}},\n",
       " {'id': 48167428,\n",
       "  'client_id': 44196,\n",
       "  'user_id': 74136,\n",
       "  'category': 'page',\n",
       "  'action': 'enter',\n",
       "  'options': {'name': 'landing'}},\n",
       " {'id': 48171114,\n",
       "  'client_id': 62602,\n",
       "  'user_id': 111069,\n",
       "  'category': 'page',\n",
       "  'action': 'enter',\n",
       "  'options': {'name': 'page'}},\n",
       " {'id': 48173426,\n",
       "  'client_id': 62602,\n",
       "  'user_id': 111069,\n",
       "  'category': 'page',\n",
       "  'action': 'enter',\n",
       "  'options': {'name': 'page'}},\n",
       " {'id': 48173444,\n",
       "  'client_id': 62602,\n",
       "  'user_id': 111069,\n",
       "  'category': 'report',\n",
       "  'action': 'link_click',\n",
       "  'options': {'url': 'javascript:void(0);',\n",
       "   'name': 'deal_count',\n",
       "   'value': '1'}},\n",
       " {'id': 48173446,\n",
       "  'client_id': 62602,\n",
       "  'user_id': 111069,\n",
       "  'category': 'page',\n",
       "  'action': 'enter',\n",
       "  'options': {'name': 'page'}},\n",
       " {'id': 48173640,\n",
       "  'client_id': 62602,\n",
       "  'user_id': 111069,\n",
       "  'category': 'page',\n",
       "  'action': 'enter',\n",
       "  'options': {'name': 'page'}},\n",
       " {'id': 48173686,\n",
       "  'client_id': 62602,\n",
       "  'user_id': 111069,\n",
       "  'category': 'page',\n",
       "  'action': 'enter',\n",
       "  'options': {'name': 'page'}},\n",
       " {'id': 48173698,\n",
       "  'client_id': 62602,\n",
       "  'user_id': 111069,\n",
       "  'category': 'page',\n",
       "  'action': 'enter',\n",
       "  'options': {'name': 'page'}},\n",
       " {'id': 48174302,\n",
       "  'client_id': 62602,\n",
       "  'user_id': 111069,\n",
       "  'category': 'page',\n",
       "  'action': 'enter',\n",
       "  'options': {'name': 'page'}},\n",
       " {'id': 48174312,\n",
       "  'client_id': 62602,\n",
       "  'user_id': 111069,\n",
       "  'category': 'report',\n",
       "  'action': 'link_click',\n",
       "  'options': {'url': 'javascript:void(0);',\n",
       "   'name': 'deal_count',\n",
       "   'value': '1'}},\n",
       " {'id': 48174314,\n",
       "  'client_id': 62602,\n",
       "  'user_id': 111069,\n",
       "  'category': 'page',\n",
       "  'action': 'enter',\n",
       "  'options': {'name': 'page'}},\n",
       " {'id': 48174338,\n",
       "  'client_id': 62602,\n",
       "  'user_id': 111069,\n",
       "  'category': 'page',\n",
       "  'action': 'enter',\n",
       "  'options': {'name': 'page'}},\n",
       " {'id': 48179988,\n",
       "  'client_id': 50149,\n",
       "  'user_id': 86073,\n",
       "  'category': 'page',\n",
       "  'action': 'enter',\n",
       "  'options': {'name': 'landing'}},\n",
       " {'id': 57301281,\n",
       "  'client_id': 57009,\n",
       "  'user_id': 107244,\n",
       "  'category': 'page',\n",
       "  'action': 'enter',\n",
       "  'options': {'name': 'landing'}},\n",
       " {'id': 57326589,\n",
       "  'client_id': 57207,\n",
       "  'user_id': 107968,\n",
       "  'category': 'page',\n",
       "  'action': 'enter',\n",
       "  'options': {'name': 'landing'}},\n",
       " {'id': 57328781,\n",
       "  'client_id': 32792,\n",
       "  'user_id': 57997,\n",
       "  'category': 'page',\n",
       "  'action': 'enter',\n",
       "  'options': {'name': 'landing'}},\n",
       " {'id': 57335607,\n",
       "  'client_id': 27323,\n",
       "  'user_id': 92681,\n",
       "  'category': 'page',\n",
       "  'action': 'enter',\n",
       "  'options': {'name': 'landing'}},\n",
       " {'id': 57355249,\n",
       "  'client_id': 24500,\n",
       "  'user_id': 45371,\n",
       "  'category': 'page',\n",
       "  'action': 'enter',\n",
       "  'options': {'name': 'landing'}},\n",
       " {'id': 57357969,\n",
       "  'client_id': 24500,\n",
       "  'user_id': 45371,\n",
       "  'category': 'page',\n",
       "  'action': 'enter',\n",
       "  'options': {'name': 'page'}},\n",
       " {'id': 57364085,\n",
       "  'client_id': 58330,\n",
       "  'user_id': 122756,\n",
       "  'category': 'page',\n",
       "  'action': 'enter',\n",
       "  'options': {'name': 'landing'}},\n",
       " {'id': 57368897,\n",
       "  'client_id': 61245,\n",
       "  'user_id': 122796,\n",
       "  'category': 'page',\n",
       "  'action': 'enter',\n",
       "  'options': {'name': 'landing'}},\n",
       " {'id': 57380235,\n",
       "  'client_id': 19799,\n",
       "  'user_id': 108493,\n",
       "  'category': 'page',\n",
       "  'action': 'enter',\n",
       "  'options': {'name': 'landing'}},\n",
       " {'id': 57397813,\n",
       "  'client_id': 56544,\n",
       "  'user_id': 105404,\n",
       "  'category': 'page',\n",
       "  'action': 'enter',\n",
       "  'options': {'name': 'page'}},\n",
       " {'id': 57397881,\n",
       "  'client_id': 56544,\n",
       "  'user_id': 105404,\n",
       "  'category': 'datepicker',\n",
       "  'action': 'apply',\n",
       "  'options': {'endDate': '2019-03-31 23:59:59',\n",
       "   'startDate': '2019-03-31 00:00:00'}},\n",
       " {'id': 57397923,\n",
       "  'client_id': 56544,\n",
       "  'user_id': 105404,\n",
       "  'category': 'datepicker',\n",
       "  'action': 'apply',\n",
       "  'options': {'endDate': '2019-03-30 23:59:59',\n",
       "   'startDate': '2019-03-30 00:00:00'}},\n",
       " {'id': 57397987,\n",
       "  'client_id': 56544,\n",
       "  'user_id': 105404,\n",
       "  'category': 'datepicker',\n",
       "  'action': 'apply',\n",
       "  'options': {'endDate': '2019-03-29 23:59:59',\n",
       "   'startDate': '2019-03-29 00:00:00'}},\n",
       " {'id': 57398079,\n",
       "  'client_id': 56544,\n",
       "  'user_id': 105404,\n",
       "  'category': 'datepicker',\n",
       "  'action': 'apply',\n",
       "  'options': {'endDate': '2019-03-28 23:59:59',\n",
       "   'startDate': '2019-03-28 00:00:00'}},\n",
       " {'id': 57398119,\n",
       "  'client_id': 56544,\n",
       "  'user_id': 105404,\n",
       "  'category': 'datepicker',\n",
       "  'action': 'apply',\n",
       "  'options': {'endDate': '2019-03-27 23:59:59',\n",
       "   'startDate': '2019-03-27 00:00:00'}},\n",
       " {'id': 57398165,\n",
       "  'client_id': 56544,\n",
       "  'user_id': 105404,\n",
       "  'category': 'datepicker',\n",
       "  'action': 'apply',\n",
       "  'options': {'endDate': '2019-03-26 23:59:59',\n",
       "   'startDate': '2019-03-26 00:00:00'}},\n",
       " {'id': 57398203,\n",
       "  'client_id': 56544,\n",
       "  'user_id': 105404,\n",
       "  'category': 'datepicker',\n",
       "  'action': 'apply',\n",
       "  'options': {'endDate': '2019-03-25 23:59:59',\n",
       "   'startDate': '2019-03-25 00:00:00'}},\n",
       " {'id': 57414209,\n",
       "  'client_id': 23207,\n",
       "  'user_id': 43300,\n",
       "  'category': 'page',\n",
       "  'action': 'enter',\n",
       "  'options': {'name': 'landing'}},\n",
       " {'id': 57414633,\n",
       "  'client_id': 23207,\n",
       "  'user_id': 43300,\n",
       "  'category': 'page',\n",
       "  'action': 'enter',\n",
       "  'options': {'name': 'landing'}},\n",
       " {'id': 57414663,\n",
       "  'client_id': 23207,\n",
       "  'user_id': 85282,\n",
       "  'category': 'page',\n",
       "  'action': 'enter',\n",
       "  'options': {'name': 'landing'}},\n",
       " {'id': 57414851,\n",
       "  'client_id': 23207,\n",
       "  'user_id': 43300,\n",
       "  'category': 'page',\n",
       "  'action': 'enter',\n",
       "  'options': {'name': 'landing'}},\n",
       " {'id': 57420219,\n",
       "  'client_id': 48128,\n",
       "  'user_id': 121686,\n",
       "  'category': 'page',\n",
       "  'action': 'enter',\n",
       "  'options': {'name': 'landing'}},\n",
       " {'id': 57424709,\n",
       "  'client_id': 58113,\n",
       "  'user_id': 120952,\n",
       "  'category': 'page',\n",
       "  'action': 'enter',\n",
       "  'options': {'name': 'page'}},\n",
       " {'id': 57424757,\n",
       "  'client_id': 58113,\n",
       "  'user_id': 120952,\n",
       "  'category': 'report',\n",
       "  'action': 'change_mode',\n",
       "  'options': {'mode': 'deals'}},\n",
       " {'id': 57425399,\n",
       "  'client_id': 58113,\n",
       "  'user_id': 120952,\n",
       "  'category': 'table',\n",
       "  'action': 'sort',\n",
       "  'options': {'dir': 'ASC', 'name': 'ac'}},\n",
       " {'id': 57425421,\n",
       "  'client_id': 58113,\n",
       "  'user_id': 120952,\n",
       "  'category': 'table',\n",
       "  'action': 'sort',\n",
       "  'options': {'dir': 'DESC', 'name': 'ac'}},\n",
       " {'id': 57426007,\n",
       "  'client_id': 58113,\n",
       "  'user_id': 120952,\n",
       "  'category': 'datepicker',\n",
       "  'action': 'apply',\n",
       "  'options': {'endDate': '2019-03-24 23:59:59',\n",
       "   'startDate': '2019-03-18 00:00:00'}},\n",
       " {'id': 57426303,\n",
       "  'client_id': 58113,\n",
       "  'user_id': 120952,\n",
       "  'category': 'datepicker',\n",
       "  'action': 'apply',\n",
       "  'options': {'endDate': '2019-03-17 23:59:59',\n",
       "   'startDate': '2019-03-11 00:00:00'}},\n",
       " {'id': 57431787,\n",
       "  'client_id': 58113,\n",
       "  'user_id': 120952,\n",
       "  'category': 'page',\n",
       "  'action': 'enter',\n",
       "  'options': {'name': 'page'}},\n",
       " {'id': 57444593,\n",
       "  'client_id': 57613,\n",
       "  'user_id': 110958,\n",
       "  'category': 'page',\n",
       "  'action': 'enter',\n",
       "  'options': {'name': 'landing'}},\n",
       " {'id': 57453741,\n",
       "  'client_id': 61244,\n",
       "  'user_id': 120170,\n",
       "  'category': 'page',\n",
       "  'action': 'enter',\n",
       "  'options': {'name': 'landing'}},\n",
       " {'id': 57467371,\n",
       "  'client_id': 53666,\n",
       "  'user_id': 122224,\n",
       "  'category': 'page',\n",
       "  'action': 'enter',\n",
       "  'options': {'name': 'landing'}},\n",
       " {'id': 57473917,\n",
       "  'client_id': 53018,\n",
       "  'user_id': 92402,\n",
       "  'category': 'page',\n",
       "  'action': 'enter',\n",
       "  'options': {'name': 'landing'}},\n",
       " {'id': 57475785,\n",
       "  'client_id': 53666,\n",
       "  'user_id': 122224,\n",
       "  'category': 'page',\n",
       "  'action': 'enter',\n",
       "  'options': {'name': 'landing'}},\n",
       " {'id': 57492477,\n",
       "  'client_id': 41737,\n",
       "  'user_id': 122874,\n",
       "  'category': 'page',\n",
       "  'action': 'enter',\n",
       "  'options': {'name': 'landing'}},\n",
       " {'id': 57493427,\n",
       "  'client_id': 61078,\n",
       "  'user_id': 119662,\n",
       "  'category': 'page',\n",
       "  'action': 'enter',\n",
       "  'options': {'name': 'landing'}},\n",
       " {'id': 57515935,\n",
       "  'client_id': 20820,\n",
       "  'user_id': 116898,\n",
       "  'category': 'page',\n",
       "  'action': 'enter',\n",
       "  'options': {'name': 'landing'}},\n",
       " {'id': 57517657,\n",
       "  'client_id': 41737,\n",
       "  'user_id': 122874,\n",
       "  'category': 'page',\n",
       "  'action': 'enter',\n",
       "  'options': {'name': 'landing'}},\n",
       " {'id': 57540495,\n",
       "  'client_id': 49700,\n",
       "  'user_id': 84946,\n",
       "  'category': 'page',\n",
       "  'action': 'enter',\n",
       "  'options': {'name': 'landing'}}]"
      ]
     },
     "execution_count": 7,
     "metadata": {},
     "output_type": "execute_result"
    }
   ],
   "source": [
    "data['events_data']"
   ]
  },
  {
   "cell_type": "code",
   "execution_count": 8,
   "metadata": {},
   "outputs": [],
   "source": [
    "data_list = data['events_data']"
   ]
  },
  {
   "cell_type": "code",
   "execution_count": 9,
   "metadata": {},
   "outputs": [
    {
     "name": "stdout",
     "output_type": "stream",
     "text": [
      "107\n"
     ]
    }
   ],
   "source": [
    "print(len(data_list))"
   ]
  },
  {
   "cell_type": "code",
   "execution_count": 10,
   "metadata": {
    "scrolled": true
   },
   "outputs": [
    {
     "name": "stdout",
     "output_type": "stream",
     "text": [
      "['page', 'page', 'page', 'datepicker', 'table', 'table', 'table', 'table', 'datepicker', 'datepicker', 'datepicker', 'datepicker', 'datepicker', 'page', 'page', 'page', 'page', 'page', 'page', 'page', 'page', 'page', 'page', 'page', 'page', 'page', 'page', 'page', 'page', 'page', 'page', 'page', 'page', 'report', 'report', 'report', 'report', 'page', 'report', 'page', 'page', 'page', 'table', 'table', 'table', 'table', 'page', 'page', 'page', 'page', 'page', 'page', 'page', 'page', 'page', 'page', 'page', 'page', 'report', 'page', 'page', 'page', 'page', 'page', 'report', 'page', 'page', 'page', 'page', 'page', 'page', 'page', 'page', 'page', 'page', 'page', 'page', 'page', 'datepicker', 'datepicker', 'datepicker', 'datepicker', 'datepicker', 'datepicker', 'datepicker', 'page', 'page', 'page', 'page', 'page', 'page', 'report', 'table', 'table', 'datepicker', 'datepicker', 'page', 'page', 'page', 'page', 'page', 'page', 'page', 'page', 'page', 'page', 'page']\n"
     ]
    }
   ],
   "source": [
    "categories = []\n",
    "for item in data_list:\n",
    "    category = item['category']\n",
    "    categories.append(category)\n",
    "print (categories)"
   ]
  },
  {
   "cell_type": "code",
   "execution_count": 11,
   "metadata": {},
   "outputs": [
    {
     "name": "stdout",
     "output_type": "stream",
     "text": [
      "Counter({'page': 74, 'datepicker': 15, 'table': 10, 'report': 8})\n"
     ]
    }
   ],
   "source": [
    "import collections\n",
    "c = collections.Counter()\n",
    "for category in categories:\n",
    "    c[category] += 1\n",
    "print (c)"
   ]
  },
  {
   "cell_type": "code",
   "execution_count": 12,
   "metadata": {},
   "outputs": [
    {
     "name": "stdout",
     "output_type": "stream",
     "text": [
      "[27115, 27115, 27115, 27115, 60459, 60459, 60459, 60459, 58113, 58113]\n"
     ]
    }
   ],
   "source": [
    "table_clients = []\n",
    "for item in data_list:\n",
    "    client_id = item['client_id']\n",
    "    category = item['category']\n",
    "    if category == 'table':\n",
    "        table_clients.append(client_id)\n",
    "print (table_clients)"
   ]
  },
  {
   "cell_type": "code",
   "execution_count": 13,
   "metadata": {},
   "outputs": [
    {
     "name": "stdout",
     "output_type": "stream",
     "text": [
      "Counter({27115: 4, 60459: 4, 58113: 2})\n"
     ]
    }
   ],
   "source": [
    "c = collections.Counter()\n",
    "for table_client in table_clients:\n",
    "    c[table_client] += 1\n",
    "print (c)"
   ]
  },
  {
   "cell_type": "code",
   "execution_count": 14,
   "metadata": {},
   "outputs": [
    {
     "name": "stdout",
     "output_type": "stream",
     "text": [
      "3\n"
     ]
    }
   ],
   "source": [
    "print (len(c.keys()))"
   ]
  },
  {
   "cell_type": "code",
   "execution_count": 16,
   "metadata": {},
   "outputs": [
    {
     "name": "stdout",
     "output_type": "stream",
     "text": [
      "4\n"
     ]
    }
   ],
   "source": [
    "print(c[27115])"
   ]
  },
  {
   "cell_type": "code",
   "execution_count": 20,
   "metadata": {},
   "outputs": [
    {
     "name": "stdout",
     "output_type": "stream",
     "text": [
      "[['enter'], ['enter'], ['enter'], ['apply'], ['sort'], ['sort'], ['sort'], ['sort'], ['apply'], ['apply'], ['apply'], ['apply'], ['apply'], ['enter'], ['enter'], ['enter'], ['enter'], ['enter'], ['enter'], ['enter'], ['enter'], ['enter'], ['enter'], ['enter'], ['enter'], ['enter'], ['enter'], ['enter'], ['enter'], ['enter'], ['enter'], ['enter'], ['enter'], ['change_mode'], ['change_mode'], ['change_mode'], ['change_mode'], ['enter'], ['change_mode'], ['enter'], ['enter'], ['enter'], ['sort'], ['sort'], ['sort'], ['sort'], ['enter'], ['enter'], ['enter'], ['enter'], ['enter'], ['enter'], ['enter'], ['enter'], ['enter'], ['enter'], ['enter'], ['enter'], ['link_click'], ['enter'], ['enter'], ['enter'], ['enter'], ['enter'], ['link_click'], ['enter'], ['enter'], ['enter'], ['enter'], ['enter'], ['enter'], ['enter'], ['enter'], ['enter'], ['enter'], ['enter'], ['enter'], ['enter'], ['apply'], ['apply'], ['apply'], ['apply'], ['apply'], ['apply'], ['apply'], ['enter'], ['enter'], ['enter'], ['enter'], ['enter'], ['enter'], ['change_mode'], ['sort'], ['sort'], ['apply'], ['apply'], ['enter'], ['enter'], ['enter'], ['enter'], ['enter'], ['enter'], ['enter'], ['enter'], ['enter'], ['enter'], ['enter']]\n"
     ]
    }
   ],
   "source": [
    "table_clients = []\n",
    "for item in data_list:\n",
    "    client_id = item['client_id']\n",
    "    action = item['action']\n",
    "    table_clients.append([action])\n",
    "print (table_clients)"
   ]
  },
  {
   "cell_type": "code",
   "execution_count": 21,
   "metadata": {},
   "outputs": [
    {
     "data": {
      "text/plain": [
       "107"
      ]
     },
     "execution_count": 21,
     "metadata": {},
     "output_type": "execute_result"
    }
   ],
   "source": [
    "len(table_clients)"
   ]
  },
  {
   "cell_type": "code",
   "execution_count": 23,
   "metadata": {},
   "outputs": [
    {
     "name": "stdout",
     "output_type": "stream",
     "text": [
      "['enter', 'enter', 'enter', 'apply', 'sort', 'sort', 'sort', 'sort', 'apply', 'apply', 'apply', 'apply', 'apply', 'enter', 'enter', 'enter', 'enter', 'enter', 'enter', 'enter', 'enter', 'enter', 'enter', 'enter', 'enter', 'enter', 'enter', 'enter', 'enter', 'enter', 'enter', 'enter', 'enter', 'change_mode', 'change_mode', 'change_mode', 'change_mode', 'enter', 'change_mode', 'enter', 'enter', 'enter', 'sort', 'sort', 'sort', 'sort', 'enter', 'enter', 'enter', 'enter', 'enter', 'enter', 'enter', 'enter', 'enter', 'enter', 'enter', 'enter', 'link_click', 'enter', 'enter', 'enter', 'enter', 'enter', 'link_click', 'enter', 'enter', 'enter', 'enter', 'enter', 'enter', 'enter', 'enter', 'enter', 'enter', 'enter', 'enter', 'enter', 'apply', 'apply', 'apply', 'apply', 'apply', 'apply', 'apply', 'enter', 'enter', 'enter', 'enter', 'enter', 'enter', 'change_mode', 'sort', 'sort', 'apply', 'apply', 'enter', 'enter', 'enter', 'enter', 'enter', 'enter', 'enter', 'enter', 'enter', 'enter', 'enter']\n"
     ]
    }
   ],
   "source": [
    "categories = []\n",
    "for item in data_list:\n",
    "    category = item['action']\n",
    "    categories.append(category)\n",
    "print (categories)"
   ]
  },
  {
   "cell_type": "code",
   "execution_count": 24,
   "metadata": {},
   "outputs": [
    {
     "name": "stdout",
     "output_type": "stream",
     "text": [
      "Counter({'e': 2, 'n': 1, 't': 1, 'r': 1})\n"
     ]
    }
   ],
   "source": [
    "import collections\n",
    "c = collections.Counter()\n",
    "for category in action:\n",
    "    c[category] += 1\n",
    "print (c)"
   ]
  },
  {
   "cell_type": "code",
   "execution_count": 25,
   "metadata": {},
   "outputs": [
    {
     "name": "stdout",
     "output_type": "stream",
     "text": [
      "[62526, 61944, 27115, 27115, 27115, 27115, 27115, 27115, 27115, 27115, 27115, 27115, 27115, 62017, 63120, 59883, 2913, 62940, 63149, 45391, 18923, 63019, 18923, 18923, 15759, 62007, 62941, 51009, 62236, 44682, 39709, 60459, 62144, 60459, 60459, 60459, 60459, 60459, 60459, 52492, 52492, 60459, 60459, 60459, 60459, 60459, 52492, 18923, 25301, 18923, 33645, 62089, 26705, 1103, 62439, 44196, 62602, 62602, 62602, 62602, 62602, 62602, 62602, 62602, 62602, 62602, 62602, 50149, 57009, 57207, 32792, 27323, 24500, 24500, 58330, 61245, 19799, 56544, 56544, 56544, 56544, 56544, 56544, 56544, 56544, 23207, 23207, 23207, 23207, 48128, 58113, 58113, 58113, 58113, 58113, 58113, 58113, 57613, 61244, 53666, 53018, 53666, 41737, 61078, 20820, 41737, 49700]\n"
     ]
    }
   ],
   "source": [
    "clients = []\n",
    "for item in data_list:\n",
    "    client = item['client_id']\n",
    "    clients.append(client)\n",
    "print (clients)"
   ]
  },
  {
   "cell_type": "code",
   "execution_count": null,
   "metadata": {},
   "outputs": [],
   "source": []
  },
  {
   "cell_type": "code",
   "execution_count": 27,
   "metadata": {},
   "outputs": [
    {
     "data": {
      "text/plain": [
       "107"
      ]
     },
     "execution_count": 27,
     "metadata": {},
     "output_type": "execute_result"
    }
   ],
   "source": [
    "len(clients)"
   ]
  },
  {
   "cell_type": "code",
   "execution_count": 28,
   "metadata": {},
   "outputs": [
    {
     "name": "stdout",
     "output_type": "stream",
     "text": [
      "Counter({60459: 12, 27115: 11, 62602: 11, 56544: 8, 58113: 7, 18923: 5, 23207: 4, 52492: 3, 24500: 2, 53666: 2, 41737: 2, 62526: 1, 61944: 1, 62017: 1, 63120: 1, 59883: 1, 2913: 1, 62940: 1, 63149: 1, 45391: 1, 63019: 1, 15759: 1, 62007: 1, 62941: 1, 51009: 1, 62236: 1, 44682: 1, 39709: 1, 62144: 1, 25301: 1, 33645: 1, 62089: 1, 26705: 1, 1103: 1, 62439: 1, 44196: 1, 50149: 1, 57009: 1, 57207: 1, 32792: 1, 27323: 1, 58330: 1, 61245: 1, 19799: 1, 48128: 1, 57613: 1, 61244: 1, 53018: 1, 61078: 1, 20820: 1, 49700: 1})\n"
     ]
    }
   ],
   "source": [
    "import collections\n",
    "c = collections.Counter()\n",
    "for client in clients:\n",
    "    c[client] += 1\n",
    "print (c)"
   ]
  },
  {
   "cell_type": "code",
   "execution_count": 29,
   "metadata": {},
   "outputs": [
    {
     "data": {
      "text/plain": [
       "51"
      ]
     },
     "execution_count": 29,
     "metadata": {},
     "output_type": "execute_result"
    }
   ],
   "source": [
    "len(c) #Подсчитайте количество клиентов (client_id), которые совершали какие-либо действия"
   ]
  },
  {
   "cell_type": "code",
   "execution_count": 30,
   "metadata": {},
   "outputs": [
    {
     "data": {
      "text/plain": [
       "12"
      ]
     },
     "execution_count": 30,
     "metadata": {},
     "output_type": "execute_result"
    }
   ],
   "source": [
    "c[60459] #Сколько действий совершил клиент (client_id) под номером 60459?"
   ]
  },
  {
   "cell_type": "code",
   "execution_count": 37,
   "metadata": {},
   "outputs": [
    {
     "data": {
      "text/plain": [
       "9"
      ]
     },
     "execution_count": 37,
     "metadata": {},
     "output_type": "execute_result"
    }
   ],
   "source": [
    "cl_62602 = 0 #Сколько действий с категорией (category) = page совершил клиент под номером 62602?\n",
    "for item in data_list:\n",
    "    if (item['category']=='page') and (item['client_id']==62602):\n",
    "        cl_62602 += 1\n",
    "        \n",
    "cl_62602"
   ]
  },
  {
   "cell_type": "code",
   "execution_count": 41,
   "metadata": {},
   "outputs": [
    {
     "name": "stdout",
     "output_type": "stream",
     "text": [
      "3\n"
     ]
    }
   ],
   "source": [
    "table_clients = [] #Сколько уникальных клиентов совершили действия с категорией (category) = report?\n",
    "for item in data_list:\n",
    "    client_id = item['client_id']\n",
    "    category = item['category']\n",
    "    if category == 'report':\n",
    "        table_clients.append(client_id)\n",
    "c = collections.Counter()\n",
    "for table_client in table_clients:\n",
    "    c[table_client] += 1\n",
    "print (len(c))"
   ]
  },
  {
   "cell_type": "code",
   "execution_count": 42,
   "metadata": {},
   "outputs": [
    {
     "name": "stdout",
     "output_type": "stream",
     "text": [
      "Counter({60459: 5, 62602: 2, 58113: 1})\n"
     ]
    }
   ],
   "source": [
    "print(c) #Перечислите в каждом из полей идентификаторы клиентов, которые совершили действия с категорией (category) = report (В порядке возрастания"
   ]
  },
  {
   "cell_type": "code",
   "execution_count": 43,
   "metadata": {},
   "outputs": [
    {
     "data": {
      "text/plain": [
       "[60459, 60459, 60459, 60459, 60459, 62602, 62602, 58113]"
      ]
     },
     "execution_count": 43,
     "metadata": {},
     "output_type": "execute_result"
    }
   ],
   "source": [
    "table_clients"
   ]
  },
  {
   "cell_type": "code",
   "execution_count": 44,
   "metadata": {},
   "outputs": [
    {
     "name": "stdout",
     "output_type": "stream",
     "text": [
      "{'id': 48118516, 'client_id': 60459, 'user_id': 32532, 'category': 'report', 'action': 'change_mode', 'options': {'mode': 'deals'}}\n",
      "{'id': 48118564, 'client_id': 60459, 'user_id': 32532, 'category': 'report', 'action': 'change_mode', 'options': {'mode': 'summary'}}\n",
      "{'id': 48118590, 'client_id': 60459, 'user_id': 32532, 'category': 'report', 'action': 'change_mode', 'options': {'mode': 'deals'}}\n",
      "{'id': 48118920, 'client_id': 60459, 'user_id': 32532, 'category': 'report', 'action': 'change_mode', 'options': {'mode': 'summary'}}\n",
      "{'id': 48120386, 'client_id': 60459, 'user_id': 32532, 'category': 'report', 'action': 'change_mode', 'options': {'mode': 'deals'}}\n",
      "{'id': 48173444, 'client_id': 62602, 'user_id': 111069, 'category': 'report', 'action': 'link_click', 'options': {'url': 'javascript:void(0);', 'name': 'deal_count', 'value': '1'}}\n",
      "{'id': 48174312, 'client_id': 62602, 'user_id': 111069, 'category': 'report', 'action': 'link_click', 'options': {'url': 'javascript:void(0);', 'name': 'deal_count', 'value': '1'}}\n",
      "{'id': 57424757, 'client_id': 58113, 'user_id': 120952, 'category': 'report', 'action': 'change_mode', 'options': {'mode': 'deals'}}\n"
     ]
    }
   ],
   "source": [
    "for item in data_list:\n",
    "    client_id = item['client_id']\n",
    "    category = item['category']\n",
    "    if category == 'report': print(item)"
   ]
  },
  {
   "cell_type": "code",
   "execution_count": null,
   "metadata": {},
   "outputs": [],
   "source": []
  },
  {
   "cell_type": "code",
   "execution_count": null,
   "metadata": {},
   "outputs": [],
   "source": []
  },
  {
   "cell_type": "code",
   "execution_count": null,
   "metadata": {},
   "outputs": [],
   "source": []
  },
  {
   "cell_type": "code",
   "execution_count": null,
   "metadata": {},
   "outputs": [],
   "source": []
  },
  {
   "cell_type": "code",
   "execution_count": null,
   "metadata": {},
   "outputs": [],
   "source": []
  },
  {
   "cell_type": "code",
   "execution_count": null,
   "metadata": {},
   "outputs": [],
   "source": []
  },
  {
   "cell_type": "code",
   "execution_count": null,
   "metadata": {},
   "outputs": [],
   "source": []
  }
 ],
 "metadata": {
  "kernelspec": {
   "display_name": "Python 3",
   "language": "python",
   "name": "python3"
  },
  "language_info": {
   "codemirror_mode": {
    "name": "ipython",
    "version": 3
   },
   "file_extension": ".py",
   "mimetype": "text/x-python",
   "name": "python",
   "nbconvert_exporter": "python",
   "pygments_lexer": "ipython3",
   "version": "3.7.4"
  }
 },
 "nbformat": 4,
 "nbformat_minor": 2
}
