{
 "cells": [
  {
   "cell_type": "code",
   "execution_count": 63,
   "metadata": {},
   "outputs": [],
   "source": [
    "import numpy as np\n",
    "\n",
    "\n",
    "def game_core(number):\n",
    "    \"\"\"Function to guess the number in interval from 1 to 100\"\"\"\n",
    "    \n",
    "    #the shortest way to guess - take the middle of the interval:\n",
    "    def predict(min_possible_number, max_possible_number):\n",
    "        \"\"\"Function to predict the nubmer \n",
    "           according the middle of the interval\"\"\"\n",
    "        return int((max_possible_number-min_possible_number)/2\n",
    "                    + min_possible_number)\n",
    "    \n",
    "    count = 1\n",
    "    min_possible_number = 1\n",
    "    max_possible_number = 100\n",
    "    predicted = predict(min_possible_number, max_possible_number)\n",
    "            \n",
    "    while number != predicted:\n",
    "        count += 1\n",
    "        if number > predicted:\n",
    "            min_possible_number = predicted+1\n",
    "            predicted = predict(min_possible_number, max_possible_number)\n",
    "        else:\n",
    "            max_possible_number = predicted-1\n",
    "            predicted = predict(min_possible_number, max_possible_number)\n",
    "    return count\n",
    "\n",
    "\n",
    "def score_game(game_core):\n",
    "    '''Run the game 1000 times to get the medium number of attempts'''\n",
    "    count_ls = [] #the set of attempts for every game\n",
    "    np.random.seed(1)  # fix random seed to have the experiment to be clear\n",
    "    random_array = np.random.randint(1,101, size=(1000))\n",
    "    for number in random_array:\n",
    "        count_ls.append(game_core(number))\n",
    "    score = int(np.mean(count_ls))\n",
    "    print(f\"Ваш алгоритм угадывает число в среднем за {score} попыток\")\n",
    "    return(score)"
   ]
  }
 ],
 "metadata": {
  "kernelspec": {
   "display_name": "Python 3",
   "language": "python",
   "name": "python3"
  },
  "language_info": {
   "codemirror_mode": {
    "name": "ipython",
    "version": 3
   },
   "file_extension": ".py",
   "mimetype": "text/x-python",
   "name": "python",
   "nbconvert_exporter": "python",
   "pygments_lexer": "ipython3",
   "version": "3.7.4"
  }
 },
 "nbformat": 4,
 "nbformat_minor": 2
}
