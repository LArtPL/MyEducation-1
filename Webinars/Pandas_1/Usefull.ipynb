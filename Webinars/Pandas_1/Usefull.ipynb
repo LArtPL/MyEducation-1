{
 "cells": [
  {
   "cell_type": "code",
   "execution_count": 1,
   "metadata": {},
   "outputs": [],
   "source": [
    "import pandas as pd"
   ]
  },
  {
   "cell_type": "code",
   "execution_count": 2,
   "metadata": {},
   "outputs": [],
   "source": [
    "df = pd.read_csv('titanic.csv')"
   ]
  },
  {
   "cell_type": "code",
   "execution_count": 3,
   "metadata": {},
   "outputs": [
    {
     "name": "stdout",
     "output_type": "stream",
     "text": [
      "Данные о мужчинах\n",
      "0    468\n",
      "1    109\n",
      "Name: Survived, dtype: int64\n",
      "\n",
      "Данные о женщинах\n",
      "1    233\n",
      "0     81\n",
      "Name: Survived, dtype: int64\n",
      "\n"
     ]
    }
   ],
   "source": [
    "# Организуем вывод обобщенных данных о погибших и выживших среди мужчин и женщин\n",
    "for sex in df['Sex'].unique():\n",
    "    if sex == 'male':\n",
    "        print('Данные о мужчинах')\n",
    "    else:\n",
    "        print('Данные о женщинах')\n",
    "    print(df[df['Sex']==sex]['Survived'].value_counts())\n",
    "    print()"
   ]
  },
  {
   "cell_type": "code",
   "execution_count": 4,
   "metadata": {},
   "outputs": [
    {
     "name": "stdout",
     "output_type": "stream",
     "text": [
      "Класс 1\n",
      "Данные о мужчинах\n",
      "0    77\n",
      "1    45\n",
      "Name: Survived, dtype: int64\n",
      "\n",
      "Данные о женщинах\n",
      "1    91\n",
      "0     3\n",
      "Name: Survived, dtype: int64\n",
      "\n",
      "Класс 2\n",
      "Данные о мужчинах\n",
      "0    91\n",
      "1    17\n",
      "Name: Survived, dtype: int64\n",
      "\n",
      "Данные о женщинах\n",
      "1    70\n",
      "0     6\n",
      "Name: Survived, dtype: int64\n",
      "\n",
      "Класс 3\n",
      "Данные о мужчинах\n",
      "0    300\n",
      "1     47\n",
      "Name: Survived, dtype: int64\n",
      "\n",
      "Данные о женщинах\n",
      "1    72\n",
      "0    72\n",
      "Name: Survived, dtype: int64\n",
      "\n"
     ]
    }
   ],
   "source": [
    "# Посчитаем обобщенные данные по классам и полу\n",
    "for cls in sorted(df['Pclass'].unique()):\n",
    "    print('Класс', cls)   \n",
    "    for sex in df['Sex'].unique():\n",
    "        if sex == 'male':\n",
    "            print('Данные о мужчинах')\n",
    "        else:\n",
    "            print('Данные о женщинах')\n",
    "        print(df[(df['Sex']==sex)&(df['Pclass']==cls)]['Survived'].value_counts())\n",
    "        print()"
   ]
  },
  {
   "cell_type": "code",
   "execution_count": null,
   "metadata": {},
   "outputs": [],
   "source": []
  }
 ],
 "metadata": {
  "kernelspec": {
   "display_name": "Python 3",
   "language": "python",
   "name": "python3"
  },
  "language_info": {
   "codemirror_mode": {
    "name": "ipython",
    "version": 3
   },
   "file_extension": ".py",
   "mimetype": "text/x-python",
   "name": "python",
   "nbconvert_exporter": "python",
   "pygments_lexer": "ipython3",
   "version": "3.7.4"
  }
 },
 "nbformat": 4,
 "nbformat_minor": 2
}
