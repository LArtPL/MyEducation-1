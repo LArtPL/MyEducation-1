{
 "cells": [
  {
   "cell_type": "code",
   "execution_count": 1,
   "metadata": {},
   "outputs": [],
   "source": [
    "import pandas as pd"
   ]
  },
  {
   "cell_type": "code",
   "execution_count": 2,
   "metadata": {},
   "outputs": [],
   "source": [
    "df = pd.read_csv('main_task.csv')"
   ]
  },
  {
   "cell_type": "code",
   "execution_count": 3,
   "metadata": {},
   "outputs": [
    {
     "data": {
      "text/html": [
       "<div>\n",
       "<style scoped>\n",
       "    .dataframe tbody tr th:only-of-type {\n",
       "        vertical-align: middle;\n",
       "    }\n",
       "\n",
       "    .dataframe tbody tr th {\n",
       "        vertical-align: top;\n",
       "    }\n",
       "\n",
       "    .dataframe thead th {\n",
       "        text-align: right;\n",
       "    }\n",
       "</style>\n",
       "<table border=\"1\" class=\"dataframe\">\n",
       "  <thead>\n",
       "    <tr style=\"text-align: right;\">\n",
       "      <th></th>\n",
       "      <th>Restaurant_id</th>\n",
       "      <th>City</th>\n",
       "      <th>Cuisine Style</th>\n",
       "      <th>Ranking</th>\n",
       "      <th>Rating</th>\n",
       "      <th>Price Range</th>\n",
       "      <th>Number of Reviews</th>\n",
       "      <th>Reviews</th>\n",
       "      <th>URL_TA</th>\n",
       "      <th>ID_TA</th>\n",
       "    </tr>\n",
       "  </thead>\n",
       "  <tbody>\n",
       "    <tr>\n",
       "      <th>3965</th>\n",
       "      <td>id_610</td>\n",
       "      <td>Prague</td>\n",
       "      <td>['Italian', 'Pizza', 'European', 'Internationa...</td>\n",
       "      <td>611.0</td>\n",
       "      <td>4.0</td>\n",
       "      <td>$$ - $$$</td>\n",
       "      <td>104.0</td>\n",
       "      <td>[['Good location, outdoor seating, pity that.....</td>\n",
       "      <td>/Restaurant_Review-g274707-d2558041-Reviews-50...</td>\n",
       "      <td>d2558041</td>\n",
       "    </tr>\n",
       "    <tr>\n",
       "      <th>34234</th>\n",
       "      <td>id_3577</td>\n",
       "      <td>Paris</td>\n",
       "      <td>['Vegetarian Friendly']</td>\n",
       "      <td>3578.0</td>\n",
       "      <td>5.0</td>\n",
       "      <td>$</td>\n",
       "      <td>15.0</td>\n",
       "      <td>[['The Famous Croque Monsieur'], ['07/07/2017']]</td>\n",
       "      <td>/Restaurant_Review-g187147-d12545586-Reviews-M...</td>\n",
       "      <td>d12545586</td>\n",
       "    </tr>\n",
       "    <tr>\n",
       "      <th>9264</th>\n",
       "      <td>id_1029</td>\n",
       "      <td>Lisbon</td>\n",
       "      <td>['Portuguese']</td>\n",
       "      <td>1030.0</td>\n",
       "      <td>4.5</td>\n",
       "      <td>$</td>\n",
       "      <td>26.0</td>\n",
       "      <td>[['Awesome restaurant/bistro', 'Unbelievable l...</td>\n",
       "      <td>/Restaurant_Review-g189158-d5959963-Reviews-O_...</td>\n",
       "      <td>d5959963</td>\n",
       "    </tr>\n",
       "    <tr>\n",
       "      <th>5627</th>\n",
       "      <td>id_1418</td>\n",
       "      <td>Barcelona</td>\n",
       "      <td>['Mediterranean', 'Spanish', 'Contemporary', '...</td>\n",
       "      <td>1419.0</td>\n",
       "      <td>4.0</td>\n",
       "      <td>$$ - $$$</td>\n",
       "      <td>170.0</td>\n",
       "      <td>[['Lovely, open air feeling', 'Relaxing garden...</td>\n",
       "      <td>/Restaurant_Review-g187497-d8799903-Reviews-Sa...</td>\n",
       "      <td>d8799903</td>\n",
       "    </tr>\n",
       "    <tr>\n",
       "      <th>1468</th>\n",
       "      <td>id_1903</td>\n",
       "      <td>Prague</td>\n",
       "      <td>['Italian', 'Indian', 'European', 'Czech']</td>\n",
       "      <td>1906.0</td>\n",
       "      <td>5.0</td>\n",
       "      <td>$</td>\n",
       "      <td>NaN</td>\n",
       "      <td>[['Perfect bistro'], ['04/11/2017']]</td>\n",
       "      <td>/Restaurant_Review-g274707-d12135807-Reviews-B...</td>\n",
       "      <td>d12135807</td>\n",
       "    </tr>\n",
       "  </tbody>\n",
       "</table>\n",
       "</div>"
      ],
      "text/plain": [
       "      Restaurant_id       City  \\\n",
       "3965         id_610     Prague   \n",
       "34234       id_3577      Paris   \n",
       "9264        id_1029     Lisbon   \n",
       "5627        id_1418  Barcelona   \n",
       "1468        id_1903     Prague   \n",
       "\n",
       "                                           Cuisine Style  Ranking  Rating  \\\n",
       "3965   ['Italian', 'Pizza', 'European', 'Internationa...    611.0     4.0   \n",
       "34234                            ['Vegetarian Friendly']   3578.0     5.0   \n",
       "9264                                      ['Portuguese']   1030.0     4.5   \n",
       "5627   ['Mediterranean', 'Spanish', 'Contemporary', '...   1419.0     4.0   \n",
       "1468          ['Italian', 'Indian', 'European', 'Czech']   1906.0     5.0   \n",
       "\n",
       "      Price Range  Number of Reviews  \\\n",
       "3965     $$ - $$$              104.0   \n",
       "34234           $               15.0   \n",
       "9264            $               26.0   \n",
       "5627     $$ - $$$              170.0   \n",
       "1468            $                NaN   \n",
       "\n",
       "                                                 Reviews  \\\n",
       "3965   [['Good location, outdoor seating, pity that.....   \n",
       "34234   [['The Famous Croque Monsieur'], ['07/07/2017']]   \n",
       "9264   [['Awesome restaurant/bistro', 'Unbelievable l...   \n",
       "5627   [['Lovely, open air feeling', 'Relaxing garden...   \n",
       "1468                [['Perfect bistro'], ['04/11/2017']]   \n",
       "\n",
       "                                                  URL_TA      ID_TA  \n",
       "3965   /Restaurant_Review-g274707-d2558041-Reviews-50...   d2558041  \n",
       "34234  /Restaurant_Review-g187147-d12545586-Reviews-M...  d12545586  \n",
       "9264   /Restaurant_Review-g189158-d5959963-Reviews-O_...   d5959963  \n",
       "5627   /Restaurant_Review-g187497-d8799903-Reviews-Sa...   d8799903  \n",
       "1468   /Restaurant_Review-g274707-d12135807-Reviews-B...  d12135807  "
      ]
     },
     "execution_count": 3,
     "metadata": {},
     "output_type": "execute_result"
    }
   ],
   "source": [
    "df.sample(5)"
   ]
  },
  {
   "cell_type": "code",
   "execution_count": 4,
   "metadata": {},
   "outputs": [
    {
     "data": {
      "text/plain": [
       "Restaurant_id            0\n",
       "City                     0\n",
       "Cuisine Style         9283\n",
       "Ranking                  0\n",
       "Rating                   0\n",
       "Price Range          13886\n",
       "Number of Reviews     2543\n",
       "Reviews                  0\n",
       "URL_TA                   0\n",
       "ID_TA                    0\n",
       "dtype: int64"
      ]
     },
     "execution_count": 4,
     "metadata": {},
     "output_type": "execute_result"
    }
   ],
   "source": [
    "df.isna().sum()"
   ]
  },
  {
   "cell_type": "code",
   "execution_count": 5,
   "metadata": {},
   "outputs": [
    {
     "data": {
      "text/plain": [
       "40000"
      ]
     },
     "execution_count": 5,
     "metadata": {},
     "output_type": "execute_result"
    }
   ],
   "source": [
    "len(df)"
   ]
  },
  {
   "cell_type": "code",
   "execution_count": 6,
   "metadata": {},
   "outputs": [
    {
     "name": "stdout",
     "output_type": "stream",
     "text": [
      "<class 'pandas.core.frame.DataFrame'>\n",
      "RangeIndex: 40000 entries, 0 to 39999\n",
      "Data columns (total 10 columns):\n",
      " #   Column             Non-Null Count  Dtype  \n",
      "---  ------             --------------  -----  \n",
      " 0   Restaurant_id      40000 non-null  object \n",
      " 1   City               40000 non-null  object \n",
      " 2   Cuisine Style      30717 non-null  object \n",
      " 3   Ranking            40000 non-null  float64\n",
      " 4   Rating             40000 non-null  float64\n",
      " 5   Price Range        26114 non-null  object \n",
      " 6   Number of Reviews  37457 non-null  float64\n",
      " 7   Reviews            40000 non-null  object \n",
      " 8   URL_TA             40000 non-null  object \n",
      " 9   ID_TA              40000 non-null  object \n",
      "dtypes: float64(3), object(7)\n",
      "memory usage: 3.1+ MB\n"
     ]
    }
   ],
   "source": [
    "df.info()"
   ]
  },
  {
   "cell_type": "code",
   "execution_count": 7,
   "metadata": {},
   "outputs": [
    {
     "name": "stdout",
     "output_type": "stream",
     "text": [
      "<class 'str'>\n",
      "<class 'str'>\n",
      "<class 'str'>\n",
      "<class 'numpy.float64'>\n",
      "<class 'numpy.float64'>\n",
      "<class 'str'>\n",
      "<class 'numpy.float64'>\n",
      "<class 'str'>\n",
      "<class 'str'>\n",
      "<class 'str'>\n"
     ]
    }
   ],
   "source": [
    "for i in df.iloc[0]: print(type(i))\n"
   ]
  },
  {
   "cell_type": "code",
   "execution_count": null,
   "metadata": {},
   "outputs": [],
   "source": []
  },
  {
   "cell_type": "code",
   "execution_count": null,
   "metadata": {},
   "outputs": [],
   "source": []
  },
  {
   "cell_type": "code",
   "execution_count": null,
   "metadata": {},
   "outputs": [],
   "source": []
  }
 ],
 "metadata": {
  "kernelspec": {
   "display_name": "Python 3",
   "language": "python",
   "name": "python3"
  },
  "language_info": {
   "codemirror_mode": {
    "name": "ipython",
    "version": 3
   },
   "file_extension": ".py",
   "mimetype": "text/x-python",
   "name": "python",
   "nbconvert_exporter": "python",
   "pygments_lexer": "ipython3",
   "version": "3.7.7"
  }
 },
 "nbformat": 4,
 "nbformat_minor": 4
}
