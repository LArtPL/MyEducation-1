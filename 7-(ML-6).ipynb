{
 "cells": [
  {
   "cell_type": "code",
   "execution_count": 1,
   "metadata": {},
   "outputs": [],
   "source": [
    "import pandas as pd\n",
    "import numpy as np\n",
    "from sklearn.model_selection import train_test_split\n",
    "from sklearn.ensemble import GradientBoostingClassifier\n",
    "from sklearn.metrics import accuracy_score\n",
    "from sklearn.model_selection import GridSearchCV"
   ]
  },
  {
   "cell_type": "code",
   "execution_count": null,
   "metadata": {},
   "outputs": [],
   "source": []
  },
  {
   "cell_type": "code",
   "execution_count": 2,
   "metadata": {},
   "outputs": [],
   "source": [
    "df = pd.read_csv('https://raw.githubusercontent.com/vincentarelbundock/Rdatasets/master/csv/DAAG/spam7.csv')"
   ]
  },
  {
   "cell_type": "code",
   "execution_count": 3,
   "metadata": {},
   "outputs": [
    {
     "data": {
      "text/html": [
       "<div>\n",
       "<style scoped>\n",
       "    .dataframe tbody tr th:only-of-type {\n",
       "        vertical-align: middle;\n",
       "    }\n",
       "\n",
       "    .dataframe tbody tr th {\n",
       "        vertical-align: top;\n",
       "    }\n",
       "\n",
       "    .dataframe thead th {\n",
       "        text-align: right;\n",
       "    }\n",
       "</style>\n",
       "<table border=\"1\" class=\"dataframe\">\n",
       "  <thead>\n",
       "    <tr style=\"text-align: right;\">\n",
       "      <th></th>\n",
       "      <th>Unnamed: 0</th>\n",
       "      <th>crl.tot</th>\n",
       "      <th>dollar</th>\n",
       "      <th>bang</th>\n",
       "      <th>money</th>\n",
       "      <th>n000</th>\n",
       "      <th>make</th>\n",
       "      <th>yesno</th>\n",
       "    </tr>\n",
       "  </thead>\n",
       "  <tbody>\n",
       "    <tr>\n",
       "      <th>0</th>\n",
       "      <td>1</td>\n",
       "      <td>278</td>\n",
       "      <td>0.000</td>\n",
       "      <td>0.778</td>\n",
       "      <td>0.00</td>\n",
       "      <td>0.00</td>\n",
       "      <td>0.00</td>\n",
       "      <td>y</td>\n",
       "    </tr>\n",
       "    <tr>\n",
       "      <th>1</th>\n",
       "      <td>2</td>\n",
       "      <td>1028</td>\n",
       "      <td>0.180</td>\n",
       "      <td>0.372</td>\n",
       "      <td>0.43</td>\n",
       "      <td>0.43</td>\n",
       "      <td>0.21</td>\n",
       "      <td>y</td>\n",
       "    </tr>\n",
       "    <tr>\n",
       "      <th>2</th>\n",
       "      <td>3</td>\n",
       "      <td>2259</td>\n",
       "      <td>0.184</td>\n",
       "      <td>0.276</td>\n",
       "      <td>0.06</td>\n",
       "      <td>1.16</td>\n",
       "      <td>0.06</td>\n",
       "      <td>y</td>\n",
       "    </tr>\n",
       "  </tbody>\n",
       "</table>\n",
       "</div>"
      ],
      "text/plain": [
       "   Unnamed: 0  crl.tot  dollar   bang  money  n000  make yesno\n",
       "0           1      278   0.000  0.778   0.00  0.00  0.00     y\n",
       "1           2     1028   0.180  0.372   0.43  0.43  0.21     y\n",
       "2           3     2259   0.184  0.276   0.06  1.16  0.06     y"
      ]
     },
     "execution_count": 3,
     "metadata": {},
     "output_type": "execute_result"
    }
   ],
   "source": [
    "df.head(3)"
   ]
  },
  {
   "cell_type": "code",
   "execution_count": 4,
   "metadata": {},
   "outputs": [],
   "source": [
    "def spam_to_num(value):\n",
    "    if value=='y': return 1\n",
    "    else: return 0"
   ]
  },
  {
   "cell_type": "code",
   "execution_count": 5,
   "metadata": {},
   "outputs": [],
   "source": [
    "df['spam'] = df['yesno'].apply(lambda x: spam_to_num(x))"
   ]
  },
  {
   "cell_type": "code",
   "execution_count": 6,
   "metadata": {},
   "outputs": [],
   "source": [
    "df.drop(['Unnamed: 0', 'yesno'], axis=1, inplace=True)"
   ]
  },
  {
   "cell_type": "code",
   "execution_count": 7,
   "metadata": {},
   "outputs": [
    {
     "data": {
      "text/html": [
       "<div>\n",
       "<style scoped>\n",
       "    .dataframe tbody tr th:only-of-type {\n",
       "        vertical-align: middle;\n",
       "    }\n",
       "\n",
       "    .dataframe tbody tr th {\n",
       "        vertical-align: top;\n",
       "    }\n",
       "\n",
       "    .dataframe thead th {\n",
       "        text-align: right;\n",
       "    }\n",
       "</style>\n",
       "<table border=\"1\" class=\"dataframe\">\n",
       "  <thead>\n",
       "    <tr style=\"text-align: right;\">\n",
       "      <th></th>\n",
       "      <th>crl.tot</th>\n",
       "      <th>dollar</th>\n",
       "      <th>bang</th>\n",
       "      <th>money</th>\n",
       "      <th>n000</th>\n",
       "      <th>make</th>\n",
       "      <th>spam</th>\n",
       "    </tr>\n",
       "  </thead>\n",
       "  <tbody>\n",
       "    <tr>\n",
       "      <th>0</th>\n",
       "      <td>278</td>\n",
       "      <td>0.000</td>\n",
       "      <td>0.778</td>\n",
       "      <td>0.00</td>\n",
       "      <td>0.00</td>\n",
       "      <td>0.00</td>\n",
       "      <td>1</td>\n",
       "    </tr>\n",
       "    <tr>\n",
       "      <th>1</th>\n",
       "      <td>1028</td>\n",
       "      <td>0.180</td>\n",
       "      <td>0.372</td>\n",
       "      <td>0.43</td>\n",
       "      <td>0.43</td>\n",
       "      <td>0.21</td>\n",
       "      <td>1</td>\n",
       "    </tr>\n",
       "    <tr>\n",
       "      <th>2</th>\n",
       "      <td>2259</td>\n",
       "      <td>0.184</td>\n",
       "      <td>0.276</td>\n",
       "      <td>0.06</td>\n",
       "      <td>1.16</td>\n",
       "      <td>0.06</td>\n",
       "      <td>1</td>\n",
       "    </tr>\n",
       "  </tbody>\n",
       "</table>\n",
       "</div>"
      ],
      "text/plain": [
       "   crl.tot  dollar   bang  money  n000  make  spam\n",
       "0      278   0.000  0.778   0.00  0.00  0.00     1\n",
       "1     1028   0.180  0.372   0.43  0.43  0.21     1\n",
       "2     2259   0.184  0.276   0.06  1.16  0.06     1"
      ]
     },
     "execution_count": 7,
     "metadata": {},
     "output_type": "execute_result"
    }
   ],
   "source": [
    "df.head(3)"
   ]
  },
  {
   "cell_type": "code",
   "execution_count": null,
   "metadata": {},
   "outputs": [],
   "source": []
  },
  {
   "cell_type": "code",
   "execution_count": 8,
   "metadata": {},
   "outputs": [],
   "source": [
    "X = df.drop(['spam'], axis=1)\n",
    "y = df['spam']\n",
    "\n",
    "for i in df.drop(['spam'], axis=1): \n",
    "    for j in df.drop(['spam'], axis=1):\n",
    "        if ((i!=j) and ((j+'_'+i) not in X)):\n",
    "            X[i+'_'+j]=df.drop(['spam'], axis=1)[i]*df.drop(['spam'], axis=1)[j]"
   ]
  },
  {
   "cell_type": "code",
   "execution_count": 9,
   "metadata": {},
   "outputs": [
    {
     "data": {
      "text/html": [
       "<div>\n",
       "<style scoped>\n",
       "    .dataframe tbody tr th:only-of-type {\n",
       "        vertical-align: middle;\n",
       "    }\n",
       "\n",
       "    .dataframe tbody tr th {\n",
       "        vertical-align: top;\n",
       "    }\n",
       "\n",
       "    .dataframe thead th {\n",
       "        text-align: right;\n",
       "    }\n",
       "</style>\n",
       "<table border=\"1\" class=\"dataframe\">\n",
       "  <thead>\n",
       "    <tr style=\"text-align: right;\">\n",
       "      <th></th>\n",
       "      <th>crl.tot</th>\n",
       "      <th>dollar</th>\n",
       "      <th>bang</th>\n",
       "      <th>money</th>\n",
       "      <th>n000</th>\n",
       "      <th>make</th>\n",
       "      <th>crl.tot_dollar</th>\n",
       "      <th>crl.tot_bang</th>\n",
       "      <th>crl.tot_money</th>\n",
       "      <th>crl.tot_n000</th>\n",
       "      <th>...</th>\n",
       "      <th>dollar_bang</th>\n",
       "      <th>dollar_money</th>\n",
       "      <th>dollar_n000</th>\n",
       "      <th>dollar_make</th>\n",
       "      <th>bang_money</th>\n",
       "      <th>bang_n000</th>\n",
       "      <th>bang_make</th>\n",
       "      <th>money_n000</th>\n",
       "      <th>money_make</th>\n",
       "      <th>n000_make</th>\n",
       "    </tr>\n",
       "  </thead>\n",
       "  <tbody>\n",
       "    <tr>\n",
       "      <th>0</th>\n",
       "      <td>278</td>\n",
       "      <td>0.000</td>\n",
       "      <td>0.778</td>\n",
       "      <td>0.00</td>\n",
       "      <td>0.00</td>\n",
       "      <td>0.00</td>\n",
       "      <td>0.000</td>\n",
       "      <td>216.284</td>\n",
       "      <td>0.00</td>\n",
       "      <td>0.00</td>\n",
       "      <td>...</td>\n",
       "      <td>0.000000</td>\n",
       "      <td>0.00000</td>\n",
       "      <td>0.00000</td>\n",
       "      <td>0.00000</td>\n",
       "      <td>0.00000</td>\n",
       "      <td>0.00000</td>\n",
       "      <td>0.00000</td>\n",
       "      <td>0.0000</td>\n",
       "      <td>0.0000</td>\n",
       "      <td>0.0000</td>\n",
       "    </tr>\n",
       "    <tr>\n",
       "      <th>1</th>\n",
       "      <td>1028</td>\n",
       "      <td>0.180</td>\n",
       "      <td>0.372</td>\n",
       "      <td>0.43</td>\n",
       "      <td>0.43</td>\n",
       "      <td>0.21</td>\n",
       "      <td>185.040</td>\n",
       "      <td>382.416</td>\n",
       "      <td>442.04</td>\n",
       "      <td>442.04</td>\n",
       "      <td>...</td>\n",
       "      <td>0.066960</td>\n",
       "      <td>0.07740</td>\n",
       "      <td>0.07740</td>\n",
       "      <td>0.03780</td>\n",
       "      <td>0.15996</td>\n",
       "      <td>0.15996</td>\n",
       "      <td>0.07812</td>\n",
       "      <td>0.1849</td>\n",
       "      <td>0.0903</td>\n",
       "      <td>0.0903</td>\n",
       "    </tr>\n",
       "    <tr>\n",
       "      <th>2</th>\n",
       "      <td>2259</td>\n",
       "      <td>0.184</td>\n",
       "      <td>0.276</td>\n",
       "      <td>0.06</td>\n",
       "      <td>1.16</td>\n",
       "      <td>0.06</td>\n",
       "      <td>415.656</td>\n",
       "      <td>623.484</td>\n",
       "      <td>135.54</td>\n",
       "      <td>2620.44</td>\n",
       "      <td>...</td>\n",
       "      <td>0.050784</td>\n",
       "      <td>0.01104</td>\n",
       "      <td>0.21344</td>\n",
       "      <td>0.01104</td>\n",
       "      <td>0.01656</td>\n",
       "      <td>0.32016</td>\n",
       "      <td>0.01656</td>\n",
       "      <td>0.0696</td>\n",
       "      <td>0.0036</td>\n",
       "      <td>0.0696</td>\n",
       "    </tr>\n",
       "    <tr>\n",
       "      <th>3</th>\n",
       "      <td>191</td>\n",
       "      <td>0.000</td>\n",
       "      <td>0.137</td>\n",
       "      <td>0.00</td>\n",
       "      <td>0.00</td>\n",
       "      <td>0.00</td>\n",
       "      <td>0.000</td>\n",
       "      <td>26.167</td>\n",
       "      <td>0.00</td>\n",
       "      <td>0.00</td>\n",
       "      <td>...</td>\n",
       "      <td>0.000000</td>\n",
       "      <td>0.00000</td>\n",
       "      <td>0.00000</td>\n",
       "      <td>0.00000</td>\n",
       "      <td>0.00000</td>\n",
       "      <td>0.00000</td>\n",
       "      <td>0.00000</td>\n",
       "      <td>0.0000</td>\n",
       "      <td>0.0000</td>\n",
       "      <td>0.0000</td>\n",
       "    </tr>\n",
       "    <tr>\n",
       "      <th>4</th>\n",
       "      <td>191</td>\n",
       "      <td>0.000</td>\n",
       "      <td>0.135</td>\n",
       "      <td>0.00</td>\n",
       "      <td>0.00</td>\n",
       "      <td>0.00</td>\n",
       "      <td>0.000</td>\n",
       "      <td>25.785</td>\n",
       "      <td>0.00</td>\n",
       "      <td>0.00</td>\n",
       "      <td>...</td>\n",
       "      <td>0.000000</td>\n",
       "      <td>0.00000</td>\n",
       "      <td>0.00000</td>\n",
       "      <td>0.00000</td>\n",
       "      <td>0.00000</td>\n",
       "      <td>0.00000</td>\n",
       "      <td>0.00000</td>\n",
       "      <td>0.0000</td>\n",
       "      <td>0.0000</td>\n",
       "      <td>0.0000</td>\n",
       "    </tr>\n",
       "    <tr>\n",
       "      <th>...</th>\n",
       "      <td>...</td>\n",
       "      <td>...</td>\n",
       "      <td>...</td>\n",
       "      <td>...</td>\n",
       "      <td>...</td>\n",
       "      <td>...</td>\n",
       "      <td>...</td>\n",
       "      <td>...</td>\n",
       "      <td>...</td>\n",
       "      <td>...</td>\n",
       "      <td>...</td>\n",
       "      <td>...</td>\n",
       "      <td>...</td>\n",
       "      <td>...</td>\n",
       "      <td>...</td>\n",
       "      <td>...</td>\n",
       "      <td>...</td>\n",
       "      <td>...</td>\n",
       "      <td>...</td>\n",
       "      <td>...</td>\n",
       "      <td>...</td>\n",
       "    </tr>\n",
       "    <tr>\n",
       "      <th>4596</th>\n",
       "      <td>88</td>\n",
       "      <td>0.000</td>\n",
       "      <td>0.000</td>\n",
       "      <td>0.00</td>\n",
       "      <td>0.00</td>\n",
       "      <td>0.31</td>\n",
       "      <td>0.000</td>\n",
       "      <td>0.000</td>\n",
       "      <td>0.00</td>\n",
       "      <td>0.00</td>\n",
       "      <td>...</td>\n",
       "      <td>0.000000</td>\n",
       "      <td>0.00000</td>\n",
       "      <td>0.00000</td>\n",
       "      <td>0.00000</td>\n",
       "      <td>0.00000</td>\n",
       "      <td>0.00000</td>\n",
       "      <td>0.00000</td>\n",
       "      <td>0.0000</td>\n",
       "      <td>0.0000</td>\n",
       "      <td>0.0000</td>\n",
       "    </tr>\n",
       "    <tr>\n",
       "      <th>4597</th>\n",
       "      <td>14</td>\n",
       "      <td>0.000</td>\n",
       "      <td>0.353</td>\n",
       "      <td>0.00</td>\n",
       "      <td>0.00</td>\n",
       "      <td>0.00</td>\n",
       "      <td>0.000</td>\n",
       "      <td>4.942</td>\n",
       "      <td>0.00</td>\n",
       "      <td>0.00</td>\n",
       "      <td>...</td>\n",
       "      <td>0.000000</td>\n",
       "      <td>0.00000</td>\n",
       "      <td>0.00000</td>\n",
       "      <td>0.00000</td>\n",
       "      <td>0.00000</td>\n",
       "      <td>0.00000</td>\n",
       "      <td>0.00000</td>\n",
       "      <td>0.0000</td>\n",
       "      <td>0.0000</td>\n",
       "      <td>0.0000</td>\n",
       "    </tr>\n",
       "    <tr>\n",
       "      <th>4598</th>\n",
       "      <td>118</td>\n",
       "      <td>0.000</td>\n",
       "      <td>0.000</td>\n",
       "      <td>0.00</td>\n",
       "      <td>0.00</td>\n",
       "      <td>0.30</td>\n",
       "      <td>0.000</td>\n",
       "      <td>0.000</td>\n",
       "      <td>0.00</td>\n",
       "      <td>0.00</td>\n",
       "      <td>...</td>\n",
       "      <td>0.000000</td>\n",
       "      <td>0.00000</td>\n",
       "      <td>0.00000</td>\n",
       "      <td>0.00000</td>\n",
       "      <td>0.00000</td>\n",
       "      <td>0.00000</td>\n",
       "      <td>0.00000</td>\n",
       "      <td>0.0000</td>\n",
       "      <td>0.0000</td>\n",
       "      <td>0.0000</td>\n",
       "    </tr>\n",
       "    <tr>\n",
       "      <th>4599</th>\n",
       "      <td>78</td>\n",
       "      <td>0.000</td>\n",
       "      <td>0.000</td>\n",
       "      <td>0.00</td>\n",
       "      <td>0.00</td>\n",
       "      <td>0.96</td>\n",
       "      <td>0.000</td>\n",
       "      <td>0.000</td>\n",
       "      <td>0.00</td>\n",
       "      <td>0.00</td>\n",
       "      <td>...</td>\n",
       "      <td>0.000000</td>\n",
       "      <td>0.00000</td>\n",
       "      <td>0.00000</td>\n",
       "      <td>0.00000</td>\n",
       "      <td>0.00000</td>\n",
       "      <td>0.00000</td>\n",
       "      <td>0.00000</td>\n",
       "      <td>0.0000</td>\n",
       "      <td>0.0000</td>\n",
       "      <td>0.0000</td>\n",
       "    </tr>\n",
       "    <tr>\n",
       "      <th>4600</th>\n",
       "      <td>40</td>\n",
       "      <td>0.000</td>\n",
       "      <td>0.125</td>\n",
       "      <td>0.00</td>\n",
       "      <td>0.00</td>\n",
       "      <td>0.00</td>\n",
       "      <td>0.000</td>\n",
       "      <td>5.000</td>\n",
       "      <td>0.00</td>\n",
       "      <td>0.00</td>\n",
       "      <td>...</td>\n",
       "      <td>0.000000</td>\n",
       "      <td>0.00000</td>\n",
       "      <td>0.00000</td>\n",
       "      <td>0.00000</td>\n",
       "      <td>0.00000</td>\n",
       "      <td>0.00000</td>\n",
       "      <td>0.00000</td>\n",
       "      <td>0.0000</td>\n",
       "      <td>0.0000</td>\n",
       "      <td>0.0000</td>\n",
       "    </tr>\n",
       "  </tbody>\n",
       "</table>\n",
       "<p>4601 rows × 21 columns</p>\n",
       "</div>"
      ],
      "text/plain": [
       "      crl.tot  dollar   bang  money  n000  make  crl.tot_dollar  crl.tot_bang  \\\n",
       "0         278   0.000  0.778   0.00  0.00  0.00           0.000       216.284   \n",
       "1        1028   0.180  0.372   0.43  0.43  0.21         185.040       382.416   \n",
       "2        2259   0.184  0.276   0.06  1.16  0.06         415.656       623.484   \n",
       "3         191   0.000  0.137   0.00  0.00  0.00           0.000        26.167   \n",
       "4         191   0.000  0.135   0.00  0.00  0.00           0.000        25.785   \n",
       "...       ...     ...    ...    ...   ...   ...             ...           ...   \n",
       "4596       88   0.000  0.000   0.00  0.00  0.31           0.000         0.000   \n",
       "4597       14   0.000  0.353   0.00  0.00  0.00           0.000         4.942   \n",
       "4598      118   0.000  0.000   0.00  0.00  0.30           0.000         0.000   \n",
       "4599       78   0.000  0.000   0.00  0.00  0.96           0.000         0.000   \n",
       "4600       40   0.000  0.125   0.00  0.00  0.00           0.000         5.000   \n",
       "\n",
       "      crl.tot_money  crl.tot_n000  ...  dollar_bang  dollar_money  \\\n",
       "0              0.00          0.00  ...     0.000000       0.00000   \n",
       "1            442.04        442.04  ...     0.066960       0.07740   \n",
       "2            135.54       2620.44  ...     0.050784       0.01104   \n",
       "3              0.00          0.00  ...     0.000000       0.00000   \n",
       "4              0.00          0.00  ...     0.000000       0.00000   \n",
       "...             ...           ...  ...          ...           ...   \n",
       "4596           0.00          0.00  ...     0.000000       0.00000   \n",
       "4597           0.00          0.00  ...     0.000000       0.00000   \n",
       "4598           0.00          0.00  ...     0.000000       0.00000   \n",
       "4599           0.00          0.00  ...     0.000000       0.00000   \n",
       "4600           0.00          0.00  ...     0.000000       0.00000   \n",
       "\n",
       "      dollar_n000  dollar_make  bang_money  bang_n000  bang_make  money_n000  \\\n",
       "0         0.00000      0.00000     0.00000    0.00000    0.00000      0.0000   \n",
       "1         0.07740      0.03780     0.15996    0.15996    0.07812      0.1849   \n",
       "2         0.21344      0.01104     0.01656    0.32016    0.01656      0.0696   \n",
       "3         0.00000      0.00000     0.00000    0.00000    0.00000      0.0000   \n",
       "4         0.00000      0.00000     0.00000    0.00000    0.00000      0.0000   \n",
       "...           ...          ...         ...        ...        ...         ...   \n",
       "4596      0.00000      0.00000     0.00000    0.00000    0.00000      0.0000   \n",
       "4597      0.00000      0.00000     0.00000    0.00000    0.00000      0.0000   \n",
       "4598      0.00000      0.00000     0.00000    0.00000    0.00000      0.0000   \n",
       "4599      0.00000      0.00000     0.00000    0.00000    0.00000      0.0000   \n",
       "4600      0.00000      0.00000     0.00000    0.00000    0.00000      0.0000   \n",
       "\n",
       "      money_make  n000_make  \n",
       "0         0.0000     0.0000  \n",
       "1         0.0903     0.0903  \n",
       "2         0.0036     0.0696  \n",
       "3         0.0000     0.0000  \n",
       "4         0.0000     0.0000  \n",
       "...          ...        ...  \n",
       "4596      0.0000     0.0000  \n",
       "4597      0.0000     0.0000  \n",
       "4598      0.0000     0.0000  \n",
       "4599      0.0000     0.0000  \n",
       "4600      0.0000     0.0000  \n",
       "\n",
       "[4601 rows x 21 columns]"
      ]
     },
     "execution_count": 9,
     "metadata": {},
     "output_type": "execute_result"
    }
   ],
   "source": [
    "X"
   ]
  },
  {
   "cell_type": "code",
   "execution_count": 10,
   "metadata": {},
   "outputs": [
    {
     "data": {
      "text/plain": [
       "0       1\n",
       "1       1\n",
       "2       1\n",
       "3       1\n",
       "4       1\n",
       "       ..\n",
       "4596    0\n",
       "4597    0\n",
       "4598    0\n",
       "4599    0\n",
       "4600    0\n",
       "Name: spam, Length: 4601, dtype: int64"
      ]
     },
     "execution_count": 10,
     "metadata": {},
     "output_type": "execute_result"
    }
   ],
   "source": [
    "y"
   ]
  },
  {
   "cell_type": "code",
   "execution_count": 11,
   "metadata": {},
   "outputs": [],
   "source": [
    "X_train, X_test, y_train, y_test = train_test_split(X, y, random_state=42, test_size=0.2)"
   ]
  },
  {
   "cell_type": "code",
   "execution_count": 12,
   "metadata": {},
   "outputs": [],
   "source": [
    "GBC = GradientBoostingClassifier(learning_rate=0.1, n_estimators=100,max_depth=3, min_samples_split=2, \n",
    "                                 min_samples_leaf=1, subsample=1,max_features=None, random_state=42)"
   ]
  },
  {
   "cell_type": "code",
   "execution_count": 13,
   "metadata": {},
   "outputs": [
    {
     "data": {
      "text/plain": [
       "GradientBoostingClassifier(random_state=42, subsample=1)"
      ]
     },
     "execution_count": 13,
     "metadata": {},
     "output_type": "execute_result"
    }
   ],
   "source": [
    "GBC.fit(X_train, y_train)"
   ]
  },
  {
   "cell_type": "code",
   "execution_count": 14,
   "metadata": {},
   "outputs": [],
   "source": [
    "y_pred = GBC.predict(X_test)"
   ]
  },
  {
   "cell_type": "code",
   "execution_count": 15,
   "metadata": {},
   "outputs": [
    {
     "data": {
      "text/plain": [
       "0.8653637350705755"
      ]
     },
     "execution_count": 15,
     "metadata": {},
     "output_type": "execute_result"
    }
   ],
   "source": [
    "accuracy_score(y_test, y_pred)"
   ]
  },
  {
   "cell_type": "code",
   "execution_count": 16,
   "metadata": {},
   "outputs": [
    {
     "data": {
      "text/plain": [
       "<matplotlib.axes._subplots.AxesSubplot at 0x2284dc15608>"
      ]
     },
     "execution_count": 16,
     "metadata": {},
     "output_type": "execute_result"
    },
    {
     "data": {
      "image/png": "[encoded data removed]",
      "text/plain": [
       "<Figure size 432x288 with 1 Axes>"
      ]
     },
     "metadata": {
      "needs_background": "light"
     },
     "output_type": "display_data"
    }
   ],
   "source": [
    "pd.Series(GBC.feature_importances_, index=X.columns).sort_values(ascending=False).plot(kind='bar')"
   ]
  },
  {
   "cell_type": "code",
   "execution_count": 17,
   "metadata": {},
   "outputs": [
    {
     "data": {
      "text/plain": [
       "Index(['crl.tot', 'dollar', 'bang', 'money', 'n000', 'make', 'crl.tot_dollar',\n",
       "       'crl.tot_bang', 'crl.tot_money', 'crl.tot_n000', 'crl.tot_make',\n",
       "       'dollar_bang', 'dollar_money', 'dollar_n000', 'dollar_make',\n",
       "       'bang_money', 'bang_n000', 'bang_make', 'money_n000', 'money_make',\n",
       "       'n000_make'],\n",
       "      dtype='object')"
      ]
     },
     "execution_count": 17,
     "metadata": {},
     "output_type": "execute_result"
    }
   ],
   "source": [
    "X.columns"
   ]
  },
  {
   "cell_type": "code",
   "execution_count": 18,
   "metadata": {},
   "outputs": [],
   "source": [
    "parameters  = {'learning_rate':[0.00001, 0.0001, 0.001, 0.01, 0.1, 1], \n",
    "              'n_estimators':[100, 250, 500, 750, 1000, 1250, 1500, 1750]}\n",
    "\n",
    "GS = GridSearchCV(GBC, parameters, scoring='accuracy', n_jobs=-1, cv=5)"
   ]
  },
  {
   "cell_type": "code",
   "execution_count": 19,
   "metadata": {},
   "outputs": [
    {
     "data": {
      "text/plain": [
       "GridSearchCV(cv=5,\n",
       "             estimator=GradientBoostingClassifier(random_state=42, subsample=1),\n",
       "             n_jobs=-1,\n",
       "             param_grid={'learning_rate': [1e-05, 0.0001, 0.001, 0.01, 0.1, 1],\n",
       "                         'n_estimators': [100, 250, 500, 750, 1000, 1250, 1500,\n",
       "                                          1750]},\n",
       "             scoring='accuracy')"
      ]
     },
     "execution_count": 19,
     "metadata": {},
     "output_type": "execute_result"
    }
   ],
   "source": [
    "GS.fit(X_train, y_train)"
   ]
  },
  {
   "cell_type": "code",
   "execution_count": 20,
   "metadata": {},
   "outputs": [
    {
     "data": {
      "text/plain": [
       "{'ccp_alpha': 0.0,\n",
       " 'criterion': 'friedman_mse',\n",
       " 'init': None,\n",
       " 'learning_rate': 0.01,\n",
       " 'loss': 'deviance',\n",
       " 'max_depth': 3,\n",
       " 'max_features': None,\n",
       " 'max_leaf_nodes': None,\n",
       " 'min_impurity_decrease': 0.0,\n",
       " 'min_impurity_split': None,\n",
       " 'min_samples_leaf': 1,\n",
       " 'min_samples_split': 2,\n",
       " 'min_weight_fraction_leaf': 0.0,\n",
       " 'n_estimators': 1250,\n",
       " 'n_iter_no_change': None,\n",
       " 'presort': 'deprecated',\n",
       " 'random_state': 42,\n",
       " 'subsample': 1,\n",
       " 'tol': 0.0001,\n",
       " 'validation_fraction': 0.1,\n",
       " 'verbose': 0,\n",
       " 'warm_start': False}"
      ]
     },
     "execution_count": 20,
     "metadata": {},
     "output_type": "execute_result"
    }
   ],
   "source": [
    "GS.best_estimator_.get_params()"
   ]
  },
  {
   "cell_type": "code",
   "execution_count": 21,
   "metadata": {},
   "outputs": [
    {
     "data": {
      "text/plain": [
       "GradientBoostingClassifier(learning_rate=0.01, n_estimators=1250,\n",
       "                           random_state=42, subsample=1)"
      ]
     },
     "execution_count": 21,
     "metadata": {},
     "output_type": "execute_result"
    }
   ],
   "source": [
    "GS.best_estimator_"
   ]
  },
  {
   "cell_type": "code",
   "execution_count": 22,
   "metadata": {},
   "outputs": [],
   "source": [
    "y_pred = GS.predict(X_test)"
   ]
  },
  {
   "cell_type": "code",
   "execution_count": 23,
   "metadata": {},
   "outputs": [
    {
     "data": {
      "text/plain": [
       "0.8642779587404995"
      ]
     },
     "execution_count": 23,
     "metadata": {},
     "output_type": "execute_result"
    }
   ],
   "source": [
    "accuracy_score(y_test,y_pred)"
   ]
  },
  {
   "cell_type": "code",
   "execution_count": 24,
   "metadata": {},
   "outputs": [
    {
     "data": {
      "text/plain": [
       "0.8642779587404995"
      ]
     },
     "execution_count": 24,
     "metadata": {},
     "output_type": "execute_result"
    }
   ],
   "source": [
    "GS.score(X_test, y_test)"
   ]
  },
  {
   "cell_type": "code",
   "execution_count": 25,
   "metadata": {},
   "outputs": [
    {
     "data": {
      "text/plain": [
       "0.8836956521739131"
      ]
     },
     "execution_count": 25,
     "metadata": {},
     "output_type": "execute_result"
    }
   ],
   "source": [
    "GS.best_score_"
   ]
  },
  {
   "cell_type": "markdown",
   "metadata": {},
   "source": [
    "GBC = GradientBoostingClassifier(learning_rate=0.1, n_estimators=100,max_depth=3, min_samples_split=2, \n",
    "                                 min_samples_leaf=1, subsample=1,max_features=None, random_state=42)\n",
    "\n",
    "X_train, X_test, y_train, y_test = train_test_split(X, y, random_state=42, test_size=0.2)\n",
    "\n",
    "parameters  = {'learning_rate':[0.00001, 0.0001, 0.001, 0.01, 0.1, 1], \n",
    "              'n_estimators':[100, 250, 500, 750, 1000, 1250, 1500, 1750]}\n",
    "\n",
    "GS = GridSearchCV(GBC, parameters, scoring='accuracy', n_jobs=-1, cv=5)\n",
    "GS.fit(X_train, y_train)\n",
    "y_pred = GS.predict(X_test)\n",
    "accuracy_score(y_test,y_pred)"
   ]
  },
  {
   "cell_type": "code",
   "execution_count": 31,
   "metadata": {},
   "outputs": [
    {
     "data": {
      "text/plain": [
       "0.8642779587404995"
      ]
     },
     "execution_count": 31,
     "metadata": {},
     "output_type": "execute_result"
    }
   ],
   "source": [
    "GBC = GradientBoostingClassifier(learning_rate=0.01, n_estimators=1250, max_depth=3, min_samples_split=2, \n",
    "                                 min_samples_leaf=1, subsample=1,max_features=None, random_state=42)\n",
    "GBC.fit(X_train, y_train)\n",
    "y_pred = GBC.predict(X_test)\n",
    "accuracy_score(y_test, y_pred)"
   ]
  },
  {
   "cell_type": "code",
   "execution_count": 27,
   "metadata": {},
   "outputs": [
    {
     "data": {
      "text/plain": [
       "{'mean_fit_time': array([0.54105992, 1.35248456, 2.56154618, 3.81891665, 5.06868706,\n",
       "        6.38128719, 8.11293449, 9.16235662, 0.50586672, 1.28052793,\n",
       "        2.74457102, 4.27235541, 5.15592275, 6.4698525 , 7.64447608,\n",
       "        8.87322183, 0.51314492, 1.26805491, 2.52315049, 3.79420242,\n",
       "        5.06665611, 6.85355024, 8.0980772 , 9.89835005, 0.55862994,\n",
       "        1.28630571, 2.69889469, 4.29520631, 5.37374415, 6.57058706,\n",
       "        7.81850071, 8.92119927, 0.50476961, 1.27324281, 2.57700634,\n",
       "        3.84277177, 5.14394279, 6.39475217, 7.75186734, 9.85575237,\n",
       "        0.51194768, 1.2240694 , 2.77405105, 3.82460456, 5.80730796,\n",
       "        7.10896168, 7.68334303, 8.73183932]),\n",
       " 'std_fit_time': array([0.01506353, 0.03879863, 0.04207607, 0.01849994, 0.02096381,\n",
       "        0.03620995, 0.28073318, 0.24392   , 0.00506216, 0.00824698,\n",
       "        0.2041482 , 0.31428781, 0.05311519, 0.06198872, 0.07871194,\n",
       "        0.07295831, 0.00464788, 0.01795979, 0.00894454, 0.04257489,\n",
       "        0.02838283, 0.35136317, 0.15498665, 0.22778165, 0.04517824,\n",
       "        0.02740771, 0.19664601, 0.11897435, 0.09503207, 0.14565277,\n",
       "        0.14886115, 0.03874339, 0.00314236, 0.01769836, 0.03422788,\n",
       "        0.02151587, 0.03176418, 0.07143853, 0.09388529, 0.51381953,\n",
       "        0.03694605, 0.02926214, 0.15087635, 0.17059115, 0.32486403,\n",
       "        0.32740588, 0.15030017, 0.15829569]),\n",
       " 'mean_score_time': array([0.00458851, 0.00518589, 0.00837774, 0.01077185, 0.01376348,\n",
       "        0.01645751, 0.01984863, 0.02074413, 0.00359025, 0.00518622,\n",
       "        0.01156926, 0.01096964, 0.01396294, 0.01894922, 0.01924982,\n",
       "        0.02234035, 0.0033915 , 0.00538545, 0.00817771, 0.01117039,\n",
       "        0.0147604 , 0.01755338, 0.01984854, 0.02593379, 0.00498676,\n",
       "        0.00538564, 0.00777879, 0.01027398, 0.01296544, 0.01486197,\n",
       "        0.01895275, 0.0179523 , 0.00339112, 0.00458722, 0.00658245,\n",
       "        0.00937505, 0.01216745, 0.0141623 , 0.0155581 , 0.01775265,\n",
       "        0.00319161, 0.00438833, 0.009375  , 0.00877624, 0.01276574,\n",
       "        0.01356454, 0.01515965, 0.01645722]),\n",
       " 'std_score_time': array([0.00079836, 0.00039921, 0.00079801, 0.00145943, 0.00116308,\n",
       "        0.00141243, 0.00241064, 0.00074668, 0.00048883, 0.00039892,\n",
       "        0.00470296, 0.00063083, 0.00063083, 0.00403894, 0.00086816,\n",
       "        0.00135256, 0.00079787, 0.00101706, 0.00074643, 0.00074654,\n",
       "        0.0003999 , 0.00135305, 0.00066106, 0.00433331, 0.00154508,\n",
       "        0.00048842, 0.00116363, 0.00074746, 0.00109284, 0.0016801 ,\n",
       "        0.00453622, 0.00063083, 0.00048883, 0.00079795, 0.00048848,\n",
       "        0.001017  , 0.00193354, 0.00159556, 0.00048879, 0.00074654,\n",
       "        0.00039892, 0.00048852, 0.00279254, 0.00097724, 0.00132351,\n",
       "        0.00079767, 0.00222145, 0.00209122]),\n",
       " 'param_learning_rate': masked_array(data=[1e-05, 1e-05, 1e-05, 1e-05, 1e-05, 1e-05, 1e-05, 1e-05,\n",
       "                    0.0001, 0.0001, 0.0001, 0.0001, 0.0001, 0.0001, 0.0001,\n",
       "                    0.0001, 0.001, 0.001, 0.001, 0.001, 0.001, 0.001,\n",
       "                    0.001, 0.001, 0.01, 0.01, 0.01, 0.01, 0.01, 0.01, 0.01,\n",
       "                    0.01, 0.1, 0.1, 0.1, 0.1, 0.1, 0.1, 0.1, 0.1, 1, 1, 1,\n",
       "                    1, 1, 1, 1, 1],\n",
       "              mask=[False, False, False, False, False, False, False, False,\n",
       "                    False, False, False, False, False, False, False, False,\n",
       "                    False, False, False, False, False, False, False, False,\n",
       "                    False, False, False, False, False, False, False, False,\n",
       "                    False, False, False, False, False, False, False, False,\n",
       "                    False, False, False, False, False, False, False, False],\n",
       "        fill_value='?',\n",
       "             dtype=object),\n",
       " 'param_n_estimators': masked_array(data=[100, 250, 500, 750, 1000, 1250, 1500, 1750, 100, 250,\n",
       "                    500, 750, 1000, 1250, 1500, 1750, 100, 250, 500, 750,\n",
       "                    1000, 1250, 1500, 1750, 100, 250, 500, 750, 1000, 1250,\n",
       "                    1500, 1750, 100, 250, 500, 750, 1000, 1250, 1500, 1750,\n",
       "                    100, 250, 500, 750, 1000, 1250, 1500, 1750],\n",
       "              mask=[False, False, False, False, False, False, False, False,\n",
       "                    False, False, False, False, False, False, False, False,\n",
       "                    False, False, False, False, False, False, False, False,\n",
       "                    False, False, False, False, False, False, False, False,\n",
       "                    False, False, False, False, False, False, False, False,\n",
       "                    False, False, False, False, False, False, False, False],\n",
       "        fill_value='?',\n",
       "             dtype=object),\n",
       " 'params': [{'learning_rate': 1e-05, 'n_estimators': 100},\n",
       "  {'learning_rate': 1e-05, 'n_estimators': 250},\n",
       "  {'learning_rate': 1e-05, 'n_estimators': 500},\n",
       "  {'learning_rate': 1e-05, 'n_estimators': 750},\n",
       "  {'learning_rate': 1e-05, 'n_estimators': 1000},\n",
       "  {'learning_rate': 1e-05, 'n_estimators': 1250},\n",
       "  {'learning_rate': 1e-05, 'n_estimators': 1500},\n",
       "  {'learning_rate': 1e-05, 'n_estimators': 1750},\n",
       "  {'learning_rate': 0.0001, 'n_estimators': 100},\n",
       "  {'learning_rate': 0.0001, 'n_estimators': 250},\n",
       "  {'learning_rate': 0.0001, 'n_estimators': 500},\n",
       "  {'learning_rate': 0.0001, 'n_estimators': 750},\n",
       "  {'learning_rate': 0.0001, 'n_estimators': 1000},\n",
       "  {'learning_rate': 0.0001, 'n_estimators': 1250},\n",
       "  {'learning_rate': 0.0001, 'n_estimators': 1500},\n",
       "  {'learning_rate': 0.0001, 'n_estimators': 1750},\n",
       "  {'learning_rate': 0.001, 'n_estimators': 100},\n",
       "  {'learning_rate': 0.001, 'n_estimators': 250},\n",
       "  {'learning_rate': 0.001, 'n_estimators': 500},\n",
       "  {'learning_rate': 0.001, 'n_estimators': 750},\n",
       "  {'learning_rate': 0.001, 'n_estimators': 1000},\n",
       "  {'learning_rate': 0.001, 'n_estimators': 1250},\n",
       "  {'learning_rate': 0.001, 'n_estimators': 1500},\n",
       "  {'learning_rate': 0.001, 'n_estimators': 1750},\n",
       "  {'learning_rate': 0.01, 'n_estimators': 100},\n",
       "  {'learning_rate': 0.01, 'n_estimators': 250},\n",
       "  {'learning_rate': 0.01, 'n_estimators': 500},\n",
       "  {'learning_rate': 0.01, 'n_estimators': 750},\n",
       "  {'learning_rate': 0.01, 'n_estimators': 1000},\n",
       "  {'learning_rate': 0.01, 'n_estimators': 1250},\n",
       "  {'learning_rate': 0.01, 'n_estimators': 1500},\n",
       "  {'learning_rate': 0.01, 'n_estimators': 1750},\n",
       "  {'learning_rate': 0.1, 'n_estimators': 100},\n",
       "  {'learning_rate': 0.1, 'n_estimators': 250},\n",
       "  {'learning_rate': 0.1, 'n_estimators': 500},\n",
       "  {'learning_rate': 0.1, 'n_estimators': 750},\n",
       "  {'learning_rate': 0.1, 'n_estimators': 1000},\n",
       "  {'learning_rate': 0.1, 'n_estimators': 1250},\n",
       "  {'learning_rate': 0.1, 'n_estimators': 1500},\n",
       "  {'learning_rate': 0.1, 'n_estimators': 1750},\n",
       "  {'learning_rate': 1, 'n_estimators': 100},\n",
       "  {'learning_rate': 1, 'n_estimators': 250},\n",
       "  {'learning_rate': 1, 'n_estimators': 500},\n",
       "  {'learning_rate': 1, 'n_estimators': 750},\n",
       "  {'learning_rate': 1, 'n_estimators': 1000},\n",
       "  {'learning_rate': 1, 'n_estimators': 1250},\n",
       "  {'learning_rate': 1, 'n_estimators': 1500},\n",
       "  {'learning_rate': 1, 'n_estimators': 1750}],\n",
       " 'split0_test_score': array([0.61277174, 0.61277174, 0.61277174, 0.61277174, 0.61277174,\n",
       "        0.61277174, 0.61277174, 0.61277174, 0.61277174, 0.61277174,\n",
       "        0.61277174, 0.61277174, 0.61277174, 0.61277174, 0.61277174,\n",
       "        0.61277174, 0.61277174, 0.77038043, 0.86820652, 0.8763587 ,\n",
       "        0.88722826, 0.88451087, 0.88315217, 0.88586957, 0.88722826,\n",
       "        0.88722826, 0.88858696, 0.88994565, 0.89130435, 0.89538043,\n",
       "        0.89402174, 0.89266304, 0.89130435, 0.88858696, 0.89673913,\n",
       "        0.88722826, 0.88451087, 0.88179348, 0.8763587 , 0.8763587 ,\n",
       "        0.86956522, 0.87771739, 0.87771739, 0.87771739, 0.87771739,\n",
       "        0.87771739, 0.87771739, 0.87771739]),\n",
       " 'split1_test_score': array([0.61277174, 0.61277174, 0.61277174, 0.61277174, 0.61277174,\n",
       "        0.61277174, 0.61277174, 0.61277174, 0.61277174, 0.61277174,\n",
       "        0.61277174, 0.61277174, 0.61277174, 0.61277174, 0.61277174,\n",
       "        0.61277174, 0.61277174, 0.7486413 , 0.85054348, 0.85461957,\n",
       "        0.85597826, 0.85597826, 0.85869565, 0.85869565, 0.85597826,\n",
       "        0.86005435, 0.85597826, 0.85869565, 0.85733696, 0.86005435,\n",
       "        0.86413043, 0.86684783, 0.86141304, 0.86684783, 0.86277174,\n",
       "        0.85869565, 0.85597826, 0.85597826, 0.85054348, 0.8451087 ,\n",
       "        0.84918478, 0.84782609, 0.84375   , 0.83967391, 0.83559783,\n",
       "        0.83695652, 0.83695652, 0.83967391]),\n",
       " 'split2_test_score': array([0.61277174, 0.61277174, 0.61277174, 0.61277174, 0.61277174,\n",
       "        0.61277174, 0.61277174, 0.61277174, 0.61277174, 0.61277174,\n",
       "        0.61277174, 0.61277174, 0.61277174, 0.61277174, 0.61277174,\n",
       "        0.61277174, 0.61277174, 0.77038043, 0.85869565, 0.86005435,\n",
       "        0.86956522, 0.8736413 , 0.8736413 , 0.8763587 , 0.87092391,\n",
       "        0.875     , 0.8736413 , 0.8763587 , 0.87907609, 0.88043478,\n",
       "        0.87907609, 0.88043478, 0.87907609, 0.8736413 , 0.86956522,\n",
       "        0.86820652, 0.86956522, 0.87228261, 0.8736413 , 0.86956522,\n",
       "        0.86548913, 0.86956522, 0.87228261, 0.87228261, 0.86956522,\n",
       "        0.86684783, 0.86956522, 0.86820652]),\n",
       " 'split3_test_score': array([0.61413043, 0.61413043, 0.61413043, 0.61413043, 0.61413043,\n",
       "        0.61413043, 0.61413043, 0.61413043, 0.61413043, 0.61413043,\n",
       "        0.61413043, 0.61413043, 0.61413043, 0.61413043, 0.61413043,\n",
       "        0.61413043, 0.61413043, 0.74320652, 0.87092391, 0.8736413 ,\n",
       "        0.88043478, 0.88451087, 0.88586957, 0.88451087, 0.88043478,\n",
       "        0.88586957, 0.88994565, 0.89130435, 0.88994565, 0.88994565,\n",
       "        0.88722826, 0.88451087, 0.88858696, 0.88179348, 0.87907609,\n",
       "        0.88043478, 0.88722826, 0.88179348, 0.87907609, 0.88043478,\n",
       "        0.88179348, 0.88451087, 0.87907609, 0.88043478, 0.87771739,\n",
       "        0.875     , 0.8736413 , 0.86684783]),\n",
       " 'split4_test_score': array([0.61413043, 0.61413043, 0.61413043, 0.61413043, 0.61413043,\n",
       "        0.61413043, 0.61413043, 0.61413043, 0.61413043, 0.61413043,\n",
       "        0.61413043, 0.61413043, 0.61413043, 0.61413043, 0.61413043,\n",
       "        0.61413043, 0.61413043, 0.76086957, 0.86684783, 0.87907609,\n",
       "        0.88179348, 0.88179348, 0.88451087, 0.88722826, 0.88179348,\n",
       "        0.88858696, 0.88858696, 0.89402174, 0.89402174, 0.89266304,\n",
       "        0.89402174, 0.89402174, 0.89266304, 0.89673913, 0.89130435,\n",
       "        0.88179348, 0.87771739, 0.8736413 , 0.87228261, 0.87092391,\n",
       "        0.8763587 , 0.86413043, 0.85733696, 0.85326087, 0.85733696,\n",
       "        0.85461957, 0.85461957, 0.85733696]),\n",
       " 'mean_test_score': array([0.61331522, 0.61331522, 0.61331522, 0.61331522, 0.61331522,\n",
       "        0.61331522, 0.61331522, 0.61331522, 0.61331522, 0.61331522,\n",
       "        0.61331522, 0.61331522, 0.61331522, 0.61331522, 0.61331522,\n",
       "        0.61331522, 0.61331522, 0.75869565, 0.86304348, 0.86875   ,\n",
       "        0.875     , 0.87608696, 0.87717391, 0.87853261, 0.87527174,\n",
       "        0.87934783, 0.87934783, 0.88206522, 0.88233696, 0.88369565,\n",
       "        0.88369565, 0.88369565, 0.8826087 , 0.88152174, 0.8798913 ,\n",
       "        0.87527174, 0.875     , 0.87309783, 0.87038043, 0.86847826,\n",
       "        0.86847826, 0.86875   , 0.86603261, 0.86467391, 0.86358696,\n",
       "        0.86222826, 0.8625    , 0.86195652]),\n",
       " 'std_test_score': array([0.00066562, 0.00066562, 0.00066562, 0.00066562, 0.00066562,\n",
       "        0.00066562, 0.00066562, 0.00066562, 0.00066562, 0.00066562,\n",
       "        0.00066562, 0.00066562, 0.00066562, 0.00066562, 0.00066562,\n",
       "        0.00066562, 0.00066562, 0.01112472, 0.0074617 , 0.00963046,\n",
       "        0.01110479, 0.01081508, 0.01018931, 0.01061523, 0.01098445,\n",
       "        0.01078089, 0.01312812, 0.01318425, 0.01349425, 0.01284955,\n",
       "        0.01122385, 0.00982028, 0.01161188, 0.01057341, 0.01276306,\n",
       "        0.01036178, 0.01130252, 0.00943682, 0.01018931, 0.01231551,\n",
       "        0.01115124, 0.01255893, 0.01354886, 0.01569514, 0.01585895,\n",
       "        0.0149728 , 0.01496787, 0.01287826]),\n",
       " 'rank_test_score': array([32, 32, 32, 32, 32, 32, 32, 32, 32, 32, 32, 32, 32, 32, 32, 32, 32,\n",
       "        31, 27, 20, 16, 13, 12, 11, 14,  9, 10,  6,  5,  1,  1,  1,  4,  7,\n",
       "         8, 14, 16, 18, 19, 22, 22, 20, 24, 25, 26, 29, 28, 30])}"
      ]
     },
     "execution_count": 27,
     "metadata": {},
     "output_type": "execute_result"
    }
   ],
   "source": [
    "GS.cv_results_"
   ]
  },
  {
   "cell_type": "code",
   "execution_count": 32,
   "metadata": {},
   "outputs": [
    {
     "data": {
      "text/plain": [
       "GridSearchCV(cv=5,\n",
       "             estimator=GradientBoostingClassifier(learning_rate=0.01,\n",
       "                                                  n_estimators=1250,\n",
       "                                                  random_state=42,\n",
       "                                                  subsample=1),\n",
       "             n_jobs=-1,\n",
       "             param_grid={'max_depth': [5, 6, 7, 8, 9, 10, 11, 12, 13, 14, 15]},\n",
       "             scoring='accuracy')"
      ]
     },
     "execution_count": 32,
     "metadata": {},
     "output_type": "execute_result"
    }
   ],
   "source": [
    "\n",
    "GBC = GradientBoostingClassifier(learning_rate=0.01, n_estimators=1250, max_depth=3, min_samples_split=2, \n",
    "                                 min_samples_leaf=1, subsample=1,max_features=None, random_state=42)\n",
    "\n",
    "parameters  = {'max_depth':[5,6,7,8,9,10,11,12,13,14,15]}\n",
    "\n",
    "GS = GridSearchCV(GBC, parameters, scoring='accuracy', n_jobs=-1, cv=5)\n",
    "GS.fit(X_train, y_train)"
   ]
  },
  {
   "cell_type": "code",
   "execution_count": 33,
   "metadata": {},
   "outputs": [
    {
     "data": {
      "text/plain": [
       "0.8853260869565217"
      ]
     },
     "execution_count": 33,
     "metadata": {},
     "output_type": "execute_result"
    }
   ],
   "source": [
    "GS.best_score_"
   ]
  },
  {
   "cell_type": "code",
   "execution_count": 34,
   "metadata": {},
   "outputs": [
    {
     "data": {
      "text/plain": [
       "GradientBoostingClassifier(learning_rate=0.01, max_depth=5, n_estimators=1250,\n",
       "                           random_state=42, subsample=1)"
      ]
     },
     "execution_count": 34,
     "metadata": {},
     "output_type": "execute_result"
    }
   ],
   "source": [
    "GS.best_estimator_"
   ]
  },
  {
   "cell_type": "code",
   "execution_count": null,
   "metadata": {},
   "outputs": [],
   "source": []
  },
  {
   "cell_type": "code",
   "execution_count": null,
   "metadata": {},
   "outputs": [],
   "source": []
  },
  {
   "cell_type": "code",
   "execution_count": null,
   "metadata": {},
   "outputs": [],
   "source": []
  },
  {
   "cell_type": "code",
   "execution_count": null,
   "metadata": {},
   "outputs": [],
   "source": []
  },
  {
   "cell_type": "code",
   "execution_count": null,
   "metadata": {},
   "outputs": [],
   "source": []
  },
  {
   "cell_type": "code",
   "execution_count": null,
   "metadata": {},
   "outputs": [],
   "source": []
  },
  {
   "cell_type": "code",
   "execution_count": null,
   "metadata": {},
   "outputs": [],
   "source": []
  },
  {
   "cell_type": "code",
   "execution_count": null,
   "metadata": {},
   "outputs": [],
   "source": []
  },
  {
   "cell_type": "code",
   "execution_count": null,
   "metadata": {},
   "outputs": [],
   "source": []
  },
  {
   "cell_type": "code",
   "execution_count": null,
   "metadata": {},
   "outputs": [],
   "source": []
  },
  {
   "cell_type": "code",
   "execution_count": null,
   "metadata": {},
   "outputs": [],
   "source": []
  },
  {
   "cell_type": "code",
   "execution_count": null,
   "metadata": {},
   "outputs": [],
   "source": []
  },
  {
   "cell_type": "code",
   "execution_count": null,
   "metadata": {},
   "outputs": [],
   "source": []
  },
  {
   "cell_type": "code",
   "execution_count": null,
   "metadata": {},
   "outputs": [],
   "source": []
  },
  {
   "cell_type": "code",
   "execution_count": null,
   "metadata": {},
   "outputs": [],
   "source": []
  },
  {
   "cell_type": "code",
   "execution_count": null,
   "metadata": {},
   "outputs": [],
   "source": []
  },
  {
   "cell_type": "code",
   "execution_count": null,
   "metadata": {},
   "outputs": [],
   "source": []
  },
  {
   "cell_type": "code",
   "execution_count": null,
   "metadata": {},
   "outputs": [],
   "source": []
  },
  {
   "cell_type": "code",
   "execution_count": null,
   "metadata": {},
   "outputs": [],
   "source": []
  },
  {
   "cell_type": "code",
   "execution_count": null,
   "metadata": {},
   "outputs": [],
   "source": []
  },
  {
   "cell_type": "code",
   "execution_count": null,
   "metadata": {},
   "outputs": [],
   "source": []
  },
  {
   "cell_type": "code",
   "execution_count": null,
   "metadata": {},
   "outputs": [],
   "source": []
  },
  {
   "cell_type": "code",
   "execution_count": null,
   "metadata": {},
   "outputs": [],
   "source": []
  },
  {
   "cell_type": "code",
   "execution_count": null,
   "metadata": {},
   "outputs": [],
   "source": []
  },
  {
   "cell_type": "code",
   "execution_count": null,
   "metadata": {},
   "outputs": [],
   "source": []
  },
  {
   "cell_type": "code",
   "execution_count": null,
   "metadata": {},
   "outputs": [],
   "source": []
  },
  {
   "cell_type": "code",
   "execution_count": null,
   "metadata": {},
   "outputs": [],
   "source": []
  },
  {
   "cell_type": "code",
   "execution_count": null,
   "metadata": {},
   "outputs": [],
   "source": []
  },
  {
   "cell_type": "code",
   "execution_count": null,
   "metadata": {},
   "outputs": [],
   "source": []
  },
  {
   "cell_type": "code",
   "execution_count": null,
   "metadata": {},
   "outputs": [],
   "source": []
  },
  {
   "cell_type": "code",
   "execution_count": null,
   "metadata": {},
   "outputs": [],
   "source": []
  },
  {
   "cell_type": "code",
   "execution_count": null,
   "metadata": {},
   "outputs": [],
   "source": []
  },
  {
   "cell_type": "code",
   "execution_count": null,
   "metadata": {},
   "outputs": [],
   "source": []
  },
  {
   "cell_type": "code",
   "execution_count": null,
   "metadata": {},
   "outputs": [],
   "source": []
  },
  {
   "cell_type": "code",
   "execution_count": null,
   "metadata": {},
   "outputs": [],
   "source": []
  }
 ],
 "metadata": {
  "kernelspec": {
   "display_name": "Python 3",
   "language": "python",
   "name": "python3"
  },
  "language_info": {
   "codemirror_mode": {
    "name": "ipython",
    "version": 3
   },
   "file_extension": ".py",
   "mimetype": "text/x-python",
   "name": "python",
   "nbconvert_exporter": "python",
   "pygments_lexer": "ipython3",
   "version": "3.7.7"
  }
 },
 "nbformat": 4,
 "nbformat_minor": 4
}
