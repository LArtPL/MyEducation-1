{
 "cells": [
  {
   "cell_type": "code",
   "execution_count": 1,
   "metadata": {},
   "outputs": [],
   "source": [
    "# !kaggle competitions download -c sf-dst-scoring"
   ]
  },
  {
   "cell_type": "code",
   "execution_count": 2,
   "metadata": {},
   "outputs": [],
   "source": [
    "# !unzip sf-dst-scoring.zip"
   ]
  },
  {
   "cell_type": "code",
   "execution_count": null,
   "metadata": {},
   "outputs": [],
   "source": []
  },
  {
   "cell_type": "code",
   "execution_count": 3,
   "metadata": {},
   "outputs": [
    {
     "name": "stderr",
     "output_type": "stream",
     "text": [
      "/Users/nikita/anaconda3/lib/python3.7/site-packages/statsmodels/tools/_testing.py:19: FutureWarning: pandas.util.testing is deprecated. Use the functions in the public API at pandas.testing instead.\n",
      "  import pandas.util.testing as tm\n"
     ]
    }
   ],
   "source": [
    "import pandas as pd\n",
    "import numpy as np\n",
    "from sklearn.preprocessing import StandardScaler, OneHotEncoder\n",
    "from sklearn.metrics import (\n",
    "    recall_score,\n",
    "    precision_score,\n",
    "    f1_score,\n",
    "    log_loss,\n",
    "    confusion_matrix,\n",
    "    precision_recall_curve,\n",
    "    average_precision_score,\n",
    "    roc_auc_score,\n",
    "    roc_curve\n",
    ")\n",
    "from sklearn.model_selection import (GridSearchCV,\n",
    "                                     StratifiedKFold,\n",
    "                                     train_test_split,\n",
    "                                     KFold,\n",
    "                                     StratifiedShuffleSplit,\n",
    "                                     RepeatedStratifiedKFold)\n",
    "from sklearn.linear_model import LogisticRegression\n",
    "from sklearn.decomposition import PCA\n",
    "from sklearn.preprocessing import LabelEncoder\n",
    "from sklearn.feature_selection import f_classif, mutual_info_classif\n",
    "from gauss_rank_scaler import GaussRankScaler\n",
    "import imblearn\n",
    "\n",
    "import matplotlib.pyplot as plt\n",
    "import seaborn as sns\n",
    "%matplotlib inline\n",
    "\n",
    "import warnings\n",
    "warnings.filterwarnings(\"ignore\")"
   ]
  },
  {
   "cell_type": "code",
   "execution_count": 4,
   "metadata": {},
   "outputs": [],
   "source": [
    "seed = 42"
   ]
  },
  {
   "cell_type": "markdown",
   "metadata": {},
   "source": [
    "## Data overview"
   ]
  },
  {
   "cell_type": "code",
   "execution_count": 5,
   "metadata": {},
   "outputs": [],
   "source": [
    "df_train = pd.read_csv('train.csv')\n",
    "df_test = pd.read_csv('test.csv')"
   ]
  },
  {
   "cell_type": "code",
   "execution_count": null,
   "metadata": {},
   "outputs": [],
   "source": []
  },
  {
   "cell_type": "code",
   "execution_count": 6,
   "metadata": {},
   "outputs": [],
   "source": [
    "df_train.default = df_train.default.astype(int)"
   ]
  },
  {
   "cell_type": "code",
   "execution_count": 7,
   "metadata": {},
   "outputs": [
    {
     "data": {
      "text/plain": [
       "3    31255\n",
       "4    18737\n",
       "1    12239\n",
       "2    11568\n",
       "Name: first_time, dtype: int64"
      ]
     },
     "execution_count": 7,
     "metadata": {},
     "output_type": "execute_result"
    }
   ],
   "source": [
    "df_train.first_time.value_counts()"
   ]
  },
  {
   "cell_type": "code",
   "execution_count": null,
   "metadata": {},
   "outputs": [],
   "source": []
  },
  {
   "cell_type": "code",
   "execution_count": 8,
   "metadata": {},
   "outputs": [
    {
     "name": "stdout",
     "output_type": "stream",
     "text": [
      "<class 'pandas.core.frame.DataFrame'>\n",
      "RangeIndex: 73799 entries, 0 to 73798\n",
      "Data columns (total 19 columns):\n",
      " #   Column            Non-Null Count  Dtype  \n",
      "---  ------            --------------  -----  \n",
      " 0   client_id         73799 non-null  int64  \n",
      " 1   app_date          73799 non-null  object \n",
      " 2   education         73492 non-null  object \n",
      " 3   sex               73799 non-null  object \n",
      " 4   age               73799 non-null  int64  \n",
      " 5   car               73799 non-null  object \n",
      " 6   car_type          73799 non-null  object \n",
      " 7   decline_app_cnt   73799 non-null  int64  \n",
      " 8   good_work         73799 non-null  int64  \n",
      " 9   score_bki         73799 non-null  float64\n",
      " 10  bki_request_cnt   73799 non-null  int64  \n",
      " 11  region_rating     73799 non-null  int64  \n",
      " 12  home_address      73799 non-null  int64  \n",
      " 13  work_address      73799 non-null  int64  \n",
      " 14  income            73799 non-null  int64  \n",
      " 15  sna               73799 non-null  int64  \n",
      " 16  first_time        73799 non-null  int64  \n",
      " 17  foreign_passport  73799 non-null  object \n",
      " 18  default           73799 non-null  int64  \n",
      "dtypes: float64(1), int64(12), object(6)\n",
      "memory usage: 10.7+ MB\n"
     ]
    },
    {
     "data": {
      "text/plain": [
       "None"
      ]
     },
     "metadata": {},
     "output_type": "display_data"
    },
    {
     "data": {
      "text/html": [
       "<div>\n",
       "<style scoped>\n",
       "    .dataframe tbody tr th:only-of-type {\n",
       "        vertical-align: middle;\n",
       "    }\n",
       "\n",
       "    .dataframe tbody tr th {\n",
       "        vertical-align: top;\n",
       "    }\n",
       "\n",
       "    .dataframe thead th {\n",
       "        text-align: right;\n",
       "    }\n",
       "</style>\n",
       "<table border=\"1\" class=\"dataframe\">\n",
       "  <thead>\n",
       "    <tr style=\"text-align: right;\">\n",
       "      <th></th>\n",
       "      <th>count</th>\n",
       "      <th>mean</th>\n",
       "      <th>std</th>\n",
       "      <th>min</th>\n",
       "      <th>25%</th>\n",
       "      <th>50%</th>\n",
       "      <th>75%</th>\n",
       "      <th>max</th>\n",
       "    </tr>\n",
       "  </thead>\n",
       "  <tbody>\n",
       "    <tr>\n",
       "      <th>client_id</th>\n",
       "      <td>73799.0</td>\n",
       "      <td>55137.965094</td>\n",
       "      <td>31841.921168</td>\n",
       "      <td>1.000000</td>\n",
       "      <td>27440.500000</td>\n",
       "      <td>55274.000000</td>\n",
       "      <td>82758.500000</td>\n",
       "      <td>110147.000000</td>\n",
       "    </tr>\n",
       "    <tr>\n",
       "      <th>age</th>\n",
       "      <td>73799.0</td>\n",
       "      <td>39.280641</td>\n",
       "      <td>11.520378</td>\n",
       "      <td>21.000000</td>\n",
       "      <td>30.000000</td>\n",
       "      <td>37.000000</td>\n",
       "      <td>48.000000</td>\n",
       "      <td>72.000000</td>\n",
       "    </tr>\n",
       "    <tr>\n",
       "      <th>decline_app_cnt</th>\n",
       "      <td>73799.0</td>\n",
       "      <td>0.275749</td>\n",
       "      <td>0.804272</td>\n",
       "      <td>0.000000</td>\n",
       "      <td>0.000000</td>\n",
       "      <td>0.000000</td>\n",
       "      <td>0.000000</td>\n",
       "      <td>33.000000</td>\n",
       "    </tr>\n",
       "    <tr>\n",
       "      <th>good_work</th>\n",
       "      <td>73799.0</td>\n",
       "      <td>0.164894</td>\n",
       "      <td>0.371087</td>\n",
       "      <td>0.000000</td>\n",
       "      <td>0.000000</td>\n",
       "      <td>0.000000</td>\n",
       "      <td>0.000000</td>\n",
       "      <td>1.000000</td>\n",
       "    </tr>\n",
       "    <tr>\n",
       "      <th>score_bki</th>\n",
       "      <td>73799.0</td>\n",
       "      <td>-1.904724</td>\n",
       "      <td>0.498231</td>\n",
       "      <td>-3.624586</td>\n",
       "      <td>-2.259534</td>\n",
       "      <td>-1.920823</td>\n",
       "      <td>-1.569831</td>\n",
       "      <td>0.199773</td>\n",
       "    </tr>\n",
       "    <tr>\n",
       "      <th>bki_request_cnt</th>\n",
       "      <td>73799.0</td>\n",
       "      <td>2.000339</td>\n",
       "      <td>2.252073</td>\n",
       "      <td>0.000000</td>\n",
       "      <td>0.000000</td>\n",
       "      <td>1.000000</td>\n",
       "      <td>3.000000</td>\n",
       "      <td>53.000000</td>\n",
       "    </tr>\n",
       "    <tr>\n",
       "      <th>region_rating</th>\n",
       "      <td>73799.0</td>\n",
       "      <td>56.725701</td>\n",
       "      <td>13.055717</td>\n",
       "      <td>20.000000</td>\n",
       "      <td>50.000000</td>\n",
       "      <td>50.000000</td>\n",
       "      <td>60.000000</td>\n",
       "      <td>80.000000</td>\n",
       "    </tr>\n",
       "    <tr>\n",
       "      <th>home_address</th>\n",
       "      <td>73799.0</td>\n",
       "      <td>1.575509</td>\n",
       "      <td>0.527631</td>\n",
       "      <td>1.000000</td>\n",
       "      <td>1.000000</td>\n",
       "      <td>2.000000</td>\n",
       "      <td>2.000000</td>\n",
       "      <td>3.000000</td>\n",
       "    </tr>\n",
       "    <tr>\n",
       "      <th>work_address</th>\n",
       "      <td>73799.0</td>\n",
       "      <td>2.496280</td>\n",
       "      <td>0.689818</td>\n",
       "      <td>1.000000</td>\n",
       "      <td>2.000000</td>\n",
       "      <td>3.000000</td>\n",
       "      <td>3.000000</td>\n",
       "      <td>3.000000</td>\n",
       "    </tr>\n",
       "    <tr>\n",
       "      <th>income</th>\n",
       "      <td>73799.0</td>\n",
       "      <td>41099.775417</td>\n",
       "      <td>46166.322400</td>\n",
       "      <td>1000.000000</td>\n",
       "      <td>20000.000000</td>\n",
       "      <td>30000.000000</td>\n",
       "      <td>48000.000000</td>\n",
       "      <td>1000000.000000</td>\n",
       "    </tr>\n",
       "    <tr>\n",
       "      <th>sna</th>\n",
       "      <td>73799.0</td>\n",
       "      <td>1.733330</td>\n",
       "      <td>1.123622</td>\n",
       "      <td>1.000000</td>\n",
       "      <td>1.000000</td>\n",
       "      <td>1.000000</td>\n",
       "      <td>2.000000</td>\n",
       "      <td>4.000000</td>\n",
       "    </tr>\n",
       "    <tr>\n",
       "      <th>first_time</th>\n",
       "      <td>73799.0</td>\n",
       "      <td>2.765458</td>\n",
       "      <td>1.009463</td>\n",
       "      <td>1.000000</td>\n",
       "      <td>2.000000</td>\n",
       "      <td>3.000000</td>\n",
       "      <td>4.000000</td>\n",
       "      <td>4.000000</td>\n",
       "    </tr>\n",
       "    <tr>\n",
       "      <th>default</th>\n",
       "      <td>73799.0</td>\n",
       "      <td>0.126994</td>\n",
       "      <td>0.332968</td>\n",
       "      <td>0.000000</td>\n",
       "      <td>0.000000</td>\n",
       "      <td>0.000000</td>\n",
       "      <td>0.000000</td>\n",
       "      <td>1.000000</td>\n",
       "    </tr>\n",
       "  </tbody>\n",
       "</table>\n",
       "</div>"
      ],
      "text/plain": [
       "                   count          mean           std          min  \\\n",
       "client_id        73799.0  55137.965094  31841.921168     1.000000   \n",
       "age              73799.0     39.280641     11.520378    21.000000   \n",
       "decline_app_cnt  73799.0      0.275749      0.804272     0.000000   \n",
       "good_work        73799.0      0.164894      0.371087     0.000000   \n",
       "score_bki        73799.0     -1.904724      0.498231    -3.624586   \n",
       "bki_request_cnt  73799.0      2.000339      2.252073     0.000000   \n",
       "region_rating    73799.0     56.725701     13.055717    20.000000   \n",
       "home_address     73799.0      1.575509      0.527631     1.000000   \n",
       "work_address     73799.0      2.496280      0.689818     1.000000   \n",
       "income           73799.0  41099.775417  46166.322400  1000.000000   \n",
       "sna              73799.0      1.733330      1.123622     1.000000   \n",
       "first_time       73799.0      2.765458      1.009463     1.000000   \n",
       "default          73799.0      0.126994      0.332968     0.000000   \n",
       "\n",
       "                          25%           50%           75%             max  \n",
       "client_id        27440.500000  55274.000000  82758.500000   110147.000000  \n",
       "age                 30.000000     37.000000     48.000000       72.000000  \n",
       "decline_app_cnt      0.000000      0.000000      0.000000       33.000000  \n",
       "good_work            0.000000      0.000000      0.000000        1.000000  \n",
       "score_bki           -2.259534     -1.920823     -1.569831        0.199773  \n",
       "bki_request_cnt      0.000000      1.000000      3.000000       53.000000  \n",
       "region_rating       50.000000     50.000000     60.000000       80.000000  \n",
       "home_address         1.000000      2.000000      2.000000        3.000000  \n",
       "work_address         2.000000      3.000000      3.000000        3.000000  \n",
       "income           20000.000000  30000.000000  48000.000000  1000000.000000  \n",
       "sna                  1.000000      1.000000      2.000000        4.000000  \n",
       "first_time           2.000000      3.000000      4.000000        4.000000  \n",
       "default              0.000000      0.000000      0.000000        1.000000  "
      ]
     },
     "metadata": {},
     "output_type": "display_data"
    },
    {
     "data": {
      "text/html": [
       "<div>\n",
       "<style scoped>\n",
       "    .dataframe tbody tr th:only-of-type {\n",
       "        vertical-align: middle;\n",
       "    }\n",
       "\n",
       "    .dataframe tbody tr th {\n",
       "        vertical-align: top;\n",
       "    }\n",
       "\n",
       "    .dataframe thead th {\n",
       "        text-align: right;\n",
       "    }\n",
       "</style>\n",
       "<table border=\"1\" class=\"dataframe\">\n",
       "  <thead>\n",
       "    <tr style=\"text-align: right;\">\n",
       "      <th></th>\n",
       "      <th>count</th>\n",
       "      <th>unique</th>\n",
       "      <th>top</th>\n",
       "      <th>freq</th>\n",
       "    </tr>\n",
       "  </thead>\n",
       "  <tbody>\n",
       "    <tr>\n",
       "      <th>app_date</th>\n",
       "      <td>73799</td>\n",
       "      <td>120</td>\n",
       "      <td>18MAR2014</td>\n",
       "      <td>1018</td>\n",
       "    </tr>\n",
       "    <tr>\n",
       "      <th>education</th>\n",
       "      <td>73492</td>\n",
       "      <td>5</td>\n",
       "      <td>SCH</td>\n",
       "      <td>38860</td>\n",
       "    </tr>\n",
       "    <tr>\n",
       "      <th>sex</th>\n",
       "      <td>73799</td>\n",
       "      <td>2</td>\n",
       "      <td>F</td>\n",
       "      <td>41562</td>\n",
       "    </tr>\n",
       "    <tr>\n",
       "      <th>car</th>\n",
       "      <td>73799</td>\n",
       "      <td>2</td>\n",
       "      <td>N</td>\n",
       "      <td>49832</td>\n",
       "    </tr>\n",
       "    <tr>\n",
       "      <th>car_type</th>\n",
       "      <td>73799</td>\n",
       "      <td>2</td>\n",
       "      <td>N</td>\n",
       "      <td>59791</td>\n",
       "    </tr>\n",
       "    <tr>\n",
       "      <th>foreign_passport</th>\n",
       "      <td>73799</td>\n",
       "      <td>2</td>\n",
       "      <td>N</td>\n",
       "      <td>62733</td>\n",
       "    </tr>\n",
       "  </tbody>\n",
       "</table>\n",
       "</div>"
      ],
      "text/plain": [
       "                  count unique        top   freq\n",
       "app_date          73799    120  18MAR2014   1018\n",
       "education         73492      5        SCH  38860\n",
       "sex               73799      2          F  41562\n",
       "car               73799      2          N  49832\n",
       "car_type          73799      2          N  59791\n",
       "foreign_passport  73799      2          N  62733"
      ]
     },
     "metadata": {},
     "output_type": "display_data"
    },
    {
     "data": {
      "text/plain": [
       "client_id             0\n",
       "app_date              0\n",
       "education           307\n",
       "sex                   0\n",
       "age                   0\n",
       "car                   0\n",
       "car_type              0\n",
       "decline_app_cnt       0\n",
       "good_work             0\n",
       "score_bki             0\n",
       "bki_request_cnt       0\n",
       "region_rating         0\n",
       "home_address          0\n",
       "work_address          0\n",
       "income                0\n",
       "sna                   0\n",
       "first_time            0\n",
       "foreign_passport      0\n",
       "default               0\n",
       "dtype: int64"
      ]
     },
     "metadata": {},
     "output_type": "display_data"
    }
   ],
   "source": [
    "## Train\n",
    "display(df_train.info())\n",
    "display(df_train.describe().T)\n",
    "display(df_train.describe(include='object').T)\n",
    "display(df_train.isna().sum(0))"
   ]
  },
  {
   "cell_type": "code",
   "execution_count": null,
   "metadata": {},
   "outputs": [],
   "source": []
  },
  {
   "cell_type": "code",
   "execution_count": null,
   "metadata": {},
   "outputs": [],
   "source": []
  },
  {
   "cell_type": "code",
   "execution_count": null,
   "metadata": {},
   "outputs": [],
   "source": []
  },
  {
   "cell_type": "code",
   "execution_count": 9,
   "metadata": {},
   "outputs": [
    {
     "name": "stdout",
     "output_type": "stream",
     "text": [
      "<class 'pandas.core.frame.DataFrame'>\n",
      "RangeIndex: 36349 entries, 0 to 36348\n",
      "Data columns (total 18 columns):\n",
      " #   Column            Non-Null Count  Dtype  \n",
      "---  ------            --------------  -----  \n",
      " 0   client_id         36349 non-null  int64  \n",
      " 1   app_date          36349 non-null  object \n",
      " 2   education         36178 non-null  object \n",
      " 3   sex               36349 non-null  object \n",
      " 4   age               36349 non-null  int64  \n",
      " 5   car               36349 non-null  object \n",
      " 6   car_type          36349 non-null  object \n",
      " 7   decline_app_cnt   36349 non-null  int64  \n",
      " 8   good_work         36349 non-null  int64  \n",
      " 9   score_bki         36349 non-null  float64\n",
      " 10  bki_request_cnt   36349 non-null  int64  \n",
      " 11  region_rating     36349 non-null  int64  \n",
      " 12  home_address      36349 non-null  int64  \n",
      " 13  work_address      36349 non-null  int64  \n",
      " 14  income            36349 non-null  int64  \n",
      " 15  sna               36349 non-null  int64  \n",
      " 16  first_time        36349 non-null  int64  \n",
      " 17  foreign_passport  36349 non-null  object \n",
      "dtypes: float64(1), int64(11), object(6)\n",
      "memory usage: 5.0+ MB\n"
     ]
    },
    {
     "data": {
      "text/plain": [
       "None"
      ]
     },
     "metadata": {},
     "output_type": "display_data"
    },
    {
     "data": {
      "text/html": [
       "<div>\n",
       "<style scoped>\n",
       "    .dataframe tbody tr th:only-of-type {\n",
       "        vertical-align: middle;\n",
       "    }\n",
       "\n",
       "    .dataframe tbody tr th {\n",
       "        vertical-align: top;\n",
       "    }\n",
       "\n",
       "    .dataframe thead th {\n",
       "        text-align: right;\n",
       "    }\n",
       "</style>\n",
       "<table border=\"1\" class=\"dataframe\">\n",
       "  <thead>\n",
       "    <tr style=\"text-align: right;\">\n",
       "      <th></th>\n",
       "      <th>count</th>\n",
       "      <th>mean</th>\n",
       "      <th>std</th>\n",
       "      <th>min</th>\n",
       "      <th>25%</th>\n",
       "      <th>50%</th>\n",
       "      <th>75%</th>\n",
       "      <th>max</th>\n",
       "    </tr>\n",
       "  </thead>\n",
       "  <tbody>\n",
       "    <tr>\n",
       "      <th>client_id</th>\n",
       "      <td>36349.0</td>\n",
       "      <td>54945.647473</td>\n",
       "      <td>31706.052195</td>\n",
       "      <td>4.000000</td>\n",
       "      <td>27744.000000</td>\n",
       "      <td>54657.000000</td>\n",
       "      <td>82322.000000</td>\n",
       "      <td>110148.00000</td>\n",
       "    </tr>\n",
       "    <tr>\n",
       "      <th>age</th>\n",
       "      <td>36349.0</td>\n",
       "      <td>39.186002</td>\n",
       "      <td>11.513258</td>\n",
       "      <td>21.000000</td>\n",
       "      <td>30.000000</td>\n",
       "      <td>37.000000</td>\n",
       "      <td>48.000000</td>\n",
       "      <td>71.00000</td>\n",
       "    </tr>\n",
       "    <tr>\n",
       "      <th>decline_app_cnt</th>\n",
       "      <td>36349.0</td>\n",
       "      <td>0.268040</td>\n",
       "      <td>0.788478</td>\n",
       "      <td>0.000000</td>\n",
       "      <td>0.000000</td>\n",
       "      <td>0.000000</td>\n",
       "      <td>0.000000</td>\n",
       "      <td>30.00000</td>\n",
       "    </tr>\n",
       "    <tr>\n",
       "      <th>good_work</th>\n",
       "      <td>36349.0</td>\n",
       "      <td>0.166772</td>\n",
       "      <td>0.372777</td>\n",
       "      <td>0.000000</td>\n",
       "      <td>0.000000</td>\n",
       "      <td>0.000000</td>\n",
       "      <td>0.000000</td>\n",
       "      <td>1.00000</td>\n",
       "    </tr>\n",
       "    <tr>\n",
       "      <th>score_bki</th>\n",
       "      <td>36349.0</td>\n",
       "      <td>-1.904152</td>\n",
       "      <td>0.501764</td>\n",
       "      <td>-3.574197</td>\n",
       "      <td>-2.261909</td>\n",
       "      <td>-1.920823</td>\n",
       "      <td>-1.563957</td>\n",
       "      <td>0.18882</td>\n",
       "    </tr>\n",
       "    <tr>\n",
       "      <th>bki_request_cnt</th>\n",
       "      <td>36349.0</td>\n",
       "      <td>2.014471</td>\n",
       "      <td>2.296789</td>\n",
       "      <td>0.000000</td>\n",
       "      <td>0.000000</td>\n",
       "      <td>1.000000</td>\n",
       "      <td>3.000000</td>\n",
       "      <td>47.00000</td>\n",
       "    </tr>\n",
       "    <tr>\n",
       "      <th>region_rating</th>\n",
       "      <td>36349.0</td>\n",
       "      <td>56.802938</td>\n",
       "      <td>13.086646</td>\n",
       "      <td>20.000000</td>\n",
       "      <td>50.000000</td>\n",
       "      <td>50.000000</td>\n",
       "      <td>60.000000</td>\n",
       "      <td>80.00000</td>\n",
       "    </tr>\n",
       "    <tr>\n",
       "      <th>home_address</th>\n",
       "      <td>36349.0</td>\n",
       "      <td>1.573798</td>\n",
       "      <td>0.527428</td>\n",
       "      <td>1.000000</td>\n",
       "      <td>1.000000</td>\n",
       "      <td>2.000000</td>\n",
       "      <td>2.000000</td>\n",
       "      <td>3.00000</td>\n",
       "    </tr>\n",
       "    <tr>\n",
       "      <th>work_address</th>\n",
       "      <td>36349.0</td>\n",
       "      <td>2.501087</td>\n",
       "      <td>0.683227</td>\n",
       "      <td>1.000000</td>\n",
       "      <td>2.000000</td>\n",
       "      <td>3.000000</td>\n",
       "      <td>3.000000</td>\n",
       "      <td>3.00000</td>\n",
       "    </tr>\n",
       "    <tr>\n",
       "      <th>income</th>\n",
       "      <td>36349.0</td>\n",
       "      <td>40835.755729</td>\n",
       "      <td>43802.180951</td>\n",
       "      <td>1000.000000</td>\n",
       "      <td>20000.000000</td>\n",
       "      <td>30000.000000</td>\n",
       "      <td>48000.000000</td>\n",
       "      <td>1000000.00000</td>\n",
       "    </tr>\n",
       "    <tr>\n",
       "      <th>sna</th>\n",
       "      <td>36349.0</td>\n",
       "      <td>1.728053</td>\n",
       "      <td>1.120686</td>\n",
       "      <td>1.000000</td>\n",
       "      <td>1.000000</td>\n",
       "      <td>1.000000</td>\n",
       "      <td>2.000000</td>\n",
       "      <td>4.00000</td>\n",
       "    </tr>\n",
       "    <tr>\n",
       "      <th>first_time</th>\n",
       "      <td>36349.0</td>\n",
       "      <td>2.765798</td>\n",
       "      <td>1.011560</td>\n",
       "      <td>1.000000</td>\n",
       "      <td>2.000000</td>\n",
       "      <td>3.000000</td>\n",
       "      <td>4.000000</td>\n",
       "      <td>4.00000</td>\n",
       "    </tr>\n",
       "  </tbody>\n",
       "</table>\n",
       "</div>"
      ],
      "text/plain": [
       "                   count          mean           std          min  \\\n",
       "client_id        36349.0  54945.647473  31706.052195     4.000000   \n",
       "age              36349.0     39.186002     11.513258    21.000000   \n",
       "decline_app_cnt  36349.0      0.268040      0.788478     0.000000   \n",
       "good_work        36349.0      0.166772      0.372777     0.000000   \n",
       "score_bki        36349.0     -1.904152      0.501764    -3.574197   \n",
       "bki_request_cnt  36349.0      2.014471      2.296789     0.000000   \n",
       "region_rating    36349.0     56.802938     13.086646    20.000000   \n",
       "home_address     36349.0      1.573798      0.527428     1.000000   \n",
       "work_address     36349.0      2.501087      0.683227     1.000000   \n",
       "income           36349.0  40835.755729  43802.180951  1000.000000   \n",
       "sna              36349.0      1.728053      1.120686     1.000000   \n",
       "first_time       36349.0      2.765798      1.011560     1.000000   \n",
       "\n",
       "                          25%           50%           75%            max  \n",
       "client_id        27744.000000  54657.000000  82322.000000   110148.00000  \n",
       "age                 30.000000     37.000000     48.000000       71.00000  \n",
       "decline_app_cnt      0.000000      0.000000      0.000000       30.00000  \n",
       "good_work            0.000000      0.000000      0.000000        1.00000  \n",
       "score_bki           -2.261909     -1.920823     -1.563957        0.18882  \n",
       "bki_request_cnt      0.000000      1.000000      3.000000       47.00000  \n",
       "region_rating       50.000000     50.000000     60.000000       80.00000  \n",
       "home_address         1.000000      2.000000      2.000000        3.00000  \n",
       "work_address         2.000000      3.000000      3.000000        3.00000  \n",
       "income           20000.000000  30000.000000  48000.000000  1000000.00000  \n",
       "sna                  1.000000      1.000000      2.000000        4.00000  \n",
       "first_time           2.000000      3.000000      4.000000        4.00000  "
      ]
     },
     "metadata": {},
     "output_type": "display_data"
    },
    {
     "data": {
      "text/html": [
       "<div>\n",
       "<style scoped>\n",
       "    .dataframe tbody tr th:only-of-type {\n",
       "        vertical-align: middle;\n",
       "    }\n",
       "\n",
       "    .dataframe tbody tr th {\n",
       "        vertical-align: top;\n",
       "    }\n",
       "\n",
       "    .dataframe thead th {\n",
       "        text-align: right;\n",
       "    }\n",
       "</style>\n",
       "<table border=\"1\" class=\"dataframe\">\n",
       "  <thead>\n",
       "    <tr style=\"text-align: right;\">\n",
       "      <th></th>\n",
       "      <th>count</th>\n",
       "      <th>unique</th>\n",
       "      <th>top</th>\n",
       "      <th>freq</th>\n",
       "    </tr>\n",
       "  </thead>\n",
       "  <tbody>\n",
       "    <tr>\n",
       "      <th>app_date</th>\n",
       "      <td>36349</td>\n",
       "      <td>120</td>\n",
       "      <td>18MAR2014</td>\n",
       "      <td>473</td>\n",
       "    </tr>\n",
       "    <tr>\n",
       "      <th>education</th>\n",
       "      <td>36178</td>\n",
       "      <td>5</td>\n",
       "      <td>SCH</td>\n",
       "      <td>19138</td>\n",
       "    </tr>\n",
       "    <tr>\n",
       "      <th>sex</th>\n",
       "      <td>36349</td>\n",
       "      <td>2</td>\n",
       "      <td>F</td>\n",
       "      <td>20274</td>\n",
       "    </tr>\n",
       "    <tr>\n",
       "      <th>car</th>\n",
       "      <td>36349</td>\n",
       "      <td>2</td>\n",
       "      <td>N</td>\n",
       "      <td>24458</td>\n",
       "    </tr>\n",
       "    <tr>\n",
       "      <th>car_type</th>\n",
       "      <td>36349</td>\n",
       "      <td>2</td>\n",
       "      <td>N</td>\n",
       "      <td>29349</td>\n",
       "    </tr>\n",
       "    <tr>\n",
       "      <th>foreign_passport</th>\n",
       "      <td>36349</td>\n",
       "      <td>2</td>\n",
       "      <td>N</td>\n",
       "      <td>30988</td>\n",
       "    </tr>\n",
       "  </tbody>\n",
       "</table>\n",
       "</div>"
      ],
      "text/plain": [
       "                  count unique        top   freq\n",
       "app_date          36349    120  18MAR2014    473\n",
       "education         36178      5        SCH  19138\n",
       "sex               36349      2          F  20274\n",
       "car               36349      2          N  24458\n",
       "car_type          36349      2          N  29349\n",
       "foreign_passport  36349      2          N  30988"
      ]
     },
     "metadata": {},
     "output_type": "display_data"
    },
    {
     "data": {
      "text/plain": [
       "client_id             0\n",
       "app_date              0\n",
       "education           171\n",
       "sex                   0\n",
       "age                   0\n",
       "car                   0\n",
       "car_type              0\n",
       "decline_app_cnt       0\n",
       "good_work             0\n",
       "score_bki             0\n",
       "bki_request_cnt       0\n",
       "region_rating         0\n",
       "home_address          0\n",
       "work_address          0\n",
       "income                0\n",
       "sna                   0\n",
       "first_time            0\n",
       "foreign_passport      0\n",
       "dtype: int64"
      ]
     },
     "metadata": {},
     "output_type": "display_data"
    }
   ],
   "source": [
    "## Test\n",
    "display(df_test.info())\n",
    "display(df_test.describe().T)\n",
    "display(df_test.describe(include='object').T)\n",
    "display(df_test.isna().sum(0))"
   ]
  },
  {
   "cell_type": "code",
   "execution_count": null,
   "metadata": {},
   "outputs": [],
   "source": []
  },
  {
   "cell_type": "code",
   "execution_count": null,
   "metadata": {},
   "outputs": [],
   "source": []
  },
  {
   "cell_type": "code",
   "execution_count": null,
   "metadata": {},
   "outputs": [],
   "source": []
  },
  {
   "cell_type": "code",
   "execution_count": null,
   "metadata": {},
   "outputs": [],
   "source": []
  },
  {
   "cell_type": "code",
   "execution_count": 10,
   "metadata": {},
   "outputs": [
    {
     "name": "stdout",
     "output_type": "stream",
     "text": [
      "0    0.873006\n",
      "1    0.126994\n",
      "Name: default, dtype: float64\n"
     ]
    },
    {
     "data": {
      "image/png": "[encoded data removed]",
      "text/plain": [
       "<Figure size 432x288 with 1 Axes>"
      ]
     },
     "metadata": {
      "needs_background": "light"
     },
     "output_type": "display_data"
    }
   ],
   "source": [
    "## Train\n",
    "print(df_train['default'].value_counts(normalize=True))\n",
    "sns.countplot(df_train['default']);"
   ]
  },
  {
   "cell_type": "code",
   "execution_count": 11,
   "metadata": {},
   "outputs": [],
   "source": [
    "## Вывод -- классы очень несбалансированы. На это нужно обратить внимание при обучении модели, иначе есть риск переобучиться на самый популярный класс."
   ]
  },
  {
   "cell_type": "code",
   "execution_count": null,
   "metadata": {},
   "outputs": [],
   "source": []
  },
  {
   "cell_type": "markdown",
   "metadata": {},
   "source": [
    "# Preprocessing"
   ]
  },
  {
   "cell_type": "markdown",
   "metadata": {},
   "source": [
    "## Feature transformations"
   ]
  },
  {
   "cell_type": "code",
   "execution_count": 12,
   "metadata": {},
   "outputs": [],
   "source": [
    "# Давайте сперва займёмся преобразованием признаков -- категориальные/бинарные закодируем, а числовые приведем к одному масштабу."
   ]
  },
  {
   "cell_type": "markdown",
   "metadata": {},
   "source": [
    "#### client_id"
   ]
  },
  {
   "cell_type": "code",
   "execution_count": 13,
   "metadata": {},
   "outputs": [
    {
     "data": {
      "text/plain": [
       "6141     1\n",
       "42113    1\n",
       "29467    1\n",
       "19228    1\n",
       "21279    1\n",
       "        ..\n",
       "46588    1\n",
       "48637    1\n",
       "42494    1\n",
       "87552    1\n",
       "2049     1\n",
       "Name: client_id, Length: 73799, dtype: int64"
      ]
     },
     "execution_count": 13,
     "metadata": {},
     "output_type": "execute_result"
    }
   ],
   "source": [
    "df_train.client_id.value_counts() # -- все id уникальны, просто отбросим эту колонку"
   ]
  },
  {
   "cell_type": "code",
   "execution_count": 14,
   "metadata": {},
   "outputs": [],
   "source": [
    "df_train.drop(columns=['client_id'], axis=0, inplace=True)\n",
    "df_test.drop(columns=['client_id'], axis=0, inplace=True)"
   ]
  },
  {
   "cell_type": "code",
   "execution_count": null,
   "metadata": {},
   "outputs": [],
   "source": []
  },
  {
   "cell_type": "code",
   "execution_count": null,
   "metadata": {},
   "outputs": [],
   "source": []
  },
  {
   "cell_type": "code",
   "execution_count": null,
   "metadata": {},
   "outputs": [],
   "source": []
  },
  {
   "cell_type": "markdown",
   "metadata": {},
   "source": [
    "#### app_date"
   ]
  },
  {
   "cell_type": "code",
   "execution_count": 15,
   "metadata": {},
   "outputs": [],
   "source": [
    "## Эта колонка -- дата подачи заявления. Давайте приведём её в приемлимый формат дат."
   ]
  },
  {
   "cell_type": "code",
   "execution_count": 16,
   "metadata": {},
   "outputs": [
    {
     "data": {
      "text/plain": [
       "0        01FEB2014\n",
       "1        12MAR2014\n",
       "2        01FEB2014\n",
       "3        23JAN2014\n",
       "4        18APR2014\n",
       "           ...    \n",
       "73794    04MAR2014\n",
       "73795    24MAR2014\n",
       "73796    22APR2014\n",
       "73797    04JAN2014\n",
       "73798    23JAN2014\n",
       "Name: app_date, Length: 73799, dtype: object"
      ]
     },
     "execution_count": 16,
     "metadata": {},
     "output_type": "execute_result"
    }
   ],
   "source": [
    "df_train.app_date"
   ]
  },
  {
   "cell_type": "code",
   "execution_count": 17,
   "metadata": {},
   "outputs": [],
   "source": [
    "df_train.app_date = pd.to_datetime(df_train.app_date)\n",
    "df_test.app_date = pd.to_datetime(df_test.app_date)"
   ]
  },
  {
   "cell_type": "code",
   "execution_count": null,
   "metadata": {},
   "outputs": [],
   "source": []
  },
  {
   "cell_type": "code",
   "execution_count": 18,
   "metadata": {},
   "outputs": [
    {
     "data": {
      "text/plain": [
       "Tuesday      12176\n",
       "Monday       12024\n",
       "Wednesday    11740\n",
       "Thursday     11615\n",
       "Friday       11263\n",
       "Saturday      8231\n",
       "Sunday        6750\n",
       "Name: app_date, dtype: int64"
      ]
     },
     "execution_count": 18,
     "metadata": {},
     "output_type": "execute_result"
    }
   ],
   "source": [
    "## Посмотрим на распределение подач заявлений по дням недели:\n",
    "df_train.app_date.dt.day_name().value_counts()"
   ]
  },
  {
   "cell_type": "code",
   "execution_count": 19,
   "metadata": {},
   "outputs": [
    {
     "data": {
      "text/plain": [
       "Tuesday      6004\n",
       "Wednesday    5841\n",
       "Monday       5834\n",
       "Thursday     5806\n",
       "Friday       5486\n",
       "Saturday     3971\n",
       "Sunday       3407\n",
       "Name: app_date, dtype: int64"
      ]
     },
     "execution_count": 19,
     "metadata": {},
     "output_type": "execute_result"
    }
   ],
   "source": [
    "df_test.app_date.dt.day_name().value_counts()"
   ]
  },
  {
   "cell_type": "code",
   "execution_count": null,
   "metadata": {},
   "outputs": [],
   "source": []
  },
  {
   "cell_type": "code",
   "execution_count": 20,
   "metadata": {},
   "outputs": [],
   "source": [
    "## Давайте посмотрим на распределение дефолтов по дням недели. Это поможет понять, нужно ли использовать день недели как признак."
   ]
  },
  {
   "cell_type": "code",
   "execution_count": 21,
   "metadata": {},
   "outputs": [
    {
     "data": {
      "text/plain": [
       "app_date\n",
       "Friday       0.119950\n",
       "Monday       0.127079\n",
       "Saturday     0.130968\n",
       "Sunday       0.129185\n",
       "Thursday     0.131985\n",
       "Tuesday      0.127382\n",
       "Wednesday    0.124276\n",
       "Name: default, dtype: float64"
      ]
     },
     "execution_count": 21,
     "metadata": {},
     "output_type": "execute_result"
    }
   ],
   "source": [
    "df_train.groupby(df_train.app_date.dt.day_name())['default'].mean() ## <-- видно, что всё довольно равномерно"
   ]
  },
  {
   "cell_type": "code",
   "execution_count": 22,
   "metadata": {},
   "outputs": [
    {
     "data": {
      "image/png": "[encoded data removed]",
      "text/plain": [
       "<Figure size 432x288 with 1 Axes>"
      ]
     },
     "metadata": {
      "needs_background": "light"
     },
     "output_type": "display_data"
    }
   ],
   "source": [
    "## Посмотрим на то, как часто подавали заявки в конкретный день:\n",
    "\n",
    "df_train.app_date.value_counts().to_frame().reset_index().sort_values(by=['index']).plot.line(x='index', y='app_date');"
   ]
  },
  {
   "cell_type": "code",
   "execution_count": null,
   "metadata": {},
   "outputs": [],
   "source": []
  },
  {
   "cell_type": "code",
   "execution_count": 23,
   "metadata": {},
   "outputs": [
    {
     "data": {
      "text/plain": [
       "<matplotlib.axes._subplots.AxesSubplot at 0x7ffe33ca8048>"
      ]
     },
     "execution_count": 23,
     "metadata": {},
     "output_type": "execute_result"
    },
    {
     "data": {
      "image/png": "[encoded data removed]",
      "text/plain": [
       "<Figure size 432x288 with 1 Axes>"
      ]
     },
     "metadata": {
      "needs_background": "light"
     },
     "output_type": "display_data"
    }
   ],
   "source": [
    "## Посмотрим на долю дефолтов в конкретный из дней:\n",
    "\n",
    "df_train.groupby(df_train.app_date)['default'].mean().to_frame().reset_index().sort_values(by=['app_date']).plot.line(x='app_date', y='default')"
   ]
  },
  {
   "cell_type": "code",
   "execution_count": null,
   "metadata": {},
   "outputs": [],
   "source": []
  },
  {
   "cell_type": "code",
   "execution_count": 24,
   "metadata": {},
   "outputs": [],
   "source": [
    "df_train['month'] = df_train['app_date'].dt.month\n",
    "df_test['month'] = df_test['app_date'].dt.month\n",
    "\n",
    "df_train = pd.get_dummies(df_train, columns=['month'], drop_first=True)\n",
    "df_test = pd.get_dummies(df_test, columns=['month'], drop_first=True)"
   ]
  },
  {
   "cell_type": "code",
   "execution_count": 25,
   "metadata": {},
   "outputs": [],
   "source": [
    "# df_test.columns"
   ]
  },
  {
   "cell_type": "code",
   "execution_count": 26,
   "metadata": {},
   "outputs": [],
   "source": [
    "# df_train.columns"
   ]
  },
  {
   "cell_type": "code",
   "execution_count": 27,
   "metadata": {},
   "outputs": [],
   "source": [
    "df_train.drop(columns=['app_date'], inplace=True)\n",
    "df_test.drop(columns=['app_date'], inplace=True)"
   ]
  },
  {
   "cell_type": "code",
   "execution_count": null,
   "metadata": {},
   "outputs": [],
   "source": []
  },
  {
   "cell_type": "markdown",
   "metadata": {},
   "source": [
    "## Outliers"
   ]
  },
  {
   "cell_type": "code",
   "execution_count": 28,
   "metadata": {},
   "outputs": [],
   "source": [
    "# df_train['score_bki'] = np.abs(df_train['score_bki'].values)\n",
    "# df_test['score_bki'] = np.abs(df_test['score_bki'].values)"
   ]
  },
  {
   "cell_type": "code",
   "execution_count": 29,
   "metadata": {},
   "outputs": [],
   "source": [
    "def outliers(data):\n",
    "    quantiles = np.percentile(data, [25, 75])\n",
    "    iqr = quantiles[1] - quantiles[0]\n",
    "    left = quantiles[0] - 1.5 * iqr\n",
    "    right = quantiles[1] + 1.5 * iqr\n",
    "    return left, right"
   ]
  },
  {
   "cell_type": "code",
   "execution_count": 30,
   "metadata": {},
   "outputs": [],
   "source": [
    "for colname in ['bki_request_cnt', 'score_bki']:\n",
    "    d = outliers(df_train[colname])\n",
    "    df_train = df_train.loc[df_train[colname].between(d[0], d[1])]\n",
    "    df_test = df_test.loc[df_test[colname].between(d[0], d[1])]"
   ]
  },
  {
   "cell_type": "code",
   "execution_count": null,
   "metadata": {},
   "outputs": [],
   "source": []
  },
  {
   "cell_type": "code",
   "execution_count": null,
   "metadata": {},
   "outputs": [],
   "source": []
  },
  {
   "cell_type": "markdown",
   "metadata": {},
   "source": [
    "## OneHotEncoding"
   ]
  },
  {
   "cell_type": "code",
   "execution_count": 31,
   "metadata": {},
   "outputs": [],
   "source": [
    "def do_ohe(train, test, column):\n",
    "    test['default'] = None\n",
    "    df_full = pd.concat([train, test], axis=0)\n",
    "    dummies = pd.get_dummies(df_full[[column]], prefix=column, drop_first=True)\n",
    "    df_full = pd.concat([df_full, dummies], axis=1).drop(columns=column)\n",
    "    train = df_full[:train.shape[0]]\n",
    "    test = df_full[train.shape[0]:]\n",
    "    test = test.drop(columns=['default'])\n",
    "    return train, test"
   ]
  },
  {
   "cell_type": "code",
   "execution_count": 32,
   "metadata": {},
   "outputs": [
    {
     "data": {
      "text/html": [
       "<div>\n",
       "<style scoped>\n",
       "    .dataframe tbody tr th:only-of-type {\n",
       "        vertical-align: middle;\n",
       "    }\n",
       "\n",
       "    .dataframe tbody tr th {\n",
       "        vertical-align: top;\n",
       "    }\n",
       "\n",
       "    .dataframe thead th {\n",
       "        text-align: right;\n",
       "    }\n",
       "</style>\n",
       "<table border=\"1\" class=\"dataframe\">\n",
       "  <thead>\n",
       "    <tr style=\"text-align: right;\">\n",
       "      <th></th>\n",
       "      <th>count</th>\n",
       "      <th>unique</th>\n",
       "      <th>top</th>\n",
       "      <th>freq</th>\n",
       "    </tr>\n",
       "  </thead>\n",
       "  <tbody>\n",
       "    <tr>\n",
       "      <th>education</th>\n",
       "      <td>71420</td>\n",
       "      <td>5</td>\n",
       "      <td>SCH</td>\n",
       "      <td>37905</td>\n",
       "    </tr>\n",
       "    <tr>\n",
       "      <th>sex</th>\n",
       "      <td>71718</td>\n",
       "      <td>2</td>\n",
       "      <td>F</td>\n",
       "      <td>40301</td>\n",
       "    </tr>\n",
       "    <tr>\n",
       "      <th>car</th>\n",
       "      <td>71718</td>\n",
       "      <td>2</td>\n",
       "      <td>N</td>\n",
       "      <td>48462</td>\n",
       "    </tr>\n",
       "    <tr>\n",
       "      <th>car_type</th>\n",
       "      <td>71718</td>\n",
       "      <td>2</td>\n",
       "      <td>N</td>\n",
       "      <td>58209</td>\n",
       "    </tr>\n",
       "    <tr>\n",
       "      <th>foreign_passport</th>\n",
       "      <td>71718</td>\n",
       "      <td>2</td>\n",
       "      <td>N</td>\n",
       "      <td>61043</td>\n",
       "    </tr>\n",
       "  </tbody>\n",
       "</table>\n",
       "</div>"
      ],
      "text/plain": [
       "                  count unique  top   freq\n",
       "education         71420      5  SCH  37905\n",
       "sex               71718      2    F  40301\n",
       "car               71718      2    N  48462\n",
       "car_type          71718      2    N  58209\n",
       "foreign_passport  71718      2    N  61043"
      ]
     },
     "execution_count": 32,
     "metadata": {},
     "output_type": "execute_result"
    }
   ],
   "source": [
    "df_train.describe(include='object').T"
   ]
  },
  {
   "cell_type": "code",
   "execution_count": 33,
   "metadata": {},
   "outputs": [
    {
     "data": {
      "text/plain": [
       "50    26832\n",
       "60    15641\n",
       "40    11769\n",
       "80    11039\n",
       "70     5940\n",
       "30      295\n",
       "20      202\n",
       "Name: region_rating, dtype: int64"
      ]
     },
     "execution_count": 33,
     "metadata": {},
     "output_type": "execute_result"
    }
   ],
   "source": [
    "df_train.region_rating.value_counts()"
   ]
  },
  {
   "cell_type": "code",
   "execution_count": 34,
   "metadata": {},
   "outputs": [],
   "source": [
    "for col in ['sex', 'car', 'car_type', 'foreign_passport']: # , 'work_address', 'home_address', 'sna', 'first_time'\n",
    "    df_train, df_test = do_ohe(df_train, df_test, col)"
   ]
  },
  {
   "cell_type": "markdown",
   "metadata": {},
   "source": [
    "### Education"
   ]
  },
  {
   "cell_type": "code",
   "execution_count": 35,
   "metadata": {},
   "outputs": [
    {
     "data": {
      "image/png": "[encoded data removed]",
      "text/plain": [
       "<Figure size 432x288 with 1 Axes>"
      ]
     },
     "metadata": {
      "needs_background": "light"
     },
     "output_type": "display_data"
    }
   ],
   "source": [
    "sns.countplot(df_train['education']);"
   ]
  },
  {
   "cell_type": "code",
   "execution_count": 36,
   "metadata": {},
   "outputs": [
    {
     "data": {
      "text/plain": [
       "SCH    37905\n",
       "GRD    22508\n",
       "UGR     9614\n",
       "PGR     1206\n",
       "NaN      298\n",
       "ACD      187\n",
       "Name: education, dtype: int64"
      ]
     },
     "execution_count": 36,
     "metadata": {},
     "output_type": "execute_result"
    }
   ],
   "source": [
    "df_train['education'].value_counts(dropna=False)"
   ]
  },
  {
   "cell_type": "code",
   "execution_count": 37,
   "metadata": {},
   "outputs": [
    {
     "data": {
      "text/plain": [
       "education\n",
       "ACD       7\n",
       "GRD    1937\n",
       "PGR      77\n",
       "SCH    5587\n",
       "UGR    1247\n",
       "Name: default, dtype: int64"
      ]
     },
     "execution_count": 37,
     "metadata": {},
     "output_type": "execute_result"
    }
   ],
   "source": [
    "df_train.groupby(by=['education']).default.sum()"
   ]
  },
  {
   "cell_type": "code",
   "execution_count": null,
   "metadata": {},
   "outputs": [],
   "source": []
  },
  {
   "cell_type": "code",
   "execution_count": 38,
   "metadata": {},
   "outputs": [],
   "source": [
    "# Заполним просто самым популярным значением -- 'SCH'"
   ]
  },
  {
   "cell_type": "code",
   "execution_count": 39,
   "metadata": {},
   "outputs": [],
   "source": [
    "df_train.fillna(value='SCH', inplace=True)\n",
    "df_test.fillna(value='SCH', inplace=True)"
   ]
  },
  {
   "cell_type": "code",
   "execution_count": null,
   "metadata": {},
   "outputs": [],
   "source": []
  },
  {
   "cell_type": "code",
   "execution_count": null,
   "metadata": {},
   "outputs": [],
   "source": []
  },
  {
   "cell_type": "markdown",
   "metadata": {},
   "source": [
    "### Нормализация данных"
   ]
  },
  {
   "cell_type": "code",
   "execution_count": 40,
   "metadata": {},
   "outputs": [],
   "source": [
    "def do_std_scale(train, test, column):\n",
    "    scaler = StandardScaler()\n",
    "    train[column] = scaler.fit_transform(train[[column]])\n",
    "    test[column] = scaler.transform(test[[column]])\n",
    "    \n",
    "    return train, test\n",
    "\n",
    "def do_gauss_scale(train, test, column):\n",
    "    scaler = GaussRankScaler()\n",
    "    train[column] = scaler.fit_transform(train[[column]])\n",
    "    test[column] = scaler.transform(test[[column]])\n",
    "    \n",
    "    return train, test"
   ]
  },
  {
   "cell_type": "code",
   "execution_count": null,
   "metadata": {},
   "outputs": [],
   "source": []
  },
  {
   "cell_type": "code",
   "execution_count": 41,
   "metadata": {},
   "outputs": [
    {
     "data": {
      "image/png": "[encoded data removed]",
      "text/plain": [
       "<Figure size 432x288 with 1 Axes>"
      ]
     },
     "metadata": {
      "needs_background": "light"
     },
     "output_type": "display_data"
    }
   ],
   "source": [
    "##### Пример ######\n",
    "\n",
    "\n",
    "example = np.random.uniform(low=-10, high=10, size=10000)\n",
    "plt.hist(example, bins=100);"
   ]
  },
  {
   "cell_type": "code",
   "execution_count": 42,
   "metadata": {},
   "outputs": [
    {
     "data": {
      "image/png": "[encoded data removed]",
      "text/plain": [
       "<Figure size 432x288 with 1 Axes>"
      ]
     },
     "metadata": {
      "needs_background": "light"
     },
     "output_type": "display_data"
    }
   ],
   "source": [
    "plt.hist(StandardScaler().fit_transform(example.reshape(-1, 1)), bins=100);"
   ]
  },
  {
   "cell_type": "code",
   "execution_count": 43,
   "metadata": {},
   "outputs": [
    {
     "data": {
      "image/png": "[encoded data removed]",
      "text/plain": [
       "<Figure size 432x288 with 1 Axes>"
      ]
     },
     "metadata": {
      "needs_background": "light"
     },
     "output_type": "display_data"
    }
   ],
   "source": [
    "plt.hist(GaussRankScaler().fit_transform(example.reshape(-1, 1)), bins=100);"
   ]
  },
  {
   "cell_type": "code",
   "execution_count": 44,
   "metadata": {},
   "outputs": [],
   "source": [
    "#####################"
   ]
  },
  {
   "cell_type": "code",
   "execution_count": null,
   "metadata": {},
   "outputs": [],
   "source": []
  },
  {
   "cell_type": "code",
   "execution_count": null,
   "metadata": {},
   "outputs": [],
   "source": []
  },
  {
   "cell_type": "code",
   "execution_count": 45,
   "metadata": {},
   "outputs": [],
   "source": [
    "# for col in ['income', 'bki_request_cnt', 'decline_app_cnt', 'age']:\n",
    "#     df_train, df_test = do_std_bscale(df_train, df_test, col)"
   ]
  },
  {
   "cell_type": "code",
   "execution_count": 46,
   "metadata": {},
   "outputs": [
    {
     "data": {
      "text/plain": [
       "Index(['education', 'age', 'decline_app_cnt', 'good_work', 'score_bki',\n",
       "       'bki_request_cnt', 'region_rating', 'home_address', 'work_address',\n",
       "       'income', 'sna', 'first_time', 'default', 'month_2', 'month_3',\n",
       "       'month_4', 'sex_M', 'car_Y', 'car_type_Y', 'foreign_passport_Y'],\n",
       "      dtype='object')"
      ]
     },
     "execution_count": 46,
     "metadata": {},
     "output_type": "execute_result"
    }
   ],
   "source": [
    "df_train.columns"
   ]
  },
  {
   "cell_type": "code",
   "execution_count": 47,
   "metadata": {},
   "outputs": [
    {
     "data": {
      "text/plain": [
       "(array([-3.28674961, -3.28385248, -3.2781226 , ..., -0.55171564,\n",
       "        -0.55164499, -0.55099107]),\n",
       " array([1, 1, 4, ..., 1, 1, 1]))"
      ]
     },
     "execution_count": 47,
     "metadata": {},
     "output_type": "execute_result"
    }
   ],
   "source": [
    "np.unique(df_train.score_bki, return_counts=True)"
   ]
  },
  {
   "cell_type": "code",
   "execution_count": 48,
   "metadata": {},
   "outputs": [],
   "source": [
    "df_train['comb1'] = (df_train.good_work + 1) * df_train.home_address * df_train.work_address * df_train.first_time\n",
    "df_test['comb1'] = (df_test.good_work + 1) * df_test.home_address * df_test.work_address * df_test.first_time\n",
    "\n",
    "df_train['comb2'] = (df_train.decline_app_cnt + 1) * df_train.score_bki * df_train.sna\n",
    "df_test['comb2'] = (df_test.decline_app_cnt + 1) * df_test.score_bki * df_test.sna\n",
    "\n",
    "df_train['comb3'] = df_train.sna * df_train.education.isin(['UGR', 'GDR', 'PGR', 'ACD'])\n",
    "df_test['comb3'] =  df_test.sna * df_test.education.isin(['UGR', 'GDR', 'PGR', 'ACD'])\n",
    "\n",
    "df_train, df_test = do_ohe(df_train, df_test, 'education')"
   ]
  },
  {
   "cell_type": "code",
   "execution_count": 49,
   "metadata": {},
   "outputs": [],
   "source": [
    "root_columns = ['bki_request_cnt', 'income']\n",
    "\n",
    "for col in root_columns:\n",
    "    df_train[col + '_root'] = np.abs(df_train[col].values)**0.25\n",
    "    df_test[col + '_root'] = np.abs(df_test[col].values)**0.25"
   ]
  },
  {
   "cell_type": "code",
   "execution_count": 50,
   "metadata": {},
   "outputs": [],
   "source": [
    "for col in ['income', 'bki_request_cnt', 'decline_app_cnt', 'age']:\n",
    "    df_train, df_test = do_gauss_scale(df_train, df_test, col)"
   ]
  },
  {
   "cell_type": "code",
   "execution_count": 51,
   "metadata": {},
   "outputs": [],
   "source": [
    "for col in ['comb1', 'comb2', 'comb3']:\n",
    "    df_train, df_test = do_gauss_scale(df_train, df_test, col)"
   ]
  },
  {
   "cell_type": "code",
   "execution_count": 52,
   "metadata": {},
   "outputs": [],
   "source": [
    "for col in ['bki_request_cnt_root', 'income_root']:\n",
    "    df_train, df_test = do_gauss_scale(df_train, df_test, col)"
   ]
  },
  {
   "cell_type": "code",
   "execution_count": null,
   "metadata": {},
   "outputs": [],
   "source": []
  },
  {
   "cell_type": "code",
   "execution_count": null,
   "metadata": {},
   "outputs": [],
   "source": []
  },
  {
   "cell_type": "code",
   "execution_count": 53,
   "metadata": {},
   "outputs": [
    {
     "data": {
      "text/plain": [
       "(71718, 28)"
      ]
     },
     "execution_count": 53,
     "metadata": {},
     "output_type": "execute_result"
    }
   ],
   "source": [
    "df_train.shape"
   ]
  },
  {
   "cell_type": "code",
   "execution_count": 54,
   "metadata": {},
   "outputs": [
    {
     "data": {
      "text/plain": [
       "(35294, 27)"
      ]
     },
     "execution_count": 54,
     "metadata": {},
     "output_type": "execute_result"
    }
   ],
   "source": [
    "df_test.shape"
   ]
  },
  {
   "cell_type": "markdown",
   "metadata": {},
   "source": [
    "# Model training"
   ]
  },
  {
   "cell_type": "code",
   "execution_count": 55,
   "metadata": {},
   "outputs": [],
   "source": [
    "X = df_train.drop(columns='default').values\n",
    "y = df_train.default.values.astype(int)"
   ]
  },
  {
   "cell_type": "code",
   "execution_count": 56,
   "metadata": {},
   "outputs": [],
   "source": [
    "param_grid = {\n",
    "    'penalty': ['l2'],\n",
    "    'C': np.logspace(-2, 2, 10),\n",
    "}"
   ]
  },
  {
   "cell_type": "markdown",
   "metadata": {},
   "source": [
    "## Naive way"
   ]
  },
  {
   "cell_type": "code",
   "execution_count": 57,
   "metadata": {},
   "outputs": [],
   "source": [
    "X_train, X_val, y_train, y_val = train_test_split(X, y, test_size=0.2, random_state=seed)"
   ]
  },
  {
   "cell_type": "code",
   "execution_count": 58,
   "metadata": {},
   "outputs": [
    {
     "name": "stdout",
     "output_type": "stream",
     "text": [
      "In the initial dataset [0.87608411 0.12391589]\n",
      "In the training dataset [0.87642486 0.12357514]\n",
      "In the validation dataset [0.87472114 0.12527886]\n"
     ]
    }
   ],
   "source": [
    "print(f'In the initial dataset {np.unique(y, return_counts=True)[1] / y.shape[0]}')\n",
    "print(f'In the training dataset {np.unique(y_train, return_counts=True)[1] / y_train.shape[0]}')\n",
    "print(f'In the validation dataset {np.unique(y_val, return_counts=True)[1] / y_val.shape[0]}')"
   ]
  },
  {
   "cell_type": "code",
   "execution_count": 59,
   "metadata": {},
   "outputs": [],
   "source": [
    "kf = KFold()"
   ]
  },
  {
   "cell_type": "code",
   "execution_count": 60,
   "metadata": {},
   "outputs": [],
   "source": [
    "logreg = LogisticRegression(max_iter=500, random_state=seed)\n",
    "gs = GridSearchCV(logreg, param_grid=param_grid, cv=kf, scoring='roc_auc')"
   ]
  },
  {
   "cell_type": "code",
   "execution_count": 61,
   "metadata": {},
   "outputs": [
    {
     "data": {
      "text/plain": [
       "GridSearchCV(cv=KFold(n_splits=5, random_state=None, shuffle=False),\n",
       "             estimator=LogisticRegression(max_iter=500, random_state=42),\n",
       "             param_grid={'C': array([1.00000000e-02, 2.78255940e-02, 7.74263683e-02, 2.15443469e-01,\n",
       "       5.99484250e-01, 1.66810054e+00, 4.64158883e+00, 1.29154967e+01,\n",
       "       3.59381366e+01, 1.00000000e+02]),\n",
       "                         'penalty': ['l2']},\n",
       "             scoring='roc_auc')"
      ]
     },
     "execution_count": 61,
     "metadata": {},
     "output_type": "execute_result"
    }
   ],
   "source": [
    "gs.fit(X_train, y_train)"
   ]
  },
  {
   "cell_type": "code",
   "execution_count": 62,
   "metadata": {},
   "outputs": [
    {
     "name": "stdout",
     "output_type": "stream",
     "text": [
      "LogisticRegression(C=100.0, max_iter=500, random_state=42)\n",
      "0.7290119036675538\n",
      "[[-0.0588067   0.15344154 -0.24311487  1.07508083  0.0697887  -0.02354293\n",
      "   0.32319901  0.27717658 -0.03151772  0.06994352 -0.10295742 -0.0742362\n",
      "  -0.09617608 -0.43274496  0.25626982 -0.01036136 -0.24073276 -0.24014622\n",
      "   0.06812164 -0.16115654 -0.00559543  0.06395921  0.01631285  0.45027539\n",
      "   0.34982781  0.0697887  -0.03151772]]\n",
      "Index(['age', 'decline_app_cnt', 'good_work', 'score_bki', 'bki_request_cnt',\n",
      "       'region_rating', 'home_address', 'work_address', 'income', 'sna',\n",
      "       'first_time', 'default', 'month_2', 'month_3', 'month_4', 'sex_M',\n",
      "       'car_Y', 'car_type_Y', 'foreign_passport_Y', 'comb1', 'comb2', 'comb3',\n",
      "       'education_GRD', 'education_PGR', 'education_SCH', 'education_UGR',\n",
      "       'bki_request_cnt_root', 'income_root'],\n",
      "      dtype='object')\n"
     ]
    }
   ],
   "source": [
    "print(gs.best_estimator_)\n",
    "print(gs.best_score_)\n",
    "print(gs.best_estimator_.coef_)\n",
    "print(df_train.columns)"
   ]
  },
  {
   "cell_type": "code",
   "execution_count": 63,
   "metadata": {},
   "outputs": [
    {
     "name": "stdout",
     "output_type": "stream",
     "text": [
      "ROC AUC 0.7267034991281973\n",
      "\n",
      "Confusion matrix: \n",
      " [[12511    36]\n",
      " [ 1772    25]]\n"
     ]
    }
   ],
   "source": [
    "probs = gs.predict_proba(X_val)\n",
    "preds = gs.predict(X_val)\n",
    "print('ROC AUC', roc_auc_score(y_val, probs[:, 1]))\n",
    "print()\n",
    "print('Confusion matrix: \\n', confusion_matrix(y_val, preds))"
   ]
  },
  {
   "cell_type": "code",
   "execution_count": null,
   "metadata": {},
   "outputs": [],
   "source": []
  },
  {
   "cell_type": "code",
   "execution_count": null,
   "metadata": {},
   "outputs": [],
   "source": []
  },
  {
   "cell_type": "markdown",
   "metadata": {},
   "source": [
    "## Correct way"
   ]
  },
  {
   "cell_type": "code",
   "execution_count": 64,
   "metadata": {},
   "outputs": [],
   "source": [
    "s = StratifiedShuffleSplit(n_splits=1, test_size=0.2, random_state=seed)"
   ]
  },
  {
   "cell_type": "code",
   "execution_count": 65,
   "metadata": {},
   "outputs": [],
   "source": [
    "train_ind, val_ind = list(s.split(X, y))[0]"
   ]
  },
  {
   "cell_type": "code",
   "execution_count": 66,
   "metadata": {},
   "outputs": [],
   "source": [
    "X_train, X_val, y_train, y_val = X[train_ind], X[val_ind], y[train_ind], y[val_ind]"
   ]
  },
  {
   "cell_type": "code",
   "execution_count": 67,
   "metadata": {},
   "outputs": [],
   "source": [
    "oversample_ups = imblearn.over_sampling.RandomOverSampler(sampling_strategy=0.8, random_state=seed)\n",
    "X_train, y_train = oversample_ups.fit_resample(X_train, y_train)"
   ]
  },
  {
   "cell_type": "code",
   "execution_count": 68,
   "metadata": {},
   "outputs": [],
   "source": [
    "oversample = imblearn.over_sampling.SMOTE(sampling_strategy=1., random_state=seed)\n",
    "X_train, y_train = oversample.fit_resample(X_train, y_train)"
   ]
  },
  {
   "cell_type": "code",
   "execution_count": 69,
   "metadata": {},
   "outputs": [
    {
     "name": "stdout",
     "output_type": "stream",
     "text": [
      "In the initial dataset [0.87608411 0.12391589]\n",
      "In the training dataset [0.5 0.5]\n",
      "In the validation dataset [0.87611545 0.12388455]\n"
     ]
    }
   ],
   "source": [
    "print(f'In the initial dataset {np.unique(y, return_counts=True)[1] / y.shape[0]}')\n",
    "print(f'In the training dataset {np.unique(y_train, return_counts=True)[1] / y_train.shape[0]}')\n",
    "print(f'In the validation dataset {np.unique(y_val, return_counts=True)[1] / y_val.shape[0]}')"
   ]
  },
  {
   "cell_type": "code",
   "execution_count": 70,
   "metadata": {},
   "outputs": [],
   "source": [
    "param_grid.update({'class_weight': ['balanced', {0: 1, 1: 10}]})"
   ]
  },
  {
   "cell_type": "code",
   "execution_count": 71,
   "metadata": {},
   "outputs": [
    {
     "data": {
      "text/plain": [
       "{'penalty': ['l2'],\n",
       " 'C': array([1.00000000e-02, 2.78255940e-02, 7.74263683e-02, 2.15443469e-01,\n",
       "        5.99484250e-01, 1.66810054e+00, 4.64158883e+00, 1.29154967e+01,\n",
       "        3.59381366e+01, 1.00000000e+02]),\n",
       " 'class_weight': ['balanced', {0: 1, 1: 10}]}"
      ]
     },
     "execution_count": 71,
     "metadata": {},
     "output_type": "execute_result"
    }
   ],
   "source": [
    "param_grid"
   ]
  },
  {
   "cell_type": "code",
   "execution_count": 72,
   "metadata": {},
   "outputs": [],
   "source": [
    "stratified_cv = RepeatedStratifiedKFold(n_repeats=2, random_state=seed)"
   ]
  },
  {
   "cell_type": "code",
   "execution_count": null,
   "metadata": {},
   "outputs": [],
   "source": []
  },
  {
   "cell_type": "code",
   "execution_count": 73,
   "metadata": {},
   "outputs": [],
   "source": [
    "logreg = LogisticRegression(max_iter=500, class_weight='balanced')\n",
    "## На самом деле, здесь тоже есть даталик -- из-за апсемплинга есть шанс, что на валидации окажутся объекты из трейна.\n",
    "## Правильнее будет делать апсемплинг уже после выбора n-1 fold'ов, а не до.\n",
    "gs = GridSearchCV(logreg, param_grid=param_grid, cv=stratified_cv, scoring='roc_auc')"
   ]
  },
  {
   "cell_type": "code",
   "execution_count": 74,
   "metadata": {},
   "outputs": [
    {
     "data": {
      "text/plain": [
       "GridSearchCV(cv=RepeatedStratifiedKFold(n_repeats=2, n_splits=5, random_state=42),\n",
       "             estimator=LogisticRegression(class_weight='balanced',\n",
       "                                          max_iter=500),\n",
       "             param_grid={'C': array([1.00000000e-02, 2.78255940e-02, 7.74263683e-02, 2.15443469e-01,\n",
       "       5.99484250e-01, 1.66810054e+00, 4.64158883e+00, 1.29154967e+01,\n",
       "       3.59381366e+01, 1.00000000e+02]),\n",
       "                         'class_weight': ['balanced', {0: 1, 1: 10}],\n",
       "                         'penalty': ['l2']},\n",
       "             scoring='roc_auc')"
      ]
     },
     "execution_count": 74,
     "metadata": {},
     "output_type": "execute_result"
    }
   ],
   "source": [
    "gs.fit(X_train, y_train)"
   ]
  },
  {
   "cell_type": "code",
   "execution_count": 75,
   "metadata": {},
   "outputs": [
    {
     "data": {
      "text/plain": [
       "{'C': 0.0774263682681127, 'class_weight': 'balanced', 'penalty': 'l2'}"
      ]
     },
     "execution_count": 75,
     "metadata": {},
     "output_type": "execute_result"
    }
   ],
   "source": [
    "gs.best_params_"
   ]
  },
  {
   "cell_type": "code",
   "execution_count": 76,
   "metadata": {},
   "outputs": [
    {
     "name": "stdout",
     "output_type": "stream",
     "text": [
      "ROC AUC 0.7294220255737631\n",
      "\n",
      "Confusion matrix: \n",
      " [[8326 4241]\n",
      " [ 603 1174]]\n"
     ]
    }
   ],
   "source": [
    "probs = gs.predict_proba(X_val)\n",
    "preds = gs.predict(X_val)\n",
    "print('ROC AUC', roc_auc_score(y_val, probs[:, 1]))\n",
    "print()\n",
    "print('Confusion matrix: \\n', confusion_matrix(y_val, preds))"
   ]
  },
  {
   "cell_type": "code",
   "execution_count": null,
   "metadata": {},
   "outputs": [],
   "source": []
  },
  {
   "cell_type": "code",
   "execution_count": null,
   "metadata": {},
   "outputs": [],
   "source": []
  },
  {
   "cell_type": "code",
   "execution_count": null,
   "metadata": {},
   "outputs": [],
   "source": []
  },
  {
   "cell_type": "code",
   "execution_count": null,
   "metadata": {},
   "outputs": [],
   "source": []
  },
  {
   "cell_type": "code",
   "execution_count": null,
   "metadata": {},
   "outputs": [],
   "source": []
  }
 ],
 "metadata": {
  "kernelspec": {
   "display_name": "Python 3",
   "language": "python",
   "name": "python3"
  },
  "language_info": {
   "codemirror_mode": {
    "name": "ipython",
    "version": 3
   },
   "file_extension": ".py",
   "mimetype": "text/x-python",
   "name": "python",
   "nbconvert_exporter": "python",
   "pygments_lexer": "ipython3",
   "version": "3.7.7"
  }
 },
 "nbformat": 4,
 "nbformat_minor": 4
}
