{
 "cells": [
  {
   "cell_type": "code",
   "execution_count": 1,
   "metadata": {},
   "outputs": [],
   "source": [
    "import pandas as pd\n",
    "import numpy as np\n",
    "from copy import copy\n",
    "\n",
    "from xgboost import XGBRegressor\n",
    "from lightgbm import LGBMRegressor\n",
    "from catboost import CatBoostRegressor\n",
    "from sklearn.linear_model import ElasticNet, LinearRegression, Ridge, Lasso\n",
    "from sklearn.svm import SVR\n",
    "from sklearn.ensemble import RandomForestRegressor, GradientBoostingRegressor, StackingRegressor\n",
    "\n",
    "from sklearn.model_selection import train_test_split, GridSearchCV, RepeatedKFold\n",
    "from sklearn.preprocessing import StandardScaler\n",
    "from sklearn.metrics import make_scorer"
   ]
  },
  {
   "cell_type": "code",
   "execution_count": 2,
   "metadata": {},
   "outputs": [],
   "source": [
    "train = pd.read_csv('train_data.csv')\n",
    "kaggle = pd.read_csv('test_data.csv')"
   ]
  },
  {
   "cell_type": "code",
   "execution_count": 3,
   "metadata": {},
   "outputs": [
    {
     "data": {
      "text/html": [
       "<div>\n",
       "<style scoped>\n",
       "    .dataframe tbody tr th:only-of-type {\n",
       "        vertical-align: middle;\n",
       "    }\n",
       "\n",
       "    .dataframe tbody tr th {\n",
       "        vertical-align: top;\n",
       "    }\n",
       "\n",
       "    .dataframe thead th {\n",
       "        text-align: right;\n",
       "    }\n",
       "</style>\n",
       "<table border=\"1\" class=\"dataframe\">\n",
       "  <thead>\n",
       "    <tr style=\"text-align: right;\">\n",
       "      <th></th>\n",
       "      <th>bodyType</th>\n",
       "      <th>brand</th>\n",
       "      <th>color</th>\n",
       "      <th>complectation_dict</th>\n",
       "      <th>engineDisplacement</th>\n",
       "      <th>enginePower</th>\n",
       "      <th>equipment_dict</th>\n",
       "      <th>fuelType</th>\n",
       "      <th>mileage</th>\n",
       "      <th>modelDate</th>\n",
       "      <th>...</th>\n",
       "      <th>sell_id</th>\n",
       "      <th>vehicleTransmission</th>\n",
       "      <th>vendor</th>\n",
       "      <th>owners_number</th>\n",
       "      <th>pts</th>\n",
       "      <th>gear_type</th>\n",
       "      <th>steering_wheel</th>\n",
       "      <th>price</th>\n",
       "      <th>gearbox</th>\n",
       "      <th>years</th>\n",
       "    </tr>\n",
       "  </thead>\n",
       "  <tbody>\n",
       "    <tr>\n",
       "      <th>0</th>\n",
       "      <td>58</td>\n",
       "      <td>1</td>\n",
       "      <td>13</td>\n",
       "      <td>1</td>\n",
       "      <td>2.0</td>\n",
       "      <td>249</td>\n",
       "      <td>1</td>\n",
       "      <td>0</td>\n",
       "      <td>60000</td>\n",
       "      <td>2016</td>\n",
       "      <td>...</td>\n",
       "      <td>1101602743</td>\n",
       "      <td>0</td>\n",
       "      <td>0</td>\n",
       "      <td>0</td>\n",
       "      <td>1</td>\n",
       "      <td>2</td>\n",
       "      <td>0</td>\n",
       "      <td>3088888.0</td>\n",
       "      <td>1</td>\n",
       "      <td>3</td>\n",
       "    </tr>\n",
       "    <tr>\n",
       "      <th>1</th>\n",
       "      <td>2</td>\n",
       "      <td>1</td>\n",
       "      <td>15</td>\n",
       "      <td>0</td>\n",
       "      <td>4.4</td>\n",
       "      <td>555</td>\n",
       "      <td>1</td>\n",
       "      <td>0</td>\n",
       "      <td>89000</td>\n",
       "      <td>2009</td>\n",
       "      <td>...</td>\n",
       "      <td>1102385278</td>\n",
       "      <td>0</td>\n",
       "      <td>0</td>\n",
       "      <td>2</td>\n",
       "      <td>1</td>\n",
       "      <td>2</td>\n",
       "      <td>0</td>\n",
       "      <td>1680000.0</td>\n",
       "      <td>1</td>\n",
       "      <td>9</td>\n",
       "    </tr>\n",
       "    <tr>\n",
       "      <th>2</th>\n",
       "      <td>2</td>\n",
       "      <td>1</td>\n",
       "      <td>15</td>\n",
       "      <td>0</td>\n",
       "      <td>3.0</td>\n",
       "      <td>313</td>\n",
       "      <td>1</td>\n",
       "      <td>3</td>\n",
       "      <td>87000</td>\n",
       "      <td>2014</td>\n",
       "      <td>...</td>\n",
       "      <td>1101787929</td>\n",
       "      <td>0</td>\n",
       "      <td>0</td>\n",
       "      <td>0</td>\n",
       "      <td>1</td>\n",
       "      <td>2</td>\n",
       "      <td>0</td>\n",
       "      <td>3990000.0</td>\n",
       "      <td>1</td>\n",
       "      <td>3</td>\n",
       "    </tr>\n",
       "    <tr>\n",
       "      <th>3</th>\n",
       "      <td>2</td>\n",
       "      <td>1</td>\n",
       "      <td>1</td>\n",
       "      <td>0</td>\n",
       "      <td>3.0</td>\n",
       "      <td>286</td>\n",
       "      <td>1</td>\n",
       "      <td>3</td>\n",
       "      <td>167302</td>\n",
       "      <td>2007</td>\n",
       "      <td>...</td>\n",
       "      <td>1101434027</td>\n",
       "      <td>0</td>\n",
       "      <td>0</td>\n",
       "      <td>2</td>\n",
       "      <td>1</td>\n",
       "      <td>2</td>\n",
       "      <td>0</td>\n",
       "      <td>1365000.0</td>\n",
       "      <td>1</td>\n",
       "      <td>11</td>\n",
       "    </tr>\n",
       "    <tr>\n",
       "      <th>4</th>\n",
       "      <td>2</td>\n",
       "      <td>1</td>\n",
       "      <td>12</td>\n",
       "      <td>1</td>\n",
       "      <td>3.0</td>\n",
       "      <td>306</td>\n",
       "      <td>1</td>\n",
       "      <td>0</td>\n",
       "      <td>94846</td>\n",
       "      <td>2013</td>\n",
       "      <td>...</td>\n",
       "      <td>1101592048</td>\n",
       "      <td>0</td>\n",
       "      <td>0</td>\n",
       "      <td>2</td>\n",
       "      <td>1</td>\n",
       "      <td>2</td>\n",
       "      <td>0</td>\n",
       "      <td>2295000.0</td>\n",
       "      <td>1</td>\n",
       "      <td>5</td>\n",
       "    </tr>\n",
       "  </tbody>\n",
       "</table>\n",
       "<p>5 rows × 22 columns</p>\n",
       "</div>"
      ],
      "text/plain": [
       "   bodyType  brand  color  complectation_dict  engineDisplacement  \\\n",
       "0        58      1     13                   1                 2.0   \n",
       "1         2      1     15                   0                 4.4   \n",
       "2         2      1     15                   0                 3.0   \n",
       "3         2      1      1                   0                 3.0   \n",
       "4         2      1     12                   1                 3.0   \n",
       "\n",
       "   enginePower  equipment_dict  fuelType  mileage  modelDate  ...     sell_id  \\\n",
       "0          249               1         0    60000       2016  ...  1101602743   \n",
       "1          555               1         0    89000       2009  ...  1102385278   \n",
       "2          313               1         3    87000       2014  ...  1101787929   \n",
       "3          286               1         3   167302       2007  ...  1101434027   \n",
       "4          306               1         0    94846       2013  ...  1101592048   \n",
       "\n",
       "   vehicleTransmission  vendor  owners_number  pts  gear_type  steering_wheel  \\\n",
       "0                    0       0              0    1          2               0   \n",
       "1                    0       0              2    1          2               0   \n",
       "2                    0       0              0    1          2               0   \n",
       "3                    0       0              2    1          2               0   \n",
       "4                    0       0              2    1          2               0   \n",
       "\n",
       "       price  gearbox  years  \n",
       "0  3088888.0        1      3  \n",
       "1  1680000.0        1      9  \n",
       "2  3990000.0        1      3  \n",
       "3  1365000.0        1     11  \n",
       "4  2295000.0        1      5  \n",
       "\n",
       "[5 rows x 22 columns]"
      ]
     },
     "execution_count": 3,
     "metadata": {},
     "output_type": "execute_result"
    }
   ],
   "source": [
    "train.head()"
   ]
  },
  {
   "cell_type": "code",
   "execution_count": 4,
   "metadata": {},
   "outputs": [
    {
     "name": "stdout",
     "output_type": "stream",
     "text": [
      "<class 'pandas.core.frame.DataFrame'>\n",
      "RangeIndex: 22347 entries, 0 to 22346\n",
      "Data columns (total 22 columns):\n",
      " #   Column               Non-Null Count  Dtype  \n",
      "---  ------               --------------  -----  \n",
      " 0   bodyType             22347 non-null  int64  \n",
      " 1   brand                22347 non-null  int64  \n",
      " 2   color                22347 non-null  int64  \n",
      " 3   complectation_dict   22347 non-null  int64  \n",
      " 4   engineDisplacement   22347 non-null  float64\n",
      " 5   enginePower          22347 non-null  int64  \n",
      " 6   equipment_dict       22347 non-null  int64  \n",
      " 7   fuelType             22347 non-null  int64  \n",
      " 8   mileage              22347 non-null  int64  \n",
      " 9   modelDate            22347 non-null  int64  \n",
      " 10  model_name           22347 non-null  int64  \n",
      " 11  numberOfDoors        22347 non-null  int64  \n",
      " 12  sell_id              22347 non-null  int64  \n",
      " 13  vehicleTransmission  22347 non-null  int64  \n",
      " 14  vendor               22347 non-null  int64  \n",
      " 15  owners_number        22347 non-null  int64  \n",
      " 16  pts                  22347 non-null  int64  \n",
      " 17  gear_type            22347 non-null  int64  \n",
      " 18  steering_wheel       22347 non-null  int64  \n",
      " 19  price                22347 non-null  float64\n",
      " 20  gearbox              22347 non-null  int64  \n",
      " 21  years                22347 non-null  int64  \n",
      "dtypes: float64(2), int64(20)\n",
      "memory usage: 3.8 MB\n"
     ]
    }
   ],
   "source": [
    "train.info()"
   ]
  },
  {
   "cell_type": "code",
   "execution_count": null,
   "metadata": {},
   "outputs": [],
   "source": []
  },
  {
   "cell_type": "code",
   "execution_count": 5,
   "metadata": {},
   "outputs": [
    {
     "data": {
      "text/html": [
       "<div>\n",
       "<style scoped>\n",
       "    .dataframe tbody tr th:only-of-type {\n",
       "        vertical-align: middle;\n",
       "    }\n",
       "\n",
       "    .dataframe tbody tr th {\n",
       "        vertical-align: top;\n",
       "    }\n",
       "\n",
       "    .dataframe thead th {\n",
       "        text-align: right;\n",
       "    }\n",
       "</style>\n",
       "<table border=\"1\" class=\"dataframe\">\n",
       "  <thead>\n",
       "    <tr style=\"text-align: right;\">\n",
       "      <th></th>\n",
       "      <th>bodyType</th>\n",
       "      <th>brand</th>\n",
       "      <th>color</th>\n",
       "      <th>complectation_dict</th>\n",
       "      <th>engineDisplacement</th>\n",
       "      <th>enginePower</th>\n",
       "      <th>equipment_dict</th>\n",
       "      <th>fuelType</th>\n",
       "      <th>mileage</th>\n",
       "      <th>modelDate</th>\n",
       "      <th>...</th>\n",
       "      <th>sell_id</th>\n",
       "      <th>vehicleTransmission</th>\n",
       "      <th>vendor</th>\n",
       "      <th>owners_number</th>\n",
       "      <th>pts</th>\n",
       "      <th>gear_type</th>\n",
       "      <th>steering_wheel</th>\n",
       "      <th>price</th>\n",
       "      <th>gearbox</th>\n",
       "      <th>years</th>\n",
       "    </tr>\n",
       "  </thead>\n",
       "  <tbody>\n",
       "    <tr>\n",
       "      <th>count</th>\n",
       "      <td>22347.000000</td>\n",
       "      <td>22347.000000</td>\n",
       "      <td>22347.000000</td>\n",
       "      <td>22347.000000</td>\n",
       "      <td>22347.000000</td>\n",
       "      <td>22347.000000</td>\n",
       "      <td>22347.000000</td>\n",
       "      <td>22347.000000</td>\n",
       "      <td>22347.000000</td>\n",
       "      <td>22347.000000</td>\n",
       "      <td>...</td>\n",
       "      <td>2.234700e+04</td>\n",
       "      <td>22347.000000</td>\n",
       "      <td>22347.00000</td>\n",
       "      <td>22347.000000</td>\n",
       "      <td>22347.000000</td>\n",
       "      <td>22347.000000</td>\n",
       "      <td>22347.000000</td>\n",
       "      <td>2.234700e+04</td>\n",
       "      <td>22347.000000</td>\n",
       "      <td>22347.000000</td>\n",
       "    </tr>\n",
       "    <tr>\n",
       "      <th>mean</th>\n",
       "      <td>33.957802</td>\n",
       "      <td>5.617577</td>\n",
       "      <td>9.583792</td>\n",
       "      <td>0.190853</td>\n",
       "      <td>2.425820</td>\n",
       "      <td>195.467445</td>\n",
       "      <td>0.811339</td>\n",
       "      <td>0.601289</td>\n",
       "      <td>145684.540296</td>\n",
       "      <td>2008.775406</td>\n",
       "      <td>...</td>\n",
       "      <td>1.100301e+09</td>\n",
       "      <td>0.808744</td>\n",
       "      <td>0.33745</td>\n",
       "      <td>1.075267</td>\n",
       "      <td>0.882758</td>\n",
       "      <td>1.322638</td>\n",
       "      <td>0.029982</td>\n",
       "      <td>1.410663e+06</td>\n",
       "      <td>1.265673</td>\n",
       "      <td>10.100595</td>\n",
       "    </tr>\n",
       "    <tr>\n",
       "      <th>std</th>\n",
       "      <td>29.366156</td>\n",
       "      <td>3.435211</td>\n",
       "      <td>5.561925</td>\n",
       "      <td>0.392983</td>\n",
       "      <td>0.968769</td>\n",
       "      <td>86.866785</td>\n",
       "      <td>0.391248</td>\n",
       "      <td>1.199426</td>\n",
       "      <td>95704.631981</td>\n",
       "      <td>7.124645</td>\n",
       "      <td>...</td>\n",
       "      <td>1.544399e+07</td>\n",
       "      <td>1.122071</td>\n",
       "      <td>0.47285</td>\n",
       "      <td>0.847163</td>\n",
       "      <td>0.321715</td>\n",
       "      <td>0.711233</td>\n",
       "      <td>0.170540</td>\n",
       "      <td>1.121662e+06</td>\n",
       "      <td>0.869692</td>\n",
       "      <td>6.737997</td>\n",
       "    </tr>\n",
       "    <tr>\n",
       "      <th>min</th>\n",
       "      <td>0.000000</td>\n",
       "      <td>0.000000</td>\n",
       "      <td>0.000000</td>\n",
       "      <td>0.000000</td>\n",
       "      <td>0.600000</td>\n",
       "      <td>7.000000</td>\n",
       "      <td>0.000000</td>\n",
       "      <td>0.000000</td>\n",
       "      <td>1.000000</td>\n",
       "      <td>1936.000000</td>\n",
       "      <td>...</td>\n",
       "      <td>2.665000e+03</td>\n",
       "      <td>0.000000</td>\n",
       "      <td>0.00000</td>\n",
       "      <td>0.000000</td>\n",
       "      <td>0.000000</td>\n",
       "      <td>0.000000</td>\n",
       "      <td>0.000000</td>\n",
       "      <td>3.000000e+04</td>\n",
       "      <td>0.000000</td>\n",
       "      <td>1.000000</td>\n",
       "    </tr>\n",
       "    <tr>\n",
       "      <th>25%</th>\n",
       "      <td>2.000000</td>\n",
       "      <td>2.000000</td>\n",
       "      <td>4.000000</td>\n",
       "      <td>0.000000</td>\n",
       "      <td>1.800000</td>\n",
       "      <td>140.000000</td>\n",
       "      <td>1.000000</td>\n",
       "      <td>0.000000</td>\n",
       "      <td>75600.000000</td>\n",
       "      <td>2006.000000</td>\n",
       "      <td>...</td>\n",
       "      <td>1.101566e+09</td>\n",
       "      <td>0.000000</td>\n",
       "      <td>0.00000</td>\n",
       "      <td>0.000000</td>\n",
       "      <td>1.000000</td>\n",
       "      <td>1.000000</td>\n",
       "      <td>0.000000</td>\n",
       "      <td>6.200000e+05</td>\n",
       "      <td>1.000000</td>\n",
       "      <td>5.000000</td>\n",
       "    </tr>\n",
       "    <tr>\n",
       "      <th>50%</th>\n",
       "      <td>31.000000</td>\n",
       "      <td>6.000000</td>\n",
       "      <td>12.000000</td>\n",
       "      <td>0.000000</td>\n",
       "      <td>2.000000</td>\n",
       "      <td>180.000000</td>\n",
       "      <td>1.000000</td>\n",
       "      <td>0.000000</td>\n",
       "      <td>130333.000000</td>\n",
       "      <td>2010.000000</td>\n",
       "      <td>...</td>\n",
       "      <td>1.102118e+09</td>\n",
       "      <td>0.000000</td>\n",
       "      <td>0.00000</td>\n",
       "      <td>1.000000</td>\n",
       "      <td>1.000000</td>\n",
       "      <td>1.000000</td>\n",
       "      <td>0.000000</td>\n",
       "      <td>1.075000e+06</td>\n",
       "      <td>1.000000</td>\n",
       "      <td>9.000000</td>\n",
       "    </tr>\n",
       "    <tr>\n",
       "      <th>75%</th>\n",
       "      <td>58.000000</td>\n",
       "      <td>9.000000</td>\n",
       "      <td>15.000000</td>\n",
       "      <td>0.000000</td>\n",
       "      <td>3.000000</td>\n",
       "      <td>245.000000</td>\n",
       "      <td>1.000000</td>\n",
       "      <td>0.000000</td>\n",
       "      <td>195000.000000</td>\n",
       "      <td>2014.000000</td>\n",
       "      <td>...</td>\n",
       "      <td>1.102335e+09</td>\n",
       "      <td>2.000000</td>\n",
       "      <td>1.00000</td>\n",
       "      <td>2.000000</td>\n",
       "      <td>1.000000</td>\n",
       "      <td>2.000000</td>\n",
       "      <td>0.000000</td>\n",
       "      <td>1.855000e+06</td>\n",
       "      <td>2.000000</td>\n",
       "      <td>13.000000</td>\n",
       "    </tr>\n",
       "    <tr>\n",
       "      <th>max</th>\n",
       "      <td>87.000000</td>\n",
       "      <td>11.000000</td>\n",
       "      <td>15.000000</td>\n",
       "      <td>1.000000</td>\n",
       "      <td>6.600000</td>\n",
       "      <td>612.000000</td>\n",
       "      <td>1.000000</td>\n",
       "      <td>4.000000</td>\n",
       "      <td>1000000.000000</td>\n",
       "      <td>2020.000000</td>\n",
       "      <td>...</td>\n",
       "      <td>1.102448e+09</td>\n",
       "      <td>3.000000</td>\n",
       "      <td>1.00000</td>\n",
       "      <td>2.000000</td>\n",
       "      <td>1.000000</td>\n",
       "      <td>2.000000</td>\n",
       "      <td>1.000000</td>\n",
       "      <td>6.000000e+06</td>\n",
       "      <td>3.000000</td>\n",
       "      <td>84.000000</td>\n",
       "    </tr>\n",
       "  </tbody>\n",
       "</table>\n",
       "<p>8 rows × 22 columns</p>\n",
       "</div>"
      ],
      "text/plain": [
       "           bodyType         brand         color  complectation_dict  \\\n",
       "count  22347.000000  22347.000000  22347.000000        22347.000000   \n",
       "mean      33.957802      5.617577      9.583792            0.190853   \n",
       "std       29.366156      3.435211      5.561925            0.392983   \n",
       "min        0.000000      0.000000      0.000000            0.000000   \n",
       "25%        2.000000      2.000000      4.000000            0.000000   \n",
       "50%       31.000000      6.000000     12.000000            0.000000   \n",
       "75%       58.000000      9.000000     15.000000            0.000000   \n",
       "max       87.000000     11.000000     15.000000            1.000000   \n",
       "\n",
       "       engineDisplacement   enginePower  equipment_dict      fuelType  \\\n",
       "count        22347.000000  22347.000000    22347.000000  22347.000000   \n",
       "mean             2.425820    195.467445        0.811339      0.601289   \n",
       "std              0.968769     86.866785        0.391248      1.199426   \n",
       "min              0.600000      7.000000        0.000000      0.000000   \n",
       "25%              1.800000    140.000000        1.000000      0.000000   \n",
       "50%              2.000000    180.000000        1.000000      0.000000   \n",
       "75%              3.000000    245.000000        1.000000      0.000000   \n",
       "max              6.600000    612.000000        1.000000      4.000000   \n",
       "\n",
       "              mileage     modelDate  ...       sell_id  vehicleTransmission  \\\n",
       "count    22347.000000  22347.000000  ...  2.234700e+04         22347.000000   \n",
       "mean    145684.540296   2008.775406  ...  1.100301e+09             0.808744   \n",
       "std      95704.631981      7.124645  ...  1.544399e+07             1.122071   \n",
       "min          1.000000   1936.000000  ...  2.665000e+03             0.000000   \n",
       "25%      75600.000000   2006.000000  ...  1.101566e+09             0.000000   \n",
       "50%     130333.000000   2010.000000  ...  1.102118e+09             0.000000   \n",
       "75%     195000.000000   2014.000000  ...  1.102335e+09             2.000000   \n",
       "max    1000000.000000   2020.000000  ...  1.102448e+09             3.000000   \n",
       "\n",
       "            vendor  owners_number           pts     gear_type  steering_wheel  \\\n",
       "count  22347.00000   22347.000000  22347.000000  22347.000000    22347.000000   \n",
       "mean       0.33745       1.075267      0.882758      1.322638        0.029982   \n",
       "std        0.47285       0.847163      0.321715      0.711233        0.170540   \n",
       "min        0.00000       0.000000      0.000000      0.000000        0.000000   \n",
       "25%        0.00000       0.000000      1.000000      1.000000        0.000000   \n",
       "50%        0.00000       1.000000      1.000000      1.000000        0.000000   \n",
       "75%        1.00000       2.000000      1.000000      2.000000        0.000000   \n",
       "max        1.00000       2.000000      1.000000      2.000000        1.000000   \n",
       "\n",
       "              price       gearbox         years  \n",
       "count  2.234700e+04  22347.000000  22347.000000  \n",
       "mean   1.410663e+06      1.265673     10.100595  \n",
       "std    1.121662e+06      0.869692      6.737997  \n",
       "min    3.000000e+04      0.000000      1.000000  \n",
       "25%    6.200000e+05      1.000000      5.000000  \n",
       "50%    1.075000e+06      1.000000      9.000000  \n",
       "75%    1.855000e+06      2.000000     13.000000  \n",
       "max    6.000000e+06      3.000000     84.000000  \n",
       "\n",
       "[8 rows x 22 columns]"
      ]
     },
     "execution_count": 5,
     "metadata": {},
     "output_type": "execute_result"
    }
   ],
   "source": [
    "train.describe()"
   ]
  },
  {
   "cell_type": "code",
   "execution_count": 6,
   "metadata": {},
   "outputs": [
    {
     "data": {
      "text/plain": [
       "bodyType                  85\n",
       "brand                     12\n",
       "color                     16\n",
       "complectation_dict         2\n",
       "engineDisplacement        54\n",
       "enginePower              288\n",
       "equipment_dict             2\n",
       "fuelType                   5\n",
       "mileage                 8660\n",
       "modelDate                 60\n",
       "model_name               484\n",
       "numberOfDoors              4\n",
       "sell_id                21558\n",
       "vehicleTransmission        4\n",
       "vendor                     2\n",
       "owners_number              3\n",
       "pts                        2\n",
       "gear_type                  3\n",
       "steering_wheel             2\n",
       "price                   2761\n",
       "gearbox                    4\n",
       "years                     59\n",
       "dtype: int64"
      ]
     },
     "execution_count": 6,
     "metadata": {},
     "output_type": "execute_result"
    }
   ],
   "source": [
    "train.nunique()"
   ]
  },
  {
   "cell_type": "code",
   "execution_count": null,
   "metadata": {},
   "outputs": [],
   "source": []
  },
  {
   "cell_type": "code",
   "execution_count": 7,
   "metadata": {},
   "outputs": [],
   "source": [
    "## Выделим числовые признаки, бинарные и категориальные.\n",
    "## Последние нужны, в частности, для того, чтобы передать их CatBoost."
   ]
  },
  {
   "cell_type": "code",
   "execution_count": 8,
   "metadata": {},
   "outputs": [],
   "source": [
    "num_features = ['enginePower', 'mileage', 'modelDate', 'owners_number', 'years']\n",
    "cat_features = ['bodyType', 'brand', 'color', 'engineDisplacement', 'fuelType', 'numberOfDoors', 'vehicleTransmission', 'gear_type', 'gearbox']\n",
    "bin_features = ['complectation_dict', 'equipment_dict', 'vendor', 'pts', 'steering_wheel']"
   ]
  },
  {
   "cell_type": "markdown",
   "metadata": {},
   "source": [
    "# Разбиение на трейн и валидацию"
   ]
  },
  {
   "cell_type": "code",
   "execution_count": null,
   "metadata": {},
   "outputs": [],
   "source": []
  },
  {
   "cell_type": "code",
   "execution_count": 9,
   "metadata": {},
   "outputs": [],
   "source": [
    "y = np.log(train.price.values)\n",
    "X = train.drop(['price', 'sell_id'], axis=1)\n",
    "X_train, X_val, y_train, y_val = train_test_split(X, y, test_size=0.01, random_state=42)"
   ]
  },
  {
   "cell_type": "code",
   "execution_count": 10,
   "metadata": {},
   "outputs": [],
   "source": [
    "# std_scaler_obj = StandardScaler()\n",
    "# X_train = std_scaler_obj.fit_transform(X_train)\n",
    "# X_val = std_scaler_obj.transform(X_val)\n",
    "\n",
    "\n",
    "# std_scaler_lab = StandardScaler()\n",
    "# y_train = std_scaler_lab.fit_transform(y_train)\n",
    "# y_val = std_scaler_lab.transform(y_val)"
   ]
  },
  {
   "cell_type": "markdown",
   "metadata": {},
   "source": [
    "# Тренировка моделей"
   ]
  },
  {
   "cell_type": "code",
   "execution_count": 11,
   "metadata": {},
   "outputs": [],
   "source": [
    "# Напишем нашу метрику в виде функции\n",
    "def mape(y_true, y_pred):\n",
    "    y_true = np.exp(y_true)\n",
    "    y_pred = np.exp(y_pred)\n",
    "    return np.mean(np.abs((y_pred - y_true) / y_true)) * 100\n",
    "\n",
    "MAPE_scorer = make_scorer(score_func=mape, greater_is_better=False)"
   ]
  },
  {
   "cell_type": "code",
   "execution_count": 12,
   "metadata": {},
   "outputs": [],
   "source": [
    "# Начнём с простого -- обучим каждую модель в отдельности и найдём лучшие гиперпараметры\n",
    "# Напишем функцию, которая на вход будет принимать модель и словарь гиперпараметров\n",
    "\n",
    "def fit_best(model, param_grid):\n",
    "    cv = RepeatedKFold(n_repeats=3)\n",
    "    gs_model = GridSearchCV(estimator=model, param_grid=param_grid, scoring=MAPE_scorer, cv=cv, n_jobs=-1)\n",
    "    if type(model).__name__ == 'CatBoostRegressor':\n",
    "        X_train_aux = copy(X_train)\n",
    "        X_val_aux = copy(X_val)\n",
    "        X_train_aux[cat_features] = X_train_aux[cat_features].astype(str).values\n",
    "        X_val_aux[cat_features] = X_val_aux[cat_features].astype(str).values\n",
    "    else:\n",
    "        X_train_aux = X_train.values\n",
    "        X_val_aux = X_val.values\n",
    "    gs_model.fit(X_train_aux, y_train)\n",
    "    print(f'Best {type(model).__name__} has cv MAPE of {-gs_model.best_score_}')\n",
    "    print(f'Best {type(model).__name__} has {gs_model.best_params_}')\n",
    "    print(f'Validation score is {mape(y_val, gs_model.best_estimator_.predict(X_val_aux))}')"
   ]
  },
  {
   "cell_type": "markdown",
   "metadata": {},
   "source": [
    "### ElasticNet -- смесь l1 и l2 регуляризаций"
   ]
  },
  {
   "cell_type": "code",
   "execution_count": 13,
   "metadata": {},
   "outputs": [
    {
     "name": "stdout",
     "output_type": "stream",
     "text": [
      "Best ElasticNet has cv MAPE of 40.06288728542806\n",
      "Best ElasticNet has {'alpha': 1.023292992280754, 'l1_ratio': 1.0}\n",
      "Validation score is 48.663961934591384\n"
     ]
    }
   ],
   "source": [
    "fit_best(model=ElasticNet(max_iter=3000),\n",
    "               param_grid={'alpha': np.logspace(1e-2, 1e2, 4),\n",
    "                           'l1_ratio': np.linspace(0.1, 0.9, 4)\n",
    "                          }\n",
    "              )"
   ]
  },
  {
   "cell_type": "code",
   "execution_count": null,
   "metadata": {},
   "outputs": [],
   "source": []
  },
  {
   "cell_type": "markdown",
   "metadata": {},
   "source": [
    "### RandomForestRegressor"
   ]
  },
  {
   "cell_type": "code",
   "execution_count": 14,
   "metadata": {},
   "outputs": [
    {
     "name": "stdout",
     "output_type": "stream",
     "text": [
      "Best RandomForestRegressor has cv MAPE of 14.023459110254782\n",
      "Best RandomForestRegressor has {'criterion': 'mse', 'min_samples_leaf': 10, 'n_estimators': 250}\n",
      "Validation score is 15.69045063049733\n"
     ]
    }
   ],
   "source": [
    "fit_best(model=RandomForestRegressor(n_jobs=-1),\n",
    "               param_grid={\n",
    "                   'criterion': ['mse', 'mae'],\n",
    "                   'n_estimators': [100, 250],\n",
    "                   'min_samples_leaf': [10, 20]\n",
    "                          }\n",
    "              )"
   ]
  },
  {
   "cell_type": "code",
   "execution_count": null,
   "metadata": {},
   "outputs": [],
   "source": []
  },
  {
   "cell_type": "code",
   "execution_count": null,
   "metadata": {},
   "outputs": [],
   "source": []
  },
  {
   "cell_type": "markdown",
   "metadata": {},
   "source": [
    "# Boosting"
   ]
  },
  {
   "cell_type": "markdown",
   "metadata": {},
   "source": [
    "### CatBoost\n"
   ]
  },
  {
   "cell_type": "code",
   "execution_count": 15,
   "metadata": {},
   "outputs": [
    {
     "name": "stdout",
     "output_type": "stream",
     "text": [
      "Best CatBoostRegressor has cv MAPE of 12.441821836943147\n",
      "Best CatBoostRegressor has {'eta': 0.1, 'max_depth': 7, 'n_estimators': 1000}\n",
      "Validation score is 15.569577872920744\n"
     ]
    }
   ],
   "source": [
    "fit_best(model=CatBoostRegressor(verbose=0, loss_function='MAE', cat_features=cat_features),\n",
    "               param_grid={\n",
    "                   'n_estimators': [500, 1000],\n",
    "                   'max_depth': [3, 5, 7],\n",
    "                   'eta': [None, 0.01, 0.1, 1.]\n",
    "               }\n",
    "              )"
   ]
  },
  {
   "cell_type": "code",
   "execution_count": null,
   "metadata": {},
   "outputs": [],
   "source": []
  },
  {
   "cell_type": "markdown",
   "metadata": {},
   "source": [
    "### LightGBM"
   ]
  },
  {
   "cell_type": "code",
   "execution_count": 16,
   "metadata": {},
   "outputs": [
    {
     "name": "stdout",
     "output_type": "stream",
     "text": [
      "Best LGBMRegressor has cv MAPE of 12.318309064688878\n",
      "Best LGBMRegressor has {'learning_rate': 0.1, 'max_depth': 7, 'n_estimators': 1000}\n",
      "Validation score is 13.539902310813984\n"
     ]
    }
   ],
   "source": [
    "fit_best(model=LGBMRegressor(),\n",
    "               param_grid={\n",
    "                   'n_estimators': [500, 1000],\n",
    "                   'max_depth': [3, 5, 7],\n",
    "                   'learning_rate': [0.01, 0.1, 1.],\n",
    "               }\n",
    "        )"
   ]
  },
  {
   "cell_type": "code",
   "execution_count": null,
   "metadata": {},
   "outputs": [],
   "source": []
  },
  {
   "cell_type": "code",
   "execution_count": null,
   "metadata": {},
   "outputs": [],
   "source": []
  },
  {
   "cell_type": "markdown",
   "metadata": {},
   "source": [
    "### XGBoost"
   ]
  },
  {
   "cell_type": "code",
   "execution_count": 17,
   "metadata": {},
   "outputs": [
    {
     "name": "stdout",
     "output_type": "stream",
     "text": [
      "Best XGBRegressor has cv MAPE of 12.072597455216158\n",
      "Best XGBRegressor has {'learning_rate': 0.1, 'max_depth': 7, 'n_estimators': 1000}\n",
      "Validation score is 13.129986403989873\n"
     ]
    }
   ],
   "source": [
    "fit_best(model=XGBRegressor(verbosity=0),\n",
    "               param_grid={\n",
    "                   'n_estimators': [500, 1000],\n",
    "                   'max_depth': [3, 5, 7],\n",
    "                   'learning_rate': [0.01, 0.1, 1.],\n",
    "               }\n",
    "        )"
   ]
  },
  {
   "cell_type": "code",
   "execution_count": null,
   "metadata": {},
   "outputs": [],
   "source": []
  },
  {
   "cell_type": "code",
   "execution_count": null,
   "metadata": {},
   "outputs": [],
   "source": []
  },
  {
   "cell_type": "code",
   "execution_count": null,
   "metadata": {},
   "outputs": [],
   "source": []
  },
  {
   "cell_type": "markdown",
   "metadata": {},
   "source": [
    "# Stacking"
   ]
  },
  {
   "cell_type": "markdown",
   "metadata": {},
   "source": [
    "Теперь обучим несколько базовых моделей, используя те лучшие конфигурации гиперпараметров, которые мы обнаружили. А дальше, поверх них, добавим мета-модель"
   ]
  },
  {
   "cell_type": "code",
   "execution_count": 16,
   "metadata": {},
   "outputs": [],
   "source": [
    "stacked_model = StackingRegressor(estimators=[\n",
    "    ('xgboost', XGBRegressor(verbosity=0, n_estimators=1000, max_depth=7, learning_rate=0.1)),\n",
    "    ('lgbm', LGBMRegressor(n_estimators=1000, max_depth=7, learning_rate=0.1)),\n",
    "    ('rf', RandomForestRegressor(n_estimators=250, criterion='mse', min_samples_leaf=10)),\n",
    "    ('catboost', CatBoostRegressor(verbose=0, loss_function='MAE', n_estimators=1000, max_depth=7, eta=0.1))],\n",
    "                                  final_estimator=Ridge(),\n",
    "                                  cv=4\n",
    "                                )"
   ]
  },
  {
   "cell_type": "code",
   "execution_count": 17,
   "metadata": {},
   "outputs": [
    {
     "name": "stdout",
     "output_type": "stream",
     "text": [
      "Best StackingRegressor has cv MAPE of 11.738248830460137\n",
      "Best StackingRegressor has {}\n",
      "Validation score is 13.515857640161283\n"
     ]
    }
   ],
   "source": [
    "fit_best(model=stacked_model,\n",
    "         param_grid={\n",
    "        'final_estimator__fit_intercept': [True, False],\n",
    "        'final_estimator__alpha': np.logspace(1e-2, 1e2, 4),\n",
    "        'xgboost__n_estimators': [100, 150, 1000],\n",
    "         }\n",
    "        )"
   ]
  },
  {
   "cell_type": "code",
   "execution_count": null,
   "metadata": {},
   "outputs": [],
   "source": []
  },
  {
   "cell_type": "code",
   "execution_count": null,
   "metadata": {},
   "outputs": [],
   "source": []
  },
  {
   "cell_type": "code",
   "execution_count": null,
   "metadata": {},
   "outputs": [],
   "source": []
  }
 ],
 "metadata": {
  "kernelspec": {
   "display_name": "Python 3",
   "language": "python",
   "name": "python3"
  },
  "language_info": {
   "codemirror_mode": {
    "name": "ipython",
    "version": 3
   },
   "file_extension": ".py",
   "mimetype": "text/x-python",
   "name": "python",
   "nbconvert_exporter": "python",
   "pygments_lexer": "ipython3",
   "version": "3.7.3"
  }
 },
 "nbformat": 4,
 "nbformat_minor": 4
}
