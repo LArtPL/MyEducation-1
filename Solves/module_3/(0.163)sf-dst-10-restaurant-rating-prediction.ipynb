{
 "cells": [
  {
   "cell_type": "markdown",
   "metadata": {},
   "source": [
    "# Проект №3. О вкусной и здоровой пище \n",
    "**[SF-DST-10] Restaurant Rating prediction Sergey Kuzmenko**"
   ]
  },
  {
   "cell_type": "markdown",
   "metadata": {},
   "source": [
    "# import"
   ]
  },
  {
   "cell_type": "code",
   "execution_count": 1,
   "metadata": {
    "_cell_guid": "b1076dfc-b9ad-4769-8c92-a6c4dae69d19",
    "_uuid": "8f2839f25d086af736a60e9eeb907d3b93b6e0e5"
   },
   "outputs": [
    {
     "ename": "ModuleNotFoundError",
     "evalue": "No module named 'unidecode'",
     "output_type": "error",
     "traceback": [
      "\u001b[1;31m---------------------------------------------------------------------------\u001b[0m",
      "\u001b[1;31mModuleNotFoundError\u001b[0m                       Traceback (most recent call last)",
      "\u001b[1;32m<ipython-input-1-88a7997c745f>\u001b[0m in \u001b[0;36m<module>\u001b[1;34m\u001b[0m\n\u001b[0;32m     11\u001b[0m \u001b[1;32mfrom\u001b[0m \u001b[0msklearn\u001b[0m\u001b[1;33m.\u001b[0m\u001b[0mpreprocessing\u001b[0m \u001b[1;32mimport\u001b[0m \u001b[0mLabelEncoder\u001b[0m\u001b[1;33m\u001b[0m\u001b[1;33m\u001b[0m\u001b[0m\n\u001b[0;32m     12\u001b[0m \u001b[1;32mimport\u001b[0m \u001b[0municodedata\u001b[0m \u001b[1;31m#для транслитерации не ASCII\u001b[0m\u001b[1;33m\u001b[0m\u001b[1;33m\u001b[0m\u001b[0m\n\u001b[1;32m---> 13\u001b[1;33m \u001b[1;32mimport\u001b[0m \u001b[0munidecode\u001b[0m \u001b[1;31m#для транслитерации не ASCII\u001b[0m\u001b[1;33m\u001b[0m\u001b[1;33m\u001b[0m\u001b[0m\n\u001b[0m\u001b[0;32m     14\u001b[0m \u001b[1;32mimport\u001b[0m \u001b[0mseaborn\u001b[0m \u001b[1;32mas\u001b[0m \u001b[0msns\u001b[0m\u001b[1;33m\u001b[0m\u001b[1;33m\u001b[0m\u001b[0m\n\u001b[0;32m     15\u001b[0m \u001b[1;32mimport\u001b[0m \u001b[0mmatplotlib\u001b[0m\u001b[1;33m.\u001b[0m\u001b[0mpyplot\u001b[0m \u001b[1;32mas\u001b[0m \u001b[0mplt\u001b[0m\u001b[1;33m\u001b[0m\u001b[1;33m\u001b[0m\u001b[0m\n",
      "\u001b[1;31mModuleNotFoundError\u001b[0m: No module named 'unidecode'"
     ]
    }
   ],
   "source": [
    "# This Python 3 environment comes with many helpful analytics libraries installed\n",
    "# It is defined by the kaggle/python docker image: https://github.com/kaggle/docker-python\n",
    "# For example, here's several helpful packages to load in \n",
    "\n",
    "import pandas as pd\n",
    "import numpy as np \n",
    "import re\n",
    "import json\n",
    "import datetime as dt\n",
    "from sklearn.model_selection import cross_val_score\n",
    "from sklearn.preprocessing import LabelEncoder\n",
    "import unicodedata #для транслитерации не ASCII\n",
    "import unidecode #для транслитерации не ASCII \n",
    "import seaborn as sns\n",
    "import matplotlib.pyplot as plt\n",
    "from collections import Counter\n",
    "import itertools\n",
    "%matplotlib inline\n",
    "\n",
    "\n",
    "import os\n",
    "for dirname, _, filenames in os.walk('/kaggle'):\n",
    "    for filename in filenames:\n",
    "        print(os.path.join(dirname, filename))\n",
    "\n",
    "# Any results you write to the current directory are saved as output."
   ]
  },
  {
   "cell_type": "code",
   "execution_count": null,
   "metadata": {},
   "outputs": [],
   "source": [
    "# зафиксируем версию пакетов, чтобы эксперименты были воспроизводимы:\n",
    "!pip freeze > requirements.txt"
   ]
  },
  {
   "cell_type": "code",
   "execution_count": null,
   "metadata": {},
   "outputs": [],
   "source": [
    "# Для воспроизводимости результатов зададим:\n",
    "# - общий параметр для генерации случайных чисел\n",
    "RANDOM_SEED = 20726\n",
    "# - общую текущую дату\n",
    "CURRENT_DATE = pd.to_datetime('22/02/2020')\n"
   ]
  },
  {
   "cell_type": "markdown",
   "metadata": {},
   "source": [
    "# DATA"
   ]
  },
  {
   "cell_type": "code",
   "execution_count": null,
   "metadata": {
    "_cell_guid": "79c7e3d0-c299-4dcb-8224-4455121ee9b0",
    "_uuid": "d629ff2d2480ee46fbb7e2d37f6b5fab8052498a"
   },
   "outputs": [],
   "source": [
    "DATA_DIR = '/kaggle/input/sf-dst-restaurant-rating/'\n",
    "df_in = pd.read_csv(DATA_DIR+'main_task.csv')\n",
    "# Путь к датасету для которого требуется предсказать рейтинг\n",
    "df_kagle = pd.read_csv(DATA_DIR+'kaggle_task.csv')\n",
    "#Путь к 'submission.csv'\n",
    "submission_path = pd.read_csv(DATA_DIR+'sample_submission.csv')"
   ]
  },
  {
   "cell_type": "code",
   "execution_count": null,
   "metadata": {},
   "outputs": [],
   "source": [
    "DS_IMPORT_SC_DIR = '/kaggle/input/cities-and-countries/'\n",
    "# Путь к датасету стран - отсюда берем столицы\n",
    "df_county = pd.read_csv(DS_IMPORT_SC_DIR+'country-list.csv')\n",
    "#датасет по городам и странам\n",
    "df_urb_xls = pd.read_excel(DS_IMPORT_SC_DIR+'global-city-population-estimates.xls', index_col=None, header=0, sheet_name = 'CITIES-OVER-300K')\n",
    "\n",
    "# Путь к датасету, содержащему слова с позитивной окраской\n",
    "df_pos_words = pd.read_csv('/kaggle/input/opinion-lexicon-english/positive-words.txt',skiprows=34, names=['word'])\n",
    "pos_words_list = df_pos_words['word'].to_list() "
   ]
  },
  {
   "cell_type": "markdown",
   "metadata": {},
   "source": [
    "# FUNC"
   ]
  },
  {
   "cell_type": "code",
   "execution_count": null,
   "metadata": {},
   "outputs": [],
   "source": [
    " def get_season(date):\n",
    "    '''\n",
    "    Время года из даты\n",
    "    '''\n",
    "    if (pd.isna(date)):\n",
    "        return \"OTHER\"\n",
    "    month = date.month\n",
    "    if (month > 11 or month <= 3):\n",
    "       return \"WINTER\"\n",
    "    elif (month == 4 or month == 5):\n",
    "       return \"SPRING\"\n",
    "    elif (month >=6 and month <= 9):\n",
    "       return \"SUMMER\"\n",
    "    else:\n",
    "       return \"FALL\""
   ]
  },
  {
   "cell_type": "code",
   "execution_count": null,
   "metadata": {},
   "outputs": [],
   "source": [
    "def round_of_rating(number):\n",
    "    \"\"\"\n",
    "    Округляем до 0.5\n",
    "    \"\"\"\n",
    "    return np.round(number * 2) / 2"
   ]
  },
  {
   "cell_type": "code",
   "execution_count": null,
   "metadata": {},
   "outputs": [],
   "source": [
    "def get_Weighed_Rank_RK(row):\n",
    "    '''\n",
    "    Вычисляем относительную позицию ресторана среди всех ресторанов города\n",
    "    '''\n",
    "    Weighed_Rank = row['Ranking'] / row['Restaurants Count']\n",
    "\n",
    "    return Weighed_Rank"
   ]
  },
  {
   "cell_type": "code",
   "execution_count": null,
   "metadata": {},
   "outputs": [],
   "source": [
    "def get_Weighed_Rank(row):\n",
    "    i=0\n",
    "    city_min = CityMinMax[CityMinMax['City'] == row.City ]['min'].iloc[0]\n",
    "    city_max = CityMinMax[CityMinMax['City'] == row.City ]['max'].iloc[0]\n",
    "    Weighed_Rank = round(1-(row['Ranking'] - city_min)/(city_max - city_min),3)\n",
    "    #print('<---',Weighed_Rank,'--->')\n",
    "    return Weighed_Rank"
   ]
  },
  {
   "cell_type": "code",
   "execution_count": null,
   "metadata": {},
   "outputs": [],
   "source": [
    "def rev_time_delta(reviews):\n",
    "    '''\n",
    "    Вычисляем время между review в днях\n",
    "    '''\n",
    "    if (pd.notna(reviews)):\n",
    "        reviews_dt_list = get_reviews(reviews)['reviews_dt']\n",
    "        if reviews_dt_list:\n",
    "            return (max(reviews_dt_list) - min(reviews_dt_list)).days\n",
    "        else:\n",
    "            return dt.timedelta(days=3650).days\n",
    "    else:\n",
    "        return dt.timedelta(days=3650).days"
   ]
  },
  {
   "cell_type": "code",
   "execution_count": null,
   "metadata": {},
   "outputs": [],
   "source": [
    "def get_reviews(rev):\n",
    "    '''\n",
    "    Получаем review в виде:\n",
    "    review['reviews_txt'][1] - list of reviews\n",
    "    review['reviews_dt'][1] - list of reviews dates\n",
    "    '''\n",
    "    if  not pd.isna(rev): \n",
    "        rev = str(rev).replace(\"'\",'\"')\n",
    "        rev = rev.replace('], [', '], \"reviews_dt\": [')\n",
    "        rev = '{ \"reviews_txt\":' + rev + '}'\n",
    "        rev = rev.replace('[[','[').replace(']]',']')\n",
    "        d = json.loads(rev)\n",
    "\n",
    "        d['reviews_dt'] = [dt.datetime.strptime(date, '%m/%d/%Y').date() if len(date.split('/')[2])==4 else dt.datetime.strptime(date, '%m/%d/%y').date() for date in d['reviews_dt']]\n",
    "        return d\n",
    "    else:\n",
    "        return {}"
   ]
  },
  {
   "cell_type": "code",
   "execution_count": null,
   "metadata": {},
   "outputs": [],
   "source": [
    "def get_cuisines(cuisines):\n",
    "    '''\n",
    "    Получаем список кухонь в виде:\n",
    "    cuisines[0] - list of cusines\n",
    "    если был NaN, то возвращается 'Regionl Cusine' -как самая популярная в регионе/городе/стране\n",
    "    '''\n",
    "    if cuisines == 'NaN': return ['Regionl Cusine']#['Vegetarian Friendly'] # 'Vegetarian Friendly' - самая популярная\n",
    "    if  cuisines:\n",
    "        cuisines = str(cuisines).replace(\"'\",'\"')\n",
    "        return json.loads(cuisines)\n",
    "    else:\n",
    "        return ['Regionl Cusine'] #return ['Vegetarian Friendly']"
   ]
  },
  {
   "cell_type": "code",
   "execution_count": null,
   "metadata": {},
   "outputs": [],
   "source": [
    "allCusines = []\n",
    "def cuisine_styles_count(row):\n",
    "    '''\n",
    "    Получаем количество кухонь\n",
    "    '''\n",
    "    global allCusines\n",
    "    cusines = get_cuisines(row['Cuisine Style'])\n",
    "    \n",
    "    if row['Cuisine Style'] != 'NaN':    \n",
    "        cusines = get_cuisines(row['Cuisine Style'])\n",
    "        allCusines.extend(cusines)\n",
    "        cuisines_count =len(cusines)\n",
    "    else:\n",
    "        cuisines_count = 1\n",
    "\n",
    "    return cuisines_count"
   ]
  },
  {
   "cell_type": "code",
   "execution_count": null,
   "metadata": {},
   "outputs": [],
   "source": [
    "def cleanup_string(str_in):\n",
    "    '''\n",
    "    \"Чистим\" текст в review для последующй десериализации\n",
    "    Пока текст в анализе не используется, не успел... \n",
    "    '''\n",
    "    try:      \n",
    "        \n",
    "        #middle\n",
    "\n",
    "        str = str_in.replace(\"', \\\"\",\"⅞\").replace(\"', '\",\"⅞\").replace(\"\\\", '\",\"⅞\").replace(\"\\\", \\\"\",\"⅞\")# \", \n",
    "        str = str.replace(\"\\\", \\\"\\\"\",\"⅞\").replace(\"\\\"\\\", '\",\"⅞\").replace(\"\\\", \\'\",\"⅞\").replace(\"\\\"\\\", \\'\",\"⅞\")\n",
    "        str = str.replace(\"\\', \\'\",\"⅞\")\n",
    "        #middle\n",
    "        #left\n",
    "        str = str.replace(\"[['\",\"≤\").replace(\"['\",\"⅛\")\n",
    "        #left\n",
    "        #right\n",
    "        str = str.replace(\"']]\",\"≥\").replace(\"']\",\"⅝\")\n",
    "        #right\n",
    "        #cleanups\n",
    "        str = str.replace('\\'', ' ').replace('\\\"', ' ').replace('\\'', ' ').replace('\"', ' ')     \n",
    "        str = str.replace(\"\\\\\", \" \").replace(\"[[`\", \"≤\").replace('\\'\"', '\\'').replace('\\'\\\"', '\\'')\n",
    "        str = str.replace('\"\\'', '\\'').replace('\\\"\\'', '\\'').replace(\"[''\" ,\"≤\").replace(\"[\\'\\'\" ,\"≤\")\n",
    "        str = str.replace('\\'', ' ').replace('\\\"', ' ')\n",
    "        str = str.replace('\\'', ' ').replace('\\\"', ' ')\n",
    "        str = str.replace('\\'', ' ').replace('\"', ' ')\n",
    "        #cleanups\n",
    "        #middle\n",
    "        str = str.replace(\"⅞\", \"', '\")\n",
    "        #middle\n",
    "        #left\n",
    "        str = str.replace(\"≤\", \"[['\").replace(\"⅛\", \"['\").replace('[[ ', '[[ \\'')\n",
    "        #left\n",
    "        #right\n",
    "        str = str.replace(\"≥\" ,\"']]\").replace(\"⅝\", \"']\").replace(' ]', ' \\']')\n",
    "        str = str.replace(', nan]', '\\', \\'nan\\']').replace('[nan, ', '[\\'nan\\', \\'')\n",
    "        #right\n",
    "    except Exception:\n",
    "        print('<----',str_in,'---->')\n",
    "    return str"
   ]
  },
  {
   "cell_type": "code",
   "execution_count": null,
   "metadata": {},
   "outputs": [],
   "source": [
    "def get_city_population_and_country():\n",
    "    '''\n",
    "    Получаем популяцию по городам, а так же ISO код страны по городу (из внешних источников)\n",
    "    '''\n",
    "    population_city_dict = {}\n",
    "    country_city_dict = {}\n",
    "    cities = df['City'].unique()\n",
    "    # Чистим названия городов от Unicode символов - транслитерацией\n",
    "    df_urb_xls['Urban Agglomeration TL'] = df_urb_xls['Urban Agglomeration'].apply(lambda s: ''.join((c for c in unicodedata.normalize('NFD', s) if unicodedata.category(c) != 'Mn')) )\n",
    "    df_urb_xls['Urban Agglomeration TL'] =  df_urb_xls['Urban Agglomeration'].apply(lambda x: unidecode.unidecode(x))\n",
    "\n",
    "    for city in cities:\n",
    "        vals = df_urb_xls[df_urb_xls['Urban Agglomeration TL'].str.contains(city)]['2015'].max()/1000\n",
    "        vals = 0.3 if pd.isna(vals) else vals # т.к. в датасете города от 300тыс\n",
    "        population_city_dict[city] = vals\n",
    "        country = df_urb_xls[df_urb_xls['Urban Agglomeration TL'].str.contains(city)]['Country Code']\n",
    "        country = -1 if country.shape[0] < 1 else country.values[0]\n",
    "        country_city_dict[city] = country\n",
    "\n",
    "    population_city_dict['Luxembourg'] = 0.613894 \n",
    "    population_city_dict['Brussels'] = 2.115468 \n",
    "    population_city_dict['Geneva'] = 0.686562 \n",
    "    population_city_dict['Oporto'] = 0.214349 \n",
    "    population_city_dict['Ljubljana'] = 0.279631\n",
    "\n",
    "\n",
    "\n",
    "    country_city_dict['Luxembourg'] = 442 \n",
    "    country_city_dict['Brussels'] = 56 \n",
    "    country_city_dict['Geneva'] = 756 \n",
    "    country_city_dict['Oporto'] = 620 \n",
    "    country_city_dict['Ljubljana'] = 705\n",
    "    \n",
    "    #Видимо, эти данные корректнее???\n",
    "    population_city_dict = {    'London': 8.173900,\n",
    "    'Paris': 2.240621,\n",
    "    'Madrid': 3.155360,\n",
    "    'Barcelona': 1.593075,\n",
    "    'Berlin': 3.326002,\n",
    "    'Milan': 1.331586,\n",
    "    'Rome': 2.870493,\n",
    "    'Prague': 1.272690,\n",
    "    'Lisbon': .547733,\n",
    "    'Vienna': 1.765649,\n",
    "    'Amsterdam': .825080,\n",
    "    'Brussels': .144784,\n",
    "    'Hamburg': 1.718187,\n",
    "    'Munich': 1.364920,\n",
    "    'Lyon': .496343,\n",
    "    'Stockholm': 1.981263,\n",
    "    'Budapest': 1.744665,\n",
    "    'Warsaw': 1.720398,\n",
    "    'Dublin': .506211 ,\n",
    "    'Copenhagen': 1.246611,\n",
    "    'Athens': 3.168846,\n",
    "    'Edinburgh': .476100,\n",
    "    'Zurich': .402275,\n",
    "    'Oporto': .221800,\n",
    "    'Geneva': .196150,\n",
    "    'Krakow': .756183,\n",
    "    'Oslo': .673469,\n",
    "    'Helsinki': .574579,\n",
    "    'Bratislava': .413192,\n",
    "    'Luxembourg': .576249,\n",
    "    'Ljubljana': .277554\n",
    "    }\n",
    "    return population_city_dict, country_city_dict"
   ]
  },
  {
   "cell_type": "code",
   "execution_count": null,
   "metadata": {},
   "outputs": [],
   "source": [
    "def get_capital_city_dict():\n",
    "    '''\n",
    "    Возвращаем словарь город == столица или нет\n",
    "    '''\n",
    "    capital_city_dict = {}\n",
    "    cities =df['City'].unique()\n",
    "    df_county['capital TL'] = df_county['capital'].apply(lambda s: ''.join((c for c in unicodedata.normalize('NFD', s) if unicodedata.category(c) != 'Mn')) )\n",
    "    df_county['capital TL'] =  df_county['capital'].apply(lambda x: unidecode.unidecode(x))\n",
    "    for city in cities:\n",
    "        vals = df_county[df_county['capital TL'].str.contains(city)]['country'].shape[0]   \n",
    "        vals = 0 if pd.isna(vals) or vals==0 else 1 \n",
    "        capital_city_dict[city] = vals\n",
    "    capital_city_dict['Barcelona'] = 0 # Страна Басков != Испания, дадим Барселоне статус мтолицы, но оставим в Испании ! 0 и не надо врать :)\n",
    "    capital_city_dict['Zurich'] = 1 \n",
    "    capital_city_dict['Geneva'] = 1 \n",
    "    capital_city_dict['Oporto'] = 1 \n",
    "    return capital_city_dict"
   ]
  },
  {
   "cell_type": "code",
   "execution_count": null,
   "metadata": {},
   "outputs": [],
   "source": [
    "def is_cuisine_top_N(cs):\n",
    "    '''\n",
    "    Возвращаем список кухонь, входящих в основной список кухонь,для остальных Other\n",
    "    '''\n",
    "    c = get_cuisines(cs)\n",
    "    c = set(c)\n",
    "\n",
    "    shared_cousines=()\n",
    "    shared_cousines=c.intersection(topNcusines)\n",
    "\n",
    "    if len(shared_cousines) != len(c):\n",
    "        shared_cousines = list(shared_cousines)\n",
    "        shared_cousines.extend(['Other'])\n",
    "\n",
    "    return list(shared_cousines)"
   ]
  },
  {
   "cell_type": "code",
   "execution_count": null,
   "metadata": {},
   "outputs": [],
   "source": [
    "def createWordList(line):\n",
    "    wordList2 =[]\n",
    "    wordList1 = line.split()\n",
    "    for word in wordList1:\n",
    "        cleanWord = \"\"\n",
    "        for char in word:\n",
    "            if char in '!,.?\":;0123456789':\n",
    "                char = \"\"\n",
    "            cleanWord += char\n",
    "        wordList2.append(cleanWord.lower())\n",
    "    return wordList2"
   ]
  },
  {
   "cell_type": "code",
   "execution_count": null,
   "metadata": {},
   "outputs": [],
   "source": [
    "def count_positive_words_proportion(reviews):\n",
    "    '''\n",
    "    Количество позитивных слов в приведенных отзывах\n",
    "    '''\n",
    "    pos_words_count = 0\n",
    "    txts=get_reviews(reviews)['reviews_txt']\n",
    "    txt = ' '.join(txts)\n",
    "    #print(type(txt))\n",
    "    words = createWordList(txt)\n",
    "    \n",
    "    words_count = len(words) if len(words) > 0 else 1\n",
    "    words_count = 1\n",
    "    pos_words_in_review=set(words).intersection(pos_words_list)\n",
    "    for word in words:\n",
    "        if word in pos_words_list:\n",
    "            #print(word)\n",
    "            pos_words_count +=1  \n",
    "    return np.round(pos_words_count/words_count,2)"
   ]
  },
  {
   "cell_type": "code",
   "execution_count": null,
   "metadata": {},
   "outputs": [],
   "source": [
    "def list_positive_words(reviews): \n",
    "    '''\n",
    "    Список уникальных позитивных слов в приведенных отзывах\n",
    "    '''\n",
    "    txts=get_reviews(reviews)['reviews_txt']\n",
    "    txt = ' '.join(txts)\n",
    "    #print(type(txt))\n",
    "    words = createWordList(txt)\n",
    "    \n",
    "    words_count = len(words) if len(words) > 0 else 1\n",
    "    words_count = 1\n",
    "    pos_words_in_review=set(words).intersection(pos_words_list)\n",
    "    #print(len(pos_words_in_review))\n",
    "    if (len(pos_words_in_review) == 0):\n",
    "        return np.NAN\n",
    "    else:\n",
    "        return list(pos_words_in_review)"
   ]
  },
  {
   "cell_type": "markdown",
   "metadata": {},
   "source": [
    "---  "
   ]
  },
  {
   "cell_type": "markdown",
   "metadata": {},
   "source": [
    "# WORK"
   ]
  },
  {
   "cell_type": "code",
   "execution_count": null,
   "metadata": {},
   "outputs": [],
   "source": [
    "df_in.info()"
   ]
  },
  {
   "cell_type": "code",
   "execution_count": null,
   "metadata": {},
   "outputs": [],
   "source": [
    "df_in.head(5)"
   ]
  },
  {
   "cell_type": "code",
   "execution_count": null,
   "metadata": {},
   "outputs": [],
   "source": [
    "# ВАЖНО! дря корректной обработки признаков объединяем трейн и тест в один датасет\n",
    "\n",
    "df_kagle['ForTrain'] = False # помечаем где у нас тест\n",
    "df_kagle['Rating'] = 0 # в тесте у нас нет значения Rating, мы его должны предсказать, по этому пока просто заполняем нулями\n",
    "\n",
    "df_in['ForTrain'] = True # помечаем где у нас трейн\n",
    "df_in = df_in.append(df_kagle, sort=False).reset_index(drop=True)# объединяем"
   ]
  },
  {
   "cell_type": "markdown",
   "metadata": {},
   "source": [
    "Подробнее по признакам:\n",
    "* City: Город \n",
    "* Cuisine Style: Кухня\n",
    "* Ranking: Ранг ресторана относительно других ресторанов в этом городе\n",
    "* Price Range: Цены в ресторане в 3 категориях\n",
    "* Number of Reviews: Количество отзывов\n",
    "* Reviews: 2 последних отзыва и даты этих отзывов\n",
    "* URL_TA: страница ресторана на 'www.tripadvisor.com' \n",
    "* ID_TA: ID ресторана в TripAdvisor\n",
    "* Rating: Рейтинг ресторана"
   ]
  },
  {
   "cell_type": "code",
   "execution_count": null,
   "metadata": {},
   "outputs": [],
   "source": [
    "# Выбираем нужные для последующего анализа столбцы\n",
    "df = df_in[['Ranking', 'Rating', 'Number of Reviews', 'City', 'Price Range', 'Cuisine Style', 'Reviews', 'Restaurant_id', 'ID_TA', 'ForTrain' ]].copy()"
   ]
  },
  {
   "cell_type": "code",
   "execution_count": null,
   "metadata": {},
   "outputs": [],
   "source": [
    "df.sample(5)"
   ]
  },
  {
   "cell_type": "code",
   "execution_count": null,
   "metadata": {},
   "outputs": [],
   "source": [
    "df.Reviews[1]"
   ]
  },
  {
   "cell_type": "markdown",
   "metadata": {},
   "source": [
    "Как видим, большинство признаков у нас требует очистки и предварительной обработки."
   ]
  },
  {
   "cell_type": "markdown",
   "metadata": {},
   "source": [
    "* ## 1. Обработка NAN и Обработка признаков\n",
    "У наличия пропусков могут быть разные причины, но пропуски нужно либо заполнить, либо исключить из набора полностью. Но с пропусками нужно быть внимательным, **даже отсутствие информации может быть важным признаком!**   \n",
    "По этому перед обработкой NAN лучше вынести информацию о наличии пропуска как отдельный признак "
   ]
  },
  {
   "cell_type": "markdown",
   "metadata": {},
   "source": [
    "**Посмотрим на признаки и к-во пропусков (NaN)**"
   ]
  },
  {
   "cell_type": "code",
   "execution_count": null,
   "metadata": {},
   "outputs": [],
   "source": [
    "df.info()"
   ]
  },
  {
   "cell_type": "markdown",
   "metadata": {},
   "source": [
    "**Посмотрим на признаки и к-во уникальных значений**"
   ]
  },
  {
   "cell_type": "code",
   "execution_count": null,
   "metadata": {},
   "outputs": [],
   "source": [
    "df.nunique(dropna=False)"
   ]
  },
  {
   "cell_type": "markdown",
   "metadata": {},
   "source": [
    "**Посмотрим на гистограммы числовых признаков**"
   ]
  },
  {
   "cell_type": "code",
   "execution_count": null,
   "metadata": {},
   "outputs": [],
   "source": [
    "df[df.ForTrain][['Ranking', 'Rating', 'Number of Reviews','Price Range', 'Restaurant_id']].hist(figsize=(20, 10), bins=100);\n",
    "plt.tight_layout()\n"
   ]
  },
  {
   "cell_type": "code",
   "execution_count": null,
   "metadata": {},
   "outputs": [],
   "source": [
    "df[df.ForTrain]['Restaurant_id'].apply(lambda x: x.split('_')[1]).astype(int).hist(figsize=(10,5), bins=100);\n",
    "plt.tight_layout()\n",
    "# Restaurant_id Очень похож на Ranking"
   ]
  },
  {
   "cell_type": "code",
   "execution_count": null,
   "metadata": {},
   "outputs": [],
   "source": [
    "\n",
    "df[df.ForTrain]['ID_TA'].apply(lambda x: x.replace('d','')).astype(int).hist(figsize=(10, 5), bins=100);\n",
    "plt.tight_layout()\n",
    "# Видно Несколько групп - на ID - точно не похоже. "
   ]
  },
  {
   "cell_type": "code",
   "execution_count": null,
   "metadata": {},
   "outputs": [],
   "source": [
    "df['ID_TA'] = df['ID_TA'].apply(lambda x: x[1:]) "
   ]
  },
  {
   "cell_type": "code",
   "execution_count": null,
   "metadata": {},
   "outputs": [],
   "source": [
    "# Reviews - убираем NaN и \"причесываем\" текст отзывов \n",
    "df['Reviews_txt_NaN'] = df['Reviews'].apply(lambda x: x ==  '[[], []]')\n",
    "\n",
    "df['Reviews'] = df['Reviews'].fillna('[[], []]')\n",
    "df['Reviews'] = df['Reviews'].apply(lambda x: cleanup_string(x))"
   ]
  },
  {
   "cell_type": "code",
   "execution_count": null,
   "metadata": {},
   "outputs": [],
   "source": [
    "# Не будем кодировать названия городов - get_dummies справится \n",
    "# df[\"City\"] = df[\"City\"].astype('category')\n",
    "# #df[\"City\"] = df[\"City\"].cat.codes\n",
    "# encoder = LabelEncoder()\n",
    "# df['City'] = encoder.fit_transform(df['City'])"
   ]
  },
  {
   "cell_type": "code",
   "execution_count": null,
   "metadata": {},
   "outputs": [],
   "source": [
    "# Перекодируем Price Range и удаляем NaN\n",
    "cleanup_nums = {'Price Range':     {\"$\": 1, \"$$ - $$$\": 2, \"$$$$\": 3, np.NaN: 2}} # чаще всего встречается \"$$ - $$$\" == 2\n",
    "df['Price Range NAN'] = df['Price Range'].isna()\n",
    "df.replace(cleanup_nums, inplace=True)"
   ]
  },
  {
   "cell_type": "code",
   "execution_count": null,
   "metadata": {},
   "outputs": [],
   "source": [
    "# Получаем Cuisines Count, самую популярную кухню, среднее к-во кухонь в ресторане и устраняем NaN\n",
    "df['Cuisine Style NAN'] = df['Cuisine Style'].isna()\n",
    "df['Cuisine Style'] = df['Cuisine Style'].fillna('NaN')\n",
    "df['Cuisines Count'] = df.apply(cuisine_styles_count, axis=1)\n",
    "\n",
    "most_popular_cusine = pd.Series(allCusines).value_counts().index[0]\n",
    "average_cousines_count = np.round(df['Cuisines Count'].mean())"
   ]
  },
  {
   "cell_type": "code",
   "execution_count": null,
   "metadata": {},
   "outputs": [],
   "source": [
    "# Number of Reviews\n",
    "df['Number of Reviews NAN'] = df['Number of Reviews'].isna()\n",
    "replace_val = df['Number of Reviews'].mean()\n",
    "replace_val = np.round(replace_val)\n",
    "df['Number of Reviews'] = df['Number of Reviews'].fillna(replace_val)"
   ]
  },
  {
   "cell_type": "code",
   "execution_count": null,
   "metadata": {},
   "outputs": [],
   "source": [
    "df.sample(5)"
   ]
  },
  {
   "cell_type": "markdown",
   "metadata": {},
   "source": [
    "# EDA \n",
    "[Exploratory Data Analysis](https://ru.wikipedia.org/wiki/Разведочный_анализ_данных) - Анализ данных\n",
    "На этом этапе мы строим графики, ищем закономерности, аномалии, выбросы или связи между признаками.\n",
    "В общем цель этого этапа понять, что эти данные могут нам дать и как признаки могут быть взаимосвязаны между собой.\n",
    "Понимание изначальных признаков позволит сгенерировать новые, более сильные и, тем самым, сделать нашу модель лучше.\n",
    "![](https://miro.medium.com/max/2598/1*RXdMb7Uk6mGqWqPguHULaQ.png)"
   ]
  },
  {
   "cell_type": "markdown",
   "metadata": {},
   "source": [
    "### Посмотрим распределение признака"
   ]
  },
  {
   "cell_type": "code",
   "execution_count": null,
   "metadata": {},
   "outputs": [],
   "source": [
    "plt.rcParams['figure.figsize'] = (10,5)\n",
    "df[df.ForTrain]['Ranking'].hist(bins=100);"
   ]
  },
  {
   "cell_type": "markdown",
   "metadata": {},
   "source": [
    "У нас много ресторанов, которые не дотягивают и до 2500 места в своем городе, а что там по городам?"
   ]
  },
  {
   "cell_type": "code",
   "execution_count": null,
   "metadata": {},
   "outputs": [],
   "source": [
    "df[df.ForTrain]['City'].value_counts(ascending=True).plot(kind='barh');"
   ]
  },
  {
   "cell_type": "markdown",
   "metadata": {},
   "source": [
    "А кто-то говорил, что французы любят поесть=) Посмотрим, как изменится распределение в большом городе:"
   ]
  },
  {
   "cell_type": "code",
   "execution_count": null,
   "metadata": {},
   "outputs": [],
   "source": [
    "df[df.ForTrain]['Ranking'][df[df.ForTrain]['City'] =='London'].hist(bins=100);"
   ]
  },
  {
   "cell_type": "code",
   "execution_count": null,
   "metadata": {},
   "outputs": [],
   "source": [
    "# посмотрим на топ 10 городов\n",
    "for x in (df[df.ForTrain]['City'].value_counts())[0:10].index:\n",
    "    df[df.ForTrain]['Ranking'][df[df.ForTrain]['City'] == x].hist(bins=100)\n",
    "plt.show()"
   ]
  },
  {
   "cell_type": "markdown",
   "metadata": {},
   "source": [
    "Получается, что Ranking имеет нормальное распределение, просто в больших городах больше ресторанов, из-за мы этого имеем смещение.\n",
    "\n",
    ">Подумайте как из этого можно сделать признак для вашей модели. Я покажу вам пример, как визуализация помогает находить взаимосвязи. А далее действуйте без подсказок =) \n"
   ]
  },
  {
   "cell_type": "markdown",
   "metadata": {},
   "source": [
    "### Посмотрим распределение целевой переменной"
   ]
  },
  {
   "cell_type": "code",
   "execution_count": null,
   "metadata": {},
   "outputs": [],
   "source": [
    "df[df.ForTrain]['Rating'].value_counts(ascending=True).plot(kind='barh');"
   ]
  },
  {
   "cell_type": "markdown",
   "metadata": {},
   "source": [
    "### Посмотрим распределение целевой переменной относительно признака"
   ]
  },
  {
   "cell_type": "code",
   "execution_count": null,
   "metadata": {},
   "outputs": [],
   "source": [
    "df[df.ForTrain]['Ranking'][df[df.ForTrain]['Rating'] == 5].hist(bins=100);"
   ]
  },
  {
   "cell_type": "code",
   "execution_count": null,
   "metadata": {},
   "outputs": [],
   "source": [
    "df[df.ForTrain]['Ranking'][df[df.ForTrain]['Rating'] < 4].hist(bins=100);"
   ]
  },
  {
   "cell_type": "markdown",
   "metadata": {},
   "source": [
    "### Корреляция имеющихся признаков - практически единственным признаком, коррелирующим с Rating является Ranking. Он, в свою очередь, уже имеет слабую корреляцию практически со всеми признаками "
   ]
  },
  {
   "cell_type": "code",
   "execution_count": null,
   "metadata": {},
   "outputs": [],
   "source": [
    "plt.rcParams['figure.figsize'] = (15,15)\n",
    "sns.heatmap(df[df.ForTrain].drop(['ForTrain'], axis=1).corr(), square=True,\n",
    "            annot=True, fmt=\".1f\", linewidths=0.1, cmap=\"RdBu\");\n",
    "plt.tight_layout()"
   ]
  },
  {
   "cell_type": "markdown",
   "metadata": {},
   "source": [
    "**Поищем другие/дополнительные признаки, привлечем внешние данные **"
   ]
  },
  {
   "cell_type": "code",
   "execution_count": null,
   "metadata": {},
   "outputs": [],
   "source": [
    "population_city_dict = {}\n",
    "country_city_dict = {}\n",
    "# Получаем словари популяции по городам, а так же ISO код страны по городу\n",
    "population_city_dict, country_city_dict = get_city_population_and_country()"
   ]
  },
  {
   "cell_type": "code",
   "execution_count": null,
   "metadata": {},
   "outputs": [],
   "source": [
    "# Вычисляем страну для города в каждой строке\n",
    "df['Country'] = df[\"City\"].apply(lambda x: country_city_dict[x])"
   ]
  },
  {
   "cell_type": "code",
   "execution_count": null,
   "metadata": {},
   "outputs": [],
   "source": [
    "# Вычисляем к-во ресторанов для города в каждой строке\n",
    "restorants_in_city = df.groupby('City')['Ranking'].count().to_dict()\n",
    "df['Restaurants Count'] = df['City'].map(restorants_in_city)"
   ]
  },
  {
   "cell_type": "code",
   "execution_count": null,
   "metadata": {},
   "outputs": [],
   "source": [
    "# Вычисляем население (в тыс. чел) для города в каждой строке\n",
    "df['Population'] = df[\"City\"].map(population_city_dict)"
   ]
  },
  {
   "cell_type": "code",
   "execution_count": null,
   "metadata": {},
   "outputs": [],
   "source": [
    "# Вычисляем к-во ресторанов на 1000 чел для города в каждой строке\n",
    "df['Restaurants for Population'] = df['Restaurants Count'] / (df['Population']*1000) #"
   ]
  },
  {
   "cell_type": "code",
   "execution_count": null,
   "metadata": {},
   "outputs": [],
   "source": [
    "# Вычисляем является ли город столицей в каждой строке\n",
    "capital_city_dict = get_capital_city_dict()\n",
    "df['isCapital'] = df[\"City\"].map(capital_city_dict)"
   ]
  },
  {
   "cell_type": "code",
   "execution_count": null,
   "metadata": {},
   "outputs": [],
   "source": [
    "# Получаем относительную позицию ресторана среди всех ресторанов города\n",
    "df['Weighed Rank'] = df.apply(lambda x: get_Weighed_Rank_RK(x), axis=1)\n",
    "\n",
    "CityMinMax = df.groupby('City')['Ranking'].agg([min,max])\n",
    "CityMinMax =CityMinMax.reset_index()\n",
    "df['Weighed Rank min max'] = df.apply(lambda x: get_Weighed_Rank(x), axis=1)"
   ]
  },
  {
   "cell_type": "code",
   "execution_count": null,
   "metadata": {},
   "outputs": [],
   "source": [
    "# Флаги (1/0) isMostPopCusine - есть ли в ресторане самая популярная кухня; isMultyCusine - к-во кухонь в ресторане больше или столько же чем в среднем\n",
    "df['isMostPopCusine'] = df['Cuisine Style'].apply(lambda x: 1 if most_popular_cusine in x else 0 )\n",
    "df['isMultyCusine'] = df['Cuisines Count'].apply(lambda x: 1 if  x >= average_cousines_count else 0 )"
   ]
  },
  {
   "cell_type": "code",
   "execution_count": null,
   "metadata": {},
   "outputs": [],
   "source": [
    "# RevTimeDelta - время между review в днях\n",
    "\n",
    "df['RevTimeDelta'] = df['Reviews'].apply(rev_time_delta)"
   ]
  },
  {
   "cell_type": "code",
   "execution_count": null,
   "metadata": {},
   "outputs": [],
   "source": [
    "# NewestReviewDate - время, прошедшее со момента последнего review до '22/02/2020'\n",
    "df['NewestReviewDate'] = df['Reviews'].apply(lambda x: get_reviews(x)['reviews_dt'])\n",
    "df['NewestReviewDate'] = df['NewestReviewDate'].apply(lambda x: sorted(x,reverse=True)[0] if len(x)!=0 else pd.NaT)\n",
    "df['NewestReviewDate'] = df['NewestReviewDate'].fillna(dt.date(1970,1,1))\n",
    "df['NewestReviewDate'] = df['NewestReviewDate'].apply(lambda x: (CURRENT_DATE.date()-x).total_seconds()//86400)"
   ]
  },
  {
   "cell_type": "code",
   "execution_count": null,
   "metadata": {},
   "outputs": [],
   "source": [
    "df['NewestReviewSeason'] = df['Reviews'].apply(lambda x: get_reviews(x)['reviews_dt'])\n",
    "df['NewestReviewSeason'] = df['NewestReviewSeason'].apply(lambda x: sorted(x,reverse=True)[0] if len(x)!=0 else pd.NaT)\n",
    "#df['NewestReviewSeason'] = df['NewestReviewSeason'].fillna(dt.date(2020,2,22))\n",
    "df['NewestReviewSeason'] = df['NewestReviewSeason'].apply(lambda x: get_season(x))"
   ]
  },
  {
   "cell_type": "code",
   "execution_count": null,
   "metadata": {},
   "outputs": [],
   "source": [
    "#  'TxtReviewsCount' - к-во отзывов, не сильно улучшает результат, но пусть будут\n",
    "df['TxtReviewsCount'] = df['Reviews'].apply(lambda x: len(get_reviews(x)['reviews_txt']))"
   ]
  },
  {
   "cell_type": "code",
   "execution_count": null,
   "metadata": {},
   "outputs": [],
   "source": [
    "# К-во позитивных слов в представленных отзывах\n",
    "df['PositiveWords'] = df['Reviews'].apply(lambda x: count_positive_words_proportion(x))"
   ]
  },
  {
   "cell_type": "code",
   "execution_count": null,
   "metadata": {},
   "outputs": [],
   "source": [
    "# Список уникальных позитивных слов в представленных отзывах\n",
    "df['PositiveWordsList'] = df['Reviews'].apply(lambda x: list_positive_words(x))"
   ]
  },
  {
   "cell_type": "code",
   "execution_count": null,
   "metadata": {},
   "outputs": [],
   "source": [
    "cusines_in_city={}\n",
    "cusines_count_in_city={}\n",
    "for city_name, group in df.groupby('City'):\n",
    "\n",
    "    cusines = group['Cuisine Style'].apply(get_cuisines)\n",
    "   \n",
    "    cusines_list = list(itertools.chain.from_iterable(cusines))\n",
    "    #cusines_list = [x for x in cusines_list if x != 'Vegetarian Friendly'] # удаляем 'Vegetarian Friendly' - она \"забивает\" все результаты\n",
    "    cusines_in_city[city_name] = Counter(cusines_list)\n",
    "\n",
    "for city_name in cusines_in_city.keys():\n",
    "    cusines_count_in_city[city_name] = len(cusines_in_city[city_name])\n",
    "\n",
    "df['Cusines Count In City'] = df['City'].map(cusines_count_in_city)"
   ]
  },
  {
   "cell_type": "code",
   "execution_count": null,
   "metadata": {},
   "outputs": [],
   "source": [
    "df['Weighed Cuisines Count'] = df['Cuisines Count'] / df['Cusines Count In City']  "
   ]
  },
  {
   "cell_type": "code",
   "execution_count": null,
   "metadata": {},
   "outputs": [],
   "source": [
    "df['Most Common Cusine in City'] = df['City'].apply(lambda x: cusines_in_city[x].most_common(1)[0][0])"
   ]
  },
  {
   "cell_type": "code",
   "execution_count": null,
   "metadata": {},
   "outputs": [],
   "source": [
    "df['Cuisine Style'] = df.apply(lambda x: x['Cuisine Style'] if x['Cuisine Style NAN'] ==False else [x['Most Common Cusine in City']], axis=1)"
   ]
  },
  {
   "cell_type": "code",
   "execution_count": null,
   "metadata": {},
   "outputs": [],
   "source": [
    "# зависимость места ресторана в городе от населения\n",
    "df['Weighed Rank by Population'] = df['Weighed Rank']  / df['Population'] "
   ]
  },
  {
   "cell_type": "code",
   "execution_count": null,
   "metadata": {},
   "outputs": [],
   "source": [
    "df['PositiveWords in Reviews'] = df['PositiveWords'] / df['Number of Reviews']"
   ]
  },
  {
   "cell_type": "code",
   "execution_count": null,
   "metadata": {},
   "outputs": [],
   "source": [
    "# Как часто в городе оставляют отзывы\n",
    "df['NRP'] = df['Number of Reviews'] / df['Population']"
   ]
  },
  {
   "cell_type": "code",
   "execution_count": null,
   "metadata": {},
   "outputs": [],
   "source": [
    "# Ранг ресторана с учетом частоты отзывов в городе\n",
    "df['WRR'] =  df['Weighed Rank']  *  df['NRP'] "
   ]
  },
  {
   "cell_type": "code",
   "execution_count": null,
   "metadata": {},
   "outputs": [],
   "source": [
    "df['Relative Price Range'] = df['Price Range'] / df['Weighed Rank']"
   ]
  },
  {
   "cell_type": "code",
   "execution_count": null,
   "metadata": {},
   "outputs": [],
   "source": [
    "# Средняя цена в городе\n",
    "price_in_city_dict = df.groupby('City')['Price Range'].mean().to_dict()\n",
    "df['Price in City'] = df['City'].map(price_in_city_dict)"
   ]
  },
  {
   "cell_type": "code",
   "execution_count": null,
   "metadata": {},
   "outputs": [],
   "source": [
    "# Сокращаем список кухонь для анализа до N - основных, остальные Other - это почти всегда дает улучшение предсказания\n",
    "N=30 #!!!\n",
    "\n",
    "s = df['Cuisine Style'].apply(lambda x: get_cuisines(x))\n",
    "slist =[]\n",
    "for x in s:\n",
    "    slist.extend(x)\n",
    "topNcusines = set(pd.Series(slist).value_counts()[:N].index)  \n",
    "df['Cuisine top N'] =df['Cuisine Style'].apply(lambda x: is_cuisine_top_N(x))"
   ]
  },
  {
   "cell_type": "code",
   "execution_count": null,
   "metadata": {},
   "outputs": [],
   "source": [
    "# Сетевой ID ресторана (похоже, что это ID франшизы, если повторяется более 1-го раза - isNetworkRestorant)\n",
    "import warnings; warnings.simplefilter('ignore')\n",
    "df['Restaurant_net_id'] = df['Restaurant_id'].apply(lambda x: x.split('_')[1])\n",
    "NetworkRestorants = df[df['Restaurant_net_id'].isin(df['Restaurant_net_id'].value_counts()[df['Restaurant_net_id'].value_counts()>2].index)]\n",
    "NetworkRestorants['isNetworkRestorant'] = True\n",
    "df['isNetworkRestorant'] = NetworkRestorants['isNetworkRestorant']\n",
    "df['isNetworkRestorant'] = df['isNetworkRestorant'].fillna(False)"
   ]
  },
  {
   "cell_type": "code",
   "execution_count": null,
   "metadata": {},
   "outputs": [],
   "source": [
    "# Помечаем, входит ли город в N-top городов, если ДА, то пишем его назавние, если НЕТ -Other\n",
    "top_Cityes = df['City'].value_counts()[0:10].index.to_list()\n",
    "df['TopCityes'] = df.City.apply(lambda x: x if x in top_Cityes else 'Other_City')"
   ]
  },
  {
   "cell_type": "markdown",
   "metadata": {},
   "source": [
    "---\n",
    "# Устранили NaN и сгенерили новые признаки(пока без dummies), посмотрим какие из них подходят "
   ]
  },
  {
   "cell_type": "code",
   "execution_count": null,
   "metadata": {},
   "outputs": [],
   "source": [
    "df[['Ranking', 'Rating', 'Number of Reviews', 'City', 'Price Range',\n",
    "        'Restaurant_id',  'Country',\n",
    "       'Restaurants Count', 'Population', 'Restaurants for Population',\n",
    "       'Weighed Rank',  'Cuisines Count',\n",
    "       'RevTimeDelta', 'NewestReviewDate',\n",
    "       'TxtReviewsCount', 'Weighed Rank by Population', 'PositiveWords','PositiveWords in Reviews', 'WRR', 'Price in City', 'Restaurant_net_id']].hist(figsize=(20, 20), bins=100);\n",
    "plt.tight_layout()"
   ]
  },
  {
   "cell_type": "markdown",
   "metadata": {},
   "source": [
    "### Собираем dummies"
   ]
  },
  {
   "cell_type": "code",
   "execution_count": null,
   "metadata": {},
   "outputs": [],
   "source": [
    "# Собираем Dummies: city, price_range, country_range, Cuisine top N\n",
    "\n",
    "dff = pd.get_dummies(df['Cuisine top N'].apply(pd.Series).stack()).sum(level=0)\n",
    "df_mcc = pd.get_dummies(df['Most Common Cusine in City'], prefix = 'MCC')\n",
    "df_city = pd.get_dummies(df['City'], prefix = 'City Range')\n",
    "#df_city = pd.get_dummies(df['TopCityes'], prefix = 'City', dummy_na=True)\n",
    "df_price_range = pd.get_dummies(df['Price Range'], prefix = 'Price Range') \n",
    "df_country_range = pd.get_dummies(df['Country'], prefix = 'Country Range',) \n",
    "#df_season_range = pd.get_dummies(df['NewestReviewSeason'], prefix = 'Season',)\n",
    "\n",
    "df['PositiveWordsList'] = df['PositiveWordsList'].fillna('NAN')\n",
    "df_positive_words_range = pd.get_dummies(df['PositiveWordsList'].apply(pd.Series).stack(), dummy_na=False).sum(level=0)\n",
    "\n",
    "\n",
    "df1 = pd.concat([df,dff], axis=1)\n",
    "df1 = pd.concat([df1,df_city], axis=1)\n",
    "df1 = pd.concat([df1,df_price_range], axis=1)\n",
    "df1 = pd.concat([df1,df_country_range], axis=1)\n",
    "df1 = pd.concat([df1,df_mcc], axis=1)\n",
    "df1 = pd.concat([df1,df_positive_words_range], axis=1)\n",
    "\n",
    "#df1 = pd.concat([df1,df_season_range], axis=1)\n",
    "\n",
    "#df1 = pd.concat([df1,df_restid_range], axis=1)\n",
    "\n",
    "cols_cuisine_style = dff.columns\n",
    "cols_city = df_city.columns\n",
    "cols_price_range =  df_price_range.columns\n",
    "cols_country_range =  df_country_range.columns\n",
    "cols_mcc =  df_mcc.columns\n",
    "cols_positive_words = df_positive_words_range.columns\n",
    "#cols_season = df_season_range.columns\n",
    "#cols_restid_range =  df_restid_range.columns"
   ]
  },
  {
   "cell_type": "code",
   "execution_count": null,
   "metadata": {},
   "outputs": [],
   "source": [
    "# Собираем признаки И Разбиваем датафрейм на части, необходимые для обучения и тестирования модели\n",
    "columns = [ 'isMultyCusine', 'Price Range NAN', 'Cuisine Style NAN', 'Number of Reviews NAN', 'Number of Reviews', 'Restaurants Count', 'Cuisines Count', 'RevTimeDelta',        'NewestReviewDate', 'PositiveWords',  'Weighed Rank', 'Ranking', 'Weighed Rank by Population',  'Cusines Count In City', 'WRR', 'ID_TA', 'Weighed Rank min max', 'Price in City',  'Cuisine Style NAN', 'isCapital', 'Population', 'Restaurants for Population',  ]\n",
    "\n",
    "#columns = [ 'isMultyCusine', 'Price Range NAN', 'Cuisine Style NAN', 'Number of Reviews NAN', 'Number of Reviews', 'Restaurants Count', 'Cuisines Count', 'RevTimeDelta',        'NewestReviewDate', 'PositiveWords',  'Weighed Rank', 'Ranking', 'Weighed Rank by Population',  'Cusines Count In City', 'WRR', 'ID_TA', 'Weighed Rank min max', 'Price in City', 'Weighed Rank by Population',  ]\n",
    "\n",
    "columns.extend(cols_price_range.tolist())\n",
    "columns.extend(cols_cuisine_style.tolist())\n",
    "columns.extend(cols_city.tolist())\n",
    "columns.extend(cols_country_range.tolist())\n",
    "\n",
    "columns.extend(cols_positive_words.tolist())\n",
    "\n",
    "#Разбиваем датафрейм на части, необходимые для обучения и тестирования модели\n",
    "X = df1[df1.ForTrain][columns]\n",
    "\n",
    "y = df1[df1.ForTrain]['Rating']"
   ]
  },
  {
   "cell_type": "code",
   "execution_count": null,
   "metadata": {},
   "outputs": [],
   "source": [
    "# Загружаем специальный инструмент для разбивки:\n",
    "from sklearn.model_selection import train_test_split"
   ]
  },
  {
   "cell_type": "code",
   "execution_count": null,
   "metadata": {},
   "outputs": [],
   "source": [
    "# Наборы данных с меткой \"train\" будут использоваться для обучения модели, \"test\" - для тестирования.\n",
    "# Для тестирования мы будем использовать 20% от исходного датасета.\n",
    "X_train, X_test, y_train, y_test = train_test_split(X, y, test_size=0.2, random_state=RANDOM_SEED)"
   ]
  },
  {
   "cell_type": "markdown",
   "metadata": {},
   "source": [
    "# Model \n"
   ]
  },
  {
   "cell_type": "code",
   "execution_count": null,
   "metadata": {},
   "outputs": [],
   "source": [
    "# Импортируем необходимые библиотеки:\n",
    "from sklearn.ensemble import RandomForestRegressor # инструмент для создания и обучения модели\n",
    "from sklearn import metrics # инструменты для оценки точности модели"
   ]
  },
  {
   "cell_type": "code",
   "execution_count": null,
   "metadata": {},
   "outputs": [],
   "source": [
    "# Создаём модель (НАСТРОЙКИ НЕ ТРОГАЕМ)\n",
    "regr = RandomForestRegressor(n_estimators=100, verbose=1, n_jobs=-1, random_state=RANDOM_SEED)"
   ]
  },
  {
   "cell_type": "code",
   "execution_count": null,
   "metadata": {},
   "outputs": [],
   "source": [
    "# Обучаем модель на тестовом наборе данных\n",
    "regr.fit(X_train, y_train)\n",
    "\n",
    "# Используем обученную модель для предсказания рейтинга ресторанов в тестовой выборке.\n",
    "# Предсказанные значения записываем в переменную y_pred\n",
    "y_pred = regr.predict(X_test)"
   ]
  },
  {
   "cell_type": "code",
   "execution_count": null,
   "metadata": {},
   "outputs": [],
   "source": [
    "y_pred_old = y_pred.copy()\n",
    "y_pred = round_of_rating(y_pred) "
   ]
  },
  {
   "cell_type": "code",
   "execution_count": null,
   "metadata": {},
   "outputs": [],
   "source": [
    "# Сравниваем предсказанные значения (y_pred) с реальными (y_test), и смотрим насколько они в среднем отличаются\n",
    "# Метрика называется Mean Absolute Error (MAE) и показывает среднее отклонение предсказанных значений от фактических.\n",
    "print('MAE:', metrics.mean_absolute_error(y_test, y_pred),  metrics.mean_absolute_error(y_test, y_pred_old) )"
   ]
  },
  {
   "cell_type": "code",
   "execution_count": null,
   "metadata": {},
   "outputs": [],
   "source": [
    "#Вычисляем коэффициент детерминации:\n",
    "R_2 = metrics.r2_score(y_test, y_pred)\n",
    "print(R_2)"
   ]
  },
  {
   "cell_type": "code",
   "execution_count": null,
   "metadata": {},
   "outputs": [],
   "source": [
    "# в RandomForestRegressor есть возможность вывести самые важные признаки для модели\n",
    "plt.rcParams['figure.figsize'] = (10,10)\n",
    "feat_importances = pd.Series(regr.feature_importances_, index=X.columns)\n",
    "feat_importances.nlargest(30).plot(kind='barh');"
   ]
  },
  {
   "cell_type": "markdown",
   "metadata": {},
   "source": [
    "# Submission\n",
    "Если все устраевает - готовим Submission на кагл"
   ]
  },
  {
   "cell_type": "code",
   "execution_count": null,
   "metadata": {},
   "outputs": [],
   "source": [
    "# Предсказываем рейтинги на датасете для предсказаний (ForTrain == False)\n",
    "X_submission = df1[df1.ForTrain == False][columns]\n",
    "y_pred_submission = round_of_rating(regr.predict(X_submission))"
   ]
  },
  {
   "cell_type": "code",
   "execution_count": null,
   "metadata": {},
   "outputs": [],
   "source": [
    "# Формируем датасет с предсказаниями Restaurant_id -- Rating\n",
    "submission_df = pd.DataFrame()\n",
    "submission_df['Restaurant_id'] = df1[df1.ForTrain == False]['Restaurant_id']\n",
    "submission_df['Rating'] = y_pred_submission\n",
    "submission_df.head(15)"
   ]
  },
  {
   "cell_type": "markdown",
   "metadata": {},
   "source": [
    "-----------------\n",
    "# Проверяем годность предсказаний  \n",
    "Распределения достаточно похожи - ОК!"
   ]
  },
  {
   "cell_type": "code",
   "execution_count": null,
   "metadata": {},
   "outputs": [],
   "source": [
    "print('Тренировочный датасет')\n",
    "df[df.ForTrain].Rating.value_counts()"
   ]
  },
  {
   "cell_type": "code",
   "execution_count": null,
   "metadata": {},
   "outputs": [],
   "source": [
    "print('Предсказания масштабированные в 4 раза')\n",
    "submission_df.Rating.value_counts()*4"
   ]
  },
  {
   "cell_type": "code",
   "execution_count": null,
   "metadata": {},
   "outputs": [],
   "source": [
    "# Сохраняем предсказания\n",
    "submission_df.to_csv('submission.csv', index=False)"
   ]
  }
 ],
 "metadata": {
  "kernelspec": {
   "display_name": "Python 3",
   "language": "python",
   "name": "python3"
  },
  "language_info": {
   "codemirror_mode": {
    "name": "ipython",
    "version": 3
   },
   "file_extension": ".py",
   "mimetype": "text/x-python",
   "name": "python",
   "nbconvert_exporter": "python",
   "pygments_lexer": "ipython3",
   "version": "3.7.7"
  }
 },
 "nbformat": 4,
 "nbformat_minor": 4
}
