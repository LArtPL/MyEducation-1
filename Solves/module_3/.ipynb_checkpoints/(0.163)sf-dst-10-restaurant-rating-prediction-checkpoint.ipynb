{
 "cells": [
  {
   "cell_type": "markdown",
   "metadata": {},
   "source": [
    "# Проект №3. О вкусной и здоровой пище \n",
    "**[SF-DST-10] Restaurant Rating prediction Sergey Kuzmenko**"
   ]
  },
  {
   "cell_type": "markdown",
   "metadata": {},
   "source": [
    "# import"
   ]
  },
  {
   "cell_type": "code",
   "execution_count": 1,
   "metadata": {
    "_cell_guid": "b1076dfc-b9ad-4769-8c92-a6c4dae69d19",
    "_uuid": "8f2839f25d086af736a60e9eeb907d3b93b6e0e5"
   },
   "outputs": [
    {
     "name": "stdout",
     "output_type": "stream",
     "text": [
      "/kaggle/src/script.ipynb\n",
      "/kaggle/lib/kaggle/gcp.py\n",
      "/kaggle/input/sf-dst-restaurant-rating/main_task.csv\n",
      "/kaggle/input/sf-dst-restaurant-rating/kaggle_task.csv\n",
      "/kaggle/input/sf-dst-restaurant-rating/sample_submission.csv\n",
      "/kaggle/input/cities-and-countries/global-city-population-estimates.xls\n",
      "/kaggle/input/cities-and-countries/country-list.csv\n",
      "/kaggle/input/opinion-lexicon-english/positive-words.txt\n",
      "/kaggle/input/opinion-lexicon-english/neg_words.txt\n",
      "/kaggle/working/__notebook__.ipynb\n"
     ]
    }
   ],
   "source": [
    "# This Python 3 environment comes with many helpful analytics libraries installed\n",
    "# It is defined by the kaggle/python docker image: https://github.com/kaggle/docker-python\n",
    "# For example, here's several helpful packages to load in \n",
    "\n",
    "import pandas as pd\n",
    "import numpy as np \n",
    "import re\n",
    "import json\n",
    "import datetime as dt\n",
    "from sklearn.model_selection import cross_val_score\n",
    "from sklearn.preprocessing import LabelEncoder\n",
    "import unicodedata #для транслитерации не ASCII\n",
    "import unidecode #для транслитерации не ASCII \n",
    "import seaborn as sns\n",
    "import matplotlib.pyplot as plt\n",
    "from collections import Counter\n",
    "import itertools\n",
    "%matplotlib inline\n",
    "\n",
    "\n",
    "import os\n",
    "for dirname, _, filenames in os.walk('/kaggle'):\n",
    "    for filename in filenames:\n",
    "        print(os.path.join(dirname, filename))\n",
    "\n",
    "# Any results you write to the current directory are saved as output."
   ]
  },
  {
   "cell_type": "code",
   "execution_count": 2,
   "metadata": {},
   "outputs": [],
   "source": [
    "# зафиксируем версию пакетов, чтобы эксперименты были воспроизводимы:\n",
    "!pip freeze > requirements.txt"
   ]
  },
  {
   "cell_type": "code",
   "execution_count": 3,
   "metadata": {},
   "outputs": [],
   "source": [
    "# Для воспроизводимости результатов зададим:\n",
    "# - общий параметр для генерации случайных чисел\n",
    "RANDOM_SEED = 20726\n",
    "# - общую текущую дату\n",
    "CURRENT_DATE = pd.to_datetime('22/02/2020')\n"
   ]
  },
  {
   "cell_type": "markdown",
   "metadata": {},
   "source": [
    "# DATA"
   ]
  },
  {
   "cell_type": "code",
   "execution_count": 4,
   "metadata": {
    "_cell_guid": "79c7e3d0-c299-4dcb-8224-4455121ee9b0",
    "_uuid": "d629ff2d2480ee46fbb7e2d37f6b5fab8052498a"
   },
   "outputs": [],
   "source": [
    "DATA_DIR = '/kaggle/input/sf-dst-restaurant-rating/'\n",
    "df_in = pd.read_csv(DATA_DIR+'main_task.csv')\n",
    "# Путь к датасету для которого требуется предсказать рейтинг\n",
    "df_kagle = pd.read_csv(DATA_DIR+'kaggle_task.csv')\n",
    "#Путь к 'submission.csv'\n",
    "submission_path = pd.read_csv(DATA_DIR+'sample_submission.csv')"
   ]
  },
  {
   "cell_type": "code",
   "execution_count": 5,
   "metadata": {},
   "outputs": [],
   "source": [
    "DS_IMPORT_SC_DIR = '/kaggle/input/cities-and-countries/'\n",
    "# Путь к датасету стран - отсюда берем столицы\n",
    "df_county = pd.read_csv(DS_IMPORT_SC_DIR+'country-list.csv')\n",
    "#датасет по городам и странам\n",
    "df_urb_xls = pd.read_excel(DS_IMPORT_SC_DIR+'global-city-population-estimates.xls', index_col=None, header=0, sheet_name = 'CITIES-OVER-300K')\n",
    "\n",
    "# Путь к датасету, содержащему слова с позитивной окраской\n",
    "df_pos_words = pd.read_csv('/kaggle/input/opinion-lexicon-english/positive-words.txt',skiprows=34, names=['word'])\n",
    "pos_words_list = df_pos_words['word'].to_list() "
   ]
  },
  {
   "cell_type": "markdown",
   "metadata": {},
   "source": [
    "# FUNC"
   ]
  },
  {
   "cell_type": "code",
   "execution_count": 6,
   "metadata": {},
   "outputs": [],
   "source": [
    " def get_season(date):\n",
    "    '''\n",
    "    Время года из даты\n",
    "    '''\n",
    "    if (pd.isna(date)):\n",
    "        return \"OTHER\"\n",
    "    month = date.month\n",
    "    if (month > 11 or month <= 3):\n",
    "       return \"WINTER\"\n",
    "    elif (month == 4 or month == 5):\n",
    "       return \"SPRING\"\n",
    "    elif (month >=6 and month <= 9):\n",
    "       return \"SUMMER\"\n",
    "    else:\n",
    "       return \"FALL\""
   ]
  },
  {
   "cell_type": "code",
   "execution_count": 7,
   "metadata": {},
   "outputs": [],
   "source": [
    "def round_of_rating(number):\n",
    "    \"\"\"\n",
    "    Округляем до 0.5\n",
    "    \"\"\"\n",
    "    return np.round(number * 2) / 2"
   ]
  },
  {
   "cell_type": "code",
   "execution_count": 8,
   "metadata": {},
   "outputs": [],
   "source": [
    "def get_Weighed_Rank_RK(row):\n",
    "    '''\n",
    "    Вычисляем относительную позицию ресторана среди всех ресторанов города\n",
    "    '''\n",
    "    Weighed_Rank = row['Ranking'] / row['Restaurants Count']\n",
    "\n",
    "    return Weighed_Rank"
   ]
  },
  {
   "cell_type": "code",
   "execution_count": 9,
   "metadata": {},
   "outputs": [],
   "source": [
    "def get_Weighed_Rank(row):\n",
    "    i=0\n",
    "    city_min = CityMinMax[CityMinMax['City'] == row.City ]['min'].iloc[0]\n",
    "    city_max = CityMinMax[CityMinMax['City'] == row.City ]['max'].iloc[0]\n",
    "    Weighed_Rank = round(1-(row['Ranking'] - city_min)/(city_max - city_min),3)\n",
    "    #print('<---',Weighed_Rank,'--->')\n",
    "    return Weighed_Rank"
   ]
  },
  {
   "cell_type": "code",
   "execution_count": 10,
   "metadata": {},
   "outputs": [],
   "source": [
    "def rev_time_delta(reviews):\n",
    "    '''\n",
    "    Вычисляем время между review в днях\n",
    "    '''\n",
    "    if (pd.notna(reviews)):\n",
    "        reviews_dt_list = get_reviews(reviews)['reviews_dt']\n",
    "        if reviews_dt_list:\n",
    "            return (max(reviews_dt_list) - min(reviews_dt_list)).days\n",
    "        else:\n",
    "            return dt.timedelta(days=3650).days\n",
    "    else:\n",
    "        return dt.timedelta(days=3650).days"
   ]
  },
  {
   "cell_type": "code",
   "execution_count": 11,
   "metadata": {},
   "outputs": [],
   "source": [
    "def get_reviews(rev):\n",
    "    '''\n",
    "    Получаем review в виде:\n",
    "    review['reviews_txt'][1] - list of reviews\n",
    "    review['reviews_dt'][1] - list of reviews dates\n",
    "    '''\n",
    "    if  not pd.isna(rev): \n",
    "        rev = str(rev).replace(\"'\",'\"')\n",
    "        rev = rev.replace('], [', '], \"reviews_dt\": [')\n",
    "        rev = '{ \"reviews_txt\":' + rev + '}'\n",
    "        rev = rev.replace('[[','[').replace(']]',']')\n",
    "        d = json.loads(rev)\n",
    "\n",
    "        d['reviews_dt'] = [dt.datetime.strptime(date, '%m/%d/%Y').date() if len(date.split('/')[2])==4 else dt.datetime.strptime(date, '%m/%d/%y').date() for date in d['reviews_dt']]\n",
    "        return d\n",
    "    else:\n",
    "        return {}"
   ]
  },
  {
   "cell_type": "code",
   "execution_count": 12,
   "metadata": {},
   "outputs": [],
   "source": [
    "def get_cuisines(cuisines):\n",
    "    '''\n",
    "    Получаем список кухонь в виде:\n",
    "    cuisines[0] - list of cusines\n",
    "    если был NaN, то возвращается 'Regionl Cusine' -как самая популярная в регионе/городе/стране\n",
    "    '''\n",
    "    if cuisines == 'NaN': return ['Regionl Cusine']#['Vegetarian Friendly'] # 'Vegetarian Friendly' - самая популярная\n",
    "    if  cuisines:\n",
    "        cuisines = str(cuisines).replace(\"'\",'\"')\n",
    "        return json.loads(cuisines)\n",
    "    else:\n",
    "        return ['Regionl Cusine'] #return ['Vegetarian Friendly']"
   ]
  },
  {
   "cell_type": "code",
   "execution_count": 13,
   "metadata": {},
   "outputs": [],
   "source": [
    "allCusines = []\n",
    "def cuisine_styles_count(row):\n",
    "    '''\n",
    "    Получаем количество кухонь\n",
    "    '''\n",
    "    global allCusines\n",
    "    cusines = get_cuisines(row['Cuisine Style'])\n",
    "    \n",
    "    if row['Cuisine Style'] != 'NaN':    \n",
    "        cusines = get_cuisines(row['Cuisine Style'])\n",
    "        allCusines.extend(cusines)\n",
    "        cuisines_count =len(cusines)\n",
    "    else:\n",
    "        cuisines_count = 1\n",
    "\n",
    "    return cuisines_count"
   ]
  },
  {
   "cell_type": "code",
   "execution_count": 14,
   "metadata": {},
   "outputs": [],
   "source": [
    "def cleanup_string(str_in):\n",
    "    '''\n",
    "    \"Чистим\" текст в review для последующй десериализации\n",
    "    Пока текст в анализе не используется, не успел... \n",
    "    '''\n",
    "    try:      \n",
    "        \n",
    "        #middle\n",
    "\n",
    "        str = str_in.replace(\"', \\\"\",\"⅞\").replace(\"', '\",\"⅞\").replace(\"\\\", '\",\"⅞\").replace(\"\\\", \\\"\",\"⅞\")# \", \n",
    "        str = str.replace(\"\\\", \\\"\\\"\",\"⅞\").replace(\"\\\"\\\", '\",\"⅞\").replace(\"\\\", \\'\",\"⅞\").replace(\"\\\"\\\", \\'\",\"⅞\")\n",
    "        str = str.replace(\"\\', \\'\",\"⅞\")\n",
    "        #middle\n",
    "        #left\n",
    "        str = str.replace(\"[['\",\"≤\").replace(\"['\",\"⅛\")\n",
    "        #left\n",
    "        #right\n",
    "        str = str.replace(\"']]\",\"≥\").replace(\"']\",\"⅝\")\n",
    "        #right\n",
    "        #cleanups\n",
    "        str = str.replace('\\'', ' ').replace('\\\"', ' ').replace('\\'', ' ').replace('\"', ' ')     \n",
    "        str = str.replace(\"\\\\\", \" \").replace(\"[[`\", \"≤\").replace('\\'\"', '\\'').replace('\\'\\\"', '\\'')\n",
    "        str = str.replace('\"\\'', '\\'').replace('\\\"\\'', '\\'').replace(\"[''\" ,\"≤\").replace(\"[\\'\\'\" ,\"≤\")\n",
    "        str = str.replace('\\'', ' ').replace('\\\"', ' ')\n",
    "        str = str.replace('\\'', ' ').replace('\\\"', ' ')\n",
    "        str = str.replace('\\'', ' ').replace('\"', ' ')\n",
    "        #cleanups\n",
    "        #middle\n",
    "        str = str.replace(\"⅞\", \"', '\")\n",
    "        #middle\n",
    "        #left\n",
    "        str = str.replace(\"≤\", \"[['\").replace(\"⅛\", \"['\").replace('[[ ', '[[ \\'')\n",
    "        #left\n",
    "        #right\n",
    "        str = str.replace(\"≥\" ,\"']]\").replace(\"⅝\", \"']\").replace(' ]', ' \\']')\n",
    "        str = str.replace(', nan]', '\\', \\'nan\\']').replace('[nan, ', '[\\'nan\\', \\'')\n",
    "        #right\n",
    "    except Exception:\n",
    "        print('<----',str_in,'---->')\n",
    "    return str"
   ]
  },
  {
   "cell_type": "code",
   "execution_count": 15,
   "metadata": {},
   "outputs": [],
   "source": [
    "def get_city_population_and_country():\n",
    "    '''\n",
    "    Получаем популяцию по городам, а так же ISO код страны по городу (из внешних источников)\n",
    "    '''\n",
    "    population_city_dict = {}\n",
    "    country_city_dict = {}\n",
    "    cities = df['City'].unique()\n",
    "    # Чистим названия городов от Unicode символов - транслитерацией\n",
    "    df_urb_xls['Urban Agglomeration TL'] = df_urb_xls['Urban Agglomeration'].apply(lambda s: ''.join((c for c in unicodedata.normalize('NFD', s) if unicodedata.category(c) != 'Mn')) )\n",
    "    df_urb_xls['Urban Agglomeration TL'] =  df_urb_xls['Urban Agglomeration'].apply(lambda x: unidecode.unidecode(x))\n",
    "\n",
    "    for city in cities:\n",
    "        vals = df_urb_xls[df_urb_xls['Urban Agglomeration TL'].str.contains(city)]['2015'].max()/1000\n",
    "        vals = 0.3 if pd.isna(vals) else vals # т.к. в датасете города от 300тыс\n",
    "        population_city_dict[city] = vals\n",
    "        country = df_urb_xls[df_urb_xls['Urban Agglomeration TL'].str.contains(city)]['Country Code']\n",
    "        country = -1 if country.shape[0] < 1 else country.values[0]\n",
    "        country_city_dict[city] = country\n",
    "\n",
    "    population_city_dict['Luxembourg'] = 0.613894 \n",
    "    population_city_dict['Brussels'] = 2.115468 \n",
    "    population_city_dict['Geneva'] = 0.686562 \n",
    "    population_city_dict['Oporto'] = 0.214349 \n",
    "    population_city_dict['Ljubljana'] = 0.279631\n",
    "\n",
    "\n",
    "\n",
    "    country_city_dict['Luxembourg'] = 442 \n",
    "    country_city_dict['Brussels'] = 56 \n",
    "    country_city_dict['Geneva'] = 756 \n",
    "    country_city_dict['Oporto'] = 620 \n",
    "    country_city_dict['Ljubljana'] = 705\n",
    "    \n",
    "    #Видимо, эти данные корректнее???\n",
    "    population_city_dict = {    'London': 8.173900,\n",
    "    'Paris': 2.240621,\n",
    "    'Madrid': 3.155360,\n",
    "    'Barcelona': 1.593075,\n",
    "    'Berlin': 3.326002,\n",
    "    'Milan': 1.331586,\n",
    "    'Rome': 2.870493,\n",
    "    'Prague': 1.272690,\n",
    "    'Lisbon': .547733,\n",
    "    'Vienna': 1.765649,\n",
    "    'Amsterdam': .825080,\n",
    "    'Brussels': .144784,\n",
    "    'Hamburg': 1.718187,\n",
    "    'Munich': 1.364920,\n",
    "    'Lyon': .496343,\n",
    "    'Stockholm': 1.981263,\n",
    "    'Budapest': 1.744665,\n",
    "    'Warsaw': 1.720398,\n",
    "    'Dublin': .506211 ,\n",
    "    'Copenhagen': 1.246611,\n",
    "    'Athens': 3.168846,\n",
    "    'Edinburgh': .476100,\n",
    "    'Zurich': .402275,\n",
    "    'Oporto': .221800,\n",
    "    'Geneva': .196150,\n",
    "    'Krakow': .756183,\n",
    "    'Oslo': .673469,\n",
    "    'Helsinki': .574579,\n",
    "    'Bratislava': .413192,\n",
    "    'Luxembourg': .576249,\n",
    "    'Ljubljana': .277554\n",
    "    }\n",
    "    return population_city_dict, country_city_dict"
   ]
  },
  {
   "cell_type": "code",
   "execution_count": 16,
   "metadata": {},
   "outputs": [],
   "source": [
    "def get_capital_city_dict():\n",
    "    '''\n",
    "    Возвращаем словарь город == столица или нет\n",
    "    '''\n",
    "    capital_city_dict = {}\n",
    "    cities =df['City'].unique()\n",
    "    df_county['capital TL'] = df_county['capital'].apply(lambda s: ''.join((c for c in unicodedata.normalize('NFD', s) if unicodedata.category(c) != 'Mn')) )\n",
    "    df_county['capital TL'] =  df_county['capital'].apply(lambda x: unidecode.unidecode(x))\n",
    "    for city in cities:\n",
    "        vals = df_county[df_county['capital TL'].str.contains(city)]['country'].shape[0]   \n",
    "        vals = 0 if pd.isna(vals) or vals==0 else 1 \n",
    "        capital_city_dict[city] = vals\n",
    "    capital_city_dict['Barcelona'] = 0 # Страна Басков != Испания, дадим Барселоне статус мтолицы, но оставим в Испании ! 0 и не надо врать :)\n",
    "    capital_city_dict['Zurich'] = 1 \n",
    "    capital_city_dict['Geneva'] = 1 \n",
    "    capital_city_dict['Oporto'] = 1 \n",
    "    return capital_city_dict"
   ]
  },
  {
   "cell_type": "code",
   "execution_count": 17,
   "metadata": {},
   "outputs": [],
   "source": [
    "def is_cuisine_top_N(cs):\n",
    "    '''\n",
    "    Возвращаем список кухонь, входящих в основной список кухонь,для остальных Other\n",
    "    '''\n",
    "    c = get_cuisines(cs)\n",
    "    c = set(c)\n",
    "\n",
    "    shared_cousines=()\n",
    "    shared_cousines=c.intersection(topNcusines)\n",
    "\n",
    "    if len(shared_cousines) != len(c):\n",
    "        shared_cousines = list(shared_cousines)\n",
    "        shared_cousines.extend(['Other'])\n",
    "\n",
    "    return list(shared_cousines)"
   ]
  },
  {
   "cell_type": "code",
   "execution_count": 18,
   "metadata": {},
   "outputs": [],
   "source": [
    "def createWordList(line):\n",
    "    wordList2 =[]\n",
    "    wordList1 = line.split()\n",
    "    for word in wordList1:\n",
    "        cleanWord = \"\"\n",
    "        for char in word:\n",
    "            if char in '!,.?\":;0123456789':\n",
    "                char = \"\"\n",
    "            cleanWord += char\n",
    "        wordList2.append(cleanWord.lower())\n",
    "    return wordList2"
   ]
  },
  {
   "cell_type": "code",
   "execution_count": 19,
   "metadata": {},
   "outputs": [],
   "source": [
    "def count_positive_words_proportion(reviews):\n",
    "    '''\n",
    "    Количество позитивных слов в приведенных отзывах\n",
    "    '''\n",
    "    pos_words_count = 0\n",
    "    txts=get_reviews(reviews)['reviews_txt']\n",
    "    txt = ' '.join(txts)\n",
    "    #print(type(txt))\n",
    "    words = createWordList(txt)\n",
    "    \n",
    "    words_count = len(words) if len(words) > 0 else 1\n",
    "    words_count = 1\n",
    "    pos_words_in_review=set(words).intersection(pos_words_list)\n",
    "    for word in words:\n",
    "        if word in pos_words_list:\n",
    "            #print(word)\n",
    "            pos_words_count +=1  \n",
    "    return np.round(pos_words_count/words_count,2)"
   ]
  },
  {
   "cell_type": "code",
   "execution_count": 20,
   "metadata": {},
   "outputs": [],
   "source": [
    "def list_positive_words(reviews): \n",
    "    '''\n",
    "    Список уникальных позитивных слов в приведенных отзывах\n",
    "    '''\n",
    "    txts=get_reviews(reviews)['reviews_txt']\n",
    "    txt = ' '.join(txts)\n",
    "    #print(type(txt))\n",
    "    words = createWordList(txt)\n",
    "    \n",
    "    words_count = len(words) if len(words) > 0 else 1\n",
    "    words_count = 1\n",
    "    pos_words_in_review=set(words).intersection(pos_words_list)\n",
    "    #print(len(pos_words_in_review))\n",
    "    if (len(pos_words_in_review) == 0):\n",
    "        return np.NAN\n",
    "    else:\n",
    "        return list(pos_words_in_review)"
   ]
  },
  {
   "cell_type": "markdown",
   "metadata": {},
   "source": [
    "---  "
   ]
  },
  {
   "cell_type": "markdown",
   "metadata": {},
   "source": [
    "# WORK"
   ]
  },
  {
   "cell_type": "code",
   "execution_count": 21,
   "metadata": {},
   "outputs": [
    {
     "name": "stdout",
     "output_type": "stream",
     "text": [
      "<class 'pandas.core.frame.DataFrame'>\n",
      "RangeIndex: 40000 entries, 0 to 39999\n",
      "Data columns (total 10 columns):\n",
      "Restaurant_id        40000 non-null object\n",
      "City                 40000 non-null object\n",
      "Cuisine Style        30717 non-null object\n",
      "Ranking              40000 non-null float64\n",
      "Rating               40000 non-null float64\n",
      "Price Range          26114 non-null object\n",
      "Number of Reviews    37457 non-null float64\n",
      "Reviews              40000 non-null object\n",
      "URL_TA               40000 non-null object\n",
      "ID_TA                40000 non-null object\n",
      "dtypes: float64(3), object(7)\n",
      "memory usage: 3.1+ MB\n"
     ]
    }
   ],
   "source": [
    "df_in.info()"
   ]
  },
  {
   "cell_type": "code",
   "execution_count": 22,
   "metadata": {},
   "outputs": [
    {
     "data": {
      "text/html": [
       "<div>\n",
       "<style scoped>\n",
       "    .dataframe tbody tr th:only-of-type {\n",
       "        vertical-align: middle;\n",
       "    }\n",
       "\n",
       "    .dataframe tbody tr th {\n",
       "        vertical-align: top;\n",
       "    }\n",
       "\n",
       "    .dataframe thead th {\n",
       "        text-align: right;\n",
       "    }\n",
       "</style>\n",
       "<table border=\"1\" class=\"dataframe\">\n",
       "  <thead>\n",
       "    <tr style=\"text-align: right;\">\n",
       "      <th></th>\n",
       "      <th>Restaurant_id</th>\n",
       "      <th>City</th>\n",
       "      <th>Cuisine Style</th>\n",
       "      <th>Ranking</th>\n",
       "      <th>Rating</th>\n",
       "      <th>Price Range</th>\n",
       "      <th>Number of Reviews</th>\n",
       "      <th>Reviews</th>\n",
       "      <th>URL_TA</th>\n",
       "      <th>ID_TA</th>\n",
       "    </tr>\n",
       "  </thead>\n",
       "  <tbody>\n",
       "    <tr>\n",
       "      <th>0</th>\n",
       "      <td>id_5569</td>\n",
       "      <td>Paris</td>\n",
       "      <td>['European', 'French', 'International']</td>\n",
       "      <td>5570.0</td>\n",
       "      <td>3.5</td>\n",
       "      <td>$$ - $$$</td>\n",
       "      <td>194.0</td>\n",
       "      <td>[['Good food at your doorstep', 'A good hotel ...</td>\n",
       "      <td>/Restaurant_Review-g187147-d1912643-Reviews-R_...</td>\n",
       "      <td>d1912643</td>\n",
       "    </tr>\n",
       "    <tr>\n",
       "      <th>1</th>\n",
       "      <td>id_1535</td>\n",
       "      <td>Stockholm</td>\n",
       "      <td>NaN</td>\n",
       "      <td>1537.0</td>\n",
       "      <td>4.0</td>\n",
       "      <td>NaN</td>\n",
       "      <td>10.0</td>\n",
       "      <td>[['Unique cuisine', 'Delicious Nepalese food']...</td>\n",
       "      <td>/Restaurant_Review-g189852-d7992032-Reviews-Bu...</td>\n",
       "      <td>d7992032</td>\n",
       "    </tr>\n",
       "    <tr>\n",
       "      <th>2</th>\n",
       "      <td>id_352</td>\n",
       "      <td>London</td>\n",
       "      <td>['Japanese', 'Sushi', 'Asian', 'Grill', 'Veget...</td>\n",
       "      <td>353.0</td>\n",
       "      <td>4.5</td>\n",
       "      <td>$$$$</td>\n",
       "      <td>688.0</td>\n",
       "      <td>[['Catch up with friends', 'Not exceptional'],...</td>\n",
       "      <td>/Restaurant_Review-g186338-d8632781-Reviews-RO...</td>\n",
       "      <td>d8632781</td>\n",
       "    </tr>\n",
       "    <tr>\n",
       "      <th>3</th>\n",
       "      <td>id_3456</td>\n",
       "      <td>Berlin</td>\n",
       "      <td>NaN</td>\n",
       "      <td>3458.0</td>\n",
       "      <td>5.0</td>\n",
       "      <td>NaN</td>\n",
       "      <td>3.0</td>\n",
       "      <td>[[], []]</td>\n",
       "      <td>/Restaurant_Review-g187323-d1358776-Reviews-Es...</td>\n",
       "      <td>d1358776</td>\n",
       "    </tr>\n",
       "    <tr>\n",
       "      <th>4</th>\n",
       "      <td>id_615</td>\n",
       "      <td>Munich</td>\n",
       "      <td>['German', 'Central European', 'Vegetarian Fri...</td>\n",
       "      <td>621.0</td>\n",
       "      <td>4.0</td>\n",
       "      <td>$$ - $$$</td>\n",
       "      <td>84.0</td>\n",
       "      <td>[['Best place to try a Bavarian food', 'Nice b...</td>\n",
       "      <td>/Restaurant_Review-g187309-d6864963-Reviews-Au...</td>\n",
       "      <td>d6864963</td>\n",
       "    </tr>\n",
       "  </tbody>\n",
       "</table>\n",
       "</div>"
      ],
      "text/plain": [
       "  Restaurant_id       City                                      Cuisine Style  \\\n",
       "0       id_5569      Paris            ['European', 'French', 'International']   \n",
       "1       id_1535  Stockholm                                                NaN   \n",
       "2        id_352     London  ['Japanese', 'Sushi', 'Asian', 'Grill', 'Veget...   \n",
       "3       id_3456     Berlin                                                NaN   \n",
       "4        id_615     Munich  ['German', 'Central European', 'Vegetarian Fri...   \n",
       "\n",
       "   Ranking  Rating Price Range  Number of Reviews  \\\n",
       "0   5570.0     3.5    $$ - $$$              194.0   \n",
       "1   1537.0     4.0         NaN               10.0   \n",
       "2    353.0     4.5        $$$$              688.0   \n",
       "3   3458.0     5.0         NaN                3.0   \n",
       "4    621.0     4.0    $$ - $$$               84.0   \n",
       "\n",
       "                                             Reviews  \\\n",
       "0  [['Good food at your doorstep', 'A good hotel ...   \n",
       "1  [['Unique cuisine', 'Delicious Nepalese food']...   \n",
       "2  [['Catch up with friends', 'Not exceptional'],...   \n",
       "3                                           [[], []]   \n",
       "4  [['Best place to try a Bavarian food', 'Nice b...   \n",
       "\n",
       "                                              URL_TA     ID_TA  \n",
       "0  /Restaurant_Review-g187147-d1912643-Reviews-R_...  d1912643  \n",
       "1  /Restaurant_Review-g189852-d7992032-Reviews-Bu...  d7992032  \n",
       "2  /Restaurant_Review-g186338-d8632781-Reviews-RO...  d8632781  \n",
       "3  /Restaurant_Review-g187323-d1358776-Reviews-Es...  d1358776  \n",
       "4  /Restaurant_Review-g187309-d6864963-Reviews-Au...  d6864963  "
      ]
     },
     "execution_count": 22,
     "metadata": {},
     "output_type": "execute_result"
    }
   ],
   "source": [
    "df_in.head(5)"
   ]
  },
  {
   "cell_type": "code",
   "execution_count": 23,
   "metadata": {},
   "outputs": [],
   "source": [
    "# ВАЖНО! дря корректной обработки признаков объединяем трейн и тест в один датасет\n",
    "\n",
    "df_kagle['ForTrain'] = False # помечаем где у нас тест\n",
    "df_kagle['Rating'] = 0 # в тесте у нас нет значения Rating, мы его должны предсказать, по этому пока просто заполняем нулями\n",
    "\n",
    "df_in['ForTrain'] = True # помечаем где у нас трейн\n",
    "df_in = df_in.append(df_kagle, sort=False).reset_index(drop=True)# объединяем"
   ]
  },
  {
   "cell_type": "markdown",
   "metadata": {},
   "source": [
    "Подробнее по признакам:\n",
    "* City: Город \n",
    "* Cuisine Style: Кухня\n",
    "* Ranking: Ранг ресторана относительно других ресторанов в этом городе\n",
    "* Price Range: Цены в ресторане в 3 категориях\n",
    "* Number of Reviews: Количество отзывов\n",
    "* Reviews: 2 последних отзыва и даты этих отзывов\n",
    "* URL_TA: страница ресторана на 'www.tripadvisor.com' \n",
    "* ID_TA: ID ресторана в TripAdvisor\n",
    "* Rating: Рейтинг ресторана"
   ]
  },
  {
   "cell_type": "code",
   "execution_count": 24,
   "metadata": {},
   "outputs": [],
   "source": [
    "# Выбираем нужные для последующего анализа столбцы\n",
    "df = df_in[['Ranking', 'Rating', 'Number of Reviews', 'City', 'Price Range', 'Cuisine Style', 'Reviews', 'Restaurant_id', 'ID_TA', 'ForTrain' ]].copy()"
   ]
  },
  {
   "cell_type": "code",
   "execution_count": 25,
   "metadata": {},
   "outputs": [
    {
     "data": {
      "text/html": [
       "<div>\n",
       "<style scoped>\n",
       "    .dataframe tbody tr th:only-of-type {\n",
       "        vertical-align: middle;\n",
       "    }\n",
       "\n",
       "    .dataframe tbody tr th {\n",
       "        vertical-align: top;\n",
       "    }\n",
       "\n",
       "    .dataframe thead th {\n",
       "        text-align: right;\n",
       "    }\n",
       "</style>\n",
       "<table border=\"1\" class=\"dataframe\">\n",
       "  <thead>\n",
       "    <tr style=\"text-align: right;\">\n",
       "      <th></th>\n",
       "      <th>Ranking</th>\n",
       "      <th>Rating</th>\n",
       "      <th>Number of Reviews</th>\n",
       "      <th>City</th>\n",
       "      <th>Price Range</th>\n",
       "      <th>Cuisine Style</th>\n",
       "      <th>Reviews</th>\n",
       "      <th>Restaurant_id</th>\n",
       "      <th>ID_TA</th>\n",
       "      <th>ForTrain</th>\n",
       "    </tr>\n",
       "  </thead>\n",
       "  <tbody>\n",
       "    <tr>\n",
       "      <th>25797</th>\n",
       "      <td>6347.0</td>\n",
       "      <td>1.0</td>\n",
       "      <td>NaN</td>\n",
       "      <td>Berlin</td>\n",
       "      <td>NaN</td>\n",
       "      <td>['Sushi', 'Vietnamese']</td>\n",
       "      <td>[[], []]</td>\n",
       "      <td>id_6340</td>\n",
       "      <td>d4604132</td>\n",
       "      <td>True</td>\n",
       "    </tr>\n",
       "    <tr>\n",
       "      <th>828</th>\n",
       "      <td>1761.0</td>\n",
       "      <td>4.5</td>\n",
       "      <td>86.0</td>\n",
       "      <td>Paris</td>\n",
       "      <td>$</td>\n",
       "      <td>['Cafe', 'Vegetarian Friendly', 'Vegan Options...</td>\n",
       "      <td>[['A hidden gem!', 'Good breakfast'], ['11/20/...</td>\n",
       "      <td>id_1760</td>\n",
       "      <td>d8384800</td>\n",
       "      <td>True</td>\n",
       "    </tr>\n",
       "    <tr>\n",
       "      <th>49216</th>\n",
       "      <td>11332.0</td>\n",
       "      <td>0.0</td>\n",
       "      <td>2.0</td>\n",
       "      <td>London</td>\n",
       "      <td>NaN</td>\n",
       "      <td>['Seafood']</td>\n",
       "      <td>[['First class fish &amp; chips', 'Fish and chips'...</td>\n",
       "      <td>id_9216</td>\n",
       "      <td>d4913054</td>\n",
       "      <td>False</td>\n",
       "    </tr>\n",
       "    <tr>\n",
       "      <th>1776</th>\n",
       "      <td>3177.0</td>\n",
       "      <td>2.5</td>\n",
       "      <td>51.0</td>\n",
       "      <td>Amsterdam</td>\n",
       "      <td>$$ - $$$</td>\n",
       "      <td>['Indonesian', 'Asian']</td>\n",
       "      <td>[['Good Indonesian food', 'Poor service and av...</td>\n",
       "      <td>id_3166</td>\n",
       "      <td>d3606562</td>\n",
       "      <td>True</td>\n",
       "    </tr>\n",
       "    <tr>\n",
       "      <th>43540</th>\n",
       "      <td>1969.0</td>\n",
       "      <td>0.0</td>\n",
       "      <td>13.0</td>\n",
       "      <td>Vienna</td>\n",
       "      <td>$$ - $$$</td>\n",
       "      <td>['Pizza', 'Fast Food', 'European', 'Street Food']</td>\n",
       "      <td>[['Different, yet somehow exactly what pizza.....</td>\n",
       "      <td>id_3540</td>\n",
       "      <td>d12286962</td>\n",
       "      <td>False</td>\n",
       "    </tr>\n",
       "  </tbody>\n",
       "</table>\n",
       "</div>"
      ],
      "text/plain": [
       "       Ranking  Rating  Number of Reviews       City Price Range  \\\n",
       "25797   6347.0     1.0                NaN     Berlin         NaN   \n",
       "828     1761.0     4.5               86.0      Paris           $   \n",
       "49216  11332.0     0.0                2.0     London         NaN   \n",
       "1776    3177.0     2.5               51.0  Amsterdam    $$ - $$$   \n",
       "43540   1969.0     0.0               13.0     Vienna    $$ - $$$   \n",
       "\n",
       "                                           Cuisine Style  \\\n",
       "25797                            ['Sushi', 'Vietnamese']   \n",
       "828    ['Cafe', 'Vegetarian Friendly', 'Vegan Options...   \n",
       "49216                                        ['Seafood']   \n",
       "1776                             ['Indonesian', 'Asian']   \n",
       "43540  ['Pizza', 'Fast Food', 'European', 'Street Food']   \n",
       "\n",
       "                                                 Reviews Restaurant_id  \\\n",
       "25797                                           [[], []]       id_6340   \n",
       "828    [['A hidden gem!', 'Good breakfast'], ['11/20/...       id_1760   \n",
       "49216  [['First class fish & chips', 'Fish and chips'...       id_9216   \n",
       "1776   [['Good Indonesian food', 'Poor service and av...       id_3166   \n",
       "43540  [['Different, yet somehow exactly what pizza.....       id_3540   \n",
       "\n",
       "           ID_TA  ForTrain  \n",
       "25797   d4604132      True  \n",
       "828     d8384800      True  \n",
       "49216   d4913054     False  \n",
       "1776    d3606562      True  \n",
       "43540  d12286962     False  "
      ]
     },
     "execution_count": 25,
     "metadata": {},
     "output_type": "execute_result"
    }
   ],
   "source": [
    "df.sample(5)"
   ]
  },
  {
   "cell_type": "code",
   "execution_count": 26,
   "metadata": {},
   "outputs": [
    {
     "data": {
      "text/plain": [
       "\"[['Unique cuisine', 'Delicious Nepalese food'], ['07/06/2017', '06/19/2016']]\""
      ]
     },
     "execution_count": 26,
     "metadata": {},
     "output_type": "execute_result"
    }
   ],
   "source": [
    "df.Reviews[1]"
   ]
  },
  {
   "cell_type": "markdown",
   "metadata": {},
   "source": [
    "Как видим, большинство признаков у нас требует очистки и предварительной обработки."
   ]
  },
  {
   "cell_type": "markdown",
   "metadata": {},
   "source": [
    "* ## 1. Обработка NAN и Обработка признаков\n",
    "У наличия пропусков могут быть разные причины, но пропуски нужно либо заполнить, либо исключить из набора полностью. Но с пропусками нужно быть внимательным, **даже отсутствие информации может быть важным признаком!**   \n",
    "По этому перед обработкой NAN лучше вынести информацию о наличии пропуска как отдельный признак "
   ]
  },
  {
   "cell_type": "markdown",
   "metadata": {},
   "source": [
    "**Посмотрим на признаки и к-во пропусков (NaN)**"
   ]
  },
  {
   "cell_type": "code",
   "execution_count": 27,
   "metadata": {},
   "outputs": [
    {
     "name": "stdout",
     "output_type": "stream",
     "text": [
      "<class 'pandas.core.frame.DataFrame'>\n",
      "RangeIndex: 50000 entries, 0 to 49999\n",
      "Data columns (total 10 columns):\n",
      "Ranking              50000 non-null float64\n",
      "Rating               50000 non-null float64\n",
      "Number of Reviews    46800 non-null float64\n",
      "City                 50000 non-null object\n",
      "Price Range          32639 non-null object\n",
      "Cuisine Style        38410 non-null object\n",
      "Reviews              49998 non-null object\n",
      "Restaurant_id        50000 non-null object\n",
      "ID_TA                50000 non-null object\n",
      "ForTrain             50000 non-null bool\n",
      "dtypes: bool(1), float64(3), object(6)\n",
      "memory usage: 3.5+ MB\n"
     ]
    }
   ],
   "source": [
    "df.info()"
   ]
  },
  {
   "cell_type": "markdown",
   "metadata": {},
   "source": [
    "**Посмотрим на признаки и к-во уникальных значений**"
   ]
  },
  {
   "cell_type": "code",
   "execution_count": 28,
   "metadata": {},
   "outputs": [
    {
     "data": {
      "text/plain": [
       "Ranking              12975\n",
       "Rating                  10\n",
       "Number of Reviews     1574\n",
       "City                    31\n",
       "Price Range              4\n",
       "Cuisine Style        10732\n",
       "Reviews              41858\n",
       "Restaurant_id        13094\n",
       "ID_TA                49963\n",
       "ForTrain                 2\n",
       "dtype: int64"
      ]
     },
     "execution_count": 28,
     "metadata": {},
     "output_type": "execute_result"
    }
   ],
   "source": [
    "df.nunique(dropna=False)"
   ]
  },
  {
   "cell_type": "markdown",
   "metadata": {},
   "source": [
    "**Посмотрим на гистограммы числовых признаков**"
   ]
  },
  {
   "cell_type": "code",
   "execution_count": 29,
   "metadata": {},
   "outputs": [
    {
     "data": {
      "image/png": "[encoded data removed]",
      "text/plain": [
       "<Figure size 1440x720 with 4 Axes>"
      ]
     },
     "metadata": {
      "needs_background": "light"
     },
     "output_type": "display_data"
    }
   ],
   "source": [
    "df[df.ForTrain][['Ranking', 'Rating', 'Number of Reviews','Price Range', 'Restaurant_id']].hist(figsize=(20, 10), bins=100);\n",
    "plt.tight_layout()\n"
   ]
  },
  {
   "cell_type": "code",
   "execution_count": 30,
   "metadata": {},
   "outputs": [
    {
     "data": {
      "image/png": "[encoded data removed]",
      "text/plain": [
       "<Figure size 720x360 with 1 Axes>"
      ]
     },
     "metadata": {
      "needs_background": "light"
     },
     "output_type": "display_data"
    }
   ],
   "source": [
    "df[df.ForTrain]['Restaurant_id'].apply(lambda x: x.split('_')[1]).astype(int).hist(figsize=(10,5), bins=100);\n",
    "plt.tight_layout()\n",
    "# Restaurant_id Очень похож на Ranking"
   ]
  },
  {
   "cell_type": "code",
   "execution_count": 31,
   "metadata": {},
   "outputs": [
    {
     "data": {
      "image/png": "[encoded data removed]",
      "text/plain": [
       "<Figure size 720x360 with 1 Axes>"
      ]
     },
     "metadata": {
      "needs_background": "light"
     },
     "output_type": "display_data"
    }
   ],
   "source": [
    "\n",
    "df[df.ForTrain]['ID_TA'].apply(lambda x: x.replace('d','')).astype(int).hist(figsize=(10, 5), bins=100);\n",
    "plt.tight_layout()\n",
    "# Видно Несколько групп - на ID - точно не похоже. "
   ]
  },
  {
   "cell_type": "code",
   "execution_count": 32,
   "metadata": {},
   "outputs": [],
   "source": [
    "df['ID_TA'] = df['ID_TA'].apply(lambda x: x[1:]) "
   ]
  },
  {
   "cell_type": "code",
   "execution_count": 33,
   "metadata": {},
   "outputs": [],
   "source": [
    "# Reviews - убираем NaN и \"причесываем\" текст отзывов \n",
    "df['Reviews_txt_NaN'] = df['Reviews'].apply(lambda x: x ==  '[[], []]')\n",
    "\n",
    "df['Reviews'] = df['Reviews'].fillna('[[], []]')\n",
    "df['Reviews'] = df['Reviews'].apply(lambda x: cleanup_string(x))"
   ]
  },
  {
   "cell_type": "code",
   "execution_count": 34,
   "metadata": {},
   "outputs": [],
   "source": [
    "# Не будем кодировать названия городов - get_dummies справится \n",
    "# df[\"City\"] = df[\"City\"].astype('category')\n",
    "# #df[\"City\"] = df[\"City\"].cat.codes\n",
    "# encoder = LabelEncoder()\n",
    "# df['City'] = encoder.fit_transform(df['City'])"
   ]
  },
  {
   "cell_type": "code",
   "execution_count": 35,
   "metadata": {},
   "outputs": [],
   "source": [
    "# Перекодируем Price Range и удаляем NaN\n",
    "cleanup_nums = {'Price Range':     {\"$\": 1, \"$$ - $$$\": 2, \"$$$$\": 3, np.NaN: 2}} # чаще всего встречается \"$$ - $$$\" == 2\n",
    "df['Price Range NAN'] = df['Price Range'].isna()\n",
    "df.replace(cleanup_nums, inplace=True)"
   ]
  },
  {
   "cell_type": "code",
   "execution_count": 36,
   "metadata": {},
   "outputs": [],
   "source": [
    "# Получаем Cuisines Count, самую популярную кухню, среднее к-во кухонь в ресторане и устраняем NaN\n",
    "df['Cuisine Style NAN'] = df['Cuisine Style'].isna()\n",
    "df['Cuisine Style'] = df['Cuisine Style'].fillna('NaN')\n",
    "df['Cuisines Count'] = df.apply(cuisine_styles_count, axis=1)\n",
    "\n",
    "most_popular_cusine = pd.Series(allCusines).value_counts().index[0]\n",
    "average_cousines_count = np.round(df['Cuisines Count'].mean())"
   ]
  },
  {
   "cell_type": "code",
   "execution_count": 37,
   "metadata": {},
   "outputs": [],
   "source": [
    "# Number of Reviews\n",
    "df['Number of Reviews NAN'] = df['Number of Reviews'].isna()\n",
    "replace_val = df['Number of Reviews'].mean()\n",
    "replace_val = np.round(replace_val)\n",
    "df['Number of Reviews'] = df['Number of Reviews'].fillna(replace_val)"
   ]
  },
  {
   "cell_type": "code",
   "execution_count": 38,
   "metadata": {},
   "outputs": [
    {
     "data": {
      "text/html": [
       "<div>\n",
       "<style scoped>\n",
       "    .dataframe tbody tr th:only-of-type {\n",
       "        vertical-align: middle;\n",
       "    }\n",
       "\n",
       "    .dataframe tbody tr th {\n",
       "        vertical-align: top;\n",
       "    }\n",
       "\n",
       "    .dataframe thead th {\n",
       "        text-align: right;\n",
       "    }\n",
       "</style>\n",
       "<table border=\"1\" class=\"dataframe\">\n",
       "  <thead>\n",
       "    <tr style=\"text-align: right;\">\n",
       "      <th></th>\n",
       "      <th>Ranking</th>\n",
       "      <th>Rating</th>\n",
       "      <th>Number of Reviews</th>\n",
       "      <th>City</th>\n",
       "      <th>Price Range</th>\n",
       "      <th>Cuisine Style</th>\n",
       "      <th>Reviews</th>\n",
       "      <th>Restaurant_id</th>\n",
       "      <th>ID_TA</th>\n",
       "      <th>ForTrain</th>\n",
       "      <th>Reviews_txt_NaN</th>\n",
       "      <th>Price Range NAN</th>\n",
       "      <th>Cuisine Style NAN</th>\n",
       "      <th>Cuisines Count</th>\n",
       "      <th>Number of Reviews NAN</th>\n",
       "    </tr>\n",
       "  </thead>\n",
       "  <tbody>\n",
       "    <tr>\n",
       "      <th>37030</th>\n",
       "      <td>4253.0</td>\n",
       "      <td>3.5</td>\n",
       "      <td>598.0</td>\n",
       "      <td>London</td>\n",
       "      <td>2</td>\n",
       "      <td>['British', 'Vegetarian Friendly', 'Gluten Fre...</td>\n",
       "      <td>[['Business &amp; Christmas in London', 'tasty hot...</td>\n",
       "      <td>id_4246</td>\n",
       "      <td>5243090</td>\n",
       "      <td>True</td>\n",
       "      <td>False</td>\n",
       "      <td>False</td>\n",
       "      <td>False</td>\n",
       "      <td>3</td>\n",
       "      <td>False</td>\n",
       "    </tr>\n",
       "    <tr>\n",
       "      <th>25964</th>\n",
       "      <td>925.0</td>\n",
       "      <td>4.5</td>\n",
       "      <td>76.0</td>\n",
       "      <td>Lisbon</td>\n",
       "      <td>2</td>\n",
       "      <td>['Mediterranean', 'European', 'Contemporary', ...</td>\n",
       "      <td>[['Perfect!', 'Simply outstanding restaurant/w...</td>\n",
       "      <td>id_924</td>\n",
       "      <td>10699974</td>\n",
       "      <td>True</td>\n",
       "      <td>False</td>\n",
       "      <td>False</td>\n",
       "      <td>False</td>\n",
       "      <td>7</td>\n",
       "      <td>False</td>\n",
       "    </tr>\n",
       "    <tr>\n",
       "      <th>11817</th>\n",
       "      <td>2787.0</td>\n",
       "      <td>4.0</td>\n",
       "      <td>13.0</td>\n",
       "      <td>Vienna</td>\n",
       "      <td>2</td>\n",
       "      <td>NaN</td>\n",
       "      <td>[['Decent breakfast', 'Looks good from the out...</td>\n",
       "      <td>id_2785</td>\n",
       "      <td>2090817</td>\n",
       "      <td>True</td>\n",
       "      <td>False</td>\n",
       "      <td>True</td>\n",
       "      <td>True</td>\n",
       "      <td>1</td>\n",
       "      <td>False</td>\n",
       "    </tr>\n",
       "    <tr>\n",
       "      <th>34805</th>\n",
       "      <td>621.0</td>\n",
       "      <td>5.0</td>\n",
       "      <td>124.0</td>\n",
       "      <td>Oslo</td>\n",
       "      <td>2</td>\n",
       "      <td>['Italian']</td>\n",
       "      <td>[[], []]</td>\n",
       "      <td>id_620</td>\n",
       "      <td>4476672</td>\n",
       "      <td>True</td>\n",
       "      <td>True</td>\n",
       "      <td>True</td>\n",
       "      <td>False</td>\n",
       "      <td>1</td>\n",
       "      <td>True</td>\n",
       "    </tr>\n",
       "    <tr>\n",
       "      <th>46933</th>\n",
       "      <td>14705.0</td>\n",
       "      <td>0.0</td>\n",
       "      <td>124.0</td>\n",
       "      <td>London</td>\n",
       "      <td>2</td>\n",
       "      <td>['Chinese', 'Asian', 'Korean']</td>\n",
       "      <td>[['the food is not worth the price they charg....</td>\n",
       "      <td>id_6933</td>\n",
       "      <td>5443126</td>\n",
       "      <td>False</td>\n",
       "      <td>False</td>\n",
       "      <td>False</td>\n",
       "      <td>False</td>\n",
       "      <td>3</td>\n",
       "      <td>True</td>\n",
       "    </tr>\n",
       "  </tbody>\n",
       "</table>\n",
       "</div>"
      ],
      "text/plain": [
       "       Ranking  Rating  Number of Reviews    City  Price Range  \\\n",
       "37030   4253.0     3.5              598.0  London            2   \n",
       "25964    925.0     4.5               76.0  Lisbon            2   \n",
       "11817   2787.0     4.0               13.0  Vienna            2   \n",
       "34805    621.0     5.0              124.0    Oslo            2   \n",
       "46933  14705.0     0.0              124.0  London            2   \n",
       "\n",
       "                                           Cuisine Style  \\\n",
       "37030  ['British', 'Vegetarian Friendly', 'Gluten Fre...   \n",
       "25964  ['Mediterranean', 'European', 'Contemporary', ...   \n",
       "11817                                                NaN   \n",
       "34805                                        ['Italian']   \n",
       "46933                     ['Chinese', 'Asian', 'Korean']   \n",
       "\n",
       "                                                 Reviews Restaurant_id  \\\n",
       "37030  [['Business & Christmas in London', 'tasty hot...       id_4246   \n",
       "25964  [['Perfect!', 'Simply outstanding restaurant/w...        id_924   \n",
       "11817  [['Decent breakfast', 'Looks good from the out...       id_2785   \n",
       "34805                                           [[], []]        id_620   \n",
       "46933  [['the food is not worth the price they charg....       id_6933   \n",
       "\n",
       "          ID_TA  ForTrain  Reviews_txt_NaN  Price Range NAN  \\\n",
       "37030   5243090      True            False            False   \n",
       "25964  10699974      True            False            False   \n",
       "11817   2090817      True            False             True   \n",
       "34805   4476672      True             True             True   \n",
       "46933   5443126     False            False            False   \n",
       "\n",
       "       Cuisine Style NAN  Cuisines Count  Number of Reviews NAN  \n",
       "37030              False               3                  False  \n",
       "25964              False               7                  False  \n",
       "11817               True               1                  False  \n",
       "34805              False               1                   True  \n",
       "46933              False               3                   True  "
      ]
     },
     "execution_count": 38,
     "metadata": {},
     "output_type": "execute_result"
    }
   ],
   "source": [
    "df.sample(5)"
   ]
  },
  {
   "cell_type": "markdown",
   "metadata": {},
   "source": [
    "# EDA \n",
    "[Exploratory Data Analysis](https://ru.wikipedia.org/wiki/Разведочный_анализ_данных) - Анализ данных\n",
    "На этом этапе мы строим графики, ищем закономерности, аномалии, выбросы или связи между признаками.\n",
    "В общем цель этого этапа понять, что эти данные могут нам дать и как признаки могут быть взаимосвязаны между собой.\n",
    "Понимание изначальных признаков позволит сгенерировать новые, более сильные и, тем самым, сделать нашу модель лучше.\n",
    "![](https://miro.medium.com/max/2598/1*RXdMb7Uk6mGqWqPguHULaQ.png)"
   ]
  },
  {
   "cell_type": "markdown",
   "metadata": {},
   "source": [
    "### Посмотрим распределение признака"
   ]
  },
  {
   "cell_type": "code",
   "execution_count": 39,
   "metadata": {},
   "outputs": [
    {
     "data": {
      "image/png": "[encoded data removed]",
      "text/plain": [
       "<Figure size 720x360 with 1 Axes>"
      ]
     },
     "metadata": {
      "needs_background": "light"
     },
     "output_type": "display_data"
    }
   ],
   "source": [
    "plt.rcParams['figure.figsize'] = (10,5)\n",
    "df[df.ForTrain]['Ranking'].hist(bins=100);"
   ]
  },
  {
   "cell_type": "markdown",
   "metadata": {},
   "source": [
    "У нас много ресторанов, которые не дотягивают и до 2500 места в своем городе, а что там по городам?"
   ]
  },
  {
   "cell_type": "code",
   "execution_count": 40,
   "metadata": {},
   "outputs": [
    {
     "data": {
      "image/png": "[encoded data removed]",
      "text/plain": [
       "<Figure size 720x360 with 1 Axes>"
      ]
     },
     "metadata": {
      "needs_background": "light"
     },
     "output_type": "display_data"
    }
   ],
   "source": [
    "df[df.ForTrain]['City'].value_counts(ascending=True).plot(kind='barh');"
   ]
  },
  {
   "cell_type": "markdown",
   "metadata": {},
   "source": [
    "А кто-то говорил, что французы любят поесть=) Посмотрим, как изменится распределение в большом городе:"
   ]
  },
  {
   "cell_type": "code",
   "execution_count": 41,
   "metadata": {},
   "outputs": [
    {
     "data": {
      "image/png": "[encoded data removed]",
      "text/plain": [
       "<Figure size 720x360 with 1 Axes>"
      ]
     },
     "metadata": {
      "needs_background": "light"
     },
     "output_type": "display_data"
    }
   ],
   "source": [
    "df[df.ForTrain]['Ranking'][df[df.ForTrain]['City'] =='London'].hist(bins=100);"
   ]
  },
  {
   "cell_type": "code",
   "execution_count": 42,
   "metadata": {},
   "outputs": [
    {
     "data": {
      "image/png": "[encoded data removed]",
      "text/plain": [
       "<Figure size 720x360 with 1 Axes>"
      ]
     },
     "metadata": {
      "needs_background": "light"
     },
     "output_type": "display_data"
    }
   ],
   "source": [
    "# посмотрим на топ 10 городов\n",
    "for x in (df[df.ForTrain]['City'].value_counts())[0:10].index:\n",
    "    df[df.ForTrain]['Ranking'][df[df.ForTrain]['City'] == x].hist(bins=100)\n",
    "plt.show()"
   ]
  },
  {
   "cell_type": "markdown",
   "metadata": {},
   "source": [
    "Получается, что Ranking имеет нормальное распределение, просто в больших городах больше ресторанов, из-за мы этого имеем смещение.\n",
    "\n",
    ">Подумайте как из этого можно сделать признак для вашей модели. Я покажу вам пример, как визуализация помогает находить взаимосвязи. А далее действуйте без подсказок =) \n"
   ]
  },
  {
   "cell_type": "markdown",
   "metadata": {},
   "source": [
    "### Посмотрим распределение целевой переменной"
   ]
  },
  {
   "cell_type": "code",
   "execution_count": 43,
   "metadata": {},
   "outputs": [
    {
     "data": {
      "image/png": "[encoded data removed]",
      "text/plain": [
       "<Figure size 720x360 with 1 Axes>"
      ]
     },
     "metadata": {
      "needs_background": "light"
     },
     "output_type": "display_data"
    }
   ],
   "source": [
    "df[df.ForTrain]['Rating'].value_counts(ascending=True).plot(kind='barh');"
   ]
  },
  {
   "cell_type": "markdown",
   "metadata": {},
   "source": [
    "### Посмотрим распределение целевой переменной относительно признака"
   ]
  },
  {
   "cell_type": "code",
   "execution_count": 44,
   "metadata": {},
   "outputs": [
    {
     "data": {
      "image/png": "[encoded data removed]",
      "text/plain": [
       "<Figure size 720x360 with 1 Axes>"
      ]
     },
     "metadata": {
      "needs_background": "light"
     },
     "output_type": "display_data"
    }
   ],
   "source": [
    "df[df.ForTrain]['Ranking'][df[df.ForTrain]['Rating'] == 5].hist(bins=100);"
   ]
  },
  {
   "cell_type": "code",
   "execution_count": 45,
   "metadata": {},
   "outputs": [
    {
     "data": {
      "image/png": "[encoded data removed]",
      "text/plain": [
       "<Figure size 720x360 with 1 Axes>"
      ]
     },
     "metadata": {
      "needs_background": "light"
     },
     "output_type": "display_data"
    }
   ],
   "source": [
    "df[df.ForTrain]['Ranking'][df[df.ForTrain]['Rating'] < 4].hist(bins=100);"
   ]
  },
  {
   "cell_type": "markdown",
   "metadata": {},
   "source": [
    "### Корреляция имеющихся признаков - практически единственным признаком, коррелирующим с Rating является Ranking. Он, в свою очередь, уже имеет слабую корреляцию практически со всеми признаками "
   ]
  },
  {
   "cell_type": "code",
   "execution_count": 46,
   "metadata": {},
   "outputs": [
    {
     "data": {
      "image/png": "[encoded data removed]",
      "text/plain": [
       "<Figure size 1080x1080 with 2 Axes>"
      ]
     },
     "metadata": {
      "needs_background": "light"
     },
     "output_type": "display_data"
    }
   ],
   "source": [
    "plt.rcParams['figure.figsize'] = (15,15)\n",
    "sns.heatmap(df[df.ForTrain].drop(['ForTrain'], axis=1).corr(), square=True,\n",
    "            annot=True, fmt=\".1f\", linewidths=0.1, cmap=\"RdBu\");\n",
    "plt.tight_layout()"
   ]
  },
  {
   "cell_type": "markdown",
   "metadata": {},
   "source": [
    "**Поищем другие/дополнительные признаки, привлечем внешние данные **"
   ]
  },
  {
   "cell_type": "code",
   "execution_count": 47,
   "metadata": {},
   "outputs": [],
   "source": [
    "population_city_dict = {}\n",
    "country_city_dict = {}\n",
    "# Получаем словари популяции по городам, а так же ISO код страны по городу\n",
    "population_city_dict, country_city_dict = get_city_population_and_country()"
   ]
  },
  {
   "cell_type": "code",
   "execution_count": 48,
   "metadata": {},
   "outputs": [],
   "source": [
    "# Вычисляем страну для города в каждой строке\n",
    "df['Country'] = df[\"City\"].apply(lambda x: country_city_dict[x])"
   ]
  },
  {
   "cell_type": "code",
   "execution_count": 49,
   "metadata": {},
   "outputs": [],
   "source": [
    "# Вычисляем к-во ресторанов для города в каждой строке\n",
    "restorants_in_city = df.groupby('City')['Ranking'].count().to_dict()\n",
    "df['Restaurants Count'] = df['City'].map(restorants_in_city)"
   ]
  },
  {
   "cell_type": "code",
   "execution_count": 50,
   "metadata": {},
   "outputs": [],
   "source": [
    "# Вычисляем население (в тыс. чел) для города в каждой строке\n",
    "df['Population'] = df[\"City\"].map(population_city_dict)"
   ]
  },
  {
   "cell_type": "code",
   "execution_count": 51,
   "metadata": {},
   "outputs": [],
   "source": [
    "# Вычисляем к-во ресторанов на 1000 чел для города в каждой строке\n",
    "df['Restaurants for Population'] = df['Restaurants Count'] / (df['Population']*1000) #"
   ]
  },
  {
   "cell_type": "code",
   "execution_count": 52,
   "metadata": {},
   "outputs": [],
   "source": [
    "# Вычисляем является ли город столицей в каждой строке\n",
    "capital_city_dict = get_capital_city_dict()\n",
    "df['isCapital'] = df[\"City\"].map(capital_city_dict)"
   ]
  },
  {
   "cell_type": "code",
   "execution_count": 53,
   "metadata": {},
   "outputs": [],
   "source": [
    "# Получаем относительную позицию ресторана среди всех ресторанов города\n",
    "df['Weighed Rank'] = df.apply(lambda x: get_Weighed_Rank_RK(x), axis=1)\n",
    "\n",
    "CityMinMax = df.groupby('City')['Ranking'].agg([min,max])\n",
    "CityMinMax =CityMinMax.reset_index()\n",
    "df['Weighed Rank min max'] = df.apply(lambda x: get_Weighed_Rank(x), axis=1)"
   ]
  },
  {
   "cell_type": "code",
   "execution_count": 54,
   "metadata": {},
   "outputs": [],
   "source": [
    "# Флаги (1/0) isMostPopCusine - есть ли в ресторане самая популярная кухня; isMultyCusine - к-во кухонь в ресторане больше или столько же чем в среднем\n",
    "df['isMostPopCusine'] = df['Cuisine Style'].apply(lambda x: 1 if most_popular_cusine in x else 0 )\n",
    "df['isMultyCusine'] = df['Cuisines Count'].apply(lambda x: 1 if  x >= average_cousines_count else 0 )"
   ]
  },
  {
   "cell_type": "code",
   "execution_count": 55,
   "metadata": {},
   "outputs": [],
   "source": [
    "# RevTimeDelta - время между review в днях\n",
    "\n",
    "df['RevTimeDelta'] = df['Reviews'].apply(rev_time_delta)"
   ]
  },
  {
   "cell_type": "code",
   "execution_count": 56,
   "metadata": {},
   "outputs": [],
   "source": [
    "# NewestReviewDate - время, прошедшее со момента последнего review до '22/02/2020'\n",
    "df['NewestReviewDate'] = df['Reviews'].apply(lambda x: get_reviews(x)['reviews_dt'])\n",
    "df['NewestReviewDate'] = df['NewestReviewDate'].apply(lambda x: sorted(x,reverse=True)[0] if len(x)!=0 else pd.NaT)\n",
    "df['NewestReviewDate'] = df['NewestReviewDate'].fillna(dt.date(1970,1,1))\n",
    "df['NewestReviewDate'] = df['NewestReviewDate'].apply(lambda x: (CURRENT_DATE.date()-x).total_seconds()//86400)"
   ]
  },
  {
   "cell_type": "code",
   "execution_count": 57,
   "metadata": {},
   "outputs": [],
   "source": [
    "df['NewestReviewSeason'] = df['Reviews'].apply(lambda x: get_reviews(x)['reviews_dt'])\n",
    "df['NewestReviewSeason'] = df['NewestReviewSeason'].apply(lambda x: sorted(x,reverse=True)[0] if len(x)!=0 else pd.NaT)\n",
    "#df['NewestReviewSeason'] = df['NewestReviewSeason'].fillna(dt.date(2020,2,22))\n",
    "df['NewestReviewSeason'] = df['NewestReviewSeason'].apply(lambda x: get_season(x))"
   ]
  },
  {
   "cell_type": "code",
   "execution_count": 58,
   "metadata": {},
   "outputs": [],
   "source": [
    "#  'TxtReviewsCount' - к-во отзывов, не сильно улучшает результат, но пусть будут\n",
    "df['TxtReviewsCount'] = df['Reviews'].apply(lambda x: len(get_reviews(x)['reviews_txt']))"
   ]
  },
  {
   "cell_type": "code",
   "execution_count": 59,
   "metadata": {},
   "outputs": [],
   "source": [
    "# К-во позитивных слов в представленных отзывах\n",
    "df['PositiveWords'] = df['Reviews'].apply(lambda x: count_positive_words_proportion(x))"
   ]
  },
  {
   "cell_type": "code",
   "execution_count": 60,
   "metadata": {},
   "outputs": [],
   "source": [
    "# Список уникальных позитивных слов в представленных отзывах\n",
    "df['PositiveWordsList'] = df['Reviews'].apply(lambda x: list_positive_words(x))"
   ]
  },
  {
   "cell_type": "code",
   "execution_count": 61,
   "metadata": {},
   "outputs": [],
   "source": [
    "cusines_in_city={}\n",
    "cusines_count_in_city={}\n",
    "for city_name, group in df.groupby('City'):\n",
    "\n",
    "    cusines = group['Cuisine Style'].apply(get_cuisines)\n",
    "   \n",
    "    cusines_list = list(itertools.chain.from_iterable(cusines))\n",
    "    #cusines_list = [x for x in cusines_list if x != 'Vegetarian Friendly'] # удаляем 'Vegetarian Friendly' - она \"забивает\" все результаты\n",
    "    cusines_in_city[city_name] = Counter(cusines_list)\n",
    "\n",
    "for city_name in cusines_in_city.keys():\n",
    "    cusines_count_in_city[city_name] = len(cusines_in_city[city_name])\n",
    "\n",
    "df['Cusines Count In City'] = df['City'].map(cusines_count_in_city)"
   ]
  },
  {
   "cell_type": "code",
   "execution_count": 62,
   "metadata": {},
   "outputs": [],
   "source": [
    "df['Weighed Cuisines Count'] = df['Cuisines Count'] / df['Cusines Count In City']  "
   ]
  },
  {
   "cell_type": "code",
   "execution_count": 63,
   "metadata": {},
   "outputs": [],
   "source": [
    "df['Most Common Cusine in City'] = df['City'].apply(lambda x: cusines_in_city[x].most_common(1)[0][0])"
   ]
  },
  {
   "cell_type": "code",
   "execution_count": 64,
   "metadata": {},
   "outputs": [],
   "source": [
    "df['Cuisine Style'] = df.apply(lambda x: x['Cuisine Style'] if x['Cuisine Style NAN'] ==False else [x['Most Common Cusine in City']], axis=1)"
   ]
  },
  {
   "cell_type": "code",
   "execution_count": 65,
   "metadata": {},
   "outputs": [],
   "source": [
    "# зависимость места ресторана в городе от населения\n",
    "df['Weighed Rank by Population'] = df['Weighed Rank']  / df['Population'] "
   ]
  },
  {
   "cell_type": "code",
   "execution_count": 66,
   "metadata": {},
   "outputs": [],
   "source": [
    "df['PositiveWords in Reviews'] = df['PositiveWords'] / df['Number of Reviews']"
   ]
  },
  {
   "cell_type": "code",
   "execution_count": 67,
   "metadata": {},
   "outputs": [],
   "source": [
    "# Как часто в городе оставляют отзывы\n",
    "df['NRP'] = df['Number of Reviews'] / df['Population']"
   ]
  },
  {
   "cell_type": "code",
   "execution_count": 68,
   "metadata": {},
   "outputs": [],
   "source": [
    "# Ранг ресторана с учетом частоты отзывов в городе\n",
    "df['WRR'] =  df['Weighed Rank']  *  df['NRP'] "
   ]
  },
  {
   "cell_type": "code",
   "execution_count": 69,
   "metadata": {},
   "outputs": [],
   "source": [
    "df['Relative Price Range'] = df['Price Range'] / df['Weighed Rank']"
   ]
  },
  {
   "cell_type": "code",
   "execution_count": 70,
   "metadata": {},
   "outputs": [],
   "source": [
    "# Средняя цена в городе\n",
    "price_in_city_dict = df.groupby('City')['Price Range'].mean().to_dict()\n",
    "df['Price in City'] = df['City'].map(price_in_city_dict)"
   ]
  },
  {
   "cell_type": "code",
   "execution_count": 71,
   "metadata": {},
   "outputs": [],
   "source": [
    "# Сокращаем список кухонь для анализа до N - основных, остальные Other - это почти всегда дает улучшение предсказания\n",
    "N=30 #!!!\n",
    "\n",
    "s = df['Cuisine Style'].apply(lambda x: get_cuisines(x))\n",
    "slist =[]\n",
    "for x in s:\n",
    "    slist.extend(x)\n",
    "topNcusines = set(pd.Series(slist).value_counts()[:N].index)  \n",
    "df['Cuisine top N'] =df['Cuisine Style'].apply(lambda x: is_cuisine_top_N(x))"
   ]
  },
  {
   "cell_type": "code",
   "execution_count": 72,
   "metadata": {},
   "outputs": [],
   "source": [
    "# Сетевой ID ресторана (похоже, что это ID франшизы, если повторяется более 1-го раза - isNetworkRestorant)\n",
    "import warnings; warnings.simplefilter('ignore')\n",
    "df['Restaurant_net_id'] = df['Restaurant_id'].apply(lambda x: x.split('_')[1])\n",
    "NetworkRestorants = df[df['Restaurant_net_id'].isin(df['Restaurant_net_id'].value_counts()[df['Restaurant_net_id'].value_counts()>2].index)]\n",
    "NetworkRestorants['isNetworkRestorant'] = True\n",
    "df['isNetworkRestorant'] = NetworkRestorants['isNetworkRestorant']\n",
    "df['isNetworkRestorant'] = df['isNetworkRestorant'].fillna(False)"
   ]
  },
  {
   "cell_type": "code",
   "execution_count": 73,
   "metadata": {},
   "outputs": [],
   "source": [
    "# Помечаем, входит ли город в N-top городов, если ДА, то пишем его назавние, если НЕТ -Other\n",
    "top_Cityes = df['City'].value_counts()[0:10].index.to_list()\n",
    "df['TopCityes'] = df.City.apply(lambda x: x if x in top_Cityes else 'Other_City')"
   ]
  },
  {
   "cell_type": "markdown",
   "metadata": {},
   "source": [
    "---\n",
    "# Устранили NaN и сгенерили новые признаки(пока без dummies), посмотрим какие из них подходят "
   ]
  },
  {
   "cell_type": "code",
   "execution_count": 74,
   "metadata": {},
   "outputs": [
    {
     "data": {
      "image/png": "[encoded data removed]",
      "text/plain": [
       "<Figure size 1440x1440 with 20 Axes>"
      ]
     },
     "metadata": {
      "needs_background": "light"
     },
     "output_type": "display_data"
    }
   ],
   "source": [
    "df[['Ranking', 'Rating', 'Number of Reviews', 'City', 'Price Range',\n",
    "        'Restaurant_id',  'Country',\n",
    "       'Restaurants Count', 'Population', 'Restaurants for Population',\n",
    "       'Weighed Rank',  'Cuisines Count',\n",
    "       'RevTimeDelta', 'NewestReviewDate',\n",
    "       'TxtReviewsCount', 'Weighed Rank by Population', 'PositiveWords','PositiveWords in Reviews', 'WRR', 'Price in City', 'Restaurant_net_id']].hist(figsize=(20, 20), bins=100);\n",
    "plt.tight_layout()"
   ]
  },
  {
   "cell_type": "markdown",
   "metadata": {},
   "source": [
    "### Собираем dummies"
   ]
  },
  {
   "cell_type": "code",
   "execution_count": 75,
   "metadata": {},
   "outputs": [],
   "source": [
    "# Собираем Dummies: city, price_range, country_range, Cuisine top N\n",
    "\n",
    "dff = pd.get_dummies(df['Cuisine top N'].apply(pd.Series).stack()).sum(level=0)\n",
    "df_mcc = pd.get_dummies(df['Most Common Cusine in City'], prefix = 'MCC')\n",
    "df_city = pd.get_dummies(df['City'], prefix = 'City Range')\n",
    "#df_city = pd.get_dummies(df['TopCityes'], prefix = 'City', dummy_na=True)\n",
    "df_price_range = pd.get_dummies(df['Price Range'], prefix = 'Price Range') \n",
    "df_country_range = pd.get_dummies(df['Country'], prefix = 'Country Range',) \n",
    "#df_season_range = pd.get_dummies(df['NewestReviewSeason'], prefix = 'Season',)\n",
    "\n",
    "df['PositiveWordsList'] = df['PositiveWordsList'].fillna('NAN')\n",
    "df_positive_words_range = pd.get_dummies(df['PositiveWordsList'].apply(pd.Series).stack(), dummy_na=False).sum(level=0)\n",
    "\n",
    "\n",
    "df1 = pd.concat([df,dff], axis=1)\n",
    "df1 = pd.concat([df1,df_city], axis=1)\n",
    "df1 = pd.concat([df1,df_price_range], axis=1)\n",
    "df1 = pd.concat([df1,df_country_range], axis=1)\n",
    "df1 = pd.concat([df1,df_mcc], axis=1)\n",
    "df1 = pd.concat([df1,df_positive_words_range], axis=1)\n",
    "\n",
    "#df1 = pd.concat([df1,df_season_range], axis=1)\n",
    "\n",
    "#df1 = pd.concat([df1,df_restid_range], axis=1)\n",
    "\n",
    "cols_cuisine_style = dff.columns\n",
    "cols_city = df_city.columns\n",
    "cols_price_range =  df_price_range.columns\n",
    "cols_country_range =  df_country_range.columns\n",
    "cols_mcc =  df_mcc.columns\n",
    "cols_positive_words = df_positive_words_range.columns\n",
    "#cols_season = df_season_range.columns\n",
    "#cols_restid_range =  df_restid_range.columns"
   ]
  },
  {
   "cell_type": "code",
   "execution_count": 76,
   "metadata": {},
   "outputs": [],
   "source": [
    "# Собираем признаки И Разбиваем датафрейм на части, необходимые для обучения и тестирования модели\n",
    "columns = [ 'isMultyCusine', 'Price Range NAN', 'Cuisine Style NAN', 'Number of Reviews NAN', 'Number of Reviews', 'Restaurants Count', 'Cuisines Count', 'RevTimeDelta',        'NewestReviewDate', 'PositiveWords',  'Weighed Rank', 'Ranking', 'Weighed Rank by Population',  'Cusines Count In City', 'WRR', 'ID_TA', 'Weighed Rank min max', 'Price in City',  'Cuisine Style NAN', 'isCapital', 'Population', 'Restaurants for Population',  ]\n",
    "\n",
    "#columns = [ 'isMultyCusine', 'Price Range NAN', 'Cuisine Style NAN', 'Number of Reviews NAN', 'Number of Reviews', 'Restaurants Count', 'Cuisines Count', 'RevTimeDelta',        'NewestReviewDate', 'PositiveWords',  'Weighed Rank', 'Ranking', 'Weighed Rank by Population',  'Cusines Count In City', 'WRR', 'ID_TA', 'Weighed Rank min max', 'Price in City', 'Weighed Rank by Population',  ]\n",
    "\n",
    "columns.extend(cols_price_range.tolist())\n",
    "columns.extend(cols_cuisine_style.tolist())\n",
    "columns.extend(cols_city.tolist())\n",
    "columns.extend(cols_country_range.tolist())\n",
    "\n",
    "columns.extend(cols_positive_words.tolist())\n",
    "\n",
    "#Разбиваем датафрейм на части, необходимые для обучения и тестирования модели\n",
    "X = df1[df1.ForTrain][columns]\n",
    "\n",
    "y = df1[df1.ForTrain]['Rating']"
   ]
  },
  {
   "cell_type": "code",
   "execution_count": 77,
   "metadata": {},
   "outputs": [],
   "source": [
    "# Загружаем специальный инструмент для разбивки:\n",
    "from sklearn.model_selection import train_test_split"
   ]
  },
  {
   "cell_type": "code",
   "execution_count": 78,
   "metadata": {},
   "outputs": [],
   "source": [
    "# Наборы данных с меткой \"train\" будут использоваться для обучения модели, \"test\" - для тестирования.\n",
    "# Для тестирования мы будем использовать 20% от исходного датасета.\n",
    "X_train, X_test, y_train, y_test = train_test_split(X, y, test_size=0.2, random_state=RANDOM_SEED)"
   ]
  },
  {
   "cell_type": "markdown",
   "metadata": {},
   "source": [
    "# Model \n"
   ]
  },
  {
   "cell_type": "code",
   "execution_count": 79,
   "metadata": {},
   "outputs": [],
   "source": [
    "# Импортируем необходимые библиотеки:\n",
    "from sklearn.ensemble import RandomForestRegressor # инструмент для создания и обучения модели\n",
    "from sklearn import metrics # инструменты для оценки точности модели"
   ]
  },
  {
   "cell_type": "code",
   "execution_count": 80,
   "metadata": {},
   "outputs": [],
   "source": [
    "# Создаём модель (НАСТРОЙКИ НЕ ТРОГАЕМ)\n",
    "regr = RandomForestRegressor(n_estimators=100, verbose=1, n_jobs=-1, random_state=RANDOM_SEED)"
   ]
  },
  {
   "cell_type": "code",
   "execution_count": 81,
   "metadata": {},
   "outputs": [
    {
     "name": "stderr",
     "output_type": "stream",
     "text": [
      "[Parallel(n_jobs=-1)]: Using backend ThreadingBackend with 4 concurrent workers.\n",
      "[Parallel(n_jobs=-1)]: Done  42 tasks      | elapsed:   19.7s\n",
      "[Parallel(n_jobs=-1)]: Done 100 out of 100 | elapsed:   45.2s finished\n",
      "[Parallel(n_jobs=4)]: Using backend ThreadingBackend with 4 concurrent workers.\n",
      "[Parallel(n_jobs=4)]: Done  42 tasks      | elapsed:    0.0s\n",
      "[Parallel(n_jobs=4)]: Done 100 out of 100 | elapsed:    0.1s finished\n"
     ]
    }
   ],
   "source": [
    "# Обучаем модель на тестовом наборе данных\n",
    "regr.fit(X_train, y_train)\n",
    "\n",
    "# Используем обученную модель для предсказания рейтинга ресторанов в тестовой выборке.\n",
    "# Предсказанные значения записываем в переменную y_pred\n",
    "y_pred = regr.predict(X_test)"
   ]
  },
  {
   "cell_type": "code",
   "execution_count": 82,
   "metadata": {},
   "outputs": [],
   "source": [
    "y_pred_old = y_pred.copy()\n",
    "y_pred = round_of_rating(y_pred) "
   ]
  },
  {
   "cell_type": "code",
   "execution_count": 83,
   "metadata": {},
   "outputs": [
    {
     "name": "stdout",
     "output_type": "stream",
     "text": [
      "MAE: 0.1594375 0.191465625\n"
     ]
    }
   ],
   "source": [
    "# Сравниваем предсказанные значения (y_pred) с реальными (y_test), и смотрим насколько они в среднем отличаются\n",
    "# Метрика называется Mean Absolute Error (MAE) и показывает среднее отклонение предсказанных значений от фактических.\n",
    "print('MAE:', metrics.mean_absolute_error(y_test, y_pred),  metrics.mean_absolute_error(y_test, y_pred_old) )"
   ]
  },
  {
   "cell_type": "code",
   "execution_count": 84,
   "metadata": {},
   "outputs": [
    {
     "name": "stdout",
     "output_type": "stream",
     "text": [
      "0.777777587551436\n"
     ]
    }
   ],
   "source": [
    "#Вычисляем коэффициент детерминации:\n",
    "R_2 = metrics.r2_score(y_test, y_pred)\n",
    "print(R_2)"
   ]
  },
  {
   "cell_type": "code",
   "execution_count": 85,
   "metadata": {},
   "outputs": [
    {
     "data": {
      "image/png": "[encoded data removed]",
      "text/plain": [
       "<Figure size 720x720 with 1 Axes>"
      ]
     },
     "metadata": {
      "needs_background": "light"
     },
     "output_type": "display_data"
    }
   ],
   "source": [
    "# в RandomForestRegressor есть возможность вывести самые важные признаки для модели\n",
    "plt.rcParams['figure.figsize'] = (10,10)\n",
    "feat_importances = pd.Series(regr.feature_importances_, index=X.columns)\n",
    "feat_importances.nlargest(30).plot(kind='barh');"
   ]
  },
  {
   "cell_type": "markdown",
   "metadata": {},
   "source": [
    "# Submission\n",
    "Если все устраевает - готовим Submission на кагл"
   ]
  },
  {
   "cell_type": "code",
   "execution_count": 86,
   "metadata": {},
   "outputs": [
    {
     "name": "stderr",
     "output_type": "stream",
     "text": [
      "[Parallel(n_jobs=4)]: Using backend ThreadingBackend with 4 concurrent workers.\n",
      "[Parallel(n_jobs=4)]: Done  42 tasks      | elapsed:    0.0s\n",
      "[Parallel(n_jobs=4)]: Done 100 out of 100 | elapsed:    0.1s finished\n"
     ]
    }
   ],
   "source": [
    "# Предсказываем рейтинги на датасете для предсказаний (ForTrain == False)\n",
    "X_submission = df1[df1.ForTrain == False][columns]\n",
    "y_pred_submission = round_of_rating(regr.predict(X_submission))"
   ]
  },
  {
   "cell_type": "code",
   "execution_count": 87,
   "metadata": {},
   "outputs": [
    {
     "data": {
      "text/html": [
       "<div>\n",
       "<style scoped>\n",
       "    .dataframe tbody tr th:only-of-type {\n",
       "        vertical-align: middle;\n",
       "    }\n",
       "\n",
       "    .dataframe tbody tr th {\n",
       "        vertical-align: top;\n",
       "    }\n",
       "\n",
       "    .dataframe thead th {\n",
       "        text-align: right;\n",
       "    }\n",
       "</style>\n",
       "<table border=\"1\" class=\"dataframe\">\n",
       "  <thead>\n",
       "    <tr style=\"text-align: right;\">\n",
       "      <th></th>\n",
       "      <th>Restaurant_id</th>\n",
       "      <th>Rating</th>\n",
       "    </tr>\n",
       "  </thead>\n",
       "  <tbody>\n",
       "    <tr>\n",
       "      <th>40000</th>\n",
       "      <td>id_0</td>\n",
       "      <td>3.0</td>\n",
       "    </tr>\n",
       "    <tr>\n",
       "      <th>40001</th>\n",
       "      <td>id_1</td>\n",
       "      <td>4.5</td>\n",
       "    </tr>\n",
       "    <tr>\n",
       "      <th>40002</th>\n",
       "      <td>id_2</td>\n",
       "      <td>4.5</td>\n",
       "    </tr>\n",
       "    <tr>\n",
       "      <th>40003</th>\n",
       "      <td>id_3</td>\n",
       "      <td>4.5</td>\n",
       "    </tr>\n",
       "    <tr>\n",
       "      <th>40004</th>\n",
       "      <td>id_4</td>\n",
       "      <td>4.5</td>\n",
       "    </tr>\n",
       "    <tr>\n",
       "      <th>40005</th>\n",
       "      <td>id_5</td>\n",
       "      <td>4.5</td>\n",
       "    </tr>\n",
       "    <tr>\n",
       "      <th>40006</th>\n",
       "      <td>id_6</td>\n",
       "      <td>1.5</td>\n",
       "    </tr>\n",
       "    <tr>\n",
       "      <th>40007</th>\n",
       "      <td>id_7</td>\n",
       "      <td>3.0</td>\n",
       "    </tr>\n",
       "    <tr>\n",
       "      <th>40008</th>\n",
       "      <td>id_8</td>\n",
       "      <td>4.0</td>\n",
       "    </tr>\n",
       "    <tr>\n",
       "      <th>40009</th>\n",
       "      <td>id_9</td>\n",
       "      <td>4.5</td>\n",
       "    </tr>\n",
       "    <tr>\n",
       "      <th>40010</th>\n",
       "      <td>id_10</td>\n",
       "      <td>4.0</td>\n",
       "    </tr>\n",
       "    <tr>\n",
       "      <th>40011</th>\n",
       "      <td>id_11</td>\n",
       "      <td>4.0</td>\n",
       "    </tr>\n",
       "    <tr>\n",
       "      <th>40012</th>\n",
       "      <td>id_12</td>\n",
       "      <td>4.0</td>\n",
       "    </tr>\n",
       "    <tr>\n",
       "      <th>40013</th>\n",
       "      <td>id_13</td>\n",
       "      <td>4.0</td>\n",
       "    </tr>\n",
       "    <tr>\n",
       "      <th>40014</th>\n",
       "      <td>id_14</td>\n",
       "      <td>4.0</td>\n",
       "    </tr>\n",
       "  </tbody>\n",
       "</table>\n",
       "</div>"
      ],
      "text/plain": [
       "      Restaurant_id  Rating\n",
       "40000          id_0     3.0\n",
       "40001          id_1     4.5\n",
       "40002          id_2     4.5\n",
       "40003          id_3     4.5\n",
       "40004          id_4     4.5\n",
       "40005          id_5     4.5\n",
       "40006          id_6     1.5\n",
       "40007          id_7     3.0\n",
       "40008          id_8     4.0\n",
       "40009          id_9     4.5\n",
       "40010         id_10     4.0\n",
       "40011         id_11     4.0\n",
       "40012         id_12     4.0\n",
       "40013         id_13     4.0\n",
       "40014         id_14     4.0"
      ]
     },
     "execution_count": 87,
     "metadata": {},
     "output_type": "execute_result"
    }
   ],
   "source": [
    "# Формируем датасет с предсказаниями Restaurant_id -- Rating\n",
    "submission_df = pd.DataFrame()\n",
    "submission_df['Restaurant_id'] = df1[df1.ForTrain == False]['Restaurant_id']\n",
    "submission_df['Rating'] = y_pred_submission\n",
    "submission_df.head(15)"
   ]
  },
  {
   "cell_type": "markdown",
   "metadata": {},
   "source": [
    "-----------------\n",
    "# Проверяем годность предсказаний  \n",
    "Распределения достаточно похожи - ОК!"
   ]
  },
  {
   "cell_type": "code",
   "execution_count": 88,
   "metadata": {},
   "outputs": [
    {
     "name": "stdout",
     "output_type": "stream",
     "text": [
      "Тренировочный датасет\n"
     ]
    },
    {
     "data": {
      "text/plain": [
       "4.0    13692\n",
       "4.5    10929\n",
       "3.5     6824\n",
       "5.0     3879\n",
       "3.0     2955\n",
       "2.5      915\n",
       "2.0      466\n",
       "1.0      201\n",
       "1.5      139\n",
       "Name: Rating, dtype: int64"
      ]
     },
     "execution_count": 88,
     "metadata": {},
     "output_type": "execute_result"
    }
   ],
   "source": [
    "print('Тренировочный датасет')\n",
    "df[df.ForTrain].Rating.value_counts()"
   ]
  },
  {
   "cell_type": "code",
   "execution_count": 89,
   "metadata": {},
   "outputs": [
    {
     "name": "stdout",
     "output_type": "stream",
     "text": [
      "Предсказания масштабированные в 4 раза\n"
     ]
    },
    {
     "data": {
      "text/plain": [
       "4.0    15076\n",
       "4.5    11024\n",
       "3.5     6688\n",
       "3.0     2912\n",
       "5.0     2896\n",
       "2.5      760\n",
       "2.0      352\n",
       "1.0      192\n",
       "1.5      100\n",
       "Name: Rating, dtype: int64"
      ]
     },
     "execution_count": 89,
     "metadata": {},
     "output_type": "execute_result"
    }
   ],
   "source": [
    "print('Предсказания масштабированные в 4 раза')\n",
    "submission_df.Rating.value_counts()*4"
   ]
  },
  {
   "cell_type": "code",
   "execution_count": 90,
   "metadata": {},
   "outputs": [],
   "source": [
    "# Сохраняем предсказания\n",
    "submission_df.to_csv('submission.csv', index=False)"
   ]
  }
 ],
 "metadata": {
  "kernelspec": {
   "display_name": "Python 3",
   "language": "python",
   "name": "python3"
  },
  "language_info": {
   "codemirror_mode": {
    "name": "ipython",
    "version": 3
   },
   "file_extension": ".py",
   "mimetype": "text/x-python",
   "name": "python",
   "nbconvert_exporter": "python",
   "pygments_lexer": "ipython3",
   "version": "3.7.7"
  }
 },
 "nbformat": 4,
 "nbformat_minor": 4
}
