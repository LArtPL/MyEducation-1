{
 "cells": [
  {
   "cell_type": "code",
   "execution_count": 1,
   "metadata": {},
   "outputs": [],
   "source": [
    "import tensorflow.keras as keras\n",
    "import tensorflow.keras.models as M\n",
    "import tensorflow.keras.layers as L\n",
    "import tensorflow.keras.backend as K\n",
    "import tensorflow.keras.callbacks as C\n",
    "\n",
    "import efficientnet.tfkeras as efn\n",
    "\n",
    "from tensorflow.keras.preprocessing import image\n",
    "from tensorflow.keras.preprocessing.image import ImageDataGenerator\n",
    "from ImageDataAugmentor.image_data_augmentor import *\n",
    "from tensorflow.keras.callbacks import LearningRateScheduler, ModelCheckpoint, EarlyStopping\n",
    "\n",
    "import albumentations\n",
    "import PIL\n",
    "\n",
    "import numpy as np\n",
    "import os\n",
    "\n",
    "import matplotlib.pyplot as plt\n",
    "%matplotlib inline"
   ]
  },
  {
   "cell_type": "code",
   "execution_count": null,
   "metadata": {},
   "outputs": [],
   "source": []
  },
  {
   "cell_type": "code",
   "execution_count": 2,
   "metadata": {},
   "outputs": [],
   "source": [
    "def plot_history(history):\n",
    "    plt.figure(figsize=(10,5))\n",
    "    #plt.style.use('dark_background')\n",
    "    acc = history.history['acc']\n",
    "    val_acc = history.history['val_acc']\n",
    "    loss = history.history['loss']\n",
    "    val_loss = history.history['val_loss']\n",
    "\n",
    "    epochs = range(len(acc))\n",
    "\n",
    "    plt.plot(epochs, acc, 'b', label='Training acc')\n",
    "    plt.plot(epochs, val_acc, 'r', label='Validation acc')\n",
    "    plt.title('Training and validation accuracy')\n",
    "    plt.legend()\n",
    "\n",
    "    plt.figure()\n",
    "    #plt.figure(figsize=(10,5))\n",
    "    plt.plot(epochs, loss, 'b', label='Training loss')\n",
    "    plt.plot(epochs, val_loss, 'r', label='Validation loss')\n",
    "    plt.title('Training and validation loss')\n",
    "    plt.legend()\n",
    "\n",
    "    plt.show()"
   ]
  },
  {
   "cell_type": "code",
   "execution_count": null,
   "metadata": {},
   "outputs": [],
   "source": []
  },
  {
   "cell_type": "code",
   "execution_count": 3,
   "metadata": {},
   "outputs": [],
   "source": [
    "EPOCHS               = 10\n",
    "BATCH_SIZE           = 32\n",
    "LR                   = 1e-3\n",
    "VAL_SPLIT            = 0.1\n",
    "\n",
    "CLASS_NUM            = 10\n",
    "IMG_SIZE             = 128\n",
    "IMG_CHANNELS         = 3\n",
    "input_shape          = (IMG_SIZE - 10, IMG_SIZE - 10, IMG_CHANNELS)\n",
    "\n",
    "PATH = './data'\n",
    "\n",
    "RANDOM_SEED = 42\n",
    "np.random.seed(RANDOM_SEED)  "
   ]
  },
  {
   "cell_type": "code",
   "execution_count": null,
   "metadata": {},
   "outputs": [],
   "source": []
  },
  {
   "cell_type": "code",
   "execution_count": 4,
   "metadata": {},
   "outputs": [],
   "source": [
    "AUGMENTATIONS = albumentations.Compose([\n",
    "    albumentations.Resize(height=IMG_SIZE, width=IMG_SIZE),\n",
    "    albumentations.HorizontalFlip(p=0.5),\n",
    "    albumentations.Rotate(limit=10, interpolation=1, border_mode=4, value=None, mask_value=None, always_apply=False, p=0.5),\n",
    "    albumentations.CenterCrop(height=IMG_SIZE-10, width=IMG_SIZE-10),\n",
    "    albumentations.RandomBrightnessContrast(brightness_limit=0.05, contrast_limit=0.05),\n",
    "    albumentations.GaussianBlur(p=0.1),\n",
    "    albumentations.HueSaturationValue(p=0.5),\n",
    "    albumentations.RGBShift(p=0.5),\n",
    "    albumentations.FancyPCA(alpha=0.1),\n",
    "])\n",
    "\n",
    "train_datagen = ImageDataAugmentor(\n",
    "        rescale=1./255,\n",
    "        augment = AUGMENTATIONS,\n",
    "        validation_split=VAL_SPLIT,\n",
    "        )\n",
    "        \n",
    "test_datagen = ImageDataAugmentor(rescale=1./255,\n",
    "                                 augment = AUGMENTATIONS,\n",
    "                                 )"
   ]
  },
  {
   "cell_type": "code",
   "execution_count": null,
   "metadata": {},
   "outputs": [],
   "source": []
  },
  {
   "cell_type": "code",
   "execution_count": null,
   "metadata": {},
   "outputs": [],
   "source": []
  },
  {
   "cell_type": "code",
   "execution_count": 5,
   "metadata": {},
   "outputs": [
    {
     "name": "stderr",
     "output_type": "stream",
     "text": [
      "/home/nkotelevskii/anaconda3/envs/condatf/lib/python3.7/site-packages/ImageDataAugmentor/image_data_augmentor.py:332: UserWarning: Passing `seed` in `.flow_from_directory` has been been removed: pass  `seed` as parameter in `ImageDataAugmentor(..., seed=...)` instead\n",
      "  warnings.warn('Passing `seed` in `.flow_from_directory` has been been removed: pass  `seed` '\n"
     ]
    },
    {
     "name": "stdout",
     "output_type": "stream",
     "text": [
      "Found 14010 images belonging to 10 classes.\n",
      "Found 1552 images belonging to 10 classes.\n"
     ]
    }
   ],
   "source": [
    "# Завернем наши данные в генератор:\n",
    "train_generator = train_datagen.flow_from_directory(\n",
    "    os.path.join(PATH, 'train/'),      # директория где расположены папки с картинками \n",
    "    target_size=(IMG_SIZE-10, IMG_SIZE-10),\n",
    "    batch_size=BATCH_SIZE,\n",
    "    class_mode='categorical',\n",
    "    shuffle=True, seed=RANDOM_SEED,\n",
    "    subset='training') # set as training data\n",
    "\n",
    "test_generator = train_datagen.flow_from_directory(\n",
    "    os.path.join(PATH, 'train/'),\n",
    "    target_size=(IMG_SIZE-10, IMG_SIZE-10),\n",
    "    batch_size=BATCH_SIZE,\n",
    "    class_mode='categorical',\n",
    "    shuffle=True, seed=RANDOM_SEED,\n",
    "    subset='validation') # set as validation data"
   ]
  },
  {
   "cell_type": "code",
   "execution_count": null,
   "metadata": {},
   "outputs": [],
   "source": []
  },
  {
   "cell_type": "code",
   "execution_count": null,
   "metadata": {},
   "outputs": [],
   "source": []
  },
  {
   "cell_type": "code",
   "execution_count": 6,
   "metadata": {},
   "outputs": [
    {
     "name": "stdout",
     "output_type": "stream",
     "text": [
      "WARNING:tensorflow:From /home/nkotelevskii/anaconda3/envs/condatf/lib/python3.7/site-packages/tensorflow_core/python/util/deprecation.py:507: calling VarianceScaling.__init__ (from tensorflow.python.ops.init_ops) with distribution=normal is deprecated and will be removed in a future version.\n",
      "Instructions for updating:\n",
      "`normal` is a deprecated alias for `truncated_normal`\n",
      "WARNING:tensorflow:From /home/nkotelevskii/anaconda3/envs/condatf/lib/python3.7/site-packages/tensorflow_core/python/ops/resource_variable_ops.py:1630: calling BaseResourceVariable.__init__ (from tensorflow.python.ops.resource_variable_ops) with constraint is deprecated and will be removed in a future version.\n",
      "Instructions for updating:\n",
      "If using Keras pass *_constraint arguments to layers.\n",
      "WARNING:tensorflow:Large dropout rate: 0.5125 (>0.5). In TensorFlow 2.x, dropout() uses dropout rate instead of keep_prob. Please ensure that this is intended.\n",
      "WARNING:tensorflow:Large dropout rate: 0.525 (>0.5). In TensorFlow 2.x, dropout() uses dropout rate instead of keep_prob. Please ensure that this is intended.\n",
      "WARNING:tensorflow:Large dropout rate: 0.5375 (>0.5). In TensorFlow 2.x, dropout() uses dropout rate instead of keep_prob. Please ensure that this is intended.\n",
      "WARNING:tensorflow:Large dropout rate: 0.55 (>0.5). In TensorFlow 2.x, dropout() uses dropout rate instead of keep_prob. Please ensure that this is intended.\n",
      "WARNING:tensorflow:Large dropout rate: 0.5625 (>0.5). In TensorFlow 2.x, dropout() uses dropout rate instead of keep_prob. Please ensure that this is intended.\n"
     ]
    }
   ],
   "source": [
    "base_model = efn.EfficientNetB7(weights='imagenet', include_top=False, input_shape=input_shape)"
   ]
  },
  {
   "cell_type": "code",
   "execution_count": 7,
   "metadata": {},
   "outputs": [
    {
     "name": "stdout",
     "output_type": "stream",
     "text": [
      "806\n"
     ]
    }
   ],
   "source": [
    "print(len(base_model.layers))"
   ]
  },
  {
   "cell_type": "code",
   "execution_count": null,
   "metadata": {},
   "outputs": [],
   "source": []
  },
  {
   "cell_type": "code",
   "execution_count": null,
   "metadata": {},
   "outputs": [],
   "source": []
  },
  {
   "cell_type": "markdown",
   "metadata": {},
   "source": [
    "# Сперва сделаем Transfer Learning"
   ]
  },
  {
   "cell_type": "code",
   "execution_count": 8,
   "metadata": {},
   "outputs": [],
   "source": [
    "base_model.trainable = False"
   ]
  },
  {
   "cell_type": "code",
   "execution_count": 8,
   "metadata": {},
   "outputs": [],
   "source": [
    "# base_model.summary()"
   ]
  },
  {
   "cell_type": "code",
   "execution_count": 9,
   "metadata": {},
   "outputs": [],
   "source": [
    "# меняем \"голову\"\n",
    "model = M.Sequential()\n",
    "model.add(base_model)\n",
    "model.add(L.GlobalAveragePooling2D(),)\n",
    "model.add(L.BatchNormalization())\n",
    "model.add(L.LeakyReLU(alpha=0.1))\n",
    "model.add(L.Dropout(rate=0.5))\n",
    "model.add(L.Dense(CLASS_NUM, activation='softmax'))"
   ]
  },
  {
   "cell_type": "code",
   "execution_count": 10,
   "metadata": {},
   "outputs": [],
   "source": [
    "model.compile(loss=\"categorical_crossentropy\", optimizer=keras.optimizers.Adam(lr=LR), metrics=[\"accuracy\"])"
   ]
  },
  {
   "cell_type": "code",
   "execution_count": 11,
   "metadata": {},
   "outputs": [
    {
     "name": "stdout",
     "output_type": "stream",
     "text": [
      "Model: \"sequential\"\n",
      "_________________________________________________________________\n",
      "Layer (type)                 Output Shape              Param #   \n",
      "=================================================================\n",
      "efficientnet-b7 (Model)      (None, 4, 4, 2560)        64097680  \n",
      "_________________________________________________________________\n",
      "global_average_pooling2d (Gl (None, 2560)              0         \n",
      "_________________________________________________________________\n",
      "batch_normalization (BatchNo (None, 2560)              10240     \n",
      "_________________________________________________________________\n",
      "leaky_re_lu (LeakyReLU)      (None, 2560)              0         \n",
      "_________________________________________________________________\n",
      "dropout (Dropout)            (None, 2560)              0         \n",
      "_________________________________________________________________\n",
      "dense (Dense)                (None, 10)                25610     \n",
      "=================================================================\n",
      "Total params: 64,133,530\n",
      "Trainable params: 30,730\n",
      "Non-trainable params: 64,102,800\n",
      "_________________________________________________________________\n"
     ]
    }
   ],
   "source": [
    "model.summary()"
   ]
  },
  {
   "cell_type": "code",
   "execution_count": null,
   "metadata": {},
   "outputs": [],
   "source": []
  },
  {
   "cell_type": "code",
   "execution_count": null,
   "metadata": {},
   "outputs": [],
   "source": []
  },
  {
   "cell_type": "code",
   "execution_count": 12,
   "metadata": {},
   "outputs": [],
   "source": [
    "checkpoint = ModelCheckpoint('best_model.hdf5', monitor=['val_accuracy'], verbose=1, mode='max')\n",
    "earlystop = EarlyStopping(monitor='val_accuracy', patience=5, restore_best_weights=True)\n",
    "callbacks_list = [checkpoint, earlystop]"
   ]
  },
  {
   "cell_type": "code",
   "execution_count": 13,
   "metadata": {},
   "outputs": [
    {
     "name": "stdout",
     "output_type": "stream",
     "text": [
      "Epoch 1/10\n",
      "437/438 [============================>.] - ETA: 0s - loss: 2.8698 - acc: 0.1448Epoch 1/10\n",
      " 49/438 [==>...........................] - ETA: 1:44 - loss: 2.2891 - acc: 0.1437\n",
      "Epoch 00001: saving model to best_model.hdf5\n",
      "WARNING:tensorflow:Early stopping conditioned on metric `val_accuracy` which is not available. Available metrics are: loss,acc,val_loss,val_acc\n",
      "438/438 [==============================] - 98s 224ms/step - loss: 2.8688 - acc: 0.1453 - val_loss: 2.2891 - val_acc: 0.1437\n",
      "Epoch 2/10\n",
      "437/438 [============================>.] - ETA: 0s - loss: 2.6238 - acc: 0.1771Epoch 1/10\n",
      " 49/438 [==>...........................] - ETA: 1:25 - loss: 2.1375 - acc: 0.2139\n",
      "Epoch 00002: saving model to best_model.hdf5\n",
      "WARNING:tensorflow:Early stopping conditioned on metric `val_accuracy` which is not available. Available metrics are: loss,acc,val_loss,val_acc\n",
      "438/438 [==============================] - 88s 201ms/step - loss: 2.6242 - acc: 0.1771 - val_loss: 2.1375 - val_acc: 0.2139\n",
      "Epoch 3/10\n",
      "437/438 [============================>.] - ETA: 0s - loss: 2.5091 - acc: 0.1954Epoch 1/10\n",
      " 49/438 [==>...........................] - ETA: 1:24 - loss: 2.1928 - acc: 0.2268\n",
      "Epoch 00003: saving model to best_model.hdf5\n",
      "WARNING:tensorflow:Early stopping conditioned on metric `val_accuracy` which is not available. Available metrics are: loss,acc,val_loss,val_acc\n",
      "438/438 [==============================] - 88s 201ms/step - loss: 2.5101 - acc: 0.1951 - val_loss: 2.1928 - val_acc: 0.2268\n",
      "Epoch 4/10\n",
      "437/438 [============================>.] - ETA: 0s - loss: 2.4724 - acc: 0.2043Epoch 1/10\n",
      " 49/438 [==>...........................] - ETA: 1:24 - loss: 2.0840 - acc: 0.2474\n",
      "Epoch 00004: saving model to best_model.hdf5\n",
      "WARNING:tensorflow:Early stopping conditioned on metric `val_accuracy` which is not available. Available metrics are: loss,acc,val_loss,val_acc\n",
      "438/438 [==============================] - 86s 197ms/step - loss: 2.4726 - acc: 0.2042 - val_loss: 2.0840 - val_acc: 0.2474\n",
      "Epoch 5/10\n",
      "437/438 [============================>.] - ETA: 0s - loss: 2.4276 - acc: 0.2045Epoch 1/10\n",
      " 49/438 [==>...........................] - ETA: 1:26 - loss: 2.1083 - acc: 0.2229\n",
      "Epoch 00005: saving model to best_model.hdf5\n",
      "WARNING:tensorflow:Early stopping conditioned on metric `val_accuracy` which is not available. Available metrics are: loss,acc,val_loss,val_acc\n",
      "438/438 [==============================] - 89s 203ms/step - loss: 2.4284 - acc: 0.2045 - val_loss: 2.1083 - val_acc: 0.2229\n",
      "Epoch 6/10\n",
      "437/438 [============================>.] - ETA: 0s - loss: 2.3913 - acc: 0.2083Epoch 1/10\n",
      " 49/438 [==>...........................] - ETA: 1:28 - loss: 2.0876 - acc: 0.2584\n",
      "Epoch 00006: saving model to best_model.hdf5\n",
      "WARNING:tensorflow:Early stopping conditioned on metric `val_accuracy` which is not available. Available metrics are: loss,acc,val_loss,val_acc\n",
      "438/438 [==============================] - 91s 207ms/step - loss: 2.3916 - acc: 0.2084 - val_loss: 2.0876 - val_acc: 0.2584\n",
      "Epoch 7/10\n",
      "437/438 [============================>.] - ETA: 0s - loss: 2.3749 - acc: 0.2096Epoch 1/10\n",
      " 49/438 [==>...........................] - ETA: 1:24 - loss: 2.1611 - acc: 0.2101\n",
      "Epoch 00007: saving model to best_model.hdf5\n",
      "WARNING:tensorflow:Early stopping conditioned on metric `val_accuracy` which is not available. Available metrics are: loss,acc,val_loss,val_acc\n",
      "438/438 [==============================] - 90s 204ms/step - loss: 2.3741 - acc: 0.2099 - val_loss: 2.1611 - val_acc: 0.2101\n",
      "Epoch 8/10\n",
      "437/438 [============================>.] - ETA: 0s - loss: 2.3750 - acc: 0.2061Epoch 1/10\n",
      " 49/438 [==>...........................] - ETA: 1:32 - loss: 2.0969 - acc: 0.2371\n",
      "Epoch 00008: saving model to best_model.hdf5\n",
      "WARNING:tensorflow:Early stopping conditioned on metric `val_accuracy` which is not available. Available metrics are: loss,acc,val_loss,val_acc\n",
      "438/438 [==============================] - 91s 207ms/step - loss: 2.3749 - acc: 0.2060 - val_loss: 2.0969 - val_acc: 0.2371\n",
      "Epoch 9/10\n",
      "437/438 [============================>.] - ETA: 0s - loss: 2.3555 - acc: 0.2054Epoch 1/10\n",
      " 49/438 [==>...........................] - ETA: 1:32 - loss: 2.0749 - acc: 0.2590\n",
      "Epoch 00009: saving model to best_model.hdf5\n",
      "WARNING:tensorflow:Early stopping conditioned on metric `val_accuracy` which is not available. Available metrics are: loss,acc,val_loss,val_acc\n",
      "438/438 [==============================] - 91s 208ms/step - loss: 2.3556 - acc: 0.2051 - val_loss: 2.0749 - val_acc: 0.2590\n",
      "Epoch 10/10\n",
      "437/438 [============================>.] - ETA: 0s - loss: 2.3463 - acc: 0.2042Epoch 1/10\n",
      " 49/438 [==>...........................] - ETA: 1:25 - loss: 2.0805 - acc: 0.2552\n",
      "Epoch 00010: saving model to best_model.hdf5\n",
      "WARNING:tensorflow:Early stopping conditioned on metric `val_accuracy` which is not available. Available metrics are: loss,acc,val_loss,val_acc\n",
      "438/438 [==============================] - 91s 208ms/step - loss: 2.3464 - acc: 0.2041 - val_loss: 2.0805 - val_acc: 0.2552\n"
     ]
    }
   ],
   "source": [
    "train_logs = model.fit_generator(\n",
    "        train_generator,\n",
    "        steps_per_epoch = len(train_generator),\n",
    "        validation_data = test_generator, \n",
    "        validation_steps = len(test_generator),\n",
    "        epochs = EPOCHS,\n",
    "        callbacks = callbacks_list,\n",
    ")"
   ]
  },
  {
   "cell_type": "code",
   "execution_count": 14,
   "metadata": {},
   "outputs": [],
   "source": [
    "# model.load_weights('best_model.hdf5')"
   ]
  },
  {
   "cell_type": "code",
   "execution_count": 15,
   "metadata": {},
   "outputs": [
    {
     "name": "stdout",
     "output_type": "stream",
     "text": [
      "49/49 [==============================] - 8s 168ms/step - loss: 2.0612 - acc: 0.2738\n",
      "Accuracy: 27.38%\n"
     ]
    }
   ],
   "source": [
    "scores = model.evaluate_generator(test_generator, steps=len(test_generator), verbose=1)\n",
    "print(\"Accuracy: %.2f%%\" % (scores[1]*100))"
   ]
  },
  {
   "cell_type": "code",
   "execution_count": 16,
   "metadata": {},
   "outputs": [
    {
     "data": {
      "image/png": "[encoded data removed]",
      "text/plain": [
       "<Figure size 720x360 with 1 Axes>"
      ]
     },
     "metadata": {
      "needs_background": "light"
     },
     "output_type": "display_data"
    },
    {
     "data": {
      "image/png": "[encoded data removed]",
      "text/plain": [
       "<Figure size 432x288 with 1 Axes>"
      ]
     },
     "metadata": {
      "needs_background": "light"
     },
     "output_type": "display_data"
    }
   ],
   "source": [
    "plot_history(train_logs)"
   ]
  },
  {
   "cell_type": "markdown",
   "metadata": {},
   "source": [
    "# А затем сделаем Fine Tuning"
   ]
  },
  {
   "cell_type": "markdown",
   "metadata": {},
   "source": [
    "### Сперва с половиной слоёв, обученных на ImageNet"
   ]
  },
  {
   "cell_type": "code",
   "execution_count": 17,
   "metadata": {},
   "outputs": [],
   "source": [
    "BATCH_SIZE           = 16"
   ]
  },
  {
   "cell_type": "code",
   "execution_count": 18,
   "metadata": {},
   "outputs": [],
   "source": [
    "base_model.trainable = True\n",
    "fine_tune_at = len(base_model.layers) // 2\n",
    "\n",
    "# Заморозим все слои перед тонкой надстройкой\n",
    "for layer in base_model.layers[:fine_tune_at]:\n",
    "    layer.trainable = False"
   ]
  },
  {
   "cell_type": "code",
   "execution_count": 19,
   "metadata": {},
   "outputs": [],
   "source": [
    "# уменьшим LR\n",
    "LR = 0.0001\n",
    "model.compile(loss=\"categorical_crossentropy\", optimizer=keras.optimizers.Adam(lr=LR), metrics=[\"accuracy\"])"
   ]
  },
  {
   "cell_type": "code",
   "execution_count": 20,
   "metadata": {},
   "outputs": [
    {
     "name": "stdout",
     "output_type": "stream",
     "text": [
      "Model: \"sequential\"\n",
      "_________________________________________________________________\n",
      "Layer (type)                 Output Shape              Param #   \n",
      "=================================================================\n",
      "efficientnet-b7 (Model)      (None, 4, 4, 2560)        64097680  \n",
      "_________________________________________________________________\n",
      "global_average_pooling2d (Gl (None, 2560)              0         \n",
      "_________________________________________________________________\n",
      "batch_normalization (BatchNo (None, 2560)              10240     \n",
      "_________________________________________________________________\n",
      "leaky_re_lu (LeakyReLU)      (None, 2560)              0         \n",
      "_________________________________________________________________\n",
      "dropout (Dropout)            (None, 2560)              0         \n",
      "_________________________________________________________________\n",
      "dense (Dense)                (None, 10)                25610     \n",
      "=================================================================\n",
      "Total params: 64,133,530\n",
      "Trainable params: 59,113,762\n",
      "Non-trainable params: 5,019,768\n",
      "_________________________________________________________________\n"
     ]
    }
   ],
   "source": [
    "model.summary()"
   ]
  },
  {
   "cell_type": "code",
   "execution_count": 21,
   "metadata": {},
   "outputs": [
    {
     "name": "stdout",
     "output_type": "stream",
     "text": [
      "Epoch 1/10\n",
      "437/438 [============================>.] - ETA: 0s - loss: 1.8825 - acc: 0.3366Epoch 1/10\n",
      " 49/438 [==>...........................] - ETA: 1:46 - loss: 1.5050 - acc: 0.4697\n",
      "Epoch 00001: saving model to best_model.hdf5\n",
      "WARNING:tensorflow:Early stopping conditioned on metric `val_accuracy` which is not available. Available metrics are: loss,acc,val_loss,val_acc\n",
      "438/438 [==============================] - 120s 275ms/step - loss: 1.8817 - acc: 0.3370 - val_loss: 1.5050 - val_acc: 0.4697\n",
      "Epoch 2/10\n",
      "437/438 [============================>.] - ETA: 0s - loss: 1.3233 - acc: 0.5376Epoch 1/10\n",
      " 49/438 [==>...........................] - ETA: 1:26 - loss: 1.2129 - acc: 0.5754\n",
      "Epoch 00002: saving model to best_model.hdf5\n",
      "WARNING:tensorflow:Early stopping conditioned on metric `val_accuracy` which is not available. Available metrics are: loss,acc,val_loss,val_acc\n",
      "438/438 [==============================] - 94s 215ms/step - loss: 1.3230 - acc: 0.5378 - val_loss: 1.2129 - val_acc: 0.5754\n",
      "Epoch 3/10\n",
      "437/438 [============================>.] - ETA: 0s - loss: 1.0234 - acc: 0.6422Epoch 1/10\n",
      " 49/438 [==>...........................] - ETA: 1:26 - loss: 1.0287 - acc: 0.6366\n",
      "Epoch 00003: saving model to best_model.hdf5\n",
      "WARNING:tensorflow:Early stopping conditioned on metric `val_accuracy` which is not available. Available metrics are: loss,acc,val_loss,val_acc\n",
      "438/438 [==============================] - 95s 216ms/step - loss: 1.0240 - acc: 0.6420 - val_loss: 1.0287 - val_acc: 0.6366\n",
      "Epoch 4/10\n",
      "437/438 [============================>.] - ETA: 0s - loss: 0.8275 - acc: 0.7079Epoch 1/10\n",
      " 49/438 [==>...........................] - ETA: 1:25 - loss: 0.8425 - acc: 0.6927\n",
      "Epoch 00004: saving model to best_model.hdf5\n",
      "WARNING:tensorflow:Early stopping conditioned on metric `val_accuracy` which is not available. Available metrics are: loss,acc,val_loss,val_acc\n",
      "438/438 [==============================] - 95s 217ms/step - loss: 0.8270 - acc: 0.7081 - val_loss: 0.8425 - val_acc: 0.6927\n",
      "Epoch 5/10\n",
      "437/438 [============================>.] - ETA: 0s - loss: 0.6851 - acc: 0.7586Epoch 1/10\n",
      " 49/438 [==>...........................] - ETA: 1:25 - loss: 0.7633 - acc: 0.7313\n",
      "Epoch 00005: saving model to best_model.hdf5\n",
      "WARNING:tensorflow:Early stopping conditioned on metric `val_accuracy` which is not available. Available metrics are: loss,acc,val_loss,val_acc\n",
      "438/438 [==============================] - 94s 214ms/step - loss: 0.6854 - acc: 0.7584 - val_loss: 0.7633 - val_acc: 0.7313\n",
      "Epoch 6/10\n",
      "437/438 [============================>.] - ETA: 0s - loss: 0.5867 - acc: 0.7897Epoch 1/10\n",
      " 49/438 [==>...........................] - ETA: 1:24 - loss: 0.6864 - acc: 0.7487\n",
      "Epoch 00006: saving model to best_model.hdf5\n",
      "WARNING:tensorflow:Early stopping conditioned on metric `val_accuracy` which is not available. Available metrics are: loss,acc,val_loss,val_acc\n",
      "438/438 [==============================] - 94s 215ms/step - loss: 0.5868 - acc: 0.7897 - val_loss: 0.6864 - val_acc: 0.7487\n",
      "Epoch 7/10\n",
      "437/438 [============================>.] - ETA: 0s - loss: 0.5044 - acc: 0.8176Epoch 1/10\n",
      " 49/438 [==>...........................] - ETA: 1:25 - loss: 0.6516 - acc: 0.7629\n",
      "Epoch 00007: saving model to best_model.hdf5\n",
      "WARNING:tensorflow:Early stopping conditioned on metric `val_accuracy` which is not available. Available metrics are: loss,acc,val_loss,val_acc\n",
      "438/438 [==============================] - 94s 213ms/step - loss: 0.5045 - acc: 0.8175 - val_loss: 0.6516 - val_acc: 0.7629\n",
      "Epoch 8/10\n",
      "437/438 [============================>.] - ETA: 0s - loss: 0.4509 - acc: 0.8409Epoch 1/10\n",
      " 49/438 [==>...........................] - ETA: 1:28 - loss: 0.6400 - acc: 0.7751\n",
      "Epoch 00008: saving model to best_model.hdf5\n",
      "WARNING:tensorflow:Early stopping conditioned on metric `val_accuracy` which is not available. Available metrics are: loss,acc,val_loss,val_acc\n",
      "438/438 [==============================] - 95s 217ms/step - loss: 0.4508 - acc: 0.8408 - val_loss: 0.6400 - val_acc: 0.7751\n",
      "Epoch 9/10\n",
      "437/438 [============================>.] - ETA: 0s - loss: 0.4068 - acc: 0.8566Epoch 1/10\n",
      " 49/438 [==>...........................] - ETA: 1:22 - loss: 0.6588 - acc: 0.7751\n",
      "Epoch 00009: saving model to best_model.hdf5\n",
      "WARNING:tensorflow:Early stopping conditioned on metric `val_accuracy` which is not available. Available metrics are: loss,acc,val_loss,val_acc\n",
      "438/438 [==============================] - 94s 214ms/step - loss: 0.4066 - acc: 0.8567 - val_loss: 0.6588 - val_acc: 0.7751\n",
      "Epoch 10/10\n",
      "437/438 [============================>.] - ETA: 0s - loss: 0.3564 - acc: 0.8745Epoch 1/10\n",
      " 49/438 [==>...........................] - ETA: 1:23 - loss: 0.5939 - acc: 0.7887- ETA: 1:45\n",
      "Epoch 00010: saving model to best_model.hdf5\n",
      "WARNING:tensorflow:Early stopping conditioned on metric `val_accuracy` which is not available. Available metrics are: loss,acc,val_loss,val_acc\n",
      "438/438 [==============================] - 95s 217ms/step - loss: 0.3560 - acc: 0.8747 - val_loss: 0.5939 - val_acc: 0.7887\n"
     ]
    }
   ],
   "source": [
    "train_logs = model.fit_generator(\n",
    "        train_generator,\n",
    "        steps_per_epoch = len(train_generator),\n",
    "        validation_data = test_generator, \n",
    "        validation_steps = len(test_generator),\n",
    "        epochs = EPOCHS,\n",
    "        callbacks = callbacks_list\n",
    ")"
   ]
  },
  {
   "cell_type": "code",
   "execution_count": 22,
   "metadata": {},
   "outputs": [
    {
     "name": "stdout",
     "output_type": "stream",
     "text": [
      "49/49 [==============================] - 9s 181ms/step - loss: 0.5855 - acc: 0.8035\n",
      "Accuracy: 80.35%\n"
     ]
    }
   ],
   "source": [
    "scores = model.evaluate_generator(test_generator, steps=len(test_generator), verbose=1)\n",
    "print(\"Accuracy: %.2f%%\" % (scores[1]*100))"
   ]
  },
  {
   "cell_type": "code",
   "execution_count": 23,
   "metadata": {},
   "outputs": [
    {
     "data": {
      "image/png": "[encoded data removed]",
      "text/plain": [
       "<Figure size 720x360 with 1 Axes>"
      ]
     },
     "metadata": {
      "needs_background": "light"
     },
     "output_type": "display_data"
    },
    {
     "data": {
      "image/png": "[encoded data removed]",
      "text/plain": [
       "<Figure size 432x288 with 1 Axes>"
      ]
     },
     "metadata": {
      "needs_background": "light"
     },
     "output_type": "display_data"
    }
   ],
   "source": [
    "plot_history(train_logs)"
   ]
  },
  {
   "cell_type": "code",
   "execution_count": null,
   "metadata": {},
   "outputs": [],
   "source": []
  },
  {
   "cell_type": "markdown",
   "metadata": {},
   "source": [
    "### А затем и на всей модели."
   ]
  },
  {
   "cell_type": "code",
   "execution_count": 24,
   "metadata": {},
   "outputs": [],
   "source": [
    "BATCH_SIZE           = 8"
   ]
  },
  {
   "cell_type": "code",
   "execution_count": 25,
   "metadata": {},
   "outputs": [],
   "source": [
    "for layer in base_model.layers:\n",
    "    layer.trainable = True\n",
    "for layer in model.layers:\n",
    "    layer.trainable = True"
   ]
  },
  {
   "cell_type": "code",
   "execution_count": 26,
   "metadata": {},
   "outputs": [],
   "source": [
    "LR = 0.00001\n",
    "model.compile(loss=\"categorical_crossentropy\", optimizer=keras.optimizers.Adam(lr=LR), metrics=[\"accuracy\"])"
   ]
  },
  {
   "cell_type": "code",
   "execution_count": 27,
   "metadata": {},
   "outputs": [
    {
     "name": "stdout",
     "output_type": "stream",
     "text": [
      "Model: \"sequential\"\n",
      "_________________________________________________________________\n",
      "Layer (type)                 Output Shape              Param #   \n",
      "=================================================================\n",
      "efficientnet-b7 (Model)      (None, 4, 4, 2560)        64097680  \n",
      "_________________________________________________________________\n",
      "global_average_pooling2d (Gl (None, 2560)              0         \n",
      "_________________________________________________________________\n",
      "batch_normalization (BatchNo (None, 2560)              10240     \n",
      "_________________________________________________________________\n",
      "leaky_re_lu (LeakyReLU)      (None, 2560)              0         \n",
      "_________________________________________________________________\n",
      "dropout (Dropout)            (None, 2560)              0         \n",
      "_________________________________________________________________\n",
      "dense (Dense)                (None, 10)                25610     \n",
      "=================================================================\n",
      "Total params: 64,133,530\n",
      "Trainable params: 63,817,690\n",
      "Non-trainable params: 315,840\n",
      "_________________________________________________________________\n"
     ]
    }
   ],
   "source": [
    "model.summary()"
   ]
  },
  {
   "cell_type": "code",
   "execution_count": 28,
   "metadata": {},
   "outputs": [
    {
     "name": "stdout",
     "output_type": "stream",
     "text": [
      "Epoch 1/10\n",
      "437/438 [============================>.] - ETA: 0s - loss: 0.2934 - acc: 0.8907Epoch 1/10\n",
      " 49/438 [==>...........................] - ETA: 1:49 - loss: 0.3784 - acc: 0.8731\n",
      "Epoch 00001: saving model to best_model.hdf5\n",
      "WARNING:tensorflow:Early stopping conditioned on metric `val_accuracy` which is not available. Available metrics are: loss,acc,val_loss,val_acc\n",
      "438/438 [==============================] - 204s 466ms/step - loss: 0.2933 - acc: 0.8907 - val_loss: 0.3784 - val_acc: 0.8731\n",
      "Epoch 2/10\n",
      "437/438 [============================>.] - ETA: 0s - loss: 0.2611 - acc: 0.9068Epoch 1/10\n",
      " 49/438 [==>...........................] - ETA: 1:25 - loss: 0.3651 - acc: 0.8756\n",
      "Epoch 00002: saving model to best_model.hdf5\n",
      "WARNING:tensorflow:Early stopping conditioned on metric `val_accuracy` which is not available. Available metrics are: loss,acc,val_loss,val_acc\n",
      "438/438 [==============================] - 157s 357ms/step - loss: 0.2617 - acc: 0.9067 - val_loss: 0.3651 - val_acc: 0.8756\n",
      "Epoch 3/10\n",
      "437/438 [============================>.] - ETA: 0s - loss: 0.2595 - acc: 0.9095Epoch 1/10\n",
      " 49/438 [==>...........................] - ETA: 1:24 - loss: 0.3412 - acc: 0.8834\n",
      "Epoch 00003: saving model to best_model.hdf5\n",
      "WARNING:tensorflow:Early stopping conditioned on metric `val_accuracy` which is not available. Available metrics are: loss,acc,val_loss,val_acc\n",
      "438/438 [==============================] - 156s 357ms/step - loss: 0.2595 - acc: 0.9096 - val_loss: 0.3412 - val_acc: 0.8834\n",
      "Epoch 4/10\n",
      "437/438 [============================>.] - ETA: 0s - loss: 0.2233 - acc: 0.9205Epoch 1/10\n",
      " 49/438 [==>...........................] - ETA: 1:23 - loss: 0.3436 - acc: 0.8840- ETA\n",
      "Epoch 00004: saving model to best_model.hdf5\n",
      "WARNING:tensorflow:Early stopping conditioned on metric `val_accuracy` which is not available. Available metrics are: loss,acc,val_loss,val_acc\n",
      "438/438 [==============================] - 156s 356ms/step - loss: 0.2238 - acc: 0.9201 - val_loss: 0.3436 - val_acc: 0.8840\n",
      "Epoch 5/10\n",
      "437/438 [============================>.] - ETA: 0s - loss: 0.2198 - acc: 0.9219Epoch 1/10\n",
      " 49/438 [==>...........................] - ETA: 1:24 - loss: 0.3289 - acc: 0.8892\n",
      "Epoch 00005: saving model to best_model.hdf5\n",
      "WARNING:tensorflow:Early stopping conditioned on metric `val_accuracy` which is not available. Available metrics are: loss,acc,val_loss,val_acc\n",
      "438/438 [==============================] - 156s 356ms/step - loss: 0.2195 - acc: 0.9221 - val_loss: 0.3289 - val_acc: 0.8892\n",
      "Epoch 6/10\n",
      "437/438 [============================>.] - ETA: 0s - loss: 0.2093 - acc: 0.9247Epoch 1/10\n",
      " 49/438 [==>...........................] - ETA: 1:27 - loss: 0.3308 - acc: 0.8892\n",
      "Epoch 00006: saving model to best_model.hdf5\n",
      "WARNING:tensorflow:Early stopping conditioned on metric `val_accuracy` which is not available. Available metrics are: loss,acc,val_loss,val_acc\n",
      "438/438 [==============================] - 157s 357ms/step - loss: 0.2095 - acc: 0.9246 - val_loss: 0.3308 - val_acc: 0.8892\n",
      "Epoch 7/10\n",
      "437/438 [============================>.] - ETA: 0s - loss: 0.2013 - acc: 0.9283Epoch 1/10\n",
      " 49/438 [==>...........................] - ETA: 1:23 - loss: 0.3180 - acc: 0.8943\n",
      "Epoch 00007: saving model to best_model.hdf5\n",
      "WARNING:tensorflow:Early stopping conditioned on metric `val_accuracy` which is not available. Available metrics are: loss,acc,val_loss,val_acc\n",
      "438/438 [==============================] - 156s 355ms/step - loss: 0.2013 - acc: 0.9283 - val_loss: 0.3180 - val_acc: 0.8943\n",
      "Epoch 8/10\n",
      "437/438 [============================>.] - ETA: 0s - loss: 0.1938 - acc: 0.9307Epoch 1/10\n",
      " 49/438 [==>...........................] - ETA: 1:21 - loss: 0.3193 - acc: 0.8937\n",
      "Epoch 00008: saving model to best_model.hdf5\n",
      "WARNING:tensorflow:Early stopping conditioned on metric `val_accuracy` which is not available. Available metrics are: loss,acc,val_loss,val_acc\n",
      "438/438 [==============================] - 156s 356ms/step - loss: 0.1937 - acc: 0.9306 - val_loss: 0.3193 - val_acc: 0.8937\n",
      "Epoch 9/10\n",
      "437/438 [============================>.] - ETA: 0s - loss: 0.1779 - acc: 0.9385Epoch 1/10\n",
      " 49/438 [==>...........................] - ETA: 1:23 - loss: 0.3119 - acc: 0.8943\n",
      "Epoch 00009: saving model to best_model.hdf5\n",
      "WARNING:tensorflow:Early stopping conditioned on metric `val_accuracy` which is not available. Available metrics are: loss,acc,val_loss,val_acc\n",
      "438/438 [==============================] - 156s 356ms/step - loss: 0.1778 - acc: 0.9386 - val_loss: 0.3119 - val_acc: 0.8943\n",
      "Epoch 10/10\n",
      "437/438 [============================>.] - ETA: 0s - loss: 0.1751 - acc: 0.9387Epoch 1/10\n",
      " 49/438 [==>...........................] - ETA: 1:25 - loss: 0.3039 - acc: 0.9021\n",
      "Epoch 00010: saving model to best_model.hdf5\n",
      "WARNING:tensorflow:Early stopping conditioned on metric `val_accuracy` which is not available. Available metrics are: loss,acc,val_loss,val_acc\n",
      "438/438 [==============================] - 156s 357ms/step - loss: 0.1751 - acc: 0.9388 - val_loss: 0.3039 - val_acc: 0.9021\n"
     ]
    }
   ],
   "source": [
    "train_logs = model.fit_generator(\n",
    "        train_generator,\n",
    "        steps_per_epoch = len(train_generator),\n",
    "        validation_data = test_generator, \n",
    "        validation_steps = len(test_generator),\n",
    "        epochs = EPOCHS,\n",
    "        callbacks = callbacks_list\n",
    ")"
   ]
  },
  {
   "cell_type": "code",
   "execution_count": 29,
   "metadata": {},
   "outputs": [
    {
     "name": "stdout",
     "output_type": "stream",
     "text": [
      "49/49 [==============================] - 9s 174ms/step - loss: 0.3136 - acc: 0.8976\n",
      "Accuracy: 89.76%\n"
     ]
    }
   ],
   "source": [
    "scores = model.evaluate_generator(test_generator, steps=len(test_generator), verbose=1)\n",
    "print(\"Accuracy: %.2f%%\" % (scores[1]*100))"
   ]
  },
  {
   "cell_type": "code",
   "execution_count": 30,
   "metadata": {},
   "outputs": [
    {
     "data": {
      "image/png": "[encoded data removed]",
      "text/plain": [
       "<Figure size 720x360 with 1 Axes>"
      ]
     },
     "metadata": {
      "needs_background": "light"
     },
     "output_type": "display_data"
    },
    {
     "data": {
      "image/png": "[encoded data removed]",
      "text/plain": [
       "<Figure size 432x288 with 1 Axes>"
      ]
     },
     "metadata": {
      "needs_background": "light"
     },
     "output_type": "display_data"
    }
   ],
   "source": [
    "plot_history(train_logs)"
   ]
  },
  {
   "cell_type": "code",
   "execution_count": null,
   "metadata": {},
   "outputs": [],
   "source": []
  }
 ],
 "metadata": {
  "kernelspec": {
   "display_name": "Condatf",
   "language": "python",
   "name": "condatf"
  },
  "language_info": {
   "codemirror_mode": {
    "name": "ipython",
    "version": 3
   },
   "file_extension": ".py",
   "mimetype": "text/x-python",
   "name": "python",
   "nbconvert_exporter": "python",
   "pygments_lexer": "ipython3",
   "version": "3.7.9"
  }
 },
 "nbformat": 4,
 "nbformat_minor": 4
}
